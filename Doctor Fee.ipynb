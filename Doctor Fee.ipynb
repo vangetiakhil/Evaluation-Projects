{
 "cells": [
  {
   "cell_type": "code",
   "execution_count": 1,
   "metadata": {},
   "outputs": [],
   "source": [
    "import pandas as pd\n",
    "import numpy as np\n",
    "import matplotlib.pyplot as plt\n",
    "import seaborn as sns\n",
    "%matplotlib inline"
   ]
  },
  {
   "cell_type": "code",
   "execution_count": 6,
   "metadata": {},
   "outputs": [],
   "source": [
    "df = pd.read_excel(r\"C:\\Users\\AKHIL\\Downloads\\Doctor_fee_consultation\\Final Participant Data Folder\\Final_train.xlsx\")"
   ]
  },
  {
   "cell_type": "code",
   "execution_count": 7,
   "metadata": {},
   "outputs": [
    {
     "data": {
      "text/html": [
       "<div>\n",
       "<style scoped>\n",
       "    .dataframe tbody tr th:only-of-type {\n",
       "        vertical-align: middle;\n",
       "    }\n",
       "\n",
       "    .dataframe tbody tr th {\n",
       "        vertical-align: top;\n",
       "    }\n",
       "\n",
       "    .dataframe thead th {\n",
       "        text-align: right;\n",
       "    }\n",
       "</style>\n",
       "<table border=\"1\" class=\"dataframe\">\n",
       "  <thead>\n",
       "    <tr style=\"text-align: right;\">\n",
       "      <th></th>\n",
       "      <th>Qualification</th>\n",
       "      <th>Experience</th>\n",
       "      <th>Rating</th>\n",
       "      <th>Place</th>\n",
       "      <th>Profile</th>\n",
       "      <th>Miscellaneous_Info</th>\n",
       "      <th>Fees</th>\n",
       "    </tr>\n",
       "  </thead>\n",
       "  <tbody>\n",
       "    <tr>\n",
       "      <th>0</th>\n",
       "      <td>BHMS, MD - Homeopathy</td>\n",
       "      <td>24 years experience</td>\n",
       "      <td>100%</td>\n",
       "      <td>Kakkanad, Ernakulam</td>\n",
       "      <td>Homeopath</td>\n",
       "      <td>100% 16 Feedback Kakkanad, Ernakulam</td>\n",
       "      <td>100</td>\n",
       "    </tr>\n",
       "    <tr>\n",
       "      <th>1</th>\n",
       "      <td>BAMS, MD - Ayurveda Medicine</td>\n",
       "      <td>12 years experience</td>\n",
       "      <td>98%</td>\n",
       "      <td>Whitefield, Bangalore</td>\n",
       "      <td>Ayurveda</td>\n",
       "      <td>98% 76 Feedback Whitefield, Bangalore</td>\n",
       "      <td>350</td>\n",
       "    </tr>\n",
       "    <tr>\n",
       "      <th>2</th>\n",
       "      <td>MBBS, MS - Otorhinolaryngology</td>\n",
       "      <td>9 years experience</td>\n",
       "      <td>NaN</td>\n",
       "      <td>Mathikere - BEL, Bangalore</td>\n",
       "      <td>ENT Specialist</td>\n",
       "      <td>NaN</td>\n",
       "      <td>300</td>\n",
       "    </tr>\n",
       "    <tr>\n",
       "      <th>3</th>\n",
       "      <td>BSc - Zoology, BAMS</td>\n",
       "      <td>12 years experience</td>\n",
       "      <td>NaN</td>\n",
       "      <td>Bannerghatta Road, Bangalore</td>\n",
       "      <td>Ayurveda</td>\n",
       "      <td>Bannerghatta Road, Bangalore ₹250 Available on...</td>\n",
       "      <td>250</td>\n",
       "    </tr>\n",
       "    <tr>\n",
       "      <th>4</th>\n",
       "      <td>BAMS</td>\n",
       "      <td>20 years experience</td>\n",
       "      <td>100%</td>\n",
       "      <td>Keelkattalai, Chennai</td>\n",
       "      <td>Ayurveda</td>\n",
       "      <td>100% 4 Feedback Keelkattalai, Chennai</td>\n",
       "      <td>250</td>\n",
       "    </tr>\n",
       "  </tbody>\n",
       "</table>\n",
       "</div>"
      ],
      "text/plain": [
       "                    Qualification           Experience Rating  \\\n",
       "0           BHMS, MD - Homeopathy  24 years experience   100%   \n",
       "1    BAMS, MD - Ayurveda Medicine  12 years experience    98%   \n",
       "2  MBBS, MS - Otorhinolaryngology   9 years experience    NaN   \n",
       "3             BSc - Zoology, BAMS  12 years experience    NaN   \n",
       "4                            BAMS  20 years experience   100%   \n",
       "\n",
       "                          Place         Profile  \\\n",
       "0           Kakkanad, Ernakulam       Homeopath   \n",
       "1         Whitefield, Bangalore        Ayurveda   \n",
       "2    Mathikere - BEL, Bangalore  ENT Specialist   \n",
       "3  Bannerghatta Road, Bangalore        Ayurveda   \n",
       "4         Keelkattalai, Chennai        Ayurveda   \n",
       "\n",
       "                                  Miscellaneous_Info  Fees  \n",
       "0               100% 16 Feedback Kakkanad, Ernakulam   100  \n",
       "1              98% 76 Feedback Whitefield, Bangalore   350  \n",
       "2                                                NaN   300  \n",
       "3  Bannerghatta Road, Bangalore ₹250 Available on...   250  \n",
       "4              100% 4 Feedback Keelkattalai, Chennai   250  "
      ]
     },
     "execution_count": 7,
     "metadata": {},
     "output_type": "execute_result"
    }
   ],
   "source": [
    "df.head()"
   ]
  },
  {
   "cell_type": "markdown",
   "metadata": {},
   "source": [
    "We have all been in situation where we go to a doctor in emergency and find that the consultation fees are too high. As a data scientist we all should do better. What if you have data that records important details about a doctor and you get to build a model to predict the doctor’s consulting fee.? This is the use case that let's you do that. \n",
    "\n",
    "Size of training set: 5961 records\n",
    "\n",
    "Size of test set: 1987 records\n",
    "\n",
    "\n",
    "\n",
    "FEATURES:\n",
    "\n",
    "Qualification: Qualification and degrees held by the doctor\n",
    "\n",
    "Experience: Experience of the doctor in number of years\n",
    "\n",
    "Rating: Rating given by patients\n",
    "\n",
    "Profile: Type of the doctor\n",
    "\n",
    "Miscellaneous_Info: Extra information about the doctor\n",
    "\n",
    "Fees: Fees charged by the doctor (Target Variable)\n",
    "\n",
    "Place: Area and the city where the doctor is located."
   ]
  },
  {
   "cell_type": "code",
   "execution_count": 8,
   "metadata": {},
   "outputs": [
    {
     "data": {
      "text/plain": [
       "(5961, 7)"
      ]
     },
     "execution_count": 8,
     "metadata": {},
     "output_type": "execute_result"
    }
   ],
   "source": [
    "df.shape"
   ]
  },
  {
   "cell_type": "code",
   "execution_count": 10,
   "metadata": {},
   "outputs": [
    {
     "data": {
      "text/plain": [
       "Qualification            0\n",
       "Experience               0\n",
       "Rating                3302\n",
       "Place                   25\n",
       "Profile                  0\n",
       "Miscellaneous_Info    2620\n",
       "Fees                     0\n",
       "dtype: int64"
      ]
     },
     "execution_count": 10,
     "metadata": {},
     "output_type": "execute_result"
    }
   ],
   "source": [
    "df.isnull().sum()"
   ]
  },
  {
   "cell_type": "markdown",
   "metadata": {},
   "source": [
    "Rating Column has 3302 null values / 5691\n",
    "\n",
    "Miscellaneous info has 2620 null values / 5691\n",
    "\n",
    "For these columns, we need to check whether we can fill those null values.\n",
    "\n",
    "Place has 25 null values.. since they are less in number and categorical variable, we can fill those with mode."
   ]
  },
  {
   "cell_type": "code",
   "execution_count": 11,
   "metadata": {},
   "outputs": [
    {
     "data": {
      "text/plain": [
       "array(['Homeopath', 'Ayurveda', 'ENT Specialist', 'Dentist',\n",
       "       'General Medicine', 'Dermatologists'], dtype=object)"
      ]
     },
     "execution_count": 11,
     "metadata": {},
     "output_type": "execute_result"
    }
   ],
   "source": [
    "df.Profile.unique()"
   ]
  },
  {
   "cell_type": "markdown",
   "metadata": {},
   "source": [
    "There are 6 profiles of doctors in the data."
   ]
  },
  {
   "cell_type": "code",
   "execution_count": 12,
   "metadata": {},
   "outputs": [
    {
     "data": {
      "text/plain": [
       "0             BHMS, MD - Homeopathy\n",
       "1      BAMS, MD - Ayurveda Medicine\n",
       "2    MBBS, MS - Otorhinolaryngology\n",
       "3               BSc - Zoology, BAMS\n",
       "4                              BAMS\n",
       "5                              BAMS\n",
       "6                              BHMS\n",
       "7                               BDS\n",
       "8       MBBS, MD - General Medicine\n",
       "9                          BSc, BDS\n",
       "Name: Qualification, dtype: object"
      ]
     },
     "execution_count": 12,
     "metadata": {},
     "output_type": "execute_result"
    }
   ],
   "source": [
    "df.Qualification[0:10]"
   ]
  },
  {
   "cell_type": "markdown",
   "metadata": {},
   "source": [
    "As we can see, there are more than one qualification for few doctors."
   ]
  },
  {
   "cell_type": "code",
   "execution_count": 13,
   "metadata": {},
   "outputs": [
    {
     "data": {
      "text/plain": [
       "0             Kakkanad, Ernakulam\n",
       "1           Whitefield, Bangalore\n",
       "2      Mathikere - BEL, Bangalore\n",
       "3    Bannerghatta Road, Bangalore\n",
       "4           Keelkattalai, Chennai\n",
       "5                  Porur, Chennai\n",
       "6               Karol Bagh, Delhi\n",
       "7              Arekere, Bangalore\n",
       "8             Old City, Hyderabad\n",
       "9               Athani, Ernakulam\n",
       "Name: Place, dtype: object"
      ]
     },
     "execution_count": 13,
     "metadata": {},
     "output_type": "execute_result"
    }
   ],
   "source": [
    "df.Place[0:10]"
   ]
  },
  {
   "cell_type": "markdown",
   "metadata": {},
   "source": [
    "Even the place has two values seperated by comma\n"
   ]
  },
  {
   "cell_type": "markdown",
   "metadata": {},
   "source": [
    "These are nominal data with no intervals or order"
   ]
  },
  {
   "cell_type": "markdown",
   "metadata": {},
   "source": [
    "We have to encode them"
   ]
  },
  {
   "cell_type": "code",
   "execution_count": 16,
   "metadata": {},
   "outputs": [
    {
     "data": {
      "text/plain": [
       "Qualification         object\n",
       "Experience            object\n",
       "Rating                object\n",
       "Place                 object\n",
       "Profile               object\n",
       "Miscellaneous_Info    object\n",
       "Fees                   int64\n",
       "dtype: object"
      ]
     },
     "execution_count": 16,
     "metadata": {},
     "output_type": "execute_result"
    }
   ],
   "source": [
    "df.dtypes"
   ]
  },
  {
   "cell_type": "markdown",
   "metadata": {},
   "source": [
    "All data variables are object type. we need to convert them into numerical data"
   ]
  },
  {
   "cell_type": "code",
   "execution_count": 20,
   "metadata": {},
   "outputs": [],
   "source": [
    "Q = [df['Qualification']]"
   ]
  },
  {
   "cell_type": "code",
   "execution_count": 23,
   "metadata": {},
   "outputs": [],
   "source": [
    "Q = []\n",
    "for i in df.Qualification:\n",
    "    Q.append(i.split(\",\"))\n",
    "    "
   ]
  },
  {
   "cell_type": "code",
   "execution_count": 25,
   "metadata": {},
   "outputs": [
    {
     "data": {
      "text/plain": [
       "[['BHMS', ' MD - Homeopathy'],\n",
       " ['BAMS', ' MD - Ayurveda Medicine'],\n",
       " ['MBBS', ' MS - Otorhinolaryngology'],\n",
       " ['BSc - Zoology', ' BAMS'],\n",
       " ['BAMS']]"
      ]
     },
     "execution_count": 25,
     "metadata": {},
     "output_type": "execute_result"
    }
   ],
   "source": [
    "Q[0:5]"
   ]
  },
  {
   "cell_type": "code",
   "execution_count": 27,
   "metadata": {},
   "outputs": [],
   "source": [
    "No_of_Qualifications = []\n",
    "\n",
    "for i in Q:\n",
    "    No_of_Qualifications.append(len(i))"
   ]
  },
  {
   "cell_type": "code",
   "execution_count": 30,
   "metadata": {},
   "outputs": [
    {
     "data": {
      "text/plain": [
       "[2, 2, 2, 2, 1, 1, 1, 1, 2, 2]"
      ]
     },
     "execution_count": 30,
     "metadata": {},
     "output_type": "execute_result"
    }
   ],
   "source": [
    "No_of_Qualifications[0:10]"
   ]
  },
  {
   "cell_type": "markdown",
   "metadata": {},
   "source": [
    "We have converted the Qualifactions to numerical varaible where the values represent ordinal data\n",
    "\n",
    "We can now delete the Qualifications column. We will delete the unnecessary columns togther later."
   ]
  },
  {
   "cell_type": "code",
   "execution_count": 31,
   "metadata": {},
   "outputs": [],
   "source": [
    "E = []\n",
    "for i in df.Experience:\n",
    "    E.append(int(i.replace(' years experience','')))"
   ]
  },
  {
   "cell_type": "code",
   "execution_count": 33,
   "metadata": {},
   "outputs": [
    {
     "data": {
      "text/plain": [
       "5961"
      ]
     },
     "execution_count": 33,
     "metadata": {},
     "output_type": "execute_result"
    }
   ],
   "source": [
    "len(E)"
   ]
  },
  {
   "cell_type": "code",
   "execution_count": 34,
   "metadata": {},
   "outputs": [
    {
     "data": {
      "text/plain": [
       "5961"
      ]
     },
     "execution_count": 34,
     "metadata": {},
     "output_type": "execute_result"
    }
   ],
   "source": [
    "len(Q)"
   ]
  },
  {
   "cell_type": "markdown",
   "metadata": {},
   "source": [
    "Experience column can also be removed."
   ]
  },
  {
   "cell_type": "code",
   "execution_count": 35,
   "metadata": {},
   "outputs": [
    {
     "data": {
      "text/plain": [
       "Index(['Qualification', 'Experience', 'Rating', 'Place', 'Profile',\n",
       "       'Miscellaneous_Info', 'Fees'],\n",
       "      dtype='object')"
      ]
     },
     "execution_count": 35,
     "metadata": {},
     "output_type": "execute_result"
    }
   ],
   "source": [
    "df.columns"
   ]
  },
  {
   "cell_type": "code",
   "execution_count": 38,
   "metadata": {},
   "outputs": [
    {
     "data": {
      "text/plain": [
       "dtype('O')"
      ]
     },
     "execution_count": 38,
     "metadata": {},
     "output_type": "execute_result"
    }
   ],
   "source": [
    "df.Place.dtype"
   ]
  },
  {
   "cell_type": "markdown",
   "metadata": {},
   "source": [
    "As we know, place has 25 missing values."
   ]
  },
  {
   "cell_type": "code",
   "execution_count": 41,
   "metadata": {},
   "outputs": [
    {
     "data": {
      "text/plain": [
       "878"
      ]
     },
     "execution_count": 41,
     "metadata": {},
     "output_type": "execute_result"
    }
   ],
   "source": [
    "len(df.Place.unique())"
   ]
  },
  {
   "cell_type": "markdown",
   "metadata": {},
   "source": [
    "There are 878 unique values."
   ]
  },
  {
   "cell_type": "code",
   "execution_count": 42,
   "metadata": {},
   "outputs": [
    {
     "data": {
      "text/plain": [
       "HSR Layout, Bangalore            75\n",
       "Andheri West, Mumbai             70\n",
       "Dwarka, Delhi                    67\n",
       "Banjara Hills, Hyderabad         64\n",
       "Mulund West, Mumbai              54\n",
       "                                 ..\n",
       "Parassala, Thiruvananthapuram     1\n",
       "Connaught Place, Delhi            1\n",
       "Rani Khera, Delhi                 1\n",
       "Satya Niketan, Delhi              1\n",
       "Kowdiar, Thiruvananthapuram       1\n",
       "Name: Place, Length: 877, dtype: int64"
      ]
     },
     "execution_count": 42,
     "metadata": {},
     "output_type": "execute_result"
    }
   ],
   "source": [
    "df.Place.value_counts()"
   ]
  },
  {
   "cell_type": "markdown",
   "metadata": {},
   "source": [
    "Hsr layout bangalore tops the list with 75 rows.\n",
    "\n",
    "877 values in descending order of occurances.\n",
    "\n",
    "so, the median would be 878/2  = 439"
   ]
  },
  {
   "cell_type": "code",
   "execution_count": 51,
   "metadata": {},
   "outputs": [],
   "source": [
    "P = pd.DataFrame(df.Place.value_counts())"
   ]
  },
  {
   "cell_type": "code",
   "execution_count": 52,
   "metadata": {},
   "outputs": [
    {
     "data": {
      "text/plain": [
       "(877, 1)"
      ]
     },
     "execution_count": 52,
     "metadata": {},
     "output_type": "execute_result"
    }
   ],
   "source": [
    "P.shape"
   ]
  },
  {
   "cell_type": "code",
   "execution_count": 55,
   "metadata": {},
   "outputs": [
    {
     "data": {
      "text/html": [
       "<div>\n",
       "<style scoped>\n",
       "    .dataframe tbody tr th:only-of-type {\n",
       "        vertical-align: middle;\n",
       "    }\n",
       "\n",
       "    .dataframe tbody tr th {\n",
       "        vertical-align: top;\n",
       "    }\n",
       "\n",
       "    .dataframe thead th {\n",
       "        text-align: right;\n",
       "    }\n",
       "</style>\n",
       "<table border=\"1\" class=\"dataframe\">\n",
       "  <thead>\n",
       "    <tr style=\"text-align: right;\">\n",
       "      <th></th>\n",
       "      <th>Place</th>\n",
       "    </tr>\n",
       "  </thead>\n",
       "  <tbody>\n",
       "    <tr>\n",
       "      <th>Kalina, Mumbai</th>\n",
       "      <td>3</td>\n",
       "    </tr>\n",
       "  </tbody>\n",
       "</table>\n",
       "</div>"
      ],
      "text/plain": [
       "                Place\n",
       "Kalina, Mumbai      3"
      ]
     },
     "execution_count": 55,
     "metadata": {},
     "output_type": "execute_result"
    }
   ],
   "source": [
    "P[438:439]"
   ]
  },
  {
   "cell_type": "markdown",
   "metadata": {},
   "source": [
    "Kalina Mumbai is the median for the variable. We can use this to fill null values.\n",
    "\n",
    "But before that, since we cant split the column bcz of null values and use only the city as variable, lets check for data loss if we remove the 25 missing values."
   ]
  },
  {
   "cell_type": "code",
   "execution_count": 59,
   "metadata": {},
   "outputs": [],
   "source": [
    "drop = df.Place.dropna()"
   ]
  },
  {
   "cell_type": "code",
   "execution_count": 60,
   "metadata": {},
   "outputs": [
    {
     "data": {
      "text/plain": [
       "(5936,)"
      ]
     },
     "execution_count": 60,
     "metadata": {},
     "output_type": "execute_result"
    }
   ],
   "source": [
    "drop.shape"
   ]
  },
  {
   "cell_type": "code",
   "execution_count": 61,
   "metadata": {},
   "outputs": [
    {
     "data": {
      "text/plain": [
       "0.004193927193423922"
      ]
     },
     "execution_count": 61,
     "metadata": {},
     "output_type": "execute_result"
    }
   ],
   "source": [
    "(5961-5936)/5961"
   ]
  },
  {
   "cell_type": "markdown",
   "metadata": {},
   "source": [
    "There is around 0.4 % data loss, and is acceptable"
   ]
  },
  {
   "cell_type": "code",
   "execution_count": 62,
   "metadata": {},
   "outputs": [],
   "source": [
    "df['No_of_Qualifications'] = No_of_Qualifications\n",
    "df['Exp'] = E"
   ]
  },
  {
   "cell_type": "code",
   "execution_count": 63,
   "metadata": {},
   "outputs": [
    {
     "data": {
      "text/plain": [
       "(5961, 9)"
      ]
     },
     "execution_count": 63,
     "metadata": {},
     "output_type": "execute_result"
    }
   ],
   "source": [
    "df.shape"
   ]
  },
  {
   "cell_type": "code",
   "execution_count": 65,
   "metadata": {},
   "outputs": [],
   "source": [
    "df.drop(columns = ['Qualification','Experience'],inplace = True)"
   ]
  },
  {
   "cell_type": "markdown",
   "metadata": {},
   "source": [
    "Since, we are removing null values of Place, and there will be index changes, we have added our new columns and removed unnecessary coulmns to avoid index problems later"
   ]
  },
  {
   "cell_type": "code",
   "execution_count": 73,
   "metadata": {},
   "outputs": [],
   "source": [
    "copy = df = df.dropna(axis=0, subset=['Place'])"
   ]
  },
  {
   "cell_type": "code",
   "execution_count": 74,
   "metadata": {},
   "outputs": [
    {
     "data": {
      "text/plain": [
       "(5936, 7)"
      ]
     },
     "execution_count": 74,
     "metadata": {},
     "output_type": "execute_result"
    }
   ],
   "source": [
    "copy.shape"
   ]
  },
  {
   "cell_type": "markdown",
   "metadata": {},
   "source": [
    "The rows with null values in Place Variable are removed."
   ]
  },
  {
   "cell_type": "code",
   "execution_count": 75,
   "metadata": {},
   "outputs": [
    {
     "data": {
      "text/plain": [
       "Rating                  3277\n",
       "Place                      0\n",
       "Profile                    0\n",
       "Miscellaneous_Info      2595\n",
       "Fees                       0\n",
       "No_of_Qualifications       0\n",
       "Exp                        0\n",
       "dtype: int64"
      ]
     },
     "execution_count": 75,
     "metadata": {},
     "output_type": "execute_result"
    }
   ],
   "source": [
    "copy.isnull().sum()"
   ]
  },
  {
   "cell_type": "code",
   "execution_count": 79,
   "metadata": {},
   "outputs": [
    {
     "data": {
      "text/plain": [
       "<AxesSubplot:xlabel='No_of_Qualifications', ylabel='Fees'>"
      ]
     },
     "execution_count": 79,
     "metadata": {},
     "output_type": "execute_result"
    },
    {
     "data": {
      "image/png": "[encoded data removed]",
      "text/plain": [
       "<Figure size 432x288 with 1 Axes>"
      ]
     },
     "metadata": {
      "needs_background": "light"
     },
     "output_type": "display_data"
    }
   ],
   "source": [
    "sns.barplot(x= df.No_of_Qualifications, y= df.Fees, hue = df.Rating)"
   ]
  },
  {
   "cell_type": "markdown",
   "metadata": {},
   "source": [
    "There are many values of ratings, as well as many null values."
   ]
  },
  {
   "cell_type": "code",
   "execution_count": 80,
   "metadata": {},
   "outputs": [
    {
     "data": {
      "text/plain": [
       "2659"
      ]
     },
     "execution_count": 80,
     "metadata": {},
     "output_type": "execute_result"
    }
   ],
   "source": [
    "df.Rating.notnull().sum()"
   ]
  },
  {
   "cell_type": "code",
   "execution_count": 82,
   "metadata": {},
   "outputs": [
    {
     "data": {
      "text/plain": [
       "3277"
      ]
     },
     "execution_count": 82,
     "metadata": {},
     "output_type": "execute_result"
    }
   ],
   "source": [
    "df.Rating.isnull().sum()"
   ]
  },
  {
   "cell_type": "markdown",
   "metadata": {},
   "source": [
    "more than 50% of the rows are empty. there fore, filling them could cause a variance / bias or any unknown errors further in the modelling"
   ]
  },
  {
   "cell_type": "code",
   "execution_count": 88,
   "metadata": {},
   "outputs": [
    {
     "data": {
      "text/plain": [
       "'100'"
      ]
     },
     "execution_count": 88,
     "metadata": {},
     "output_type": "execute_result"
    }
   ],
   "source": [
    "df.Rating[0].replace('%','')"
   ]
  },
  {
   "cell_type": "code",
   "execution_count": 89,
   "metadata": {},
   "outputs": [
    {
     "ename": "AttributeError",
     "evalue": "'float' object has no attribute 'replace'",
     "output_type": "error",
     "traceback": [
      "\u001b[1;31m---------------------------------------------------------------------------\u001b[0m",
      "\u001b[1;31mAttributeError\u001b[0m                            Traceback (most recent call last)",
      "\u001b[1;32m<ipython-input-89-55b3e54b7a2a>\u001b[0m in \u001b[0;36m<module>\u001b[1;34m\u001b[0m\n\u001b[1;32m----> 1\u001b[1;33m \u001b[0mdf\u001b[0m\u001b[1;33m.\u001b[0m\u001b[0mRating\u001b[0m\u001b[1;33m[\u001b[0m\u001b[1;36m3\u001b[0m\u001b[1;33m]\u001b[0m\u001b[1;33m.\u001b[0m\u001b[0mreplace\u001b[0m\u001b[1;33m(\u001b[0m\u001b[1;34m'%'\u001b[0m\u001b[1;33m,\u001b[0m\u001b[1;34m''\u001b[0m\u001b[1;33m)\u001b[0m\u001b[1;33m\u001b[0m\u001b[1;33m\u001b[0m\u001b[0m\n\u001b[0m",
      "\u001b[1;31mAttributeError\u001b[0m: 'float' object has no attribute 'replace'"
     ]
    }
   ],
   "source": [
    "df.Rating[3].replace('%','')"
   ]
  },
  {
   "cell_type": "markdown",
   "metadata": {},
   "source": [
    "As we can see, nan values doesnt support for using a loop to numerize the data."
   ]
  },
  {
   "cell_type": "code",
   "execution_count": 100,
   "metadata": {},
   "outputs": [],
   "source": [
    "R =[]\n",
    "for i in df.Rating:\n",
    "    R.append(str(i).replace('%',''))"
   ]
  },
  {
   "cell_type": "code",
   "execution_count": 93,
   "metadata": {},
   "outputs": [
    {
     "data": {
      "text/plain": [
       "['100',\n",
       " '98',\n",
       " 'nan',\n",
       " 'nan',\n",
       " '100',\n",
       " 'nan',\n",
       " 'nan',\n",
       " '99',\n",
       " 'nan',\n",
       " 'nan',\n",
       " 'nan',\n",
       " 'nan',\n",
       " '98',\n",
       " 'nan',\n",
       " 'nan',\n",
       " 'nan',\n",
       " 'nan',\n",
       " 'nan',\n",
       " '79',\n",
       " '100',\n",
       " '100',\n",
       " 'nan',\n",
       " 'nan',\n",
       " 'nan',\n",
       " 'nan',\n",
       " 'nan',\n",
       " '100',\n",
       " '95',\n",
       " 'nan',\n",
       " '97',\n",
       " '97',\n",
       " 'nan',\n",
       " '94',\n",
       " '88',\n",
       " 'nan',\n",
       " '100',\n",
       " 'nan',\n",
       " '90',\n",
       " '80',\n",
       " 'nan',\n",
       " '100',\n",
       " '100',\n",
       " '100',\n",
       " 'nan',\n",
       " '99',\n",
       " 'nan',\n",
       " '100',\n",
       " 'nan',\n",
       " '93',\n",
       " 'nan',\n",
       " 'nan',\n",
       " 'nan',\n",
       " 'nan',\n",
       " '100',\n",
       " '100',\n",
       " '36',\n",
       " '100',\n",
       " '97',\n",
       " 'nan',\n",
       " '99',\n",
       " 'nan',\n",
       " '99',\n",
       " '98',\n",
       " 'nan',\n",
       " 'nan',\n",
       " '100',\n",
       " '100',\n",
       " '78',\n",
       " 'nan',\n",
       " '99',\n",
       " '93',\n",
       " 'nan',\n",
       " 'nan',\n",
       " 'nan',\n",
       " '87',\n",
       " '93',\n",
       " 'nan',\n",
       " '98',\n",
       " '97',\n",
       " 'nan',\n",
       " 'nan',\n",
       " 'nan',\n",
       " 'nan',\n",
       " '99',\n",
       " '100',\n",
       " 'nan',\n",
       " '99',\n",
       " 'nan',\n",
       " '94',\n",
       " 'nan',\n",
       " 'nan',\n",
       " 'nan',\n",
       " '100',\n",
       " '100',\n",
       " '100',\n",
       " '97',\n",
       " 'nan',\n",
       " 'nan',\n",
       " '98',\n",
       " 'nan',\n",
       " '100',\n",
       " '99',\n",
       " '100',\n",
       " '98',\n",
       " 'nan',\n",
       " '90',\n",
       " 'nan',\n",
       " '100',\n",
       " 'nan',\n",
       " 'nan',\n",
       " '96',\n",
       " '90',\n",
       " '100',\n",
       " '100',\n",
       " 'nan',\n",
       " 'nan',\n",
       " '95',\n",
       " 'nan',\n",
       " 'nan',\n",
       " 'nan',\n",
       " 'nan',\n",
       " 'nan',\n",
       " '82',\n",
       " 'nan',\n",
       " '95',\n",
       " 'nan',\n",
       " '100',\n",
       " 'nan',\n",
       " 'nan',\n",
       " '90',\n",
       " 'nan',\n",
       " '98',\n",
       " '100',\n",
       " 'nan',\n",
       " 'nan',\n",
       " 'nan',\n",
       " '89',\n",
       " '89',\n",
       " '100',\n",
       " '74',\n",
       " '96',\n",
       " '86',\n",
       " '100',\n",
       " 'nan',\n",
       " '100',\n",
       " '89',\n",
       " 'nan',\n",
       " 'nan',\n",
       " '92',\n",
       " '99',\n",
       " '100',\n",
       " '100',\n",
       " 'nan',\n",
       " 'nan',\n",
       " '100',\n",
       " '95',\n",
       " 'nan',\n",
       " '100',\n",
       " '100',\n",
       " '95',\n",
       " '94',\n",
       " 'nan',\n",
       " '99',\n",
       " '80',\n",
       " '96',\n",
       " 'nan',\n",
       " 'nan',\n",
       " 'nan',\n",
       " '95',\n",
       " '83',\n",
       " '100',\n",
       " 'nan',\n",
       " '96',\n",
       " '93',\n",
       " '100',\n",
       " '98',\n",
       " '88',\n",
       " '76',\n",
       " 'nan',\n",
       " 'nan',\n",
       " 'nan',\n",
       " 'nan',\n",
       " '92',\n",
       " '85',\n",
       " 'nan',\n",
       " '100',\n",
       " 'nan',\n",
       " '92',\n",
       " 'nan',\n",
       " 'nan',\n",
       " '95',\n",
       " 'nan',\n",
       " 'nan',\n",
       " 'nan',\n",
       " '95',\n",
       " '96',\n",
       " 'nan',\n",
       " 'nan',\n",
       " 'nan',\n",
       " 'nan',\n",
       " 'nan',\n",
       " 'nan',\n",
       " 'nan',\n",
       " '97',\n",
       " 'nan',\n",
       " '98',\n",
       " 'nan',\n",
       " 'nan',\n",
       " '56',\n",
       " '96',\n",
       " 'nan',\n",
       " '97',\n",
       " 'nan',\n",
       " 'nan',\n",
       " 'nan',\n",
       " '80',\n",
       " 'nan',\n",
       " 'nan',\n",
       " '100',\n",
       " '99',\n",
       " '93',\n",
       " '100',\n",
       " 'nan',\n",
       " 'nan',\n",
       " '99',\n",
       " 'nan',\n",
       " 'nan',\n",
       " 'nan',\n",
       " 'nan',\n",
       " 'nan',\n",
       " 'nan',\n",
       " 'nan',\n",
       " 'nan',\n",
       " 'nan',\n",
       " '95',\n",
       " 'nan',\n",
       " '98',\n",
       " 'nan',\n",
       " '94',\n",
       " '98',\n",
       " 'nan',\n",
       " '97',\n",
       " 'nan',\n",
       " 'nan',\n",
       " '99',\n",
       " '97',\n",
       " '99',\n",
       " '100',\n",
       " 'nan',\n",
       " 'nan',\n",
       " 'nan',\n",
       " '80',\n",
       " '94',\n",
       " 'nan',\n",
       " 'nan',\n",
       " 'nan',\n",
       " 'nan',\n",
       " '93',\n",
       " '100',\n",
       " 'nan',\n",
       " '98',\n",
       " 'nan',\n",
       " '100',\n",
       " 'nan',\n",
       " '100',\n",
       " '99',\n",
       " '93',\n",
       " '100',\n",
       " '97',\n",
       " '100',\n",
       " 'nan',\n",
       " '91',\n",
       " 'nan',\n",
       " '99',\n",
       " 'nan',\n",
       " '96',\n",
       " 'nan',\n",
       " 'nan',\n",
       " '96',\n",
       " '100',\n",
       " 'nan',\n",
       " '93',\n",
       " 'nan',\n",
       " '100',\n",
       " '94',\n",
       " 'nan',\n",
       " 'nan',\n",
       " '97',\n",
       " 'nan',\n",
       " 'nan',\n",
       " '94',\n",
       " 'nan',\n",
       " '100',\n",
       " 'nan',\n",
       " 'nan',\n",
       " '100',\n",
       " 'nan',\n",
       " 'nan',\n",
       " 'nan',\n",
       " '97',\n",
       " 'nan',\n",
       " '99',\n",
       " 'nan',\n",
       " 'nan',\n",
       " 'nan',\n",
       " 'nan',\n",
       " '100',\n",
       " 'nan',\n",
       " '56',\n",
       " '95',\n",
       " 'nan',\n",
       " 'nan',\n",
       " 'nan',\n",
       " 'nan',\n",
       " 'nan',\n",
       " 'nan',\n",
       " 'nan',\n",
       " 'nan',\n",
       " 'nan',\n",
       " 'nan',\n",
       " '95',\n",
       " 'nan',\n",
       " '100',\n",
       " '95',\n",
       " 'nan',\n",
       " 'nan',\n",
       " '92',\n",
       " '100',\n",
       " 'nan',\n",
       " '88',\n",
       " 'nan',\n",
       " 'nan',\n",
       " '68',\n",
       " '100',\n",
       " 'nan',\n",
       " 'nan',\n",
       " 'nan',\n",
       " '99',\n",
       " '100',\n",
       " 'nan',\n",
       " 'nan',\n",
       " 'nan',\n",
       " 'nan',\n",
       " 'nan',\n",
       " '94',\n",
       " '91',\n",
       " 'nan',\n",
       " 'nan',\n",
       " '98',\n",
       " '96',\n",
       " 'nan',\n",
       " 'nan',\n",
       " 'nan',\n",
       " 'nan',\n",
       " '99',\n",
       " 'nan',\n",
       " 'nan',\n",
       " 'nan',\n",
       " 'nan',\n",
       " 'nan',\n",
       " 'nan',\n",
       " '96',\n",
       " 'nan',\n",
       " '100',\n",
       " 'nan',\n",
       " '100',\n",
       " '98',\n",
       " 'nan',\n",
       " 'nan',\n",
       " 'nan',\n",
       " '97',\n",
       " 'nan',\n",
       " 'nan',\n",
       " '96',\n",
       " 'nan',\n",
       " 'nan',\n",
       " '60',\n",
       " 'nan',\n",
       " 'nan',\n",
       " 'nan',\n",
       " 'nan',\n",
       " 'nan',\n",
       " 'nan',\n",
       " '100',\n",
       " 'nan',\n",
       " 'nan',\n",
       " 'nan',\n",
       " '88',\n",
       " 'nan',\n",
       " 'nan',\n",
       " 'nan',\n",
       " 'nan',\n",
       " '85',\n",
       " 'nan',\n",
       " 'nan',\n",
       " 'nan',\n",
       " '100',\n",
       " 'nan',\n",
       " '98',\n",
       " '100',\n",
       " '98',\n",
       " 'nan',\n",
       " 'nan',\n",
       " 'nan',\n",
       " '100',\n",
       " '96',\n",
       " 'nan',\n",
       " 'nan',\n",
       " 'nan',\n",
       " '93',\n",
       " 'nan',\n",
       " '98',\n",
       " '96',\n",
       " '83',\n",
       " '85',\n",
       " 'nan',\n",
       " '100',\n",
       " 'nan',\n",
       " '100',\n",
       " 'nan',\n",
       " 'nan',\n",
       " '100',\n",
       " 'nan',\n",
       " 'nan',\n",
       " '85',\n",
       " '100',\n",
       " 'nan',\n",
       " '97',\n",
       " '93',\n",
       " 'nan',\n",
       " '100',\n",
       " '97',\n",
       " '97',\n",
       " '96',\n",
       " '97',\n",
       " '100',\n",
       " 'nan',\n",
       " 'nan',\n",
       " 'nan',\n",
       " '100',\n",
       " 'nan',\n",
       " '90',\n",
       " 'nan',\n",
       " 'nan',\n",
       " '99',\n",
       " 'nan',\n",
       " 'nan',\n",
       " '100',\n",
       " 'nan',\n",
       " '100',\n",
       " '98',\n",
       " 'nan',\n",
       " 'nan',\n",
       " 'nan',\n",
       " '88',\n",
       " '100',\n",
       " '96',\n",
       " '75',\n",
       " 'nan',\n",
       " '95',\n",
       " 'nan',\n",
       " 'nan',\n",
       " '100',\n",
       " 'nan',\n",
       " '69',\n",
       " '98',\n",
       " '97',\n",
       " 'nan',\n",
       " 'nan',\n",
       " 'nan',\n",
       " '92',\n",
       " '93',\n",
       " 'nan',\n",
       " 'nan',\n",
       " 'nan',\n",
       " 'nan',\n",
       " '99',\n",
       " '95',\n",
       " 'nan',\n",
       " 'nan',\n",
       " 'nan',\n",
       " 'nan',\n",
       " 'nan',\n",
       " 'nan',\n",
       " 'nan',\n",
       " 'nan',\n",
       " '94',\n",
       " '100',\n",
       " '98',\n",
       " 'nan',\n",
       " '94',\n",
       " 'nan',\n",
       " '97',\n",
       " 'nan',\n",
       " 'nan',\n",
       " '100',\n",
       " 'nan',\n",
       " 'nan',\n",
       " 'nan',\n",
       " 'nan',\n",
       " 'nan',\n",
       " 'nan',\n",
       " 'nan',\n",
       " '100',\n",
       " 'nan',\n",
       " '100',\n",
       " '95',\n",
       " 'nan',\n",
       " 'nan',\n",
       " 'nan',\n",
       " '97',\n",
       " 'nan',\n",
       " 'nan',\n",
       " 'nan',\n",
       " 'nan',\n",
       " 'nan',\n",
       " 'nan',\n",
       " 'nan',\n",
       " 'nan',\n",
       " 'nan',\n",
       " 'nan',\n",
       " 'nan',\n",
       " 'nan',\n",
       " 'nan',\n",
       " 'nan',\n",
       " '97',\n",
       " 'nan',\n",
       " '93',\n",
       " 'nan',\n",
       " '100',\n",
       " '95',\n",
       " '93',\n",
       " 'nan',\n",
       " 'nan',\n",
       " 'nan',\n",
       " '80',\n",
       " '99',\n",
       " 'nan',\n",
       " 'nan',\n",
       " '100',\n",
       " '98',\n",
       " 'nan',\n",
       " '96',\n",
       " '98',\n",
       " '100',\n",
       " 'nan',\n",
       " '98',\n",
       " '96',\n",
       " 'nan',\n",
       " 'nan',\n",
       " '97',\n",
       " 'nan',\n",
       " '95',\n",
       " 'nan',\n",
       " 'nan',\n",
       " '94',\n",
       " 'nan',\n",
       " '92',\n",
       " '100',\n",
       " 'nan',\n",
       " '95',\n",
       " 'nan',\n",
       " 'nan',\n",
       " 'nan',\n",
       " 'nan',\n",
       " 'nan',\n",
       " '99',\n",
       " 'nan',\n",
       " 'nan',\n",
       " '100',\n",
       " 'nan',\n",
       " '93',\n",
       " '96',\n",
       " 'nan',\n",
       " 'nan',\n",
       " 'nan',\n",
       " 'nan',\n",
       " '92',\n",
       " 'nan',\n",
       " 'nan',\n",
       " 'nan',\n",
       " 'nan',\n",
       " 'nan',\n",
       " '73',\n",
       " 'nan',\n",
       " '94',\n",
       " 'nan',\n",
       " 'nan',\n",
       " '67',\n",
       " '100',\n",
       " '98',\n",
       " 'nan',\n",
       " '100',\n",
       " 'nan',\n",
       " 'nan',\n",
       " '96',\n",
       " 'nan',\n",
       " 'nan',\n",
       " '100',\n",
       " 'nan',\n",
       " 'nan',\n",
       " '96',\n",
       " 'nan',\n",
       " 'nan',\n",
       " 'nan',\n",
       " '100',\n",
       " 'nan',\n",
       " 'nan',\n",
       " 'nan',\n",
       " 'nan',\n",
       " 'nan',\n",
       " 'nan',\n",
       " '89',\n",
       " '98',\n",
       " '96',\n",
       " 'nan',\n",
       " 'nan',\n",
       " 'nan',\n",
       " 'nan',\n",
       " 'nan',\n",
       " '98',\n",
       " 'nan',\n",
       " 'nan',\n",
       " '97',\n",
       " '99',\n",
       " '99',\n",
       " '100',\n",
       " 'nan',\n",
       " '77',\n",
       " '98',\n",
       " 'nan',\n",
       " 'nan',\n",
       " '96',\n",
       " '96',\n",
       " 'nan',\n",
       " '82',\n",
       " 'nan',\n",
       " 'nan',\n",
       " 'nan',\n",
       " '100',\n",
       " '95',\n",
       " '95',\n",
       " 'nan',\n",
       " 'nan',\n",
       " '100',\n",
       " 'nan',\n",
       " '98',\n",
       " '98',\n",
       " '98',\n",
       " 'nan',\n",
       " 'nan',\n",
       " '97',\n",
       " 'nan',\n",
       " 'nan',\n",
       " '98',\n",
       " 'nan',\n",
       " '99',\n",
       " '96',\n",
       " '100',\n",
       " 'nan',\n",
       " '100',\n",
       " '99',\n",
       " 'nan',\n",
       " '91',\n",
       " '98',\n",
       " 'nan',\n",
       " '100',\n",
       " '98',\n",
       " 'nan',\n",
       " 'nan',\n",
       " '97',\n",
       " 'nan',\n",
       " '98',\n",
       " '98',\n",
       " '96',\n",
       " '100',\n",
       " '100',\n",
       " 'nan',\n",
       " '85',\n",
       " '97',\n",
       " 'nan',\n",
       " 'nan',\n",
       " 'nan',\n",
       " 'nan',\n",
       " 'nan',\n",
       " 'nan',\n",
       " '98',\n",
       " 'nan',\n",
       " '33',\n",
       " 'nan',\n",
       " '100',\n",
       " 'nan',\n",
       " '85',\n",
       " '93',\n",
       " '100',\n",
       " 'nan',\n",
       " '99',\n",
       " '98',\n",
       " 'nan',\n",
       " 'nan',\n",
       " 'nan',\n",
       " '88',\n",
       " 'nan',\n",
       " '97',\n",
       " 'nan',\n",
       " '98',\n",
       " '80',\n",
       " 'nan',\n",
       " '98',\n",
       " '98',\n",
       " 'nan',\n",
       " '98',\n",
       " 'nan',\n",
       " 'nan',\n",
       " '100',\n",
       " 'nan',\n",
       " '99',\n",
       " '89',\n",
       " '88',\n",
       " 'nan',\n",
       " '99',\n",
       " 'nan',\n",
       " '95',\n",
       " 'nan',\n",
       " 'nan',\n",
       " '100',\n",
       " '55',\n",
       " 'nan',\n",
       " '95',\n",
       " '90',\n",
       " 'nan',\n",
       " 'nan',\n",
       " '88',\n",
       " 'nan',\n",
       " 'nan',\n",
       " 'nan',\n",
       " 'nan',\n",
       " '80',\n",
       " '100',\n",
       " '99',\n",
       " '95',\n",
       " 'nan',\n",
       " '96',\n",
       " '91',\n",
       " '95',\n",
       " 'nan',\n",
       " 'nan',\n",
       " '91',\n",
       " 'nan',\n",
       " '98',\n",
       " '97',\n",
       " '96',\n",
       " '98',\n",
       " '100',\n",
       " '100',\n",
       " '96',\n",
       " 'nan',\n",
       " '93',\n",
       " '99',\n",
       " '97',\n",
       " '97',\n",
       " 'nan',\n",
       " '97',\n",
       " '94',\n",
       " 'nan',\n",
       " 'nan',\n",
       " 'nan',\n",
       " 'nan',\n",
       " 'nan',\n",
       " 'nan',\n",
       " '97',\n",
       " 'nan',\n",
       " 'nan',\n",
       " 'nan',\n",
       " 'nan',\n",
       " 'nan',\n",
       " 'nan',\n",
       " '100',\n",
       " 'nan',\n",
       " 'nan',\n",
       " 'nan',\n",
       " '94',\n",
       " '71',\n",
       " '71',\n",
       " '91',\n",
       " 'nan',\n",
       " 'nan',\n",
       " '97',\n",
       " '96',\n",
       " 'nan',\n",
       " 'nan',\n",
       " 'nan',\n",
       " 'nan',\n",
       " '97',\n",
       " 'nan',\n",
       " 'nan',\n",
       " 'nan',\n",
       " '99',\n",
       " '93',\n",
       " 'nan',\n",
       " '93',\n",
       " '84',\n",
       " '100',\n",
       " '98',\n",
       " 'nan',\n",
       " '79',\n",
       " '92',\n",
       " 'nan',\n",
       " '100',\n",
       " 'nan',\n",
       " '74',\n",
       " 'nan',\n",
       " 'nan',\n",
       " 'nan',\n",
       " '99',\n",
       " '99',\n",
       " 'nan',\n",
       " 'nan',\n",
       " 'nan',\n",
       " 'nan',\n",
       " 'nan',\n",
       " '98',\n",
       " '97',\n",
       " '98',\n",
       " 'nan',\n",
       " '97',\n",
       " '97',\n",
       " 'nan',\n",
       " '100',\n",
       " '89',\n",
       " '91',\n",
       " '84',\n",
       " '99',\n",
       " '98',\n",
       " 'nan',\n",
       " 'nan',\n",
       " 'nan',\n",
       " '93',\n",
       " 'nan',\n",
       " '100',\n",
       " '100',\n",
       " 'nan',\n",
       " 'nan',\n",
       " 'nan',\n",
       " '98',\n",
       " 'nan',\n",
       " '79',\n",
       " 'nan',\n",
       " '100',\n",
       " '83',\n",
       " '100',\n",
       " '95',\n",
       " 'nan',\n",
       " 'nan',\n",
       " 'nan',\n",
       " 'nan',\n",
       " 'nan',\n",
       " '83',\n",
       " 'nan',\n",
       " '93',\n",
       " '97',\n",
       " 'nan',\n",
       " 'nan',\n",
       " 'nan',\n",
       " 'nan',\n",
       " 'nan',\n",
       " '95',\n",
       " 'nan',\n",
       " 'nan',\n",
       " '91',\n",
       " '100',\n",
       " 'nan',\n",
       " '98',\n",
       " 'nan',\n",
       " 'nan',\n",
       " 'nan',\n",
       " 'nan',\n",
       " '100',\n",
       " 'nan',\n",
       " 'nan',\n",
       " 'nan',\n",
       " '100',\n",
       " 'nan',\n",
       " 'nan',\n",
       " '96',\n",
       " 'nan',\n",
       " '97',\n",
       " 'nan',\n",
       " 'nan',\n",
       " 'nan',\n",
       " 'nan',\n",
       " '80',\n",
       " 'nan',\n",
       " 'nan',\n",
       " 'nan',\n",
       " 'nan',\n",
       " 'nan',\n",
       " 'nan',\n",
       " 'nan',\n",
       " 'nan',\n",
       " '99',\n",
       " '91',\n",
       " 'nan',\n",
       " 'nan',\n",
       " 'nan',\n",
       " 'nan',\n",
       " '45',\n",
       " '99',\n",
       " '97',\n",
       " '100',\n",
       " 'nan',\n",
       " 'nan',\n",
       " 'nan',\n",
       " '77',\n",
       " 'nan',\n",
       " 'nan',\n",
       " '96',\n",
       " '100',\n",
       " '92',\n",
       " 'nan',\n",
       " 'nan',\n",
       " 'nan',\n",
       " 'nan',\n",
       " 'nan',\n",
       " '97',\n",
       " '96',\n",
       " '100',\n",
       " 'nan',\n",
       " '98',\n",
       " '94',\n",
       " '96',\n",
       " '98',\n",
       " '100',\n",
       " 'nan',\n",
       " '96',\n",
       " '100',\n",
       " 'nan',\n",
       " 'nan',\n",
       " '100',\n",
       " 'nan',\n",
       " 'nan',\n",
       " 'nan',\n",
       " '94',\n",
       " '100',\n",
       " 'nan',\n",
       " 'nan',\n",
       " 'nan',\n",
       " 'nan',\n",
       " 'nan',\n",
       " 'nan',\n",
       " '97',\n",
       " '100',\n",
       " 'nan',\n",
       " '96',\n",
       " '94',\n",
       " '90',\n",
       " '90',\n",
       " 'nan',\n",
       " 'nan',\n",
       " '100',\n",
       " 'nan',\n",
       " 'nan',\n",
       " 'nan',\n",
       " '77',\n",
       " 'nan',\n",
       " '88',\n",
       " '92',\n",
       " '98',\n",
       " '100',\n",
       " 'nan',\n",
       " 'nan',\n",
       " 'nan',\n",
       " '99',\n",
       " '97',\n",
       " '63',\n",
       " '93',\n",
       " 'nan',\n",
       " '95',\n",
       " '90',\n",
       " '94',\n",
       " '100',\n",
       " '92',\n",
       " '93',\n",
       " 'nan',\n",
       " 'nan',\n",
       " '72',\n",
       " 'nan',\n",
       " '100',\n",
       " '95',\n",
       " 'nan',\n",
       " 'nan',\n",
       " 'nan',\n",
       " 'nan',\n",
       " '74',\n",
       " 'nan',\n",
       " 'nan',\n",
       " 'nan',\n",
       " 'nan',\n",
       " 'nan',\n",
       " 'nan',\n",
       " ...]"
      ]
     },
     "execution_count": 93,
     "metadata": {},
     "output_type": "execute_result"
    }
   ],
   "source": [
    "R"
   ]
  },
  {
   "cell_type": "code",
   "execution_count": 94,
   "metadata": {},
   "outputs": [],
   "source": [
    "df['R'] = R"
   ]
  },
  {
   "cell_type": "code",
   "execution_count": 98,
   "metadata": {},
   "outputs": [
    {
     "data": {
      "text/plain": [
       "<AxesSubplot:xlabel='R', ylabel='Fees'>"
      ]
     },
     "execution_count": 98,
     "metadata": {},
     "output_type": "execute_result"
    },
    {
     "data": {
      "image/png": "[encoded data removed]",
      "text/plain": [
       "<Figure size 1440x720 with 1 Axes>"
      ]
     },
     "metadata": {
      "needs_background": "light"
     },
     "output_type": "display_data"
    }
   ],
   "source": [
    "plt.figure(figsize = (20,10))\n",
    "sns.histplot(x=df['R'],y=df['Fees'],)"
   ]
  },
  {
   "cell_type": "code",
   "execution_count": 102,
   "metadata": {},
   "outputs": [
    {
     "name": "stderr",
     "output_type": "stream",
     "text": [
      "C:\\Users\\AKHIL\\anaconda3\\lib\\site-packages\\seaborn\\_decorators.py:36: FutureWarning: Pass the following variable as a keyword arg: x. From version 0.12, the only valid positional argument will be `data`, and passing other arguments without an explicit keyword will result in an error or misinterpretation.\n",
      "  warnings.warn(\n"
     ]
    },
    {
     "data": {
      "text/plain": [
       "<AxesSubplot:xlabel='R', ylabel='count'>"
      ]
     },
     "execution_count": 102,
     "metadata": {},
     "output_type": "execute_result"
    },
    {
     "data": {
      "image/png": "[encoded data removed]",
      "text/plain": [
       "<Figure size 1440x720 with 1 Axes>"
      ]
     },
     "metadata": {
      "needs_background": "light"
     },
     "output_type": "display_data"
    }
   ],
   "source": [
    "plt.figure(figsize=(20,10))\n",
    "sns.countplot(df['R'])"
   ]
  },
  {
   "cell_type": "markdown",
   "metadata": {},
   "source": [
    "Though the variable Rating might have an impact on the fees, we cant fill them with mean as 3000 values will be added. and model will be biased.\n",
    "\n",
    "Therefore, it is better to remove the column"
   ]
  },
  {
   "cell_type": "code",
   "execution_count": 105,
   "metadata": {},
   "outputs": [
    {
     "data": {
      "text/plain": [
       "Rating                  object\n",
       "Place                   object\n",
       "Profile                 object\n",
       "Miscellaneous_Info      object\n",
       "Fees                     int64\n",
       "No_of_Qualifications     int64\n",
       "Exp                      int64\n",
       "R                       object\n",
       "dtype: object"
      ]
     },
     "execution_count": 105,
     "metadata": {},
     "output_type": "execute_result"
    }
   ],
   "source": [
    "df.dtypes"
   ]
  },
  {
   "cell_type": "code",
   "execution_count": 106,
   "metadata": {},
   "outputs": [
    {
     "data": {
      "text/plain": [
       "0                 100% 16 Feedback Kakkanad, Ernakulam\n",
       "1                98% 76 Feedback Whitefield, Bangalore\n",
       "2                                                  NaN\n",
       "3    Bannerghatta Road, Bangalore ₹250 Available on...\n",
       "4                100% 4 Feedback Keelkattalai, Chennai\n",
       "5                                                  NaN\n",
       "6                                                  NaN\n",
       "7    Dental Fillings Crowns and Bridges Fixing Impa...\n",
       "8                                                  NaN\n",
       "9                                                  NaN\n",
       "Name: Miscellaneous_Info, dtype: object"
      ]
     },
     "execution_count": 106,
     "metadata": {},
     "output_type": "execute_result"
    }
   ],
   "source": [
    "df['Miscellaneous_Info'][0:10]"
   ]
  },
  {
   "cell_type": "code",
   "execution_count": 107,
   "metadata": {},
   "outputs": [
    {
     "data": {
      "text/plain": [
       "2595"
      ]
     },
     "execution_count": 107,
     "metadata": {},
     "output_type": "execute_result"
    }
   ],
   "source": [
    "df['Miscellaneous_Info'].isnull().sum()"
   ]
  },
  {
   "cell_type": "markdown",
   "metadata": {},
   "source": [
    "Miscellaneouos info is additional information and can be removed."
   ]
  },
  {
   "cell_type": "markdown",
   "metadata": {},
   "source": [
    "so we are dropping Rating and Miscellaneous info colums as they have many null values."
   ]
  },
  {
   "cell_type": "code",
   "execution_count": 108,
   "metadata": {},
   "outputs": [],
   "source": [
    "copy.drop(columns=['Rating','Miscellaneous_Info','R'],inplace=True)"
   ]
  },
  {
   "cell_type": "code",
   "execution_count": 109,
   "metadata": {},
   "outputs": [
    {
     "data": {
      "text/plain": [
       "(5936, 5)"
      ]
     },
     "execution_count": 109,
     "metadata": {},
     "output_type": "execute_result"
    }
   ],
   "source": [
    "copy.shape"
   ]
  },
  {
   "cell_type": "code",
   "execution_count": 110,
   "metadata": {},
   "outputs": [
    {
     "data": {
      "text/html": [
       "<div>\n",
       "<style scoped>\n",
       "    .dataframe tbody tr th:only-of-type {\n",
       "        vertical-align: middle;\n",
       "    }\n",
       "\n",
       "    .dataframe tbody tr th {\n",
       "        vertical-align: top;\n",
       "    }\n",
       "\n",
       "    .dataframe thead th {\n",
       "        text-align: right;\n",
       "    }\n",
       "</style>\n",
       "<table border=\"1\" class=\"dataframe\">\n",
       "  <thead>\n",
       "    <tr style=\"text-align: right;\">\n",
       "      <th></th>\n",
       "      <th>Place</th>\n",
       "      <th>Profile</th>\n",
       "      <th>Fees</th>\n",
       "      <th>No_of_Qualifications</th>\n",
       "      <th>Exp</th>\n",
       "    </tr>\n",
       "  </thead>\n",
       "  <tbody>\n",
       "    <tr>\n",
       "      <th>0</th>\n",
       "      <td>Kakkanad, Ernakulam</td>\n",
       "      <td>Homeopath</td>\n",
       "      <td>100</td>\n",
       "      <td>2</td>\n",
       "      <td>24</td>\n",
       "    </tr>\n",
       "    <tr>\n",
       "      <th>1</th>\n",
       "      <td>Whitefield, Bangalore</td>\n",
       "      <td>Ayurveda</td>\n",
       "      <td>350</td>\n",
       "      <td>2</td>\n",
       "      <td>12</td>\n",
       "    </tr>\n",
       "    <tr>\n",
       "      <th>2</th>\n",
       "      <td>Mathikere - BEL, Bangalore</td>\n",
       "      <td>ENT Specialist</td>\n",
       "      <td>300</td>\n",
       "      <td>2</td>\n",
       "      <td>9</td>\n",
       "    </tr>\n",
       "    <tr>\n",
       "      <th>3</th>\n",
       "      <td>Bannerghatta Road, Bangalore</td>\n",
       "      <td>Ayurveda</td>\n",
       "      <td>250</td>\n",
       "      <td>2</td>\n",
       "      <td>12</td>\n",
       "    </tr>\n",
       "    <tr>\n",
       "      <th>4</th>\n",
       "      <td>Keelkattalai, Chennai</td>\n",
       "      <td>Ayurveda</td>\n",
       "      <td>250</td>\n",
       "      <td>1</td>\n",
       "      <td>20</td>\n",
       "    </tr>\n",
       "  </tbody>\n",
       "</table>\n",
       "</div>"
      ],
      "text/plain": [
       "                          Place         Profile  Fees  No_of_Qualifications  \\\n",
       "0           Kakkanad, Ernakulam       Homeopath   100                     2   \n",
       "1         Whitefield, Bangalore        Ayurveda   350                     2   \n",
       "2    Mathikere - BEL, Bangalore  ENT Specialist   300                     2   \n",
       "3  Bannerghatta Road, Bangalore        Ayurveda   250                     2   \n",
       "4         Keelkattalai, Chennai        Ayurveda   250                     1   \n",
       "\n",
       "   Exp  \n",
       "0   24  \n",
       "1   12  \n",
       "2    9  \n",
       "3   12  \n",
       "4   20  "
      ]
     },
     "execution_count": 110,
     "metadata": {},
     "output_type": "execute_result"
    }
   ],
   "source": [
    "copy.head()"
   ]
  },
  {
   "cell_type": "code",
   "execution_count": 119,
   "metadata": {
    "scrolled": true
   },
   "outputs": [
    {
     "data": {
      "text/plain": [
       "[['Kakkanad', ' Ernakulam'],\n",
       " ['Whitefield', ' Bangalore'],\n",
       " ['Mathikere - BEL', ' Bangalore'],\n",
       " ['Bannerghatta Road', ' Bangalore'],\n",
       " ['Keelkattalai', ' Chennai'],\n",
       " ['Porur', ' Chennai'],\n",
       " ['Karol Bagh', ' Delhi'],\n",
       " ['Arekere', ' Bangalore'],\n",
       " ['Old City', ' Hyderabad'],\n",
       " ['Athani', ' Ernakulam'],\n",
       " ['Thousand Lights', ' Chennai'],\n",
       " ['Somajiguda', ' Hyderabad'],\n",
       " ['Coimbatore Racecourse', ' Coimbatore'],\n",
       " ['Jubilee Hills', ' Hyderabad'],\n",
       " ['Kondli', ' Delhi'],\n",
       " ['Saroor Nagar', ' Hyderabad'],\n",
       " ['Tambaram West', ' Chennai'],\n",
       " ['Purasawakkam', ' Chennai'],\n",
       " ['KPHB', ' Hyderabad'],\n",
       " ['HSR Layout', ' Bangalore'],\n",
       " ['Pollachi', ' Coimbatore'],\n",
       " ['Vasundhra Enclave', ' Delhi'],\n",
       " ['Chembur', ' Mumbai'],\n",
       " ['Thammanam', ' Ernakulam'],\n",
       " ['Andheri', ' Mumbai'],\n",
       " ['Pattom', ' Thiruvananthapuram'],\n",
       " ['HSR Layout', ' Bangalore'],\n",
       " ['Kukatpally', ' Hyderabad'],\n",
       " ['Vadavalli', ' Coimbatore'],\n",
       " ['Defence Colony', ' Delhi'],\n",
       " ['Banjara Hills', ' Hyderabad'],\n",
       " ['Sion West', ' Mumbai'],\n",
       " ['CR Park', ' Delhi'],\n",
       " ['Mogappair East', ' Chennai'],\n",
       " ['IP Extension', ' Delhi'],\n",
       " ['Safdarjung Enclave', ' Delhi'],\n",
       " ['New Friends Colony', ' Delhi'],\n",
       " ['Borivali West', ' Mumbai'],\n",
       " ['Saket', ' Delhi'],\n",
       " ['Malad', ' Mumbai'],\n",
       " ['Hyder Nagar', ' Hyderabad'],\n",
       " ['Dahisar West', ' Mumbai'],\n",
       " ['RT Nagar', ' Bangalore'],\n",
       " ['Saroor Nagar', ' Hyderabad'],\n",
       " ['Powai', ' Mumbai'],\n",
       " ['Basheerbagh', ' Hyderabad'],\n",
       " ['Musheerabad', ' Hyderabad'],\n",
       " ['AS Rao Nagar', ' Hyderabad'],\n",
       " ['Madhapur', ' Hyderabad'],\n",
       " ['Coimbatore Racecourse', ' Coimbatore'],\n",
       " ['Gandhinagar', ' Hyderabad'],\n",
       " ['Chetpet', ' Chennai'],\n",
       " ['Madhapur', ' Hyderabad'],\n",
       " ['Vileparle East', ' Mumbai'],\n",
       " ['KPHB', ' Hyderabad'],\n",
       " ['Whitefield', ' Bangalore'],\n",
       " ['Yelahanka New Town', ' Bangalore'],\n",
       " ['Bannerghatta Road', ' Bangalore'],\n",
       " ['Kodambakkam', ' Chennai'],\n",
       " ['Malleswaram', ' Bangalore'],\n",
       " ['Pallikaranai', ' Chennai'],\n",
       " ['Nallakunta', ' Hyderabad'],\n",
       " ['Paschim Vihar', ' Delhi'],\n",
       " ['Meera Bagh', ' Delhi'],\n",
       " ['Chattarpur', ' Delhi'],\n",
       " ['HSR Layout', ' Bangalore'],\n",
       " ['Andheri West', ' Mumbai'],\n",
       " ['Himayat Nagar', ' Hyderabad'],\n",
       " ['Adambakkam', ' Chennai'],\n",
       " ['Punjabi Bagh', ' Delhi'],\n",
       " ['Saket', ' Delhi'],\n",
       " ['Paschim Vihar', ' Delhi'],\n",
       " ['Mahalaxmi', ' Mumbai'],\n",
       " ['Kalina', ' Mumbai'],\n",
       " ['Attapur', ' Hyderabad'],\n",
       " ['Lakdikapul', ' Hyderabad'],\n",
       " ['Ambattur', ' Chennai'],\n",
       " ['Ramnagar', ' Coimbatore'],\n",
       " ['Shalimar Bagh', ' Delhi'],\n",
       " ['AS Rao Nagar', ' Hyderabad'],\n",
       " ['Nungambakkam', ' Chennai'],\n",
       " ['Miyapur', ' Hyderabad'],\n",
       " ['Sagarpur', ' Delhi'],\n",
       " ['Girgaon', ' Mumbai'],\n",
       " ['Jayanagar', ' Bangalore'],\n",
       " ['Palayam', ' Thiruvananthapuram'],\n",
       " ['Munirka', ' Delhi'],\n",
       " ['Tuglakabad', ' Delhi'],\n",
       " ['Porur', ' Chennai'],\n",
       " ['Moosarambagh', ' Hyderabad'],\n",
       " ['Dahisar West', ' Mumbai'],\n",
       " ['Anna Nagar East', ' Chennai'],\n",
       " ['Andheri West', ' Mumbai'],\n",
       " ['Bandra West', ' Mumbai'],\n",
       " ['Kanakpura Road', ' Bangalore'],\n",
       " ['Green Park', ' Delhi'],\n",
       " ['Maduravoyal', ' Chennai'],\n",
       " ['Dahisar East', ' Mumbai'],\n",
       " ['Moosapet', ' Hyderabad'],\n",
       " ['Yelahanka New Town', ' Bangalore'],\n",
       " ['Koramangala', ' Bangalore'],\n",
       " ['TV Medical College', ' Thiruvananthapuram'],\n",
       " ['Mogappair East', ' Chennai'],\n",
       " ['Kadavanthra', ' Ernakulam'],\n",
       " ['Greams Road', ' Chennai'],\n",
       " ['Bommanahalli', ' Bangalore'],\n",
       " ['T Nagar', ' Chennai'],\n",
       " ['Yelahanka', ' Bangalore'],\n",
       " ['Hazrat Nizamuddin', ' Delhi'],\n",
       " ['Old Rajendra Nagar', ' Delhi'],\n",
       " ['Dadar West', ' Mumbai'],\n",
       " ['Indiranagar', ' Bangalore'],\n",
       " ['Perumbakkam', ' Chennai'],\n",
       " ['Arekere', ' Bangalore'],\n",
       " ['Shaikpet', ' Hyderabad'],\n",
       " ['Vyttila', ' Ernakulam'],\n",
       " ['Khar West', ' Mumbai'],\n",
       " ['Kadavanthra', ' Ernakulam'],\n",
       " ['Goregaon West', ' Mumbai'],\n",
       " ['Bakkarwala', ' Delhi'],\n",
       " ['Nesapakkam', ' Chennai'],\n",
       " ['Malleswaram', ' Bangalore'],\n",
       " ['BTM Layout 2nd Stage', ' Bangalore'],\n",
       " ['Ashok Nagar', ' Chennai'],\n",
       " ['Chandivali', ' Mumbai'],\n",
       " ['Uttam Nagar', ' Delhi'],\n",
       " ['Gujranwala Town', ' Delhi'],\n",
       " ['Greater Kailash Part 1', ' Delhi'],\n",
       " ['Kodambakkam', ' Chennai'],\n",
       " ['Defence Colony', ' Delhi'],\n",
       " ['Panchsheel Park', ' Delhi'],\n",
       " ['Thoraipakkam', ' Chennai'],\n",
       " ['South Extension 2', ' Delhi'],\n",
       " ['Kandivali East', ' Mumbai'],\n",
       " ['Andheri West', ' Mumbai'],\n",
       " ['Malleswaram', ' Bangalore'],\n",
       " ['Indiranagar', ' Bangalore'],\n",
       " ['KPHB', ' Hyderabad'],\n",
       " ['Borivali West', ' Mumbai'],\n",
       " ['Pallikaranai', ' Chennai'],\n",
       " ['Jubilee Hills', ' Hyderabad'],\n",
       " ['Pitampura', ' Delhi'],\n",
       " ['Banashankari 3rd Stage', ' Bangalore'],\n",
       " ['Kolenchery', ' Ernakulam'],\n",
       " ['Kumaraswamy Layout', ' Bangalore'],\n",
       " ['Vadapalani', ' Chennai'],\n",
       " ['Manikonda', ' Hyderabad'],\n",
       " ['Gandhipuram', ' Coimbatore'],\n",
       " ['Yeshwanthpur', ' Bangalore'],\n",
       " ['Ayanavaram', ' Chennai'],\n",
       " ['Vyttila', ' Ernakulam'],\n",
       " ['Basaveshwaranagar', ' Bangalore'],\n",
       " ['Malad West', ' Mumbai'],\n",
       " ['Vikas Puri', ' Delhi'],\n",
       " ['T Nagar', ' Chennai'],\n",
       " ['HSR Layout', ' Bangalore'],\n",
       " ['Kondapur', ' Hyderabad'],\n",
       " ['Andheri East', ' Mumbai'],\n",
       " ['Sulur', ' Coimbatore'],\n",
       " ['Adyar', ' Chennai'],\n",
       " ['Indiranagar', ' Bangalore'],\n",
       " ['Krishna Nagar', ' Delhi'],\n",
       " ['Langer House', ' Hyderabad'],\n",
       " ['Thiruvanmiyur', ' Chennai'],\n",
       " ['Malleswaram', ' Bangalore'],\n",
       " ['Dwarka', ' Delhi'],\n",
       " ['Powai', ' Mumbai'],\n",
       " ['Bhandup West', ' Mumbai'],\n",
       " ['Janak Puri', ' Delhi'],\n",
       " ['Rajajinagar', ' Bangalore'],\n",
       " ['South Extension 1', ' Delhi'],\n",
       " ['Borivali West', ' Mumbai'],\n",
       " ['Kemps Corner', ' Mumbai'],\n",
       " ['Peelamedu', ' Coimbatore'],\n",
       " ['Kandivali West', ' Mumbai'],\n",
       " ['Thevara', ' Ernakulam'],\n",
       " ['Wilson Garden', ' Bangalore'],\n",
       " ['RT Nagar', ' Bangalore'],\n",
       " ['Wadala', ' Mumbai'],\n",
       " ['Pahar Ganj', ' Delhi'],\n",
       " ['Chanchalguda', ' Hyderabad'],\n",
       " ['Chikkadpally', ' Hyderabad'],\n",
       " ['Old Rajendra Nagar', ' Delhi'],\n",
       " ['Andheri East', ' Mumbai'],\n",
       " ['Pasur-avanashi', ' Coimbatore'],\n",
       " ['Kandivali West', ' Mumbai'],\n",
       " ['Nagarbhavi', ' Bangalore'],\n",
       " ['Old Rajendra Nagar', ' Delhi'],\n",
       " ['Lajpat Nagar', ' Delhi'],\n",
       " ['Mayur Vihar Ph-I', ' Delhi'],\n",
       " ['Manikonda', ' Hyderabad'],\n",
       " ['Indiranagar', ' Bangalore'],\n",
       " ['Kondapur', ' Hyderabad'],\n",
       " ['Dilshad Garden', ' Delhi'],\n",
       " ['Janak Puri', ' Delhi'],\n",
       " ['Porur', ' Chennai'],\n",
       " ['Pallikaranai', ' Chennai'],\n",
       " ['Whitefield', ' Bangalore'],\n",
       " ['Vijayanagar', ' Bangalore'],\n",
       " ['Arekere', ' Bangalore'],\n",
       " ['Whitefield', ' Bangalore'],\n",
       " ['Alwarpet', ' Chennai'],\n",
       " ['Pappanamcode', ' Thiruvananthapuram'],\n",
       " ['Aluva', ' Ernakulam'],\n",
       " ['Nariman Point', ' Mumbai'],\n",
       " ['Kilkattalai', ' Chennai'],\n",
       " ['Dilsukhnagar', ' Hyderabad'],\n",
       " ['Kurla West', ' Mumbai'],\n",
       " ['Begumpet', ' Hyderabad'],\n",
       " ['Kaloor', ' Ernakulam'],\n",
       " ['Ramnagar', ' Coimbatore'],\n",
       " ['Indiranagar', ' Bangalore'],\n",
       " ['Saket', ' Delhi'],\n",
       " ['Malad West', ' Mumbai'],\n",
       " ['Hitech City', ' Hyderabad'],\n",
       " ['Dilsukhnagar', ' Hyderabad'],\n",
       " ['Goregaon East', ' Mumbai'],\n",
       " ['Velandipalayam', ' Coimbatore'],\n",
       " ['Ghatkopar East', ' Mumbai'],\n",
       " ['Mulund West', ' Mumbai'],\n",
       " ['Yousufguda', ' Hyderabad'],\n",
       " ['Andheri West', ' Mumbai'],\n",
       " ['Jayanagar', ' Bangalore'],\n",
       " ['Ghatkopar West', ' Mumbai'],\n",
       " ['Wadala', ' Mumbai'],\n",
       " ['Janak Puri', ' Delhi'],\n",
       " ['TVM Beach', ' Thiruvananthapuram'],\n",
       " ['Vanagaram', ' Chennai'],\n",
       " ['Worli', ' Mumbai'],\n",
       " ['Koramangala 1 Block', ' Bangalore'],\n",
       " ['Kodambakkam', ' Chennai'],\n",
       " ['Mayur Vihar Ph-I', ' Delhi'],\n",
       " ['Saki Vihar Road', ' Mumbai'],\n",
       " ['Versova', ' Mumbai'],\n",
       " ['CV Raman Nagar', ' Bangalore'],\n",
       " ['Secunderabad', ' Hyderabad'],\n",
       " ['Shalimar Bagh', ' Delhi'],\n",
       " ['BTM Layout 1st Stage', ' Bangalore'],\n",
       " ['Jubilee Hills', ' Hyderabad'],\n",
       " ['Ramkoti', ' Hyderabad'],\n",
       " ['Saket', ' Delhi'],\n",
       " ['Borivali West', ' Mumbai'],\n",
       " ['MRC Nagar', ' Chennai'],\n",
       " ['Malkajgiri', ' Hyderabad'],\n",
       " ['Yelahanka New Town', ' Bangalore'],\n",
       " ['Malad West', ' Mumbai'],\n",
       " ['Gachibowli', ' Hyderabad'],\n",
       " ['Mogappair West', ' Chennai'],\n",
       " ['Mayur Vihar Ph-III', ' Delhi'],\n",
       " ['Kurla East', ' Mumbai'],\n",
       " ['Ashok Vihar', ' Delhi'],\n",
       " ['Mahim', ' Mumbai'],\n",
       " ['Whitefield', ' Bangalore'],\n",
       " ['Villivakkam', ' Chennai'],\n",
       " ['Srinagar Colony', ' Hyderabad'],\n",
       " ['Ghatkopar East', ' Mumbai'],\n",
       " ['Mahim', ' Mumbai'],\n",
       " ['Yeshwanthpur', ' Bangalore'],\n",
       " ['Pitampura', ' Delhi'],\n",
       " ['Chetpet', ' Chennai'],\n",
       " ['Kadavanthra', ' Ernakulam'],\n",
       " ['Bhandup West', ' Mumbai'],\n",
       " ['Gujranwala Town', ' Delhi'],\n",
       " ['Chromepet', ' Chennai'],\n",
       " ['Banjara Hills', ' Hyderabad'],\n",
       " ['Coimbatore Racecourse', ' Coimbatore'],\n",
       " ['Basheerbagh', ' Hyderabad'],\n",
       " ['Pammal', ' Chennai'],\n",
       " ['Anna Nagar East', ' Chennai'],\n",
       " ['Malleswaram', ' Bangalore'],\n",
       " ['Banashankari', ' Bangalore'],\n",
       " ['Banjara Hills', ' Hyderabad'],\n",
       " ['Malad West', ' Mumbai'],\n",
       " ['Velachery', ' Chennai'],\n",
       " ['Chanakyapuri', ' Delhi'],\n",
       " ['Kalyan Nagar', ' Bangalore'],\n",
       " ['Oshiwara', ' Mumbai'],\n",
       " ['Karapakkam', ' Chennai'],\n",
       " ['Borivali', ' Mumbai'],\n",
       " ['Alwarpet', ' Chennai'],\n",
       " ['Powai', ' Mumbai'],\n",
       " ['Attapur', ' Hyderabad'],\n",
       " ['Mylapore', ' Chennai'],\n",
       " ['Basaveshwaranagar', ' Bangalore'],\n",
       " ['Electronics City', ' Bangalore'],\n",
       " ['Malleswaram', ' Bangalore'],\n",
       " ['Perungudi', ' Chennai'],\n",
       " ['Madhapur', ' Hyderabad'],\n",
       " ['Basavanagudi', ' Bangalore'],\n",
       " ['Thoraipakkam', ' Chennai'],\n",
       " ['MG Road', ' Bangalore'],\n",
       " ['Thiruvottiyur', ' Chennai'],\n",
       " ['Adyar', ' Chennai'],\n",
       " ['Mulund West', ' Mumbai'],\n",
       " ['Greater Kailash Part 2', ' Delhi'],\n",
       " ['T Nagar', ' Chennai'],\n",
       " ['Kandivali West', ' Mumbai'],\n",
       " ['Kolenchery', ' Ernakulam'],\n",
       " ['Dwarka', ' Delhi'],\n",
       " ['Adyar', ' Chennai'],\n",
       " ['Janak Puri', ' Delhi'],\n",
       " ['Bilekahalli', ' Bangalore'],\n",
       " ['Kandivali West', ' Mumbai'],\n",
       " ['Nanganallur', ' Chennai'],\n",
       " ['Rohini', ' Delhi'],\n",
       " ['Dwarka', ' Delhi'],\n",
       " ['Jubilee Hills', ' Hyderabad'],\n",
       " ['Thrikkakara', ' Ernakulam'],\n",
       " ['Manapakkam', ' Chennai'],\n",
       " ['Bellandur', ' Bangalore'],\n",
       " ['Ameerpet', ' Hyderabad'],\n",
       " ['Thiruvallom', ' Thiruvananthapuram'],\n",
       " ['Powai', ' Mumbai'],\n",
       " ['Kukatpally', ' Hyderabad'],\n",
       " ['Secunderabad', ' Hyderabad'],\n",
       " ['R.S. Puram', ' Coimbatore'],\n",
       " ['Kumarapuram', ' Thiruvananthapuram'],\n",
       " ['Palam Colony', ' Delhi'],\n",
       " ['Manali', ' Chennai'],\n",
       " ['Valasaravakkam', ' Chennai'],\n",
       " ['Barkatpura', ' Hyderabad'],\n",
       " ['Singanallur', ' Coimbatore'],\n",
       " ['T Nagar', ' Chennai'],\n",
       " ['Mulund', ' Mumbai'],\n",
       " ['Dadar East', ' Mumbai'],\n",
       " ['Borabanda', ' Hyderabad'],\n",
       " ['Model Town 3', ' Delhi'],\n",
       " ['Goregaon West', ' Mumbai'],\n",
       " ['Ulsoor', ' Bangalore'],\n",
       " ['Bhayandar West', ' Mumbai'],\n",
       " ['Hari Nagar', ' Delhi'],\n",
       " ['Banashankari 3rd Stage', ' Bangalore'],\n",
       " ['KPHB', ' Hyderabad'],\n",
       " ['Horamavu', ' Bangalore'],\n",
       " ['Chromepet', ' Chennai'],\n",
       " ['Santacruz East', ' Mumbai'],\n",
       " ['OMR Road', ' Chennai'],\n",
       " ['Panchsheel Park', ' Delhi'],\n",
       " ['Kammana Halli', ' Bangalore'],\n",
       " ['Tilak Nagar', ' Delhi'],\n",
       " ['Panathur', ' Bangalore'],\n",
       " ['Rohini', ' Delhi'],\n",
       " ['Rajarajeshwarinagar', ' Bangalore'],\n",
       " ['Paravur', ' Ernakulam'],\n",
       " ['Preet Vihar', ' Delhi'],\n",
       " ['Gachibowli', ' Hyderabad'],\n",
       " ['Chembur East', ' Mumbai'],\n",
       " ['Malleswaram', ' Bangalore'],\n",
       " ['Jakkur', ' Bangalore'],\n",
       " ['Andheri West', ' Mumbai'],\n",
       " ['Vanasthalipuram', ' Hyderabad'],\n",
       " ['Mandaveli', ' Chennai'],\n",
       " ['Mulund West', ' Mumbai'],\n",
       " ['Kumara Park West', ' Bangalore'],\n",
       " ['Jubilee Hills', ' Hyderabad'],\n",
       " ['Dilshad Garden', ' Delhi'],\n",
       " ['Wadala', ' Mumbai'],\n",
       " ['Ghatkopar West', ' Mumbai'],\n",
       " ['Domlur', ' Bangalore'],\n",
       " ['Jeevanbhimanagar', ' Bangalore'],\n",
       " ['Defence Colony', ' Delhi'],\n",
       " ['KPHB', ' Hyderabad'],\n",
       " ['Pattom', ' Thiruvananthapuram'],\n",
       " ['Santacruz West', ' Mumbai'],\n",
       " ['RT Nagar', ' Bangalore'],\n",
       " ['AS Rao Nagar', ' Hyderabad'],\n",
       " ['Janak Puri', ' Delhi'],\n",
       " ['Shankar Vihar', ' Delhi'],\n",
       " ['Chembur', ' Mumbai'],\n",
       " ['Jogeshwari East', ' Mumbai'],\n",
       " ['Kasavanahalli', ' Bangalore'],\n",
       " ['Greams Road', ' Chennai'],\n",
       " ['Ambalamukku', ' Thiruvananthapuram'],\n",
       " ['Jhilmil Colony', ' Delhi'],\n",
       " ['Dwarka Sector 7', ' Delhi'],\n",
       " ['Tatabad', ' Coimbatore'],\n",
       " ['Adyar', ' Chennai'],\n",
       " ['Banashankari 3rd Stage', ' Bangalore'],\n",
       " ['Vadavalli', ' Coimbatore'],\n",
       " ['Marine Lines', ' Mumbai'],\n",
       " ['OMR Road', ' Chennai'],\n",
       " ['Pallikaranai', ' Chennai'],\n",
       " ['Chromepet', ' Chennai'],\n",
       " ['Kandivali East', ' Mumbai'],\n",
       " ['Ghatkopar East', ' Mumbai'],\n",
       " ['Tolichowki', ' Hyderabad'],\n",
       " ['Nungambakkam', ' Chennai'],\n",
       " ['Andheri West', ' Mumbai'],\n",
       " ['Mulund West', ' Mumbai'],\n",
       " ['Yousufguda', ' Hyderabad'],\n",
       " ['Singanallur', ' Coimbatore'],\n",
       " ['Mulund West', ' Mumbai'],\n",
       " ['Rohini', ' Delhi'],\n",
       " ['Sundarapuram', ' Coimbatore'],\n",
       " ['Tolichowki', ' Hyderabad'],\n",
       " ['Vanagaram', ' Chennai'],\n",
       " ['Kothanur', ' Bangalore'],\n",
       " ['Kukatpally', ' Hyderabad'],\n",
       " ['Chinmaya Nagar', ' Chennai'],\n",
       " ['T Nagar', ' Chennai'],\n",
       " ['Vasant Vihar', ' Delhi'],\n",
       " ['Mehdipatnam', ' Hyderabad'],\n",
       " ['Shaikpet', ' Hyderabad'],\n",
       " ['AS Rao Nagar', ' Hyderabad'],\n",
       " ['Kadugodi', ' Bangalore'],\n",
       " ['Pitampura', ' Delhi'],\n",
       " ['Malleswaram', ' Bangalore'],\n",
       " ['Dilshad Garden', ' Delhi'],\n",
       " ['Ganapathy', ' Coimbatore'],\n",
       " ['SR Nagar', ' Hyderabad'],\n",
       " ['Perambur', ' Chennai'],\n",
       " ['Opera House', ' Mumbai'],\n",
       " ['Adambakkam', ' Chennai'],\n",
       " ['Selvapuram', ' Coimbatore'],\n",
       " ['Karkardooma', ' Delhi'],\n",
       " ['Alwarthirunagar', ' Chennai'],\n",
       " ['Mahim', ' Mumbai'],\n",
       " ['Shalimar Bagh', ' Delhi'],\n",
       " ['Mulund West', ' Mumbai'],\n",
       " ['KR Puram', ' Bangalore'],\n",
       " ['Kalina', ' Mumbai'],\n",
       " ['Ramesh Nagar', ' Delhi'],\n",
       " ['Malakpet', ' Hyderabad'],\n",
       " ['Tondiarpet', ' Chennai'],\n",
       " ['Lajpat Nagar', ' Delhi'],\n",
       " ['Hari Nagar', ' Delhi'],\n",
       " ['Malad West', ' Mumbai'],\n",
       " ['Pitampura', ' Delhi'],\n",
       " ['Yeshwanthpur', ' Bangalore'],\n",
       " ['Vikrampuri Colony', ' Hyderabad'],\n",
       " ['Besant Nagar', ' Chennai'],\n",
       " ['Yelahanka', ' Bangalore'],\n",
       " ['Vasant Kunj', ' Delhi'],\n",
       " ['Banaswadi', ' Bangalore'],\n",
       " ['BTM Layout', ' Bangalore'],\n",
       " ['Medavakkam', ' Chennai'],\n",
       " ['Vileparle West', ' Mumbai'],\n",
       " ['Sahakaranagar', ' Bangalore'],\n",
       " ['Attapur', ' Hyderabad'],\n",
       " ['LB Nagar', ' Hyderabad'],\n",
       " ['Punjagutta', ' Hyderabad'],\n",
       " ['Yamuna Vihar', ' Delhi'],\n",
       " ['Shaikpet', ' Hyderabad'],\n",
       " ['Marathahalli', ' Bangalore'],\n",
       " ['JP Nagar 2 Phase', ' Bangalore'],\n",
       " ['Begumpet', ' Hyderabad'],\n",
       " ['Rani Bagh', ' Delhi'],\n",
       " ['Jayamahal', ' Bangalore'],\n",
       " ['Whitefield', ' Bangalore'],\n",
       " ['HSR Layout', ' Bangalore'],\n",
       " ['Kondapur', ' Hyderabad'],\n",
       " ['Nagpada', ' Mumbai'],\n",
       " ['Velachery', ' Chennai'],\n",
       " ['Vileparle West', ' Mumbai'],\n",
       " ['Kundalahalli', ' Bangalore'],\n",
       " ['Mayur Vihar Ph-I', ' Delhi'],\n",
       " ['Kailash Colony', ' Delhi'],\n",
       " ['Pandav Nagar', ' Delhi'],\n",
       " ['Yeshwanthpur', ' Bangalore'],\n",
       " ['Karkhana', ' Hyderabad'],\n",
       " ['Banashankari 3rd Stage', ' Bangalore'],\n",
       " ['West Mambalam', ' Chennai'],\n",
       " ['Aminjikarai', ' Chennai'],\n",
       " ['Jogeshwari East', ' Mumbai'],\n",
       " ['Andheri', ' Mumbai'],\n",
       " ['Arekere', ' Bangalore'],\n",
       " ['Madipakkam', ' Chennai'],\n",
       " ['Santacruz West', ' Mumbai'],\n",
       " ['Chetpet', ' Chennai'],\n",
       " ['Chetpet', ' Chennai'],\n",
       " ['Singanallur', ' Coimbatore'],\n",
       " ['Charkop', ' Mumbai'],\n",
       " ['Adarsh Nagar', ' Delhi'],\n",
       " ['Malleswaram', ' Bangalore'],\n",
       " ['Dadar', ' Mumbai'],\n",
       " ['Kaggadasapura', ' Bangalore'],\n",
       " ['Matunga', ' Mumbai'],\n",
       " ['Matunga', ' Mumbai'],\n",
       " ['Sun city', ' Hyderabad'],\n",
       " ['Dilshad Garden', ' Delhi'],\n",
       " ['Whitefield', ' Bangalore'],\n",
       " ['Basavanagudi', ' Bangalore'],\n",
       " ['Vikas Puri', ' Delhi'],\n",
       " ['Bellandur', ' Bangalore'],\n",
       " ['Dwarka', ' Delhi'],\n",
       " ['Mahadevapura', ' Bangalore'],\n",
       " ['Borivali West', ' Mumbai'],\n",
       " ['Karkhana', ' Hyderabad'],\n",
       " ['Begumpet', ' Hyderabad'],\n",
       " ['Adyar', ' Chennai'],\n",
       " ['Kalady', ' Ernakulam'],\n",
       " ['Anna Nagar West', ' Chennai'],\n",
       " ['Whitefield', ' Bangalore'],\n",
       " ['Mayur Vihar Ph-II', ' Delhi'],\n",
       " ['Anna Nagar West', ' Chennai'],\n",
       " ['Wadala', ' Mumbai'],\n",
       " ['Tis Hazari', ' Delhi'],\n",
       " ['Vennala', ' Ernakulam'],\n",
       " ['Ambattur', ' Chennai'],\n",
       " ['Mira Road', ' Mumbai'],\n",
       " ['Alwal', ' Hyderabad'],\n",
       " ['Peelamedu', ' Coimbatore'],\n",
       " ['Kanakpura Road', ' Bangalore'],\n",
       " ['Secunderabad', ' Hyderabad'],\n",
       " ['Trimulgherry', ' Hyderabad'],\n",
       " ['Himayat Nagar', ' Hyderabad'],\n",
       " ['Borivali West', ' Mumbai'],\n",
       " ['Chattarpur', ' Delhi'],\n",
       " ['Mayur Vihar Ph-I', ' Delhi'],\n",
       " ['Raja Annamalai Puram', ' Chennai'],\n",
       " ['Andheri West', ' Mumbai'],\n",
       " ['T Nagar', ' Chennai'],\n",
       " ['JP Nagar 7 Phase', ' Bangalore'],\n",
       " ['Malad West', ' Mumbai'],\n",
       " ['Old Bowenpally', ' Hyderabad'],\n",
       " ['Vikas Puri', ' Delhi'],\n",
       " ['Santosh Nagar', ' Hyderabad'],\n",
       " ['Hope College', ' Coimbatore'],\n",
       " ['Mulund East', ' Mumbai'],\n",
       " ['Mount Road', ' Chennai'],\n",
       " ['Ramesh Nagar', ' Delhi'],\n",
       " ['Patel Nagar West', ' Delhi'],\n",
       " ['Jayanagar 4 Block', ' Bangalore'],\n",
       " ['RT Nagar', ' Bangalore'],\n",
       " ['West Marredpally', ' Hyderabad'],\n",
       " ['Dilsukhnagar', ' Hyderabad'],\n",
       " ['Mandaveli', ' Chennai'],\n",
       " ['Whitefield', ' Bangalore'],\n",
       " ['Jagriti Enclave', ' Delhi'],\n",
       " ['Ghatkopar East', ' Mumbai'],\n",
       " ['Vikas Puri', ' Delhi'],\n",
       " ['Sarita Vihar', ' Delhi'],\n",
       " ['Rajendra Nagar', ' Hyderabad'],\n",
       " ['Thudiyalur', ' Coimbatore'],\n",
       " ['Bhayandar East', ' Mumbai'],\n",
       " ['Safdarjung Enclave', ' Delhi'],\n",
       " ['Thiruvottiyur', ' Chennai'],\n",
       " ['LB Nagar', ' Hyderabad'],\n",
       " ['Ghatkopar East', ' Mumbai'],\n",
       " ['Ambattur', ' Chennai'],\n",
       " ['Narayanguda', ' Hyderabad'],\n",
       " ['Kothapet', ' Hyderabad'],\n",
       " ['Karol Bagh', ' Delhi'],\n",
       " ['Banjara Hills', ' Hyderabad'],\n",
       " ['Borivali', ' Mumbai'],\n",
       " ['Hope College', ' Coimbatore'],\n",
       " ['Koramangala', ' Bangalore'],\n",
       " ['Arekere', ' Bangalore'],\n",
       " ['Nungambakkam', ' Chennai'],\n",
       " ['KK Nagar', ' Chennai'],\n",
       " ['Tripunithura', ' Ernakulam'],\n",
       " ['Borivali West', ' Mumbai'],\n",
       " ['HSR Layout', ' Bangalore'],\n",
       " ['R.S. Puram', ' Coimbatore'],\n",
       " ['Vanasthalipuram', ' Hyderabad'],\n",
       " ['Secunderabad', ' Hyderabad'],\n",
       " ['Jubilee Hills', ' Hyderabad'],\n",
       " ['Chandivali', ' Mumbai'],\n",
       " ['Model Town', ' Delhi'],\n",
       " ['Mulund West', ' Mumbai'],\n",
       " ['Kakkanad', ' Ernakulam'],\n",
       " ['Andheri East', ' Mumbai'],\n",
       " ['Suchitra Circle', ' Hyderabad'],\n",
       " ['Pusa Road', ' Delhi'],\n",
       " ['Vijaynagar Colony', ' Hyderabad'],\n",
       " ['Mayur Vihar Ph-I', ' Delhi'],\n",
       " ['Adyar', ' Chennai'],\n",
       " ['Alwarpet', ' Chennai'],\n",
       " ['Villivakkam', ' Chennai'],\n",
       " ['Chembur East', ' Mumbai'],\n",
       " ['BTM Layout', ' Bangalore'],\n",
       " ['Mayur Vihar Ph-I', ' Delhi'],\n",
       " ['Malad West', ' Mumbai'],\n",
       " ['Mayur Vihar Ph-I', ' Delhi'],\n",
       " ['Madhapur', ' Hyderabad'],\n",
       " ['Alandur', ' Chennai'],\n",
       " ['Cuffe Parade', ' Mumbai'],\n",
       " ['Pitampura', ' Delhi'],\n",
       " ['Kalkaji', ' Delhi'],\n",
       " ['Saibaba Colony', ' Coimbatore'],\n",
       " ['Kattakada', ' Thiruvananthapuram'],\n",
       " ['Basavanagudi', ' Bangalore'],\n",
       " ['Jogeshwari West', ' Mumbai'],\n",
       " ['Erragadda', ' Hyderabad'],\n",
       " ['Gachibowli', ' Hyderabad'],\n",
       " ['Velachery', ' Chennai'],\n",
       " ['Mahim', ' Mumbai'],\n",
       " ['Kundalahalli', ' Bangalore'],\n",
       " ['Patel Nagar West', ' Delhi'],\n",
       " ['Velachery', ' Chennai'],\n",
       " ['Tilak Nagar', ' Hyderabad'],\n",
       " ['Vijayanagar', ' Bangalore'],\n",
       " ['Tripunithura', ' Ernakulam'],\n",
       " ['Ghatkopar West', ' Mumbai'],\n",
       " ['Trimulgherry', ' Hyderabad'],\n",
       " ['Yeshwanthpur', ' Bangalore'],\n",
       " ['Kodambakkam', ' Chennai'],\n",
       " ['KPHB', ' Hyderabad'],\n",
       " ['Jayanagar', ' Bangalore'],\n",
       " ['Karol Bagh', ' Delhi'],\n",
       " ['Edapally', ' Ernakulam'],\n",
       " ['Kandivali West', ' Mumbai'],\n",
       " ['Domlur', ' Bangalore'],\n",
       " ['Patparganj', ' Delhi'],\n",
       " ['Sainikpuri', ' Hyderabad'],\n",
       " ['Srinagar Colony', ' Hyderabad'],\n",
       " ['Nanjundapuram', ' Coimbatore'],\n",
       " ['Nizampet', ' Hyderabad'],\n",
       " ['Kalkaji', ' Delhi'],\n",
       " ['Kolathur', ' Chennai'],\n",
       " ['Chamarajpet', ' Bangalore'],\n",
       " ['Bandra West', ' Mumbai'],\n",
       " ['Malad West', ' Mumbai'],\n",
       " ['Secunderabad', ' Hyderabad'],\n",
       " ['Mathikere - BEL', ' Bangalore'],\n",
       " ['Ashok Vihar', ' Delhi'],\n",
       " ['Hazrat Nizamuddin', ' Delhi'],\n",
       " ['Kala Ghoda', ' Mumbai'],\n",
       " ['Karol Bagh', ' Delhi'],\n",
       " ['Padmarao Nagar', ' Hyderabad'],\n",
       " ['Uppal', ' Hyderabad'],\n",
       " ['Guduvanchery', ' Chennai'],\n",
       " ['Thoraipakkam', ' Chennai'],\n",
       " ['Satya Niketan', ' Delhi'],\n",
       " ['Adyar', ' Chennai'],\n",
       " ['Chanda Nagar', ' Hyderabad'],\n",
       " ['Madipakkam', ' Chennai'],\n",
       " ['Sowripalayam', ' Coimbatore'],\n",
       " ['Vikhroli West', ' Mumbai'],\n",
       " ['Vasant Vihar', ' Delhi'],\n",
       " ['Gachibowli', ' Hyderabad'],\n",
       " ['Thoraipakkam', ' Chennai'],\n",
       " ['Jubilee Hills', ' Hyderabad'],\n",
       " ['Safdarjung Enclave', ' Delhi'],\n",
       " ['Rajouri Garden', ' Delhi'],\n",
       " ['Shalimar Bagh', ' Delhi'],\n",
       " ['AS Rao Nagar', ' Hyderabad'],\n",
       " ['Suchitra Circle', ' Hyderabad'],\n",
       " ['CR Park', ' Delhi'],\n",
       " ['Yousufguda', ' Hyderabad'],\n",
       " ['Shalimar Bagh', ' Delhi'],\n",
       " ['Punjagutta', ' Hyderabad'],\n",
       " ['Kondapur', ' Hyderabad'],\n",
       " ['Mathikere - BEL', ' Bangalore'],\n",
       " ['Alaknanda', ' Delhi'],\n",
       " ['Pallikaranai', ' Chennai'],\n",
       " ['Electronics City', ' Bangalore'],\n",
       " ['Shalimar Bagh', ' Delhi'],\n",
       " ['Andheri West', ' Mumbai'],\n",
       " ['Lajpat Nagar', ' Delhi'],\n",
       " ['Kolathur', ' Chennai'],\n",
       " ['R.S. Puram', ' Coimbatore'],\n",
       " ['Singanallur', ' Coimbatore'],\n",
       " ['Adyar', ' Chennai'],\n",
       " ['Millers Road', ' Bangalore'],\n",
       " ['Mehdipatnam', ' Hyderabad'],\n",
       " ['Velachery', ' Chennai'],\n",
       " ['Kandanchavadi', ' Chennai'],\n",
       " ['Dadar West', ' Mumbai'],\n",
       " ['Vasant Kunj', ' Delhi'],\n",
       " ['Vigyan Vihar', ' Delhi'],\n",
       " ['Thiruvanmiyur', ' Chennai'],\n",
       " ['Whitefield', ' Bangalore'],\n",
       " ['CV Raman Nagar', ' Bangalore'],\n",
       " ['Bandra East', ' Mumbai'],\n",
       " ['Moosapet', ' Hyderabad'],\n",
       " ['Saket', ' Delhi'],\n",
       " ['KPHB', ' Hyderabad'],\n",
       " ['Mahim', ' Mumbai'],\n",
       " ['Vilankurichi', ' Coimbatore'],\n",
       " ['Gujranwala Town', ' Delhi'],\n",
       " ['Malad East', ' Mumbai'],\n",
       " ['Marathahalli', ' Bangalore'],\n",
       " ['Bellandur', ' Bangalore'],\n",
       " ['Prabhadevi', ' Mumbai'],\n",
       " ['Ulloor', ' Thiruvananthapuram'],\n",
       " ['Rajakilpakkam', ' Chennai'],\n",
       " ['Yelahanka', ' Bangalore'],\n",
       " ['Greater Kailash', ' Delhi'],\n",
       " ['Whitefield', ' Bangalore'],\n",
       " ['Punjabi Bagh', ' Delhi'],\n",
       " ['Madinaguda', ' Hyderabad'],\n",
       " ['Peelamedu', ' Coimbatore'],\n",
       " ['Borivali East', ' Mumbai'],\n",
       " ['Kukatpally', ' Hyderabad'],\n",
       " ['Juhu', ' Mumbai'],\n",
       " ['Dwarka', ' Delhi'],\n",
       " ['Dwarka', ' Delhi'],\n",
       " ['Janak Puri', ' Delhi'],\n",
       " ['Mathikere - BEL', ' Bangalore'],\n",
       " ['Thiruvanmiyur', ' Chennai'],\n",
       " ['Mugalivakkam', ' Chennai'],\n",
       " ['Hebbal', ' Bangalore'],\n",
       " ['Kirti Nagar', ' Delhi'],\n",
       " ['Balaramapuram', ' Thiruvananthapuram'],\n",
       " ['Bhandup East', ' Mumbai'],\n",
       " ['Thiruvanmiyur', ' Chennai'],\n",
       " ['Chembur', ' Mumbai'],\n",
       " ['Vileparle East', ' Mumbai'],\n",
       " ['Chikkadpally', ' Hyderabad'],\n",
       " ['Oshiwara', ' Mumbai'],\n",
       " ['VV Puram', ' Bangalore'],\n",
       " ['Kilpauk', ' Chennai'],\n",
       " ['Bandra West', ' Mumbai'],\n",
       " ['Jacob Circle', ' Mumbai'],\n",
       " ['Dwarka', ' Delhi'],\n",
       " ['Panchsheel Park', ' Delhi'],\n",
       " ['Pallikaranai', ' Chennai'],\n",
       " ['Mahadevapura', ' Bangalore'],\n",
       " ['Andheri East', ' Mumbai'],\n",
       " ['Singasandra', ' Bangalore'],\n",
       " ['AS Rao Nagar', ' Hyderabad'],\n",
       " ['Khairatabad', ' Hyderabad'],\n",
       " ['Coimbatore Aerodrome', ' Coimbatore'],\n",
       " ['J.C Nagar', ' Bangalore'],\n",
       " ['West Marredpally', ' Hyderabad'],\n",
       " ['Vileparle West', ' Mumbai'],\n",
       " ['Vileparle West', ' Mumbai'],\n",
       " ['Secunderabad', ' Hyderabad'],\n",
       " ['Naraina Vihar', ' Delhi'],\n",
       " ['Virugambakkam', ' Chennai'],\n",
       " ['Pattom', ' Thiruvananthapuram'],\n",
       " ['Secunderabad', ' Hyderabad'],\n",
       " ['Tambaram West', ' Chennai'],\n",
       " ['Hebbal', ' Bangalore'],\n",
       " ['Janak Puri', ' Delhi'],\n",
       " ['Banashankari 3rd Stage', ' Bangalore'],\n",
       " ['RK Puram', ' Delhi'],\n",
       " ['Jayanagar 4 Block', ' Bangalore'],\n",
       " ['Banashankari 1st Stage', ' Bangalore'],\n",
       " ['Bhayandar East', ' Mumbai'],\n",
       " ['Santosh Nagar', ' Hyderabad'],\n",
       " ['Bandra West', ' Mumbai'],\n",
       " ['Lajpat Nagar 4', ' Delhi'],\n",
       " ['Kandivali West', ' Mumbai'],\n",
       " ['Paschim Vihar', ' Delhi'],\n",
       " ['Rohini', ' Delhi'],\n",
       " ['Mira Road', ' Mumbai'],\n",
       " ['Gachibowli', ' Hyderabad'],\n",
       " ['Koramangala', ' Bangalore'],\n",
       " ['Lajpat Nagar', ' Delhi'],\n",
       " ['Manapakkam', ' Chennai'],\n",
       " ['Powai', ' Mumbai'],\n",
       " ['Jayanagar 5 Block', ' Bangalore'],\n",
       " ['R.S. Puram', ' Coimbatore'],\n",
       " ['Pandav Nagar', ' Delhi'],\n",
       " ['Kalyanpuri', ' Hyderabad'],\n",
       " ['Powai', ' Mumbai'],\n",
       " ['Lajpat Nagar', ' Delhi'],\n",
       " ['Tambaram', ' Chennai'],\n",
       " ['Laxmi Nagar', ' Delhi'],\n",
       " ['Vikas Puri', ' Delhi'],\n",
       " ['LB Nagar', ' Hyderabad'],\n",
       " ['Pandav Nagar', ' Delhi'],\n",
       " ['Anand Vihar', ' Delhi'],\n",
       " ['Charni Road', ' Mumbai'],\n",
       " ['Mehdipatnam', ' Hyderabad'],\n",
       " ['Karol Bagh', ' Delhi'],\n",
       " ['Patel Nagar East', ' Delhi'],\n",
       " ['Jayanagar 9 Block', ' Bangalore'],\n",
       " ['Rohini', ' Delhi'],\n",
       " ['Ameerpet', ' Hyderabad'],\n",
       " ['Ecil', ' Hyderabad'],\n",
       " ['Malad West', ' Mumbai'],\n",
       " ['Safdarjung Enclave', ' Delhi'],\n",
       " ['Mahim', ' Mumbai'],\n",
       " ['Malad', ' Mumbai'],\n",
       " ['Greams Road', ' Chennai'],\n",
       " ['Ramamurthy Nagar', ' Bangalore'],\n",
       " ['Janak Puri', ' Delhi'],\n",
       " ['Kondapur', ' Hyderabad'],\n",
       " ['Kilpauk', ' Chennai'],\n",
       " ['Jayanagar', ' Bangalore'],\n",
       " ['Raj Nagar - 2', ' Delhi'],\n",
       " ['Shalimar Bagh', ' Delhi'],\n",
       " ['Chunabhatti', ' Mumbai'],\n",
       " ['Banashankari 3rd Stage', ' Bangalore'],\n",
       " ['IP Extension', ' Delhi'],\n",
       " ['Munirka', ' Delhi'],\n",
       " ['HSR Layout', ' Bangalore'],\n",
       " ['Vikhroli East', ' Mumbai'],\n",
       " ['Shakarpur', ' Delhi'],\n",
       " ['Mayur Vihar Ph-I', ' Delhi'],\n",
       " ['Goregaon East', ' Mumbai'],\n",
       " ['Purasawakkam', ' Chennai'],\n",
       " ['Dwarka', ' Delhi'],\n",
       " ['Purasawakkam', ' Chennai'],\n",
       " ['Rohini', ' Delhi'],\n",
       " ['Malleswaram', ' Bangalore'],\n",
       " ['Hebbal', ' Bangalore'],\n",
       " ['Trimulgherry', ' Hyderabad'],\n",
       " ['Ghatkopar East', ' Mumbai'],\n",
       " ['Suchitra Circle', ' Hyderabad'],\n",
       " ['BTM Layout', ' Bangalore'],\n",
       " ['Ayanavaram', ' Chennai'],\n",
       " ['Bellandur', ' Bangalore'],\n",
       " ['Jayanagar 4 Block', ' Bangalore'],\n",
       " ['Jayanagar 4 Block', ' Bangalore'],\n",
       " ['Mehdipatnam', ' Hyderabad'],\n",
       " ['Kilpauk', ' Chennai'],\n",
       " ['Kalyan Nagar', ' Bangalore'],\n",
       " ['Dilshad Garden', ' Delhi'],\n",
       " ['Ghatkopar East', ' Mumbai'],\n",
       " ['Chembur', ' Mumbai'],\n",
       " ['Bhandup East', ' Mumbai'],\n",
       " ['Attapur', ' Hyderabad'],\n",
       " ['Trimulgherry', ' Hyderabad'],\n",
       " ['Miyapur', ' Hyderabad'],\n",
       " ['Shahdara', ' Delhi'],\n",
       " ['Somajiguda', ' Hyderabad'],\n",
       " ['Marathahalli', ' Bangalore'],\n",
       " ['Kakkanad', ' Ernakulam'],\n",
       " ['Erragadda', ' Hyderabad'],\n",
       " ['Malleswaram', ' Bangalore'],\n",
       " ['Banjara Hills', ' Hyderabad'],\n",
       " ['Andheri West', ' Mumbai'],\n",
       " ['Govandi', ' Mumbai'],\n",
       " ['Mira Bhayandar', ' Mumbai'],\n",
       " ['Doddanekundi', ' Bangalore'],\n",
       " ['Kundalahalli', ' Bangalore'],\n",
       " ['Marathahalli', ' Bangalore'],\n",
       " ['Kalyan Nagar', ' Bangalore'],\n",
       " ['Madhu Vihar', ' Delhi'],\n",
       " ['Kandivali East', ' Mumbai'],\n",
       " ['Guindy', ' Chennai'],\n",
       " ['Palarivattom', ' Ernakulam'],\n",
       " ['Banjara Hills', ' Hyderabad'],\n",
       " ['Charminar', ' Hyderabad'],\n",
       " ['Jubilee Hills', ' Hyderabad'],\n",
       " ['Old Airport Road', ' Bangalore'],\n",
       " ['Gandhipuram', ' Coimbatore'],\n",
       " ['Porur', ' Chennai'],\n",
       " ['Kondapur', ' Hyderabad'],\n",
       " ['CR Park', ' Delhi'],\n",
       " ['Sarjapur Road', ' Bangalore'],\n",
       " ['Padmarao Nagar', ' Hyderabad'],\n",
       " ['Anand Vihar', ' Delhi'],\n",
       " ['Okhla', ' Delhi'],\n",
       " ['Vileparle West', ' Mumbai'],\n",
       " ['Whitefield', ' Bangalore'],\n",
       " ['Santacruz West', ' Mumbai'],\n",
       " ['Valasaravakkam', ' Chennai'],\n",
       " ['Baghlingampally', ' Hyderabad'],\n",
       " ['Shahdara', ' Delhi'],\n",
       " ['Dwarka', ' Delhi'],\n",
       " ['Trombay', ' Mumbai'],\n",
       " ['HRBR Layout', ' Bangalore'],\n",
       " ['KPHB', ' Hyderabad'],\n",
       " ['Fort', ' Mumbai'],\n",
       " ['Whitefield', ' Bangalore'],\n",
       " ['Shastri Nagar', ' Delhi'],\n",
       " ['T Nagar', ' Chennai'],\n",
       " ['Red Hills', ' Chennai'],\n",
       " ['New BEL Road', ' Bangalore'],\n",
       " ['Andheri West', ' Mumbai'],\n",
       " ['Banjara Hills', ' Hyderabad'],\n",
       " ['Park Town', ' Chennai'],\n",
       " ['Frazer Town', ' Bangalore'],\n",
       " ['Anand Vihar', ' Delhi'],\n",
       " ['CV Raman Nagar', ' Bangalore'],\n",
       " ['Ashok Vihar', ' Delhi'],\n",
       " ['Greater Kailash Part 2', ' Delhi'],\n",
       " ['Falaknuma', ' Hyderabad'],\n",
       " ['R.S. Puram', ' Coimbatore'],\n",
       " ['Velachery', ' Chennai'],\n",
       " ['South Extension 2', ' Delhi'],\n",
       " ['Saket', ' Delhi'],\n",
       " ['Dwarka', ' Delhi'],\n",
       " ['Rohini Sector 7', ' Delhi'],\n",
       " ['Vasant Kunj', ' Delhi'],\n",
       " ['Padmarao Nagar', ' Hyderabad'],\n",
       " ['East Of Kailash', ' Delhi'],\n",
       " ['Greater Kailash Part 1', ' Delhi'],\n",
       " ['Chintadripet', ' Chennai'],\n",
       " ['Laxmi Nagar', ' Delhi'],\n",
       " ['Kurla West', ' Mumbai'],\n",
       " ['Malleswaram', ' Bangalore'],\n",
       " ['Goregaon West', ' Mumbai'],\n",
       " ['Chromepet', ' Chennai'],\n",
       " ['Tagore Garden', ' Delhi'],\n",
       " ['HSR Layout', ' Bangalore'],\n",
       " ['Banashankari 1st Stage', ' Bangalore'],\n",
       " ['Gujranwala Town', ' Delhi'],\n",
       " ['Tri Nagar', ' Delhi'],\n",
       " ['Kandanchavadi', ' Chennai'],\n",
       " ['Mulund West', ' Mumbai'],\n",
       " ['Banashankari 3rd Stage', ' Bangalore'],\n",
       " ['Old Rajendra Nagar', ' Delhi'],\n",
       " ['Jayanagar 9 Block', ' Bangalore'],\n",
       " ['Dilshad Garden', ' Delhi'],\n",
       " ['Muttada', ' Thiruvananthapuram'],\n",
       " ['Ghatkopar West', ' Mumbai'],\n",
       " ['Begumpet', ' Hyderabad'],\n",
       " ['Somajiguda', ' Hyderabad'],\n",
       " ['Munnekollal', ' Bangalore'],\n",
       " ['Jubilee Hills', ' Hyderabad'],\n",
       " ['R.S. Puram', ' Coimbatore'],\n",
       " ['TV Museum', ' Thiruvananthapuram'],\n",
       " ['Anna Nagar West', ' Chennai'],\n",
       " ['Pollachi', ' Coimbatore'],\n",
       " ['Bandra West', ' Mumbai'],\n",
       " ['Nizampet', ' Hyderabad'],\n",
       " ['Paschim Vihar', ' Delhi'],\n",
       " ['Shivalik', ' Delhi'],\n",
       " ['Kandivali West', ' Mumbai'],\n",
       " ['Vileparle East', ' Mumbai'],\n",
       " ['Borivali East', ' Mumbai'],\n",
       " ['Neb Sarai', ' Delhi'],\n",
       " ['Janak Puri', ' Delhi'],\n",
       " ['Mahalakshmi Layout', ' Bangalore'],\n",
       " ['Pitampura', ' Delhi'],\n",
       " ['Madinaguda', ' Hyderabad'],\n",
       " ['Mankhurd', ' Mumbai'],\n",
       " ['Mulund West', ' Mumbai'],\n",
       " ['Arekere', ' Bangalore'],\n",
       " ['Sarita Vihar', ' Delhi'],\n",
       " ['Kamla Nagar', ' Delhi'],\n",
       " ['Saravanampatti', ' Coimbatore'],\n",
       " ['Borivali West', ' Mumbai'],\n",
       " ['Ramamurthy Nagar', ' Bangalore'],\n",
       " ['Jubilee Hills', ' Hyderabad'],\n",
       " ['Green Park', ' Delhi'],\n",
       " ['Kondapur', ' Hyderabad'],\n",
       " ['Selaiyur', ' Chennai'],\n",
       " ['Vadapalani', ' Chennai'],\n",
       " ['Saligramam', ' Chennai'],\n",
       " ['Bandra West', ' Mumbai'],\n",
       " ['Mayur Vihar Ph-III', ' Delhi'],\n",
       " ['Madipakkam', ' Chennai'],\n",
       " ['Dilsukhnagar', ' Hyderabad'],\n",
       " ['Thirumullaivoyal', ' Chennai'],\n",
       " ['Kalyan Nagar', ' Bangalore'],\n",
       " ['Whitefield', ' Bangalore'],\n",
       " ['Sarita Vihar', ' Delhi'],\n",
       " ['Teynampet', ' Chennai'],\n",
       " ['Ramamurthy Nagar', ' Bangalore'],\n",
       " ['Kochi', ' Ernakulam'],\n",
       " ['Ayanavaram', ' Chennai'],\n",
       " ['Saket', ' Delhi'],\n",
       " ['Vidyaranyapura', ' Bangalore'],\n",
       " ['Mogappair', ' Chennai'],\n",
       " ['Rajouri Garden', ' Delhi'],\n",
       " ['Jayanagar', ' Bangalore'],\n",
       " ['Chembur East', ' Mumbai'],\n",
       " ['Powai', ' Mumbai'],\n",
       " ['Jubilee Hills', ' Hyderabad'],\n",
       " ['Mazgaon', ' Mumbai'],\n",
       " ['Kukatpally', ' Hyderabad'],\n",
       " ['SR Nagar', ' Hyderabad'],\n",
       " ['Purasawakkam', ' Chennai'],\n",
       " ['Tatabad', ' Coimbatore'],\n",
       " ['Porur', ' Chennai'],\n",
       " ['Borivali West', ' Mumbai'],\n",
       " ['Malad West', ' Mumbai'],\n",
       " ['Panchsheel Park', ' Delhi'],\n",
       " ['Malleswaram', ' Bangalore'],\n",
       " ['HRBR Layout', ' Bangalore'],\n",
       " ['Ghatkopar West', ' Mumbai'],\n",
       " ['Chembur East', ' Mumbai'],\n",
       " ['Thoraipakkam', ' Chennai'],\n",
       " ['Velachery', ' Chennai'],\n",
       " ['Jhilmil Colony', ' Delhi'],\n",
       " ['Indiranagar', ' Bangalore'],\n",
       " ['Manikonda', ' Hyderabad'],\n",
       " ['Shivaji Nagar', ' Bangalore'],\n",
       " ['HSR Layout', ' Bangalore'],\n",
       " ['Mazgaon', ' Mumbai'],\n",
       " ['Medavakkam', ' Chennai'],\n",
       " ['Cuffe Parade', ' Mumbai'],\n",
       " ['Malad West', ' Mumbai'],\n",
       " ['Vikas Puri', ' Delhi'],\n",
       " ['Mulund West', ' Mumbai'],\n",
       " ['Versova', ' Mumbai'],\n",
       " ['Mehdipatnam', ' Hyderabad'],\n",
       " ['Malleswaram', ' Bangalore'],\n",
       " ['Kolenchery', ' Ernakulam'],\n",
       " ['Tolichowki', ' Hyderabad'],\n",
       " ['Paschim Vihar', ' Delhi'],\n",
       " ['Rajajinagar', ' Bangalore'],\n",
       " ['Mayur Vihar Ph-I', ' Delhi'],\n",
       " ['Jangpura', ' Delhi'],\n",
       " ['Thoraipakkam', ' Chennai'],\n",
       " ['Shalimar Bagh', ' Delhi'],\n",
       " ['Dadar', ' Mumbai'],\n",
       " ['Hazrat Nizamuddin', ' Delhi'],\n",
       " ['Ecil', ' Hyderabad'],\n",
       " ['Coimbatore Racecourse', ' Coimbatore'],\n",
       " ['Kemps Corner', ' Mumbai'],\n",
       " ['Koramangala', ' Bangalore'],\n",
       " ['Himayat Nagar', ' Hyderabad'],\n",
       " ['Kaudiar Square', ' Thiruvananthapuram'],\n",
       " ['Andheri East', ' Mumbai'],\n",
       " ['Rohini', ' Delhi'],\n",
       " ['Old Airport Road', ' Bangalore'],\n",
       " ['Arumbakkam', ' Chennai'],\n",
       " ['Borivali West', ' Mumbai'],\n",
       " ['Sarjapur Road', ' Bangalore'],\n",
       " ['Banjara Hills', ' Hyderabad'],\n",
       " ['Chamarajpet', ' Bangalore'],\n",
       " ['Versova', ' Mumbai'],\n",
       " ...]"
      ]
     },
     "execution_count": 119,
     "metadata": {},
     "output_type": "execute_result"
    }
   ],
   "source": [
    "Pa"
   ]
  },
  {
   "cell_type": "code",
   "execution_count": 120,
   "metadata": {},
   "outputs": [
    {
     "name": "stdout",
     "output_type": "stream",
     "text": [
      "3963\n"
     ]
    }
   ],
   "source": [
    "P = []\n",
    "for i in range(len(Pa)):\n",
    "    if len(Pa[i]) == 1:\n",
    "        print(i)\n",
    "\n"
   ]
  },
  {
   "cell_type": "code",
   "execution_count": 123,
   "metadata": {},
   "outputs": [
    {
     "data": {
      "text/html": [
       "<div>\n",
       "<style scoped>\n",
       "    .dataframe tbody tr th:only-of-type {\n",
       "        vertical-align: middle;\n",
       "    }\n",
       "\n",
       "    .dataframe tbody tr th {\n",
       "        vertical-align: top;\n",
       "    }\n",
       "\n",
       "    .dataframe thead th {\n",
       "        text-align: right;\n",
       "    }\n",
       "</style>\n",
       "<table border=\"1\" class=\"dataframe\">\n",
       "  <thead>\n",
       "    <tr style=\"text-align: right;\">\n",
       "      <th></th>\n",
       "      <th>Place</th>\n",
       "      <th>Profile</th>\n",
       "      <th>Fees</th>\n",
       "      <th>No_of_Qualifications</th>\n",
       "      <th>Exp</th>\n",
       "    </tr>\n",
       "  </thead>\n",
       "  <tbody>\n",
       "    <tr>\n",
       "      <th>3979</th>\n",
       "      <td>Kakkanad, Ernakulam</td>\n",
       "      <td>Dentist</td>\n",
       "      <td>100</td>\n",
       "      <td>1</td>\n",
       "      <td>28</td>\n",
       "    </tr>\n",
       "    <tr>\n",
       "      <th>3980</th>\n",
       "      <td>e</td>\n",
       "      <td>Dentist</td>\n",
       "      <td>250</td>\n",
       "      <td>1</td>\n",
       "      <td>23</td>\n",
       "    </tr>\n",
       "  </tbody>\n",
       "</table>\n",
       "</div>"
      ],
      "text/plain": [
       "                    Place  Profile  Fees  No_of_Qualifications  Exp\n",
       "3979  Kakkanad, Ernakulam  Dentist   100                     1   28\n",
       "3980                    e  Dentist   250                     1   23"
      ]
     },
     "execution_count": 123,
     "metadata": {},
     "output_type": "execute_result"
    }
   ],
   "source": [
    "copy.iloc[3962:3964,:]"
   ]
  },
  {
   "cell_type": "markdown",
   "metadata": {},
   "source": [
    "The row with index 3963 in copy has an incomplete place."
   ]
  },
  {
   "cell_type": "code",
   "execution_count": 125,
   "metadata": {},
   "outputs": [],
   "source": [
    "data1 = copy.drop(labels=[3980], axis=0)"
   ]
  },
  {
   "cell_type": "code",
   "execution_count": 126,
   "metadata": {},
   "outputs": [
    {
     "data": {
      "text/html": [
       "<div>\n",
       "<style scoped>\n",
       "    .dataframe tbody tr th:only-of-type {\n",
       "        vertical-align: middle;\n",
       "    }\n",
       "\n",
       "    .dataframe tbody tr th {\n",
       "        vertical-align: top;\n",
       "    }\n",
       "\n",
       "    .dataframe thead th {\n",
       "        text-align: right;\n",
       "    }\n",
       "</style>\n",
       "<table border=\"1\" class=\"dataframe\">\n",
       "  <thead>\n",
       "    <tr style=\"text-align: right;\">\n",
       "      <th></th>\n",
       "      <th>Place</th>\n",
       "      <th>Profile</th>\n",
       "      <th>Fees</th>\n",
       "      <th>No_of_Qualifications</th>\n",
       "      <th>Exp</th>\n",
       "    </tr>\n",
       "  </thead>\n",
       "  <tbody>\n",
       "    <tr>\n",
       "      <th>3979</th>\n",
       "      <td>Kakkanad, Ernakulam</td>\n",
       "      <td>Dentist</td>\n",
       "      <td>100</td>\n",
       "      <td>1</td>\n",
       "      <td>28</td>\n",
       "    </tr>\n",
       "    <tr>\n",
       "      <th>3981</th>\n",
       "      <td>Malad West, Mumbai</td>\n",
       "      <td>General Medicine</td>\n",
       "      <td>800</td>\n",
       "      <td>2</td>\n",
       "      <td>14</td>\n",
       "    </tr>\n",
       "  </tbody>\n",
       "</table>\n",
       "</div>"
      ],
      "text/plain": [
       "                    Place           Profile  Fees  No_of_Qualifications  Exp\n",
       "3979  Kakkanad, Ernakulam           Dentist   100                     1   28\n",
       "3981   Malad West, Mumbai  General Medicine   800                     2   14"
      ]
     },
     "execution_count": 126,
     "metadata": {},
     "output_type": "execute_result"
    }
   ],
   "source": [
    "data1.iloc[3962:3964,:]"
   ]
  },
  {
   "cell_type": "code",
   "execution_count": 129,
   "metadata": {},
   "outputs": [],
   "source": [
    "Pa =[]\n",
    "\n",
    "for i in data1.Place:\n",
    "    Pa.append(i.split(','))\n",
    "\n",
    "\n",
    "P = []\n",
    "for i in range(len(Pa)):\n",
    "    P.append(Pa[i][1])\n"
   ]
  },
  {
   "cell_type": "code",
   "execution_count": 130,
   "metadata": {},
   "outputs": [
    {
     "data": {
      "text/plain": [
       "5935"
      ]
     },
     "execution_count": 130,
     "metadata": {},
     "output_type": "execute_result"
    }
   ],
   "source": [
    "len(P)"
   ]
  },
  {
   "cell_type": "code",
   "execution_count": 131,
   "metadata": {},
   "outputs": [],
   "source": [
    "data1['P'] = P"
   ]
  },
  {
   "cell_type": "code",
   "execution_count": 133,
   "metadata": {},
   "outputs": [],
   "source": [
    "data1.drop(columns = ['Place'],inplace = True)"
   ]
  },
  {
   "cell_type": "code",
   "execution_count": 134,
   "metadata": {},
   "outputs": [
    {
     "data": {
      "text/html": [
       "<div>\n",
       "<style scoped>\n",
       "    .dataframe tbody tr th:only-of-type {\n",
       "        vertical-align: middle;\n",
       "    }\n",
       "\n",
       "    .dataframe tbody tr th {\n",
       "        vertical-align: top;\n",
       "    }\n",
       "\n",
       "    .dataframe thead th {\n",
       "        text-align: right;\n",
       "    }\n",
       "</style>\n",
       "<table border=\"1\" class=\"dataframe\">\n",
       "  <thead>\n",
       "    <tr style=\"text-align: right;\">\n",
       "      <th></th>\n",
       "      <th>Fees</th>\n",
       "      <th>No_of_Qualifications</th>\n",
       "      <th>Exp</th>\n",
       "    </tr>\n",
       "  </thead>\n",
       "  <tbody>\n",
       "    <tr>\n",
       "      <th>count</th>\n",
       "      <td>5935.000000</td>\n",
       "      <td>5935.000000</td>\n",
       "      <td>5935.000000</td>\n",
       "    </tr>\n",
       "    <tr>\n",
       "      <th>mean</th>\n",
       "      <td>308.821904</td>\n",
       "      <td>1.997810</td>\n",
       "      <td>17.372199</td>\n",
       "    </tr>\n",
       "    <tr>\n",
       "      <th>std</th>\n",
       "      <td>190.866108</td>\n",
       "      <td>0.964221</td>\n",
       "      <td>11.112205</td>\n",
       "    </tr>\n",
       "    <tr>\n",
       "      <th>min</th>\n",
       "      <td>5.000000</td>\n",
       "      <td>1.000000</td>\n",
       "      <td>0.000000</td>\n",
       "    </tr>\n",
       "    <tr>\n",
       "      <th>25%</th>\n",
       "      <td>150.000000</td>\n",
       "      <td>1.000000</td>\n",
       "      <td>9.000000</td>\n",
       "    </tr>\n",
       "    <tr>\n",
       "      <th>50%</th>\n",
       "      <td>300.000000</td>\n",
       "      <td>2.000000</td>\n",
       "      <td>15.000000</td>\n",
       "    </tr>\n",
       "    <tr>\n",
       "      <th>75%</th>\n",
       "      <td>500.000000</td>\n",
       "      <td>2.000000</td>\n",
       "      <td>23.000000</td>\n",
       "    </tr>\n",
       "    <tr>\n",
       "      <th>max</th>\n",
       "      <td>950.000000</td>\n",
       "      <td>10.000000</td>\n",
       "      <td>66.000000</td>\n",
       "    </tr>\n",
       "  </tbody>\n",
       "</table>\n",
       "</div>"
      ],
      "text/plain": [
       "              Fees  No_of_Qualifications          Exp\n",
       "count  5935.000000           5935.000000  5935.000000\n",
       "mean    308.821904              1.997810    17.372199\n",
       "std     190.866108              0.964221    11.112205\n",
       "min       5.000000              1.000000     0.000000\n",
       "25%     150.000000              1.000000     9.000000\n",
       "50%     300.000000              2.000000    15.000000\n",
       "75%     500.000000              2.000000    23.000000\n",
       "max     950.000000             10.000000    66.000000"
      ]
     },
     "execution_count": 134,
     "metadata": {},
     "output_type": "execute_result"
    }
   ],
   "source": [
    "data1.describe()"
   ]
  },
  {
   "cell_type": "code",
   "execution_count": 135,
   "metadata": {
    "scrolled": true
   },
   "outputs": [
    {
     "name": "stdout",
     "output_type": "stream",
     "text": [
      "<class 'pandas.core.frame.DataFrame'>\n",
      "Int64Index: 5935 entries, 0 to 5960\n",
      "Data columns (total 5 columns):\n",
      " #   Column                Non-Null Count  Dtype \n",
      "---  ------                --------------  ----- \n",
      " 0   Profile               5935 non-null   object\n",
      " 1   Fees                  5935 non-null   int64 \n",
      " 2   No_of_Qualifications  5935 non-null   int64 \n",
      " 3   Exp                   5935 non-null   int64 \n",
      " 4   P                     5935 non-null   object\n",
      "dtypes: int64(3), object(2)\n",
      "memory usage: 278.2+ KB\n"
     ]
    }
   ],
   "source": [
    "data1.info()"
   ]
  },
  {
   "cell_type": "code",
   "execution_count": 137,
   "metadata": {},
   "outputs": [
    {
     "data": {
      "text/plain": [
       "<AxesSubplot:xlabel='Profile', ylabel='Fees'>"
      ]
     },
     "execution_count": 137,
     "metadata": {},
     "output_type": "execute_result"
    },
    {
     "data": {
      "image/png": "[encoded data removed]",
      "text/plain": [
       "<Figure size 1440x720 with 1 Axes>"
      ]
     },
     "metadata": {
      "needs_background": "light"
     },
     "output_type": "display_data"
    }
   ],
   "source": [
    "plt.figure(figsize=(20,10))\n",
    "sns.barplot(x=data1.Profile, y=data1.Fees, hue = data1.No_of_Qualifications)G"
   ]
  },
  {
   "cell_type": "markdown",
   "metadata": {},
   "source": [
    "The max fees is for General Medicine Profile"
   ]
  },
  {
   "cell_type": "code",
   "execution_count": 145,
   "metadata": {},
   "outputs": [
    {
     "data": {
      "text/plain": [
       "<AxesSubplot:xlabel='Fees', ylabel='Exp'>"
      ]
     },
     "execution_count": 145,
     "metadata": {},
     "output_type": "execute_result"
    },
    {
     "data": {
      "image/png": "[encoded data removed]",
      "text/plain": [
       "<Figure size 1440x720 with 1 Axes>"
      ]
     },
     "metadata": {
      "needs_background": "light"
     },
     "output_type": "display_data"
    }
   ],
   "source": [
    "plt.figure(figsize=(20,10))\n",
    "sns.scatterplot(x=data1.Fees, y=data1.Exp)"
   ]
  },
  {
   "cell_type": "code",
   "execution_count": 144,
   "metadata": {},
   "outputs": [
    {
     "data": {
      "text/plain": [
       "66"
      ]
     },
     "execution_count": 144,
     "metadata": {},
     "output_type": "execute_result"
    }
   ],
   "source": [
    "df.Exp.max()"
   ]
  },
  {
   "cell_type": "markdown",
   "metadata": {},
   "source": [
    "Based on the scatter plot we can see that there isnt any correlation between fees and experience"
   ]
  },
  {
   "cell_type": "code",
   "execution_count": 146,
   "metadata": {},
   "outputs": [
    {
     "data": {
      "text/plain": [
       "<AxesSubplot:xlabel='Fees', ylabel='No_of_Qualifications'>"
      ]
     },
     "execution_count": 146,
     "metadata": {},
     "output_type": "execute_result"
    },
    {
     "data": {
      "image/png": "[encoded data removed]",
      "text/plain": [
       "<Figure size 1008x504 with 1 Axes>"
      ]
     },
     "metadata": {
      "needs_background": "light"
     },
     "output_type": "display_data"
    }
   ],
   "source": [
    "plt.figure(figsize=(14,7))\n",
    "sns.scatterplot(x=data1.Fees, y=data1.No_of_Qualifications)"
   ]
  },
  {
   "cell_type": "markdown",
   "metadata": {},
   "source": [
    "There isnt any correlation between no.of qualifications and fees\n"
   ]
  },
  {
   "cell_type": "code",
   "execution_count": 152,
   "metadata": {},
   "outputs": [
    {
     "data": {
      "text/plain": [
       "<AxesSubplot:xlabel='Profile', ylabel='Fees'>"
      ]
     },
     "execution_count": 152,
     "metadata": {},
     "output_type": "execute_result"
    },
    {
     "data": {
      "image/png": "[encoded data removed]",
      "text/plain": [
       "<Figure size 1008x504 with 1 Axes>"
      ]
     },
     "metadata": {
      "needs_background": "light"
     },
     "output_type": "display_data"
    }
   ],
   "source": [
    "plt.figure(figsize=(14,7))\n",
    "sns.scatterplot(x=data1.Profile, y=data1.Fees)"
   ]
  },
  {
   "cell_type": "code",
   "execution_count": 150,
   "metadata": {},
   "outputs": [
    {
     "data": {
      "text/plain": [
       "950"
      ]
     },
     "execution_count": 150,
     "metadata": {},
     "output_type": "execute_result"
    }
   ],
   "source": [
    "df.Fees.max()"
   ]
  },
  {
   "cell_type": "markdown",
   "metadata": {},
   "source": [
    "We havent seent any particular relation between fees and other variables"
   ]
  },
  {
   "cell_type": "markdown",
   "metadata": {},
   "source": [
    "Lets check for outliers"
   ]
  },
  {
   "cell_type": "code",
   "execution_count": 153,
   "metadata": {},
   "outputs": [
    {
     "name": "stderr",
     "output_type": "stream",
     "text": [
      "C:\\Users\\AKHIL\\anaconda3\\lib\\site-packages\\seaborn\\_decorators.py:36: FutureWarning: Pass the following variable as a keyword arg: x. From version 0.12, the only valid positional argument will be `data`, and passing other arguments without an explicit keyword will result in an error or misinterpretation.\n",
      "  warnings.warn(\n"
     ]
    },
    {
     "data": {
      "text/plain": [
       "<AxesSubplot:xlabel='Fees'>"
      ]
     },
     "execution_count": 153,
     "metadata": {},
     "output_type": "execute_result"
    },
    {
     "data": {
      "image/png": "[encoded data removed]",
      "text/plain": [
       "<Figure size 432x288 with 1 Axes>"
      ]
     },
     "metadata": {
      "needs_background": "light"
     },
     "output_type": "display_data"
    }
   ],
   "source": [
    "sns.boxplot(df['Fees'])"
   ]
  },
  {
   "cell_type": "code",
   "execution_count": 154,
   "metadata": {},
   "outputs": [
    {
     "name": "stderr",
     "output_type": "stream",
     "text": [
      "C:\\Users\\AKHIL\\anaconda3\\lib\\site-packages\\seaborn\\_decorators.py:36: FutureWarning: Pass the following variable as a keyword arg: x. From version 0.12, the only valid positional argument will be `data`, and passing other arguments without an explicit keyword will result in an error or misinterpretation.\n",
      "  warnings.warn(\n"
     ]
    },
    {
     "data": {
      "text/plain": [
       "<AxesSubplot:xlabel='No_of_Qualifications'>"
      ]
     },
     "execution_count": 154,
     "metadata": {},
     "output_type": "execute_result"
    },
    {
     "data": {
      "image/png": "[encoded data removed]",
      "text/plain": [
       "<Figure size 432x288 with 1 Axes>"
      ]
     },
     "metadata": {
      "needs_background": "light"
     },
     "output_type": "display_data"
    }
   ],
   "source": [
    "sns.boxplot(df['No_of_Qualifications'])"
   ]
  },
  {
   "cell_type": "code",
   "execution_count": 155,
   "metadata": {},
   "outputs": [
    {
     "name": "stderr",
     "output_type": "stream",
     "text": [
      "C:\\Users\\AKHIL\\anaconda3\\lib\\site-packages\\seaborn\\_decorators.py:36: FutureWarning: Pass the following variable as a keyword arg: x. From version 0.12, the only valid positional argument will be `data`, and passing other arguments without an explicit keyword will result in an error or misinterpretation.\n",
      "  warnings.warn(\n"
     ]
    },
    {
     "data": {
      "text/plain": [
       "<AxesSubplot:xlabel='Exp'>"
      ]
     },
     "execution_count": 155,
     "metadata": {},
     "output_type": "execute_result"
    },
    {
     "data": {
      "image/png": "[encoded data removed]",
      "text/plain": [
       "<Figure size 432x288 with 1 Axes>"
      ]
     },
     "metadata": {
      "needs_background": "light"
     },
     "output_type": "display_data"
    }
   ],
   "source": [
    "sns.boxplot(df['Exp'])"
   ]
  },
  {
   "cell_type": "markdown",
   "metadata": {},
   "source": [
    "Exp and No_of_qual has outliers, let us see if we can handle them using log transform for skewness"
   ]
  },
  {
   "cell_type": "code",
   "execution_count": 156,
   "metadata": {},
   "outputs": [
    {
     "data": {
      "text/plain": [
       "Fees                    0.747349\n",
       "No_of_Qualifications    1.431658\n",
       "Exp                     1.000495\n",
       "dtype: float64"
      ]
     },
     "execution_count": 156,
     "metadata": {},
     "output_type": "execute_result"
    }
   ],
   "source": [
    "data1.skew()"
   ]
  },
  {
   "cell_type": "code",
   "execution_count": 157,
   "metadata": {},
   "outputs": [
    {
     "name": "stderr",
     "output_type": "stream",
     "text": [
      "C:\\Users\\AKHIL\\anaconda3\\lib\\site-packages\\pandas\\core\\series.py:726: RuntimeWarning: divide by zero encountered in log\n",
      "  result = getattr(ufunc, method)(*inputs, **kwargs)\n"
     ]
    },
    {
     "data": {
      "text/plain": [
       "nan"
      ]
     },
     "execution_count": 157,
     "metadata": {},
     "output_type": "execute_result"
    }
   ],
   "source": [
    "np.log(data1.Exp).skew()"
   ]
  },
  {
   "cell_type": "markdown",
   "metadata": {},
   "source": [
    "Since, there are rows with 0 experience, we can use log transform for that"
   ]
  },
  {
   "cell_type": "code",
   "execution_count": 158,
   "metadata": {},
   "outputs": [
    {
     "data": {
      "text/plain": [
       "0.09048397559261455"
      ]
     },
     "execution_count": 158,
     "metadata": {},
     "output_type": "execute_result"
    }
   ],
   "source": [
    "np.log(data1.No_of_Qualifications).skew()"
   ]
  },
  {
   "cell_type": "markdown",
   "metadata": {},
   "source": [
    "Well, log transform handled the skewness of no.of.qualifications"
   ]
  },
  {
   "cell_type": "code",
   "execution_count": 159,
   "metadata": {},
   "outputs": [
    {
     "data": {
      "text/plain": [
       "0.154839250312455"
      ]
     },
     "execution_count": 159,
     "metadata": {},
     "output_type": "execute_result"
    }
   ],
   "source": [
    "np.sqrt(data1.Exp).skew()"
   ]
  },
  {
   "cell_type": "markdown",
   "metadata": {},
   "source": [
    "square root transformation handled the skewness of exp column"
   ]
  },
  {
   "cell_type": "code",
   "execution_count": 163,
   "metadata": {},
   "outputs": [],
   "source": [
    "data1['Q1'] = np.log(data1.No_of_Qualifications)"
   ]
  },
  {
   "cell_type": "code",
   "execution_count": 162,
   "metadata": {},
   "outputs": [],
   "source": [
    "data1['E'] = np.sqrt(data1.Exp)"
   ]
  },
  {
   "cell_type": "code",
   "execution_count": 164,
   "metadata": {},
   "outputs": [
    {
     "data": {
      "text/plain": [
       "(5935, 7)"
      ]
     },
     "execution_count": 164,
     "metadata": {},
     "output_type": "execute_result"
    }
   ],
   "source": [
    "data1.shape"
   ]
  },
  {
   "cell_type": "code",
   "execution_count": 165,
   "metadata": {},
   "outputs": [
    {
     "data": {
      "text/html": [
       "<div>\n",
       "<style scoped>\n",
       "    .dataframe tbody tr th:only-of-type {\n",
       "        vertical-align: middle;\n",
       "    }\n",
       "\n",
       "    .dataframe tbody tr th {\n",
       "        vertical-align: top;\n",
       "    }\n",
       "\n",
       "    .dataframe thead th {\n",
       "        text-align: right;\n",
       "    }\n",
       "</style>\n",
       "<table border=\"1\" class=\"dataframe\">\n",
       "  <thead>\n",
       "    <tr style=\"text-align: right;\">\n",
       "      <th></th>\n",
       "      <th>Profile</th>\n",
       "      <th>Fees</th>\n",
       "      <th>No_of_Qualifications</th>\n",
       "      <th>Exp</th>\n",
       "      <th>P</th>\n",
       "      <th>E</th>\n",
       "      <th>Q1</th>\n",
       "    </tr>\n",
       "  </thead>\n",
       "  <tbody>\n",
       "    <tr>\n",
       "      <th>0</th>\n",
       "      <td>Homeopath</td>\n",
       "      <td>100</td>\n",
       "      <td>2</td>\n",
       "      <td>24</td>\n",
       "      <td>Ernakulam</td>\n",
       "      <td>4.898979</td>\n",
       "      <td>0.693147</td>\n",
       "    </tr>\n",
       "    <tr>\n",
       "      <th>1</th>\n",
       "      <td>Ayurveda</td>\n",
       "      <td>350</td>\n",
       "      <td>2</td>\n",
       "      <td>12</td>\n",
       "      <td>Bangalore</td>\n",
       "      <td>3.464102</td>\n",
       "      <td>0.693147</td>\n",
       "    </tr>\n",
       "    <tr>\n",
       "      <th>2</th>\n",
       "      <td>ENT Specialist</td>\n",
       "      <td>300</td>\n",
       "      <td>2</td>\n",
       "      <td>9</td>\n",
       "      <td>Bangalore</td>\n",
       "      <td>3.000000</td>\n",
       "      <td>0.693147</td>\n",
       "    </tr>\n",
       "    <tr>\n",
       "      <th>3</th>\n",
       "      <td>Ayurveda</td>\n",
       "      <td>250</td>\n",
       "      <td>2</td>\n",
       "      <td>12</td>\n",
       "      <td>Bangalore</td>\n",
       "      <td>3.464102</td>\n",
       "      <td>0.693147</td>\n",
       "    </tr>\n",
       "    <tr>\n",
       "      <th>4</th>\n",
       "      <td>Ayurveda</td>\n",
       "      <td>250</td>\n",
       "      <td>1</td>\n",
       "      <td>20</td>\n",
       "      <td>Chennai</td>\n",
       "      <td>4.472136</td>\n",
       "      <td>0.000000</td>\n",
       "    </tr>\n",
       "  </tbody>\n",
       "</table>\n",
       "</div>"
      ],
      "text/plain": [
       "          Profile  Fees  No_of_Qualifications  Exp           P         E  \\\n",
       "0       Homeopath   100                     2   24   Ernakulam  4.898979   \n",
       "1        Ayurveda   350                     2   12   Bangalore  3.464102   \n",
       "2  ENT Specialist   300                     2    9   Bangalore  3.000000   \n",
       "3        Ayurveda   250                     2   12   Bangalore  3.464102   \n",
       "4        Ayurveda   250                     1   20     Chennai  4.472136   \n",
       "\n",
       "         Q1  \n",
       "0  0.693147  \n",
       "1  0.693147  \n",
       "2  0.693147  \n",
       "3  0.693147  \n",
       "4  0.000000  "
      ]
     },
     "execution_count": 165,
     "metadata": {},
     "output_type": "execute_result"
    }
   ],
   "source": [
    "data1.head()"
   ]
  },
  {
   "cell_type": "code",
   "execution_count": 166,
   "metadata": {},
   "outputs": [],
   "source": [
    "data1.drop(columns = ['No_of_Qualifications','Exp'],inplace=True)"
   ]
  },
  {
   "cell_type": "code",
   "execution_count": 170,
   "metadata": {},
   "outputs": [],
   "source": [
    "dp = pd.get_dummies(data1['Profile'])"
   ]
  },
  {
   "cell_type": "code",
   "execution_count": 171,
   "metadata": {},
   "outputs": [],
   "source": [
    "dpl = pd.get_dummies(data1['P'])"
   ]
  },
  {
   "cell_type": "code",
   "execution_count": 173,
   "metadata": {},
   "outputs": [],
   "source": [
    "data2 = pd.concat([data1,dp,dpl],axis=1)"
   ]
  },
  {
   "cell_type": "code",
   "execution_count": 174,
   "metadata": {},
   "outputs": [
    {
     "data": {
      "text/plain": [
       "(5935, 20)"
      ]
     },
     "execution_count": 174,
     "metadata": {},
     "output_type": "execute_result"
    }
   ],
   "source": [
    "data2.shape"
   ]
  },
  {
   "cell_type": "code",
   "execution_count": 175,
   "metadata": {},
   "outputs": [],
   "source": [
    "data2.drop(columns=['Profile','P'],inplace=True)"
   ]
  },
  {
   "cell_type": "code",
   "execution_count": 176,
   "metadata": {},
   "outputs": [
    {
     "data": {
      "text/html": [
       "<div>\n",
       "<style scoped>\n",
       "    .dataframe tbody tr th:only-of-type {\n",
       "        vertical-align: middle;\n",
       "    }\n",
       "\n",
       "    .dataframe tbody tr th {\n",
       "        vertical-align: top;\n",
       "    }\n",
       "\n",
       "    .dataframe thead th {\n",
       "        text-align: right;\n",
       "    }\n",
       "</style>\n",
       "<table border=\"1\" class=\"dataframe\">\n",
       "  <thead>\n",
       "    <tr style=\"text-align: right;\">\n",
       "      <th></th>\n",
       "      <th>Fees</th>\n",
       "      <th>E</th>\n",
       "      <th>Q1</th>\n",
       "      <th>Ayurveda</th>\n",
       "      <th>Dentist</th>\n",
       "      <th>Dermatologists</th>\n",
       "      <th>ENT Specialist</th>\n",
       "      <th>General Medicine</th>\n",
       "      <th>Homeopath</th>\n",
       "      <th>Bangalore</th>\n",
       "      <th>Chennai</th>\n",
       "      <th>Coimbatore</th>\n",
       "      <th>Delhi</th>\n",
       "      <th>Ernakulam</th>\n",
       "      <th>Hyderabad</th>\n",
       "      <th>Mumbai</th>\n",
       "      <th>Sector 5</th>\n",
       "      <th>Thiruvananthapuram</th>\n",
       "    </tr>\n",
       "  </thead>\n",
       "  <tbody>\n",
       "    <tr>\n",
       "      <th>0</th>\n",
       "      <td>100</td>\n",
       "      <td>4.898979</td>\n",
       "      <td>0.693147</td>\n",
       "      <td>0</td>\n",
       "      <td>0</td>\n",
       "      <td>0</td>\n",
       "      <td>0</td>\n",
       "      <td>0</td>\n",
       "      <td>1</td>\n",
       "      <td>0</td>\n",
       "      <td>0</td>\n",
       "      <td>0</td>\n",
       "      <td>0</td>\n",
       "      <td>1</td>\n",
       "      <td>0</td>\n",
       "      <td>0</td>\n",
       "      <td>0</td>\n",
       "      <td>0</td>\n",
       "    </tr>\n",
       "    <tr>\n",
       "      <th>1</th>\n",
       "      <td>350</td>\n",
       "      <td>3.464102</td>\n",
       "      <td>0.693147</td>\n",
       "      <td>1</td>\n",
       "      <td>0</td>\n",
       "      <td>0</td>\n",
       "      <td>0</td>\n",
       "      <td>0</td>\n",
       "      <td>0</td>\n",
       "      <td>1</td>\n",
       "      <td>0</td>\n",
       "      <td>0</td>\n",
       "      <td>0</td>\n",
       "      <td>0</td>\n",
       "      <td>0</td>\n",
       "      <td>0</td>\n",
       "      <td>0</td>\n",
       "      <td>0</td>\n",
       "    </tr>\n",
       "    <tr>\n",
       "      <th>2</th>\n",
       "      <td>300</td>\n",
       "      <td>3.000000</td>\n",
       "      <td>0.693147</td>\n",
       "      <td>0</td>\n",
       "      <td>0</td>\n",
       "      <td>0</td>\n",
       "      <td>1</td>\n",
       "      <td>0</td>\n",
       "      <td>0</td>\n",
       "      <td>1</td>\n",
       "      <td>0</td>\n",
       "      <td>0</td>\n",
       "      <td>0</td>\n",
       "      <td>0</td>\n",
       "      <td>0</td>\n",
       "      <td>0</td>\n",
       "      <td>0</td>\n",
       "      <td>0</td>\n",
       "    </tr>\n",
       "    <tr>\n",
       "      <th>3</th>\n",
       "      <td>250</td>\n",
       "      <td>3.464102</td>\n",
       "      <td>0.693147</td>\n",
       "      <td>1</td>\n",
       "      <td>0</td>\n",
       "      <td>0</td>\n",
       "      <td>0</td>\n",
       "      <td>0</td>\n",
       "      <td>0</td>\n",
       "      <td>1</td>\n",
       "      <td>0</td>\n",
       "      <td>0</td>\n",
       "      <td>0</td>\n",
       "      <td>0</td>\n",
       "      <td>0</td>\n",
       "      <td>0</td>\n",
       "      <td>0</td>\n",
       "      <td>0</td>\n",
       "    </tr>\n",
       "    <tr>\n",
       "      <th>4</th>\n",
       "      <td>250</td>\n",
       "      <td>4.472136</td>\n",
       "      <td>0.000000</td>\n",
       "      <td>1</td>\n",
       "      <td>0</td>\n",
       "      <td>0</td>\n",
       "      <td>0</td>\n",
       "      <td>0</td>\n",
       "      <td>0</td>\n",
       "      <td>0</td>\n",
       "      <td>1</td>\n",
       "      <td>0</td>\n",
       "      <td>0</td>\n",
       "      <td>0</td>\n",
       "      <td>0</td>\n",
       "      <td>0</td>\n",
       "      <td>0</td>\n",
       "      <td>0</td>\n",
       "    </tr>\n",
       "  </tbody>\n",
       "</table>\n",
       "</div>"
      ],
      "text/plain": [
       "   Fees         E        Q1  Ayurveda  Dentist  Dermatologists  \\\n",
       "0   100  4.898979  0.693147         0        0               0   \n",
       "1   350  3.464102  0.693147         1        0               0   \n",
       "2   300  3.000000  0.693147         0        0               0   \n",
       "3   250  3.464102  0.693147         1        0               0   \n",
       "4   250  4.472136  0.000000         1        0               0   \n",
       "\n",
       "   ENT Specialist  General Medicine  Homeopath   Bangalore   Chennai  \\\n",
       "0               0                 0          1           0         0   \n",
       "1               0                 0          0           1         0   \n",
       "2               1                 0          0           1         0   \n",
       "3               0                 0          0           1         0   \n",
       "4               0                 0          0           0         1   \n",
       "\n",
       "    Coimbatore   Delhi   Ernakulam   Hyderabad   Mumbai   Sector 5  \\\n",
       "0            0       0           1           0        0          0   \n",
       "1            0       0           0           0        0          0   \n",
       "2            0       0           0           0        0          0   \n",
       "3            0       0           0           0        0          0   \n",
       "4            0       0           0           0        0          0   \n",
       "\n",
       "    Thiruvananthapuram  \n",
       "0                    0  \n",
       "1                    0  \n",
       "2                    0  \n",
       "3                    0  \n",
       "4                    0  "
      ]
     },
     "execution_count": 176,
     "metadata": {},
     "output_type": "execute_result"
    }
   ],
   "source": [
    "data2.head()"
   ]
  },
  {
   "cell_type": "code",
   "execution_count": 177,
   "metadata": {},
   "outputs": [],
   "source": [
    "from sklearn.preprocessing import StandardScaler"
   ]
  },
  {
   "cell_type": "code",
   "execution_count": 178,
   "metadata": {},
   "outputs": [],
   "source": [
    "scaler = StandardScaler()"
   ]
  },
  {
   "cell_type": "code",
   "execution_count": 179,
   "metadata": {},
   "outputs": [],
   "source": [
    "X = data2.drop(columns=['Fees'])\n",
    "Y = data2.Fees"
   ]
  },
  {
   "cell_type": "code",
   "execution_count": 181,
   "metadata": {},
   "outputs": [],
   "source": [
    "scaledX = scaler.fit_transform(X)"
   ]
  },
  {
   "cell_type": "code",
   "execution_count": 183,
   "metadata": {},
   "outputs": [],
   "source": [
    "from sklearn.model_selection import train_test_split\n",
    "\n",
    "xtrain,xtest,ytrain,ytest = train_test_split(scaledX,Y,test_size=0.3,random_state=33)"
   ]
  },
  {
   "cell_type": "code",
   "execution_count": 184,
   "metadata": {},
   "outputs": [],
   "source": [
    "from sklearn.linear_model import LinearRegression"
   ]
  },
  {
   "cell_type": "code",
   "execution_count": 185,
   "metadata": {},
   "outputs": [
    {
     "data": {
      "text/plain": [
       "LinearRegression()"
      ]
     },
     "execution_count": 185,
     "metadata": {},
     "output_type": "execute_result"
    }
   ],
   "source": [
    "lr = LinearRegression()\n",
    "lr.fit(xtrain,ytrain)"
   ]
  },
  {
   "cell_type": "code",
   "execution_count": 187,
   "metadata": {},
   "outputs": [],
   "source": [
    "predlr = lr.predict(xtest)"
   ]
  },
  {
   "cell_type": "code",
   "execution_count": 188,
   "metadata": {},
   "outputs": [],
   "source": [
    "from sklearn.metrics import r2_score, mean_absolute_error"
   ]
  },
  {
   "cell_type": "code",
   "execution_count": 189,
   "metadata": {},
   "outputs": [
    {
     "data": {
      "text/plain": [
       "0.16616465085665466"
      ]
     },
     "execution_count": 189,
     "metadata": {},
     "output_type": "execute_result"
    }
   ],
   "source": [
    "r2_score(ytest,predlr)"
   ]
  },
  {
   "cell_type": "markdown",
   "metadata": {},
   "source": [
    "The model is working very bad. It may be underfitted."
   ]
  },
  {
   "cell_type": "code",
   "execution_count": 190,
   "metadata": {},
   "outputs": [],
   "source": [
    "from sklearn.ensemble import RandomForestRegressor"
   ]
  },
  {
   "cell_type": "code",
   "execution_count": 193,
   "metadata": {},
   "outputs": [
    {
     "name": "stdout",
     "output_type": "stream",
     "text": [
      "-0.021846268236767052\n"
     ]
    }
   ],
   "source": [
    "rfr = RandomForestRegressor()\n",
    "rfr.fit(xtrain,ytrain)\n",
    "\n",
    "predrf = rfr.predict(xtest)\n",
    "\n",
    "print(r2_score(ytest,predrf))"
   ]
  },
  {
   "cell_type": "markdown",
   "metadata": {},
   "source": [
    "The model is working very poor and the reason could be the poor correlation between dependent and independent variable."
   ]
  },
  {
   "cell_type": "markdown",
   "metadata": {},
   "source": [
    "lets check with cross val score"
   ]
  },
  {
   "cell_type": "code",
   "execution_count": 194,
   "metadata": {},
   "outputs": [
    {
     "data": {
      "text/plain": [
       "-3.520446596051208e+25"
      ]
     },
     "execution_count": 194,
     "metadata": {},
     "output_type": "execute_result"
    }
   ],
   "source": [
    "from sklearn.model_selection import cross_val_score\n",
    "\n",
    "cross_val_score(lr,xtrain,ytrain,cv=5,scoring='r2').mean()"
   ]
  },
  {
   "cell_type": "code",
   "execution_count": 195,
   "metadata": {},
   "outputs": [
    {
     "data": {
      "text/plain": [
       "-0.01794366022636835"
      ]
     },
     "execution_count": 195,
     "metadata": {},
     "output_type": "execute_result"
    }
   ],
   "source": [
    "cross_val_score(rfr,xtrain,ytrain,cv=5,scoring='r2').mean()"
   ]
  },
  {
   "cell_type": "markdown",
   "metadata": {},
   "source": [
    "Lets check with regularizing the model"
   ]
  },
  {
   "cell_type": "code",
   "execution_count": 196,
   "metadata": {},
   "outputs": [],
   "source": [
    "from sklearn.linear_model import Ridge"
   ]
  },
  {
   "cell_type": "code",
   "execution_count": 197,
   "metadata": {},
   "outputs": [
    {
     "name": "stdout",
     "output_type": "stream",
     "text": [
      "0.16670566863812575\n"
     ]
    }
   ],
   "source": [
    "# test with alpha 1\n",
    "\n",
    "ridge=Ridge(alpha=1).fit(xtrain,ytrain)\n",
    "\n",
    "predr = ridge.predict(xtest)\n",
    "\n",
    "print(r2_score(ytest,predr))"
   ]
  },
  {
   "cell_type": "code",
   "execution_count": 198,
   "metadata": {},
   "outputs": [],
   "source": [
    "from sklearn.model_selection import GridSearchCV"
   ]
  },
  {
   "cell_type": "code",
   "execution_count": 200,
   "metadata": {},
   "outputs": [
    {
     "name": "stdout",
     "output_type": "stream",
     "text": [
      "0.16693403607706636\n"
     ]
    },
    {
     "data": {
      "text/plain": [
       "{'alpha': 100}"
      ]
     },
     "execution_count": 200,
     "metadata": {},
     "output_type": "execute_result"
    }
   ],
   "source": [
    "alpha = [0.001, 0.01, 0.1, 1, 10, 100, 1000]\n",
    "param_grid = dict(alpha=alpha)\n",
    "\n",
    "GCV = GridSearchCV(ridge,param_grid = param_grid, cv=5)\n",
    "\n",
    "GCV.fit(xtrain,ytrain)\n",
    "\n",
    "print(r2_score(ytest,GCV.predict(xtest)))\n",
    "\n",
    "GCV.best_params_"
   ]
  },
  {
   "cell_type": "code",
   "execution_count": 202,
   "metadata": {},
   "outputs": [
    {
     "name": "stdout",
     "output_type": "stream",
     "text": [
      "0.16750403742648612\n"
     ]
    }
   ],
   "source": [
    "from sklearn.linear_model import Lasso\n",
    "\n",
    "lasso=Lasso(alpha=1).fit(xtrain,ytrain)\n",
    "\n",
    "predl = lasso.predict(xtest)\n",
    "\n",
    "print(r2_score(ytest,predl))"
   ]
  },
  {
   "cell_type": "markdown",
   "metadata": {},
   "source": [
    "we see a very minute increase in the accuracy score"
   ]
  },
  {
   "cell_type": "code",
   "execution_count": 203,
   "metadata": {},
   "outputs": [
    {
     "name": "stderr",
     "output_type": "stream",
     "text": [
      "C:\\Users\\AKHIL\\anaconda3\\lib\\site-packages\\sklearn\\linear_model\\_coordinate_descent.py:530: ConvergenceWarning: Objective did not converge. You might want to increase the number of iterations. Duality gap: 4218149.016013309, tolerance: 12087.120768883537\n",
      "  model = cd_fast.enet_coordinate_descent(\n",
      "C:\\Users\\AKHIL\\anaconda3\\lib\\site-packages\\sklearn\\linear_model\\_coordinate_descent.py:530: ConvergenceWarning: Objective did not converge. You might want to increase the number of iterations. Duality gap: 4251506.124344856, tolerance: 12346.488252542886\n",
      "  model = cd_fast.enet_coordinate_descent(\n",
      "C:\\Users\\AKHIL\\anaconda3\\lib\\site-packages\\sklearn\\linear_model\\_coordinate_descent.py:530: ConvergenceWarning: Objective did not converge. You might want to increase the number of iterations. Duality gap: 4116796.1642261297, tolerance: 12173.527775865192\n",
      "  model = cd_fast.enet_coordinate_descent(\n",
      "C:\\Users\\AKHIL\\anaconda3\\lib\\site-packages\\sklearn\\linear_model\\_coordinate_descent.py:530: ConvergenceWarning: Objective did not converge. You might want to increase the number of iterations. Duality gap: 4159200.3913229853, tolerance: 12165.730666626541\n",
      "  model = cd_fast.enet_coordinate_descent(\n",
      "C:\\Users\\AKHIL\\anaconda3\\lib\\site-packages\\sklearn\\linear_model\\_coordinate_descent.py:530: ConvergenceWarning: Objective did not converge. You might want to increase the number of iterations. Duality gap: 4153153.640080899, tolerance: 12382.006914681111\n",
      "  model = cd_fast.enet_coordinate_descent(\n",
      "C:\\Users\\AKHIL\\anaconda3\\lib\\site-packages\\sklearn\\linear_model\\_coordinate_descent.py:530: ConvergenceWarning: Objective did not converge. You might want to increase the number of iterations. Duality gap: 25942.446119189262, tolerance: 12087.120768883537\n",
      "  model = cd_fast.enet_coordinate_descent(\n",
      "C:\\Users\\AKHIL\\anaconda3\\lib\\site-packages\\sklearn\\linear_model\\_coordinate_descent.py:530: ConvergenceWarning: Objective did not converge. You might want to increase the number of iterations. Duality gap: 137154.13963213563, tolerance: 12346.488252542886\n",
      "  model = cd_fast.enet_coordinate_descent(\n",
      "C:\\Users\\AKHIL\\anaconda3\\lib\\site-packages\\sklearn\\linear_model\\_coordinate_descent.py:530: ConvergenceWarning: Objective did not converge. You might want to increase the number of iterations. Duality gap: 27581.57874724269, tolerance: 12173.527775865192\n",
      "  model = cd_fast.enet_coordinate_descent(\n",
      "C:\\Users\\AKHIL\\anaconda3\\lib\\site-packages\\sklearn\\linear_model\\_coordinate_descent.py:530: ConvergenceWarning: Objective did not converge. You might want to increase the number of iterations. Duality gap: 26732.661826491356, tolerance: 12165.730666626541\n",
      "  model = cd_fast.enet_coordinate_descent(\n",
      "C:\\Users\\AKHIL\\anaconda3\\lib\\site-packages\\sklearn\\linear_model\\_coordinate_descent.py:530: ConvergenceWarning: Objective did not converge. You might want to increase the number of iterations. Duality gap: 133479.47170101106, tolerance: 12382.006914681111\n",
      "  model = cd_fast.enet_coordinate_descent(\n",
      "C:\\Users\\AKHIL\\anaconda3\\lib\\site-packages\\sklearn\\linear_model\\_coordinate_descent.py:530: ConvergenceWarning: Objective did not converge. You might want to increase the number of iterations. Duality gap: 12906.105498984456, tolerance: 12346.488252542886\n",
      "  model = cd_fast.enet_coordinate_descent(\n"
     ]
    },
    {
     "name": "stdout",
     "output_type": "stream",
     "text": [
      "0.16681572833813396\n"
     ]
    },
    {
     "name": "stderr",
     "output_type": "stream",
     "text": [
      "C:\\Users\\AKHIL\\anaconda3\\lib\\site-packages\\sklearn\\linear_model\\_coordinate_descent.py:530: ConvergenceWarning: Objective did not converge. You might want to increase the number of iterations. Duality gap: 28142.931143552065, tolerance: 12165.730666626541\n",
      "  model = cd_fast.enet_coordinate_descent(\n",
      "C:\\Users\\AKHIL\\anaconda3\\lib\\site-packages\\sklearn\\linear_model\\_coordinate_descent.py:530: ConvergenceWarning: Objective did not converge. You might want to increase the number of iterations. Duality gap: 30324.310590609908, tolerance: 12382.006914681111\n",
      "  model = cd_fast.enet_coordinate_descent(\n",
      "C:\\Users\\AKHIL\\anaconda3\\lib\\site-packages\\sklearn\\linear_model\\_coordinate_descent.py:530: ConvergenceWarning: Objective did not converge. You might want to increase the number of iterations. Duality gap: 36005.075169578195, tolerance: 15289.475109990371\n",
      "  model = cd_fast.enet_coordinate_descent(\n"
     ]
    },
    {
     "data": {
      "text/plain": [
       "{'alpha': 0.1}"
      ]
     },
     "execution_count": 203,
     "metadata": {},
     "output_type": "execute_result"
    }
   ],
   "source": [
    "alpha = [0.001, 0.01, 0.1, 1, 10, 100, 1000]\n",
    "param_grid = dict(alpha=alpha)\n",
    "\n",
    "GCV = GridSearchCV(lasso,param_grid = param_grid, cv=5)\n",
    "\n",
    "GCV.fit(xtrain,ytrain)\n",
    "\n",
    "print(r2_score(ytest,GCV.predict(xtest)))\n",
    "\n",
    "GCV.best_params_"
   ]
  },
  {
   "cell_type": "markdown",
   "metadata": {},
   "source": [
    "The model is predicting bad as it has fewer independent variables and they are all not correlated"
   ]
  },
  {
   "cell_type": "markdown",
   "metadata": {},
   "source": [
    "Since, we have a test data set, lets train with all the 5935 rows and predict the values of test data set"
   ]
  },
  {
   "cell_type": "code",
   "execution_count": 245,
   "metadata": {},
   "outputs": [],
   "source": [
    "df1 = pd.read_excel(r\"C:\\Users\\AKHIL\\Downloads\\Doctor_fee_consultation\\Final Participant Data Folder\\Final_test.xlsx\")"
   ]
  },
  {
   "cell_type": "code",
   "execution_count": 246,
   "metadata": {},
   "outputs": [
    {
     "data": {
      "text/html": [
       "<div>\n",
       "<style scoped>\n",
       "    .dataframe tbody tr th:only-of-type {\n",
       "        vertical-align: middle;\n",
       "    }\n",
       "\n",
       "    .dataframe tbody tr th {\n",
       "        vertical-align: top;\n",
       "    }\n",
       "\n",
       "    .dataframe thead th {\n",
       "        text-align: right;\n",
       "    }\n",
       "</style>\n",
       "<table border=\"1\" class=\"dataframe\">\n",
       "  <thead>\n",
       "    <tr style=\"text-align: right;\">\n",
       "      <th></th>\n",
       "      <th>Qualification</th>\n",
       "      <th>Experience</th>\n",
       "      <th>Rating</th>\n",
       "      <th>Place</th>\n",
       "      <th>Profile</th>\n",
       "      <th>Miscellaneous_Info</th>\n",
       "    </tr>\n",
       "  </thead>\n",
       "  <tbody>\n",
       "    <tr>\n",
       "      <th>0</th>\n",
       "      <td>MBBS</td>\n",
       "      <td>35 years experience</td>\n",
       "      <td>NaN</td>\n",
       "      <td>Ghatkopar East, Mumbai</td>\n",
       "      <td>General Medicine</td>\n",
       "      <td>NaN</td>\n",
       "    </tr>\n",
       "    <tr>\n",
       "      <th>1</th>\n",
       "      <td>MBBS, Diploma in Otorhinolaryngology (DLO)</td>\n",
       "      <td>31 years experience</td>\n",
       "      <td>NaN</td>\n",
       "      <td>West Marredpally, Hyderabad</td>\n",
       "      <td>ENT Specialist</td>\n",
       "      <td>NaN</td>\n",
       "    </tr>\n",
       "    <tr>\n",
       "      <th>2</th>\n",
       "      <td>MBBS, DDVL</td>\n",
       "      <td>40 years experience</td>\n",
       "      <td>70%</td>\n",
       "      <td>KK Nagar, Chennai</td>\n",
       "      <td>Dermatologists</td>\n",
       "      <td>70% 4 Feedback KK Nagar, Chennai</td>\n",
       "    </tr>\n",
       "    <tr>\n",
       "      <th>3</th>\n",
       "      <td>BAMS</td>\n",
       "      <td>0 years experience</td>\n",
       "      <td>NaN</td>\n",
       "      <td>New Ashok Nagar, Delhi</td>\n",
       "      <td>Ayurveda</td>\n",
       "      <td>NaN</td>\n",
       "    </tr>\n",
       "    <tr>\n",
       "      <th>4</th>\n",
       "      <td>BDS, MDS - Conservative Dentistry &amp; Endodontics</td>\n",
       "      <td>16 years experience</td>\n",
       "      <td>100%</td>\n",
       "      <td>Kanakpura Road, Bangalore</td>\n",
       "      <td>Dentist</td>\n",
       "      <td>General Dentistry Conservative Dentistry Cosme...</td>\n",
       "    </tr>\n",
       "  </tbody>\n",
       "</table>\n",
       "</div>"
      ],
      "text/plain": [
       "                                     Qualification           Experience  \\\n",
       "0                                             MBBS  35 years experience   \n",
       "1       MBBS, Diploma in Otorhinolaryngology (DLO)  31 years experience   \n",
       "2                                       MBBS, DDVL  40 years experience   \n",
       "3                                             BAMS   0 years experience   \n",
       "4  BDS, MDS - Conservative Dentistry & Endodontics  16 years experience   \n",
       "\n",
       "  Rating                        Place           Profile  \\\n",
       "0    NaN       Ghatkopar East, Mumbai  General Medicine   \n",
       "1    NaN  West Marredpally, Hyderabad    ENT Specialist   \n",
       "2    70%            KK Nagar, Chennai    Dermatologists   \n",
       "3    NaN       New Ashok Nagar, Delhi          Ayurveda   \n",
       "4   100%    Kanakpura Road, Bangalore           Dentist   \n",
       "\n",
       "                                  Miscellaneous_Info  \n",
       "0                                                NaN  \n",
       "1                                                NaN  \n",
       "2                   70% 4 Feedback KK Nagar, Chennai  \n",
       "3                                                NaN  \n",
       "4  General Dentistry Conservative Dentistry Cosme...  "
      ]
     },
     "execution_count": 246,
     "metadata": {},
     "output_type": "execute_result"
    }
   ],
   "source": [
    "df1.head()"
   ]
  },
  {
   "cell_type": "markdown",
   "metadata": {},
   "source": [
    "Just as before we need to encode the data before testing"
   ]
  },
  {
   "cell_type": "code",
   "execution_count": 247,
   "metadata": {},
   "outputs": [],
   "source": [
    "E =[]\n",
    "for i in df1['Experience']:\n",
    "    E.append(i.replace(' years experience',''))"
   ]
  },
  {
   "cell_type": "code",
   "execution_count": 248,
   "metadata": {},
   "outputs": [],
   "source": [
    "df1['E'] = E"
   ]
  },
  {
   "cell_type": "code",
   "execution_count": 249,
   "metadata": {},
   "outputs": [
    {
     "data": {
      "text/plain": [
       "1987"
      ]
     },
     "execution_count": 249,
     "metadata": {},
     "output_type": "execute_result"
    }
   ],
   "source": [
    "len(df1['E'])"
   ]
  },
  {
   "cell_type": "code",
   "execution_count": 250,
   "metadata": {},
   "outputs": [],
   "source": [
    "df1.drop(columns=['Rating','Miscellaneous_Info'],inplace = True)"
   ]
  },
  {
   "cell_type": "code",
   "execution_count": 251,
   "metadata": {},
   "outputs": [],
   "source": [
    "Q = []\n",
    "\n",
    "for i in df1.Qualification:\n",
    "    Q.append(i.split(','))"
   ]
  },
  {
   "cell_type": "code",
   "execution_count": 252,
   "metadata": {},
   "outputs": [
    {
     "data": {
      "text/plain": [
       "[['MBBS'],\n",
       " ['MBBS', ' Diploma in Otorhinolaryngology (DLO)'],\n",
       " ['MBBS', ' DDVL'],\n",
       " ['BAMS'],\n",
       " ['BDS', ' MDS - Conservative Dentistry & Endodontics'],\n",
       " ['BDS', ' MDS'],\n",
       " ['MBBS', ' Diploma in Otorhinolaryngology (DLO)'],\n",
       " ['BDS', ' MDS - Pedodontics'],\n",
       " ['MD - Ayurveda Medicine',\n",
       "  ' BAMS',\n",
       "  ' Yoga Teachers Training Course',\n",
       "  ' M. D. IN KAYACHIKISTA'],\n",
       " ['BHMS'],\n",
       " ['BDS'],\n",
       " ['MBBS', ' FCD - Diabetology'],\n",
       " ['MBBS', ' DDV'],\n",
       " ['MBBS', ' MD - Dermatology'],\n",
       " ['MS - ENT'],\n",
       " ['BDS'],\n",
       " ['MBBS', ' MD - Dermatology'],\n",
       " ['MBBS',\n",
       "  ' Diploma in Otorhinolaryngology (DLO)',\n",
       "  ' MS - ENT',\n",
       "  ' DNB - ENT',\n",
       "  ' MNAMS (Membership of the National Academy)'],\n",
       " ['BDS', ' MDS - Conservative Dentistry & Endodontics'],\n",
       " ['MBBS', ' MD - Dermatology'],\n",
       " ['BHMS',\n",
       "  ' Diploma in Naturopathy & Yogic Science (DNYS)',\n",
       "  ' Diploma in Diet and Nutrition',\n",
       "  ' Diploma in Cosmetology'],\n",
       " ['BDS'],\n",
       " ['MBBS', ' MD - Dermatology'],\n",
       " ['MBBS', ' PG Diploma In Clinical Cosmetology (PGDCC)'],\n",
       " ['MBBS'],\n",
       " ['MBBS', ' Diploma in Otorhinolaryngology (DLO)'],\n",
       " ['BDS', ' MDS - Periodontics'],\n",
       " ['BDS', ' MDS- Oral Pathology'],\n",
       " ['MBBS', ' MD - General Medicine'],\n",
       " ['MS - ENT', ' MBBS'],\n",
       " ['BDS'],\n",
       " ['BAMS'],\n",
       " ['MBBS', ' Diploma in Otorhinolaryngology (DLO)', ' DNB - ENT'],\n",
       " ['MBBS', ' MS - ENT', ' DNB - Otorhinolaryngology'],\n",
       " ['MBBS', ' DDVL'],\n",
       " ['BDS', ' PhD - Endodontics', ' MDS - Conservative Dentistry & Endodontics'],\n",
       " ['BHMS'],\n",
       " ['BSc', ' LCEH'],\n",
       " ['BHMS'],\n",
       " ['BAMS'],\n",
       " ['BAMS'],\n",
       " ['BAMS', ' MD - Ayurveda Medicine'],\n",
       " ['BAMS'],\n",
       " ['MBBS', ' DGO', ' MD - Obstetrics & Gynaecology'],\n",
       " ['BHMS', ' MD - Homeopathy'],\n",
       " ['BHMS', ' DM - Oncology'],\n",
       " ['MBBS', ' DNB - Dermatology', ' Venereology & Leprosy', ' DVD'],\n",
       " ['MBBS', ' MS - Otorhinolaryngology'],\n",
       " ['Fellowship in Aesthetic Medicine', ' MD - Dermatology'],\n",
       " ['BHMS'],\n",
       " ['BDS', ' Fellowship in Oral implantlogy'],\n",
       " ['MBBS', ' MD - Dermatology', ' Fellowship in Aesthetic Medicine'],\n",
       " ['MBBS'],\n",
       " ['MBBS', ' MS - Ophthalmology'],\n",
       " ['MDS - Conservative Dentistry & Endodontics', ' BDS'],\n",
       " ['BDS', ' Fellowship in Oral implantlogy'],\n",
       " ['BHMS'],\n",
       " ['MBBS',\n",
       "  ' MS - Otorhinolaryngology',\n",
       "  ' Diploma in Otorhinolaryngology (DLO)'],\n",
       " ['BAMS', ' PGCR'],\n",
       " ['MBBS', ' Diploma in Otorhinolaryngology (DLO)'],\n",
       " ['BHMS'],\n",
       " ['MBBS'],\n",
       " ['BAMS'],\n",
       " ['BHMS',\n",
       "  ' MS - Counselling and Psychotherapy',\n",
       "  ' Certificate Course in Advanced Homoeopathy (C.C.A.H)'],\n",
       " ['BAMS'],\n",
       " ['MBBS', ' MS - ENT', ' Diploma in Otorhinolaryngology (DLO)'],\n",
       " ['MBBS',\n",
       "  ' FRCS - Otolaryngology',\n",
       "  ' Diploma in Otorhinolaryngology (DLO)',\n",
       "  ' Diploma in Acupuncture'],\n",
       " ['MBBS', ' MD - Medicine', ' DM - Cardiology'],\n",
       " ['BDS',\n",
       "  ' Post-Graduate Certificate in Oral Implantology (PGCOI)',\n",
       "  ' MDS - Periodontology and Oral Implantology'],\n",
       " ['LCEH'],\n",
       " ['MBBS'],\n",
       " ['MBBS', ' MS - ENT'],\n",
       " ['MBBS', ' MD - Medicine'],\n",
       " ['MBBS', ' MS - ENT'],\n",
       " ['DM - Nephrology', ' MD - Internal Medicine', ' MBBS'],\n",
       " ['BAMS', ' MD - Ayurveda Medicine'],\n",
       " ['MBBS', ' DDVL', ' FRGUHS'],\n",
       " ['MBBS'],\n",
       " ['MBBS'],\n",
       " ['MBBS', ' MS - ENT'],\n",
       " ['MBBS'],\n",
       " ['MBBS', ' Diploma in Otorhinolaryngology (DLO)', ' FRCS - General Surgery'],\n",
       " ['MBBS', ' MD - General Medicine'],\n",
       " ['BDS'],\n",
       " ['BHMS'],\n",
       " ['BDS',\n",
       "  ' MDS - Oral & Maxillofacial Surgery',\n",
       "  ' Fellowship in Cleft Lip & Palate',\n",
       "  ' Fellowship in TMJ Surgery'],\n",
       " ['MBBS'],\n",
       " ['MBBS', ' DNB - Otorhinolaryngology'],\n",
       " ['BAMS'],\n",
       " ['Post Graduate Diploma in Diabetology (PGDD)(Madras Medical College)',\n",
       "  ' MBBS'],\n",
       " ['Certificate in Dental Implants',\n",
       "  ' MDS - Oral Medicine and Radiology',\n",
       "  ' Certification in Aesthetic Dentistry',\n",
       "  ' Certification in Full Mouth Rehabilitation',\n",
       "  ' BDS'],\n",
       " ['MBBS', ' MS - ENT'],\n",
       " ['BDS', ' MDS - Orthodontics and Dentofacial Orthopaedics'],\n",
       " ['MBBS', ' MD - Internal Medicine'],\n",
       " ['BHMS'],\n",
       " ['MDS - Conservative Dentistry & Endodontics', ' BDS'],\n",
       " ['MBBS',\n",
       "  ' MD - General Medicine',\n",
       "  ' DNB - General Medicine',\n",
       "  ' Fellowship in Diabetology',\n",
       "  ' DAA - Diploma in Allergy Asthma and Immunology',\n",
       "  ' Certificate in Pulmonology'],\n",
       " ['BHMS'],\n",
       " ['MD - Tuberculosis & Respiratory Diseases/Medicine', ' MBBS'],\n",
       " ['MBBS', ' DDV', ' MD - Dermatology', ' Fellowship In Cosmetic Dermatology'],\n",
       " ['B.Sc', ' MBBS', ' FCCP - Pulmonary Medicine'],\n",
       " ['BDS'],\n",
       " ['MBBS', ' MS - ENT'],\n",
       " ['MBBS', ' MS - General Surgery'],\n",
       " ['MBBS'],\n",
       " ['BDS', ' MDS - Conservative Dentistry & Endodontics'],\n",
       " ['MBBS', ' MS - ENT'],\n",
       " ['MBBS',\n",
       "  ' MRCOG(UK)',\n",
       "  ' Diploma of the Faculty of Family Planning (DFFP)',\n",
       "  ' DRCOG',\n",
       "  ' Member of the Royal College of General Practitioners UK (MRCGP)',\n",
       "  ' Fellowship in Diabetes (UK)'],\n",
       " ['BDS', ' MDS - Paedodontics And Preventive Dentistry'],\n",
       " ['BHMS', ' MS - Psychology'],\n",
       " ['BDS'],\n",
       " ['BAMS'],\n",
       " ['BDS'],\n",
       " ['BDS'],\n",
       " ['MD - General Medicine'],\n",
       " ['BDS'],\n",
       " ['BDS', ' Fellow of Academy of General Education (FAGE)'],\n",
       " ['MD - Skin & VD'],\n",
       " ['BDS'],\n",
       " ['MBBS', ' MD - Dermatology ', ' Venereology & Leprosy'],\n",
       " ['BDS', ' MDS - Periodontology and Oral Implantology'],\n",
       " ['BAMS'],\n",
       " ['MBBS', ' DNB'],\n",
       " ['MDS - Orthodontics', ' BDS'],\n",
       " ['MBBS', ' MS - ENT'],\n",
       " ['BHMS', ' Diploma in Dermatology'],\n",
       " ['BHMS'],\n",
       " ['MBBS',\n",
       "  ' MD - Pulmonary Medicine',\n",
       "  ' MD - Tuberculosis & Respiratory Diseases / Pulmonary Medicine'],\n",
       " ['MBBS'],\n",
       " ['MBBS', ' MD - General Medicine'],\n",
       " ['MDS - Prosthodontist And Crown Bridge', ' BDS'],\n",
       " ['MBBS', ' Diploma in Orthopaedics'],\n",
       " ['BDS', ' MDS - Orthodontics and Dentofacial Orthopaedics'],\n",
       " ['MBBS', ' DNB - ENT', ' Diploma in Otorhinolaryngology (DLO)'],\n",
       " ['BDS', ' MDS - Prosthodontics'],\n",
       " ['MD - Dermatology',\n",
       "  ' MBBS',\n",
       "  ' DNB - Dermatology',\n",
       "  ' Venereology & Leprosy',\n",
       "  ' FRGUHS'],\n",
       " ['MBBS', ' MS - Ophthalmology'],\n",
       " ['MDS - Oral & Maxillofacial Surgery', ' BDS'],\n",
       " ['MBBS', ' MD - Dermatology', ' DDV'],\n",
       " ['MBBS'],\n",
       " ['MBBS', ' Diploma in Aesthetic Medicine', ' DDV'],\n",
       " ['MBBS', ' MD - Dermatology ', ' Venereology & Leprosy'],\n",
       " ['MBBS',\n",
       "  ' Diploma in Tuberculosis and Chest Diseases (DTCD)',\n",
       "  ' DNB -Chest',\n",
       "  ' Post Graduate Diploma in Diabetes'],\n",
       " ['MBBS', ' MD - General Medicine'],\n",
       " ['BDS', ' MDS'],\n",
       " ['BDS', ' MDS - Conservative Dentistry & Endodontics'],\n",
       " ['MBBS'],\n",
       " ['BDS'],\n",
       " ['BDS', ' MDS - Orthodontics'],\n",
       " ['BAMS'],\n",
       " ['BDS'],\n",
       " ['MBBS'],\n",
       " ['MBBS', ' MD - General Medicine'],\n",
       " ['BDS'],\n",
       " ['BHMS'],\n",
       " ['BDS', ' MDS - Conservative Dentistry & Endodontics'],\n",
       " ['BDS', ' Diploma in Laser Dentistry', ' MDS'],\n",
       " ['BDS', ' MDS - Oral Medicine and Radiology'],\n",
       " ['MBBS', ' Diploma in Anesthesiology', ' Certificate in Acupuncture'],\n",
       " ['BHMS', ' MD - Homeopathy'],\n",
       " ['BAMS',\n",
       "  \" Yoga Instructor's Course\",\n",
       "  ' Diploma in Nutrition and Health Education'],\n",
       " ['BDS'],\n",
       " ['MBBS'],\n",
       " ['BAMS'],\n",
       " ['BHMS'],\n",
       " ['BDS'],\n",
       " ['MD - Dermatology', ' DDV', ' MBBS'],\n",
       " ['MBBS', ' DNB - Family Medicine', ' Fellowship in Diabetology'],\n",
       " ['MBBS', ' MS - ENT', ' MRCS (UK)', ' Diploma in Otorhinolaryngology (DLO)'],\n",
       " ['BDS'],\n",
       " ['DVD', ' MBBS'],\n",
       " ['DDVL', ' MBBS'],\n",
       " ['BDS', ' MDS - Orthodontics'],\n",
       " ['BHMS', ' MD - Homeopathy'],\n",
       " ['MBBS', ' MS - ENT', ' Diploma in Otorhinolaryngology (DLO)'],\n",
       " ['BAMS'],\n",
       " ['BAMS'],\n",
       " ['MBBS', ' MD - Obstetrics & Gynaecology'],\n",
       " ['MBBS', ' Diploma in Dermatology'],\n",
       " ['MBBS', ' MD - Dermatology ', ' Venereology & Leprosy'],\n",
       " ['BHMS'],\n",
       " ['MS - ENT', ' MBBS'],\n",
       " ['BHMS', ' PGDPC (Post Graduation Diploma In Psychological Counselling)'],\n",
       " ['BAMS', ' PGD Yoga'],\n",
       " ['MDS - Prosthodontics', ' BDS'],\n",
       " ['BAMS'],\n",
       " ['BAMS', ' MBA - Healthcare Services'],\n",
       " ['MBBS', ' DDVL'],\n",
       " ['BAMS', ' MD - Ayurveda Medicine'],\n",
       " ['BAMS'],\n",
       " ['BDS'],\n",
       " ['DNB - ENT', ' MD - Physician'],\n",
       " ['BAMS'],\n",
       " ['MBBS', ' MD - Internal Medicine'],\n",
       " ['BHMS'],\n",
       " ['MBBS', ' MD - Dermatology'],\n",
       " ['BHMS'],\n",
       " ['MDS - Paedodontics And Preventive Dentistry',\n",
       "  ' Membership of the Faculty of Dental Surgeons(MFDS)'],\n",
       " ['MBBS', ' PGDHHM', ' PGDMLS'],\n",
       " ['BDS', ' MDS - Paedodontics And Preventive Dentistry'],\n",
       " ['BHMS'],\n",
       " ['MBBS', ' DDVL'],\n",
       " ['BDS', ' MDS - Paedodontics And Preventive Dentistry'],\n",
       " ['BHMS'],\n",
       " ['BDS'],\n",
       " ['BDS', ' MDS - Periodontics'],\n",
       " ['BDS', ' MDS - Orthodontics'],\n",
       " ['MBBS', ' DDVL'],\n",
       " ['BDS', ' MDS'],\n",
       " ['BAMS'],\n",
       " ['MBBS', ' DNB - Dermatology & Venereology'],\n",
       " ['MBBS', ' MS - ENT'],\n",
       " ['MBBS', ' MD - Obstetrics & Gynaecology', ' MRCOG(UK)'],\n",
       " ['BDS'],\n",
       " ['DNB - Otorhinolaryngology',\n",
       "  ' MNAMS - General Surgery',\n",
       "  ' MS - Otorhinolaryngology',\n",
       "  ' MBBS'],\n",
       " ['BHMS'],\n",
       " ['BHMS'],\n",
       " ['BDS'],\n",
       " ['BAMS'],\n",
       " ['MBBS'],\n",
       " ['MBBS'],\n",
       " ['MBBS', ' MS - ENT', ' Diploma in Otorhinolaryngology (DLO)'],\n",
       " ['BDS', ' PhD - Orthodontics & Dentofacial Orthopaedics'],\n",
       " ['MBBS', ' MD - Pediatrics'],\n",
       " ['MBBS', ' DDVL'],\n",
       " ['DDVL', ' MBBS'],\n",
       " ['BAMS'],\n",
       " ['MD - Dermatology', ' MBBS'],\n",
       " ['MBBS',\n",
       "  ' MD - Internal Medicine',\n",
       "  ' Post Graduate Diploma in Diabetology (PGDD)'],\n",
       " ['MBBS', ' MS - ENT', ' Diploma in Otorhinolaryngology (DLO)'],\n",
       " ['BDS', ' Certificate of Oral Implantology'],\n",
       " ['MBBS', ' MD - Dermatology'],\n",
       " ['MS - ENT'],\n",
       " ['BDS', ' Doctor of Dental Surgery (DDS)'],\n",
       " ['BDS'],\n",
       " ['BAMS'],\n",
       " ['BHMS'],\n",
       " ['MBBS', ' Diploma in Otorhinolaryngology (DLO)'],\n",
       " ['MBBS', ' MS - Otorhinolaryngology'],\n",
       " ['MBBS', ' Diploma in Dermatology', ' DDVL', ' DDV'],\n",
       " ['MBBS', ' MD - Skin & VD', ' DDVL'],\n",
       " ['MDS - Orthodontics and Dentofacial Orthopaedics'],\n",
       " ['BHMS', ' Diploma in Cosmetology'],\n",
       " ['BAMS'],\n",
       " ['MBBS',\n",
       "  ' DDVL',\n",
       "  ' DNB - Dermatology & Venereology',\n",
       "  ' Fellowship In Dermatosurgery'],\n",
       " ['MBBS'],\n",
       " ['BHMS'],\n",
       " ['BAMS', ' MBA - Hospital Management'],\n",
       " ['MBBS'],\n",
       " ['BAMS', ' MBA - Hospital Management'],\n",
       " ['BAMS'],\n",
       " ['MBBS', ' DDVL', ' MD - Dermatology'],\n",
       " ['BAMS'],\n",
       " ['MBBS', ' Diploma in Otorhinolaryngology (DLO)', ' MS - ENT'],\n",
       " ['MBBS', ' MD - Dermatology'],\n",
       " ['BDS', ' MDS - Prosthodontics'],\n",
       " ['MBBS', ' MD - Dermatology', ' Fellowship In Dermatosurgery'],\n",
       " ['MBBS'],\n",
       " ['MBBS', ' MD - Dermatology'],\n",
       " ['BAMS'],\n",
       " ['MBBS', ' Diploma in Otorhinolaryngology (DLO)'],\n",
       " ['MBBS', ' MD - Dermatology ', ' Venereology & Leprosy'],\n",
       " ['MD - Dermatology ', ' Venereology & Leprosy', ' MBBS'],\n",
       " ['BAMS'],\n",
       " ['BDS'],\n",
       " ['MBBS'],\n",
       " ['BAMS'],\n",
       " ['MDS - Oral & Maxillofacial Surgery'],\n",
       " ['BDS'],\n",
       " ['MBBS', ' MD - Dermatology ', ' Venereology & Leprosy'],\n",
       " ['MBBS', ' MS - Otorhinolaryngology'],\n",
       " ['MBBS', ' MD - General Medicine'],\n",
       " ['BDS'],\n",
       " ['MBBS', ' MD - Dermatology', ' FRGUHS', ' Fellowship in Cosmetology'],\n",
       " ['MBBS'],\n",
       " ['MBBS', ' DDV'],\n",
       " ['MBBS',\n",
       "  ' MS - ENT',\n",
       "  ' FRCS',\n",
       "  ' MRCS (UK)',\n",
       "  ' Dip Otolaryngology and Head and neck Surgery'],\n",
       " ['MBBS',\n",
       "  ' DNB - General Medicine',\n",
       "  ' MF- Homeopathy',\n",
       "  ' MSc - Psychotherapy And Counselling',\n",
       "  ' Post Graduate Diploma in Diabetology (PGDD)'],\n",
       " ['MBBS', ' DNB - Family Medicine', ' CCEBDM'],\n",
       " ['MBBS', ' MS - ENT'],\n",
       " ['MBBS', ' DDVL'],\n",
       " ['MBBS', ' Diploma in Laparoscopy', ' FRCS - General Surgery (Upper GI)'],\n",
       " ['BHMS'],\n",
       " ['MBBS',\n",
       "  ' DNB - General Medicine',\n",
       "  ' Post Graduate Diploma in Diabetology (PGDD)'],\n",
       " ['Doctor of Homeopathic Medicine (HMD)'],\n",
       " ['MBBS'],\n",
       " ['DHMS (Diploma in Homeopathic Medicine and Surgery)',\n",
       "  ' Diploma in Clinical Cosmetology',\n",
       "  ' Diploma in Trichology - Cosmetology'],\n",
       " ['BDS'],\n",
       " ['BAMS'],\n",
       " ['BHMS'],\n",
       " ['BDS', ' Certificate of Oral Implantology'],\n",
       " ['BHMS', ' Post Graduate Diploma in Clinical Research (PGDCR)'],\n",
       " ['MBBS', ' MD - General Medicine'],\n",
       " ['MBBS'],\n",
       " ['BHMS'],\n",
       " ['MBBS'],\n",
       " ['BHMS', ' Certificate in Child Health (CCH)'],\n",
       " ['BHMS'],\n",
       " ['BAMS', ' MD - Ayurveda Medicine'],\n",
       " ['BAMS'],\n",
       " ['MDS', ' Advanced Certificate Course in Dental Implants', ' BDS'],\n",
       " ['BDS'],\n",
       " ['BDS', ' MDS - Prosthodontist And Crown Bridge'],\n",
       " ['MDS - Orthodontics', ' BDS'],\n",
       " ['LCEH'],\n",
       " ['BHMS', ' MD - Homeopathy'],\n",
       " ['MDS - Oral & Maxillofacial Surgery', ' BDS'],\n",
       " ['DNB - General Medicine', ' MBBS'],\n",
       " ['MBBS', ' MNAMS- Family Medicine'],\n",
       " ['MBBS', ' MS - ENT'],\n",
       " ['BDS'],\n",
       " ['MD - Tuberculosis & Respiratory Diseases/Medicine', ' MBBS'],\n",
       " ['BDS', ' MDS - Prosthodontics'],\n",
       " ['MBBS', ' Diploma in Otorhinolaryngology (DLO)'],\n",
       " ['MBBS', ' MD - Internal Medicine', ' FACP (USA)'],\n",
       " ['MBBS', ' Diploma in Otorhinolaryngology (DLO)', ' MD - Anatomy'],\n",
       " ['BDS', ' FICD'],\n",
       " ['FRCP',\n",
       "  ' MRCPS',\n",
       "  ' MBBS',\n",
       "  ' MD - General Medicine',\n",
       "  ' Diploma in Medical Law and Ethics (PGDMLE)'],\n",
       " ['MBBS', ' MD - (Dermatology & STD)'],\n",
       " ['MD - General Medicine'],\n",
       " ['MBBS'],\n",
       " ['MBBS', ' DVD', ' MD - Dermatology'],\n",
       " ['MBBS', ' Diploma in Otorhinolaryngology (DLO)', ' DNB - ENT'],\n",
       " ['MBBS', ' MD - Dermatology ', ' Venereology & Leprosy'],\n",
       " ['BHMS', ' MD - Homeopathy'],\n",
       " ['MBBS', ' Diploma in Emergency Medicine'],\n",
       " ['BDS', ' MBA', ' Certification in Aesthetic Dentistry'],\n",
       " ['MBBS',\n",
       "  ' Fellow of Academy of General Education (FAGE)',\n",
       "  ' MS - ENT',\n",
       "  ' Fellowship in Advanced Endoscopic Sinus Surgery'],\n",
       " ['BHMS'],\n",
       " ['BDS', ' MDS - Periodontology and Oral Implantology'],\n",
       " ['MBBS', ' MS - ENT'],\n",
       " ['BSc', ' DHMS (Diploma in Homeopathic Medicine and Surgery)'],\n",
       " ['BHMS', ' Doctor of Homeopathic Medicine (HMD)', ' MBA'],\n",
       " ['BAMS'],\n",
       " ['BHMS'],\n",
       " ['BAMS'],\n",
       " ['BHMS', ' MD - Homeopathy'],\n",
       " ['DDVL', ' MBBS'],\n",
       " ['MBBS', ' MD - General Medicine'],\n",
       " ['BDS', ' MDS - Conservative Dentistry & Endodontics'],\n",
       " ['MDS - Oral & Maxillofacial Surgery',\n",
       "  ' Fellowship Program in Oral Implantology and LASER Dentistry',\n",
       "  ' BDS'],\n",
       " ['MBBS', ' MS - ENT', ' Fellowship in Head & Neck Surgery'],\n",
       " ['MBBS', ' MS - Otorhinolaryngology'],\n",
       " ['BHMS'],\n",
       " ['MBBS', ' MD - Medicine'],\n",
       " ['BDS', ' MDS - Prosthodontist & Oral Implantologist'],\n",
       " ['MD - Internal Medicine',\n",
       "  ' MBBS',\n",
       "  ' Diplomate from the American Board of Internal Medicine'],\n",
       " ['MBBS', ' MS - ENT'],\n",
       " ['BAMS', ' MD - Ayurveda Medicine', ' PhD- Ayurveda'],\n",
       " ['MBBS', ' MD - Dermatology'],\n",
       " ['BAMS'],\n",
       " ['LCEH'],\n",
       " ['MBBS', ' MD - General Medicine'],\n",
       " ['BHMS'],\n",
       " ['BAMS', ' PGD ND', \" Yoga Instructor's Course\"],\n",
       " ['BDS', ' Fellowship Program in Aesthetic Dentistry and Occlusion'],\n",
       " ['MBBS'],\n",
       " ['BDS'],\n",
       " ['MBBS',\n",
       "  ' Diploma in Public Health',\n",
       "  ' MD - Community Medicine',\n",
       "  ' Fellowship in Lifestyle Medicine'],\n",
       " ['BAMS', ' MS - Ayurveda'],\n",
       " ['BDS', ' MDS - Paedodontics And Preventive Dentistry'],\n",
       " ['BHMS'],\n",
       " ['MBBS', ' Diploma in Otorhinolaryngology (DLO)'],\n",
       " ['Diploma in Otorhinolaryngology (DLO)',\n",
       "  ' Ph. D - ENT',\n",
       "  ' MBBS',\n",
       "  ' DNB - ENT'],\n",
       " ['MBBS'],\n",
       " ['BAMS'],\n",
       " ['MDS - Orthodontics and Dentofacial Orthopaedics', ' BDS'],\n",
       " ['MBBS', ' MD - Dermatology ', ' Venereology & Leprosy'],\n",
       " ['BDS', ' MDS - Orthodontics'],\n",
       " ['BHMS'],\n",
       " ['BDS'],\n",
       " ['MBBS',\n",
       "  ' Diploma in Otorhinolaryngology (DLO)',\n",
       "  ' MS - Otorhinolaryngology'],\n",
       " ['MBBS', ' MD - General Medicine'],\n",
       " ['BAMS'],\n",
       " ['MBBS', ' MD - Dermatology'],\n",
       " ['BSAM', ' BAMS', ' Fellow of Academy of General Education (FAGE)'],\n",
       " ['BHMS'],\n",
       " ['MBBS', ' DDVL'],\n",
       " ['BDS', ' MDS - Orthodontics'],\n",
       " ['MD - Homeopathy', ' BHMS'],\n",
       " ['MBBS', ' DNB - Otorhinolaryngology', ' DLO'],\n",
       " ['Get inspired by remarkable stories of people like you'],\n",
       " ['MBBS', ' MD - General Medicine', ' Diploma in Diabetology'],\n",
       " ['MBBS', ' MD - Medicine'],\n",
       " ['BAMS'],\n",
       " ['MD - Ayurveda Medicine'],\n",
       " ['BDS'],\n",
       " ['BAMS'],\n",
       " ['MBBS', ' MD - Dermatology ', ' Venereology & Leprosy'],\n",
       " ['BAMS', ' MD - Ayurveda Medicine'],\n",
       " ['MD - Homeopathy', ' PG Diploma In Clinical Cosmetology (PGDCC)', ' BHMS'],\n",
       " ['MBBS', ' Diploma in Otorhinolaryngology (DLO)'],\n",
       " ['BDS', ' MDS - Periodontology and Oral Implantology'],\n",
       " ['MDS - Orthodontics', ' BDS'],\n",
       " ['BAMS'],\n",
       " ['DHMS (Diploma in Homeopathic Medicine and Surgery)'],\n",
       " ['MBBS', ' MD - Dermatology'],\n",
       " ['BAMS'],\n",
       " ['BAMS'],\n",
       " ['MBBS', ' MS - ENT'],\n",
       " ['BDS', ' MDS - Conservative Dentistry & Endodontics'],\n",
       " ['MD - Dermatology'],\n",
       " ['BDS', ' MDS - Oral Medicine and Radiology'],\n",
       " ['BDS', ' MDS - Periodontology and Oral Implantology'],\n",
       " ['MBBS', ' MD - Dermatology'],\n",
       " ['MBBS', ' DDV', ' DNB'],\n",
       " ['BDS', ' Post graduate diploma in Hospital Management'],\n",
       " ['MBBS'],\n",
       " ['MBBS', ' MD - Dermatology ', ' Venereology & Leprosy'],\n",
       " ['BAMS'],\n",
       " ['MBBS', ' Diploma in Anesthesiology'],\n",
       " ['BDS',\n",
       "  ' MDS - Oral & Maxillofacial Surgery',\n",
       "  ' FDSRCS - Fellowship in Dental Surgery'],\n",
       " ['MBBS',\n",
       "  ' MD - Internal Medicine',\n",
       "  ' Post Graduate Diploma in Diabetology (PGDD)',\n",
       "  ' DNB - General Medicine'],\n",
       " ['BHMS'],\n",
       " ['BAMS'],\n",
       " ['BAMS', ' MD - Ayurveda Medicine'],\n",
       " ['BHMS',\n",
       "  ' PG - Homeo',\n",
       "  ' Integrated therapy in Cancer',\n",
       "  ' Basic Course in Palliative Care'],\n",
       " ['MBBS', ' MD - General Medicine'],\n",
       " ['MBBS'],\n",
       " ['BDS', ' MDS - Periodontology and Oral Implantology'],\n",
       " ['MBBS', ' MS - ENT'],\n",
       " ['BAMS'],\n",
       " ['BHMS',\n",
       "  ' Fellowship Course in Homoeopathic Dermatology',\n",
       "  ' Masters in Counselling and Psychotherapy'],\n",
       " ['MBBS', ' MD - Dermatology ', ' Venereology & Leprosy'],\n",
       " ['BHMS'],\n",
       " ['BAMS'],\n",
       " ['MBBS', ' MS - General Surgery'],\n",
       " ['MBBS', ' MD - Dermatology'],\n",
       " ['MBBS', ' MD - Medicine', ' FCPS - General Surgery'],\n",
       " ['BHMS', ' CSD'],\n",
       " ['MBBS', ' MD - Dermatology'],\n",
       " ['BHMS', ' MD - Homeopathy'],\n",
       " ['BHMS',\n",
       "  ' MD (HOM) - Paeditrics',\n",
       "  ' Fellowship Course in Homoeopathic Dermatology'],\n",
       " ['M.S. (Ayurved) Stri Roga & Prasuti Tantra', ' BAMS'],\n",
       " ['MS - ENT', ' MBBS'],\n",
       " ['MBBS', ' Diploma in Otorhinolaryngology (DLO)'],\n",
       " ['MBBS', ' MS - ENT'],\n",
       " ['MBBS', ' MD - General Medicine'],\n",
       " ['MBBS', ' MD - General Medicine', ' DNB - General Medicine'],\n",
       " ['MBBS', ' MS - Otorhinolaryngology', ' Fellowship in laryngology'],\n",
       " ['BDS',\n",
       "  ' MDS - Prosthodontist And Crown Bridge',\n",
       "  ' Certificate Course in Orthodontics'],\n",
       " ['B.Sc', ' BAMS', ' MD - Ayurveda Medicine'],\n",
       " ['DO', ' MS - Ophthalmology', ' MBBS'],\n",
       " ['FRCS - General Surgery'],\n",
       " ['BDS', ' MDS- Periodontist & Implantalogist'],\n",
       " ['MBBS', ' MCh - Surgical Gastroenterology/G.I. Surgery'],\n",
       " ['MDS - Conservative Dentistry & Endodontics', ' BDS'],\n",
       " ['BDS'],\n",
       " ['BDS', ' Certificate in Dental Implants'],\n",
       " ['MBBS', ' DNB - General Medicine'],\n",
       " ['MBBS', ' MS - ENT', ' Diploma in Otorhinolaryngology (DLO)'],\n",
       " ['BDS', ' MDS - Periodontology and Oral Implantology'],\n",
       " ['MDS - Paedodontics And Preventive Dentistry', ' BDS'],\n",
       " ['MBBS', ' Diploma in Tuberculosis and Chest Diseases (DTCD)'],\n",
       " ['MBBS', ' DDVL'],\n",
       " ['BAMS', ' MS - Ayurvedic General Surgery'],\n",
       " ['MBBS',\n",
       "  ' MD - Physician',\n",
       "  ' DNB - General Medicine',\n",
       "  ' Fellowship in Diabetology'],\n",
       " ['BDS', ' MDS - Orthodontics and Dentofacial Orthopaedics'],\n",
       " ['MBBS', ' DNB - Internal Medicine'],\n",
       " ['BHMS'],\n",
       " ['MBBS', ' FICA', ' MD - General Medicine'],\n",
       " ['BHMS', ' MD - Homeopathy'],\n",
       " ['MBBS', ' MD - Dermatology'],\n",
       " ['BDS'],\n",
       " ['MBBS', ' MS - Otorhinolaryngology'],\n",
       " ['BDS',\n",
       "  ' MDS - Periodontology and Oral Implantology',\n",
       "  ' Current Concepts in American Dentistry Advances in Implantology and Oral Rehabilitation',\n",
       "  ' Comprehensive Course in Modern Endodontics'],\n",
       " ['MBBS', ' FACC', ' FCCP - Pulmonary Medicine'],\n",
       " ['MBBS', ' MD - General Medicine'],\n",
       " ['BAMS', ' MS - Ayurveda'],\n",
       " ['BHMS'],\n",
       " ['MBBS', ' MS - ENT'],\n",
       " ['FWFO', ' FPFA'],\n",
       " ['BAMS'],\n",
       " ['MBBS', ' MD - General Medicine'],\n",
       " ['BHMS'],\n",
       " ['MDS - Paedodontics And Preventive Dentistry', ' BDS'],\n",
       " ['MBBS', ' MD - Internal Medicine', ' DM - Gastroenterology'],\n",
       " ['MBBS', ' Diploma in Otorhinolaryngology (DLO)'],\n",
       " ['MBBS', ' MD - General Medicine', ' DM - Cardiology'],\n",
       " ['MBBS', ' DLO', ' MS - ENT'],\n",
       " ['MS - ENT', ' Diploma in Otorhinolaryngology (DLO)'],\n",
       " ['BHMS'],\n",
       " ['MBBS', ' Diploma in Family Medicine (DFM)', ' Fellowship in Diabetology'],\n",
       " ['BDS'],\n",
       " ['MBBS'],\n",
       " ['MBBS', ' DDV'],\n",
       " ['BDS'],\n",
       " ['MBBS', ' MS - ENT'],\n",
       " ['MBBS', ' MD - Pediatrics'],\n",
       " ['BDS', ' MDS'],\n",
       " ['BDS'],\n",
       " ['BHMS', ' Diploma in Medical Cosmetology'],\n",
       " ['MBBS', ' MD - General Medicine'],\n",
       " ['BHMS', ' MD - Homeopathy'],\n",
       " ['MBBS',\n",
       "  ' Diploma in Otorhinolaryngology (DLO)',\n",
       "  ' DNB - Otorhinolaryngology'],\n",
       " ['BAMS'],\n",
       " ['MBBS',\n",
       "  ' DDVL',\n",
       "  ' Fellowship in Dermatological Laser Surgery',\n",
       "  ' Fellowship In Cosmetic Dermatology'],\n",
       " ['MBBS',\n",
       "  ' MD - Family Medicine',\n",
       "  ' Post Graduate Diploma in Diabetology (PGDD)'],\n",
       " ['MDS - Conservative Dentistry & Endodontics', ' BDS'],\n",
       " ['BAMS', ' MD - Ayurveda Medicine'],\n",
       " ['MBBS', ' MSc'],\n",
       " ['Diploma in Otorhinolaryngology (DLO)', ' MS - ENT', ' MBBS'],\n",
       " ['BDS'],\n",
       " ['BDS'],\n",
       " ['BDS', ' MDS - Orthodontics'],\n",
       " ['BDS', ' MDS'],\n",
       " ['MBBS', ' MS - ENT'],\n",
       " ['MBBS', ' MS - Otorhinolaryngology'],\n",
       " ['BAMS'],\n",
       " ['MBBS', ' MS - General Surgery'],\n",
       " ['MBBS', ' Diploma in Family Medicine (DFM)'],\n",
       " ['MD - General Medicine', ' MBBS'],\n",
       " ['DNB - ENT', ' Diploma in Otorhinolaryngology (DLO)', ' MBBS'],\n",
       " ['MBBS'],\n",
       " ['BHMS'],\n",
       " ['MBBS', ' DDV'],\n",
       " ['MBBS', ' MD - Dermatology', ' MD - Dermatology ', ' Venereology & Leprosy'],\n",
       " ['BHMS', ' MD - Homeopathy'],\n",
       " ['MBBS', ' Diploma in Child Health (DCH)', ' DNB - Paediatrics'],\n",
       " ['BHMS', ' MD - Homeopathy'],\n",
       " ['BDS'],\n",
       " ['BDS'],\n",
       " ['BSc', ' BHMS'],\n",
       " ['BAMS', ' MD- Ayurveda Rasashastra'],\n",
       " ['BAMS',\n",
       "  ' PG Dip (Medical Education)',\n",
       "  ' Fellow of Academy of General Education (FAGE)',\n",
       "  ' MBA (Health Care)'],\n",
       " ['MBBS', ' DDVL'],\n",
       " ['MS - Otorhinolaryngology', ' MBBS'],\n",
       " ['BHMS', ' MS - Psychology'],\n",
       " ['MBBS', ' DNB - General Medicine'],\n",
       " ['BAMS',\n",
       "  ' MD - Alternate Medicine',\n",
       "  ' Fellow of Academy of General Education (FAGE)',\n",
       "  ' Diploma in Preventive & Promotive Healthcare'],\n",
       " ['BHMS', ' MD - General Medicine'],\n",
       " ['MDS - Oral & Maxillofacial Surgery',\n",
       "  ' Implant Training Course- Nobel Biocare',\n",
       "  ' BDS'],\n",
       " ['MBBS', ' Diploma in Dermatology', ' MD - Dermatology'],\n",
       " ['MBBS', ' MD - Dermatology'],\n",
       " ['BDS', ' MDS - Periodontics'],\n",
       " ['MBBS',\n",
       "  ' Certificate Course in Evidence Based Diabetes Management (CCEBDM)'],\n",
       " ['MD - Dermatology', ' MBBS'],\n",
       " ['MDS - Paedodontics And Preventive Dentistry', ' BDS'],\n",
       " ['MBBS', ' Diploma in Otorhinolaryngology (DLO)'],\n",
       " ['BHMS'],\n",
       " ['MD - General Medicine'],\n",
       " ['BDS'],\n",
       " ['BDS'],\n",
       " ['BHMS', ' MD - Homeopathy'],\n",
       " ['BHMS'],\n",
       " ['MBBS', ' MD - Dermatology'],\n",
       " ['MBBS', ' DDVL'],\n",
       " ['MBBS', ' MS - ENT'],\n",
       " ['MBBS'],\n",
       " ['DDVL'],\n",
       " ['MBBS'],\n",
       " ['BHMS', ' DNHE'],\n",
       " ['MBBS'],\n",
       " ['BDS', ' Fellowship in Oral implantlogy'],\n",
       " ['BAMS', ' Diploma in Clinical Nutrition'],\n",
       " ['MBBS', ' DDV'],\n",
       " ['BHMS',\n",
       "  ' MD - Alternate Medicine',\n",
       "  ' Masters in Counselling and Psychotherapy'],\n",
       " ['BAMS'],\n",
       " ['MBBS',\n",
       "  ' MD - Internal Medicine',\n",
       "  ' Post Graduate Diploma in Diabetology (PGDD)',\n",
       "  ' Fellowship in Diabetology'],\n",
       " ['Diploma in Otorhinolaryngology (DLO)', ' MBBS'],\n",
       " ['MBBS', ' MS - ENT'],\n",
       " ['BAMS', ' MD - Ayurveda Medicine'],\n",
       " ['MBBS',\n",
       "  ' DNB - ENT',\n",
       "  ' MS - ENT',\n",
       "  ' FCPS - Oto-Rhino-Laryngology',\n",
       "  ' Diploma in Otorhinolaryngology (DLO)'],\n",
       " ['MBBS'],\n",
       " ['MBBS', ' MS - Otorhinolaryngology'],\n",
       " ['MDS - Orthodontics and Dentofacial Orthopaedics'],\n",
       " ['MBBS', ' MD - Dermatology ', ' Venereology & Leprosy'],\n",
       " ['BAMS'],\n",
       " ['BDS',\n",
       "  ' MDS - Paedodontics And Preventive Dentistry',\n",
       "  ' Certification for Professional Chemical Peel Workshop'],\n",
       " ['BHMS', ' Diploma in Cosmetology', ' MD - Dermatology'],\n",
       " ['MS - Otorhinolaryngology', ' MBBS'],\n",
       " ['BAMS'],\n",
       " ['MBBS', ' MD - Dermatology'],\n",
       " ['MBBS', ' MD - General Medicine'],\n",
       " ['BDS'],\n",
       " ['BAMS', ' M. D. IN KAYACHIKISTA'],\n",
       " ['MBBS'],\n",
       " ['MBBS', ' MD - Pharmacology'],\n",
       " ['MBBS', ' MD - Internal Medicine'],\n",
       " ['BAMS'],\n",
       " ['MBBS', ' Fellowship of College of General Practice (FCGP)'],\n",
       " ['BDS'],\n",
       " ['BDS', ' MDS - Conservative Dentistry & Endodontics'],\n",
       " ['MBBS', ' Diploma in Otorhinolaryngology (DLO)'],\n",
       " ['BHMS'],\n",
       " ['MD - General Medicine', ' MBBS'],\n",
       " ['BDS', ' MDS - Conservative Dentistry & Endodontics'],\n",
       " ['MBBS', ' MD - Dermatology ', ' Venereology & Leprosy'],\n",
       " ['MDS - Periodontology and Oral Implantology', ' BDS'],\n",
       " ['MD - Homeopathy',\n",
       "  ' PGDPC (Post Graduation Diploma In Psychological Counselling)'],\n",
       " ['BAMS'],\n",
       " ['MBBS'],\n",
       " ['MBBS', ' DNB'],\n",
       " ['MBBS', ' DNB - Family Medicine'],\n",
       " ['MBBS', ' MS - ENT', ' Diploma in Aesthetic Medicine'],\n",
       " ['BDS', ' MDS - Periodontics'],\n",
       " ['BAMS'],\n",
       " ['MS - ENT'],\n",
       " ['BAMS'],\n",
       " ['MBBS'],\n",
       " ['MBBS', ' MS - Otorhinolaryngology'],\n",
       " ['MDS - Oral & Maxillofacial Surgery', ' BDS'],\n",
       " ['BDS'],\n",
       " ['BHMS', ' MD - Homeopathy'],\n",
       " ['BDS', ' MDS'],\n",
       " ['MBBS', ' MS - ENT'],\n",
       " ['MBBS', ' Diploma in Otorhinolaryngology (DLO)', ' DNB - ENT'],\n",
       " ['BAMS'],\n",
       " ['MBBS', ' MS - Otorhinolaryngology'],\n",
       " ['BDS', ' Post-Graduate Certificate in Oral Implantology (PGCOI)'],\n",
       " ['BHMS'],\n",
       " ['BAMS', ' MD - Ayurveda Medicine'],\n",
       " ['MBBS', ' MD - Dermatology'],\n",
       " ['BDS', ' MDS - Oral & Maxillofacial Surgery'],\n",
       " ['MBBS', ' DDVL'],\n",
       " ['MBBS'],\n",
       " ['BDS'],\n",
       " ['MS - ENT', ' MBBS'],\n",
       " ['BAMS'],\n",
       " ['MDS - Prosthodontist And Crown Bridge'],\n",
       " ['BDS', ' PhD - Orthodontics & Dentofacial Orthopaedics'],\n",
       " ['MBBS', ' MD - General Medicine'],\n",
       " ['MBBS', ' MD - Dermatology', ' DDV'],\n",
       " ['MD - Homeopathy', ' BHMS', ' DNHE'],\n",
       " ['BHMS'],\n",
       " ['BHMS'],\n",
       " ['BAMS'],\n",
       " ['BDS', ' MDS - Conservative Dentistry & Endodontics'],\n",
       " ['BHMS'],\n",
       " ['MBBS', ' MS - ENT'],\n",
       " ['MBBS',\n",
       "  ' MD - Dermatology',\n",
       "  ' Fellow of the American Academy of Dermatology (FAAD)'],\n",
       " ['BDS', ' MDS - Periodontics'],\n",
       " ['MBBS', ' DDVL'],\n",
       " ['BAMS', ' MBA (HCS)'],\n",
       " ['BHMS'],\n",
       " ['BAMS'],\n",
       " ['MBBS', ' DNB - Internal Medicine'],\n",
       " ['MBBS'],\n",
       " ['MDS - Oral & Maxillofacial Surgery'],\n",
       " ['BDS'],\n",
       " ['MBBS', ' DVD'],\n",
       " ['MBBS', ' MD - Internal Medicine'],\n",
       " ['MBBS', ' MD - Dermatology ', ' Venereology & Leprosy'],\n",
       " ['BDS'],\n",
       " ['MD - Dermatology ', ' Venereology & Leprosy', ' MBBS'],\n",
       " ['MBBS',\n",
       "  ' Diploma in Anesthesiology',\n",
       "  ' Postgraduate Diploma Clinical Cardiology (PGDCC)'],\n",
       " ['MD - Dermatology ', ' Venereology & Leprosy', ' MBBS'],\n",
       " ['MBBS', ' DDVL'],\n",
       " ['BHMS', ' MD - Ayurveda Medicine'],\n",
       " ['MBBS', ' MASTERS IN MEDICAL SCIENCE AND TECHNOLOGY'],\n",
       " ['DNB - Dermatology & Venereology', ' MBBS'],\n",
       " ['BDS', ' MDS-Oral Pathology and Oral Microbiology'],\n",
       " ['MBBS', ' MS - ENT', ' DNB'],\n",
       " ['DDVL'],\n",
       " ['MBBS', ' DNB'],\n",
       " ['MBBS', ' Post Graduate Diploma in Diabetes', ' Fellowship in Diabetology'],\n",
       " ['MBBS', ' MS - ENT'],\n",
       " ['MD - Homeopathy', ' DHMS (Diploma in Homeopathic Medicine and Surgery)'],\n",
       " ['BHMS'],\n",
       " ['BDS', ' MDS - Conservative Dentistry & Endodontics'],\n",
       " ['MBBS', ' MS - ENT', ' DNB - ENT'],\n",
       " ['MBBS'],\n",
       " ['BDS', ' MDS - Orthodontics'],\n",
       " ['MBBS'],\n",
       " ['BDS', ' MDS - Prosthodontics'],\n",
       " ['MD - Ayurveda Medicine'],\n",
       " ['MD - Homeopathy', ' BHMS'],\n",
       " ['MBBS', ' MS - ENT', ' DNB - ENT'],\n",
       " ['BAMS'],\n",
       " ['BDS'],\n",
       " ['BDS'],\n",
       " ['MBBS', ' MD - General Medicine'],\n",
       " ['MBBS', ' DDV', ' Diploma in Health Administration'],\n",
       " ['BDS', ' Advanced Certificate Course in Dental Implants'],\n",
       " ['BAMS'],\n",
       " ['MBBS', ' MD - General Medicine'],\n",
       " ['MBBS'],\n",
       " ['BDS'],\n",
       " ['BHMS'],\n",
       " ['BAMS'],\n",
       " ['DNB - General Medicine', ' MBBS'],\n",
       " ['MBBS', ' MD - Dermatology ', ' Venereology & Leprosy'],\n",
       " ['BAMS'],\n",
       " ['MBBS',\n",
       "  ' Diploma in Otorhinolaryngology (DLO)',\n",
       "  ' Fellow of Academy of General Education (FAGE)',\n",
       "  ' FRCS - General Surgery'],\n",
       " ['BHMS'],\n",
       " ['BDS',\n",
       "  ' MDS - Periodontics',\n",
       "  ' Fellowship and Diplomate in Implantology from ICOI (USA)',\n",
       "  ' DICOI'],\n",
       " ['MBBS', ' Diploma in Otorhinolaryngology (DLO)', ' DNB - ENT'],\n",
       " ['MBBS', ' DGO', ' MD - Obstetrics & Gynaecology'],\n",
       " ['BDS'],\n",
       " ['Diploma in Otorhinolaryngology (DLO)', ' MBBS'],\n",
       " ['BDS'],\n",
       " ['MD - Dermatology ', ' Venereology & Leprosy'],\n",
       " ['BHMS', ' PGDHA'],\n",
       " ['MBBS', ' Diploma in Dermatology'],\n",
       " ['BHMS', ' Certificate in Child Health (CCH)'],\n",
       " ['BAMS'],\n",
       " ['MBBS', ' MD - General Medicine', ' MRCP - General Medicine'],\n",
       " ['BAMS'],\n",
       " ['BDS', ' MDS - Periodontics', ' MSc'],\n",
       " ['BDS', ' MDS'],\n",
       " ['BDS', ' MDS'],\n",
       " ['MBBS', ' MD - Dermatology'],\n",
       " ['BDS', ' Certification in Aesthetic Dentistry'],\n",
       " ['BDS'],\n",
       " ['MDS - Prosthodontist And Crown Bridge', ' BDS'],\n",
       " ['BDS'],\n",
       " ['MBBS', ' MD - Homeopathy', ' MD - General Medicine'],\n",
       " ['MBBS'],\n",
       " ['BDS'],\n",
       " ['MDS - Pedodontics', ' BDS'],\n",
       " ['BAMS', ' MD - Ayurveda Medicine'],\n",
       " ['MBBS', ' MD - General Medicine'],\n",
       " ['MBBS', ' MS - ENT'],\n",
       " ['DNB - General Medicine', ' MBBS'],\n",
       " ['MBBS',\n",
       "  ' MD - Dermatology',\n",
       "  ' DNB - Dermatology & Venereology',\n",
       "  ' F.C.P.S (Dermatology)'],\n",
       " ['BHMS'],\n",
       " ['BDS'],\n",
       " ['MBBS', ' DNB'],\n",
       " ['BDS', ' MDS - Paedodontics And Preventive Dentistry'],\n",
       " ['MD - Homeopathy'],\n",
       " ['BAMS'],\n",
       " ['MBBS', ' DDV'],\n",
       " ['BDS',\n",
       "  ' MDS - Oral & Maxillofacial Surgery',\n",
       "  ' Training in Surgical Oncology'],\n",
       " ['BDS'],\n",
       " ['MBBS'],\n",
       " ['BAMS'],\n",
       " ['BDS', ' PhD - Orthodontics & Dentofacial Orthopaedics'],\n",
       " ['MBBS', ' MD - General Medicine', ' FCD - Diabetology'],\n",
       " ['BHMS'],\n",
       " ['MBBS', ' DDVL'],\n",
       " ['BAMS'],\n",
       " ['BHMS'],\n",
       " ['MBBS', ' Post Graduate Course in Diabetology', ' DipFM'],\n",
       " ['Diploma in Child Health (DCH)', ' MBBS'],\n",
       " ['BAMS'],\n",
       " ['MBBS', ' MD - Dermatology ', ' Venereology & Leprosy'],\n",
       " ['MD - General Medicine', ' DNB', ' Diploma in Geriatric Medicine'],\n",
       " ['MBBS'],\n",
       " ['BAMS'],\n",
       " ['BAMS'],\n",
       " ['BAMS', ' Certificate Course in Kshar Sutra Surgery'],\n",
       " ['MBBS', ' DDVL'],\n",
       " ['MBBS', ' DORL (ENT)', ' MS - ENT'],\n",
       " ['MBBS', ' MD - Dermatology', ' DNB'],\n",
       " ['MBBS', ' MD - General Medicine', ' Diploma in Cardiology'],\n",
       " ['BHMS', ' DNHE'],\n",
       " ['MBBS', ' MD - Dermatology', ' DDV'],\n",
       " ['MBBS', ' MD - Internal Medicine'],\n",
       " ['Diploma in Otorhinolaryngology (DLO)', ' MBBS'],\n",
       " ['MBBS', ' MD - Dermatology'],\n",
       " ['BHMS'],\n",
       " ['MBBS', ' MS - ENT'],\n",
       " ['MBBS', ' MD - General Medicine'],\n",
       " ['MBBS', ' MS - ENT'],\n",
       " ['MBBS', ' MD - Oncology'],\n",
       " ['BDS', ' PhD - Orthodontics & Dentofacial Orthopaedics'],\n",
       " ['BHMS', ' MD - Homeopathy', ' MA - Clinical Psychology'],\n",
       " ['BHMS'],\n",
       " ['MBBS'],\n",
       " ['BDS'],\n",
       " ['BDS'],\n",
       " ['BAMS'],\n",
       " ['Diploma in Dermatology', ' MD - Dermatology'],\n",
       " ['MBBS'],\n",
       " ['BDS'],\n",
       " ['MBBS'],\n",
       " ['MBBS', ' MD - Medicine'],\n",
       " ['BAMS'],\n",
       " ['BDS', ' MDS - Prosthodontist And Crown Bridge'],\n",
       " ['BDS'],\n",
       " ['BDS', ' MDS - Periodontics'],\n",
       " ['BHMS', ' MD - Homeopathy'],\n",
       " ['MBBS', ' PG in Diabetology', ' FCCP'],\n",
       " ['MBBS',\n",
       "  ' Diploma in Child Health (DCH)',\n",
       "  ' Diploma of The Australian Institute of Dermatology',\n",
       "  ' PG Diploma in Endocrinology'],\n",
       " ['MBBS', ' MD - Medicine', ' DM - Cardiology', ' FACC', ' FESC'],\n",
       " ['BSc - Dietitics / Nutrition', ' MBBS', ' Diploma in Child Health (DCH)'],\n",
       " ['BDS'],\n",
       " ['BAMS'],\n",
       " ['BDS', ' MDS - Paedodontics And Preventive Dentistry'],\n",
       " ['MBBS',\n",
       "  ' Diploma in Tuberculosis and Chest Diseases (DTCD)',\n",
       "  ' DNB - General Medicine'],\n",
       " ['BDS', ' MDS - Oral Medicine and Radiology'],\n",
       " ['BHMS', ' MSc'],\n",
       " ['MBBS', ' MD - General Medicine', ' CCEDM'],\n",
       " ['BDS', ' MDS', ' Fellowship in Oral implantlogy'],\n",
       " ['MBBS', ' MD - General Medicine', ' DM - Cardiology', ' FIAMS'],\n",
       " ['BAMS'],\n",
       " ['BAMS',\n",
       "  ' Certificate in Food and Nutrition',\n",
       "  ' Diploma in Dietatics & Clinical Nutrition'],\n",
       " ['MBBS', ' MD - Dermatology'],\n",
       " ['MBBS', ' Diploma in Otorhinolaryngology (DLO)', ' MS - ENT'],\n",
       " ['MBBS', ' MS - ENT'],\n",
       " ['MBBS',\n",
       "  ' DNB - General Medicine',\n",
       "  ' Fellowship in Diabetology(Johns Hopkins University School of Medicine',\n",
       "  ' USA)'],\n",
       " ['DDVL', ' Diploma in Dermatology'],\n",
       " ['BDS', ' MDS - Orthodontics and Dentofacial Orthopaedics'],\n",
       " ['BDS', ' PhD - Orthodontics & Dentofacial Orthopaedics'],\n",
       " ['BDS', ' MDS - Pedodontics'],\n",
       " ['BDS', ' MDS - Oral & Maxillofacial Surgery'],\n",
       " ['BDS'],\n",
       " ['MBBS', ' DNB - Dermatology & Venereology'],\n",
       " ['MBBS', ' MS - ENT'],\n",
       " ['Diploma in Hospital Administration', ' BAMS'],\n",
       " ['BDS'],\n",
       " ['MDS - Pedodontics', ' BDS'],\n",
       " ['MBBS'],\n",
       " ['BAMS', ' MS - Ayurveda', ' Certificate in Child Health (CCH)'],\n",
       " ['MBBS', ' MD - Internal Medicine'],\n",
       " ['MBBS', ' DNB - Dermatology & Venereology'],\n",
       " ['BDS', ' MDS - Orthodontics and Dentofacial Orthopaedics'],\n",
       " ['MBBS', ' MD - Dermatology'],\n",
       " ['MBBS', ' MD - Medicine'],\n",
       " ['MBBS', ' MD - Dermatology ', ' Venereology & Leprosy'],\n",
       " ['MBBS',\n",
       "  ' MD - Internal Medicine',\n",
       "  ' DNB - General Medicine',\n",
       "  ' Post Graduate Diploma in Diabetology (PGDD)'],\n",
       " ['BDS'],\n",
       " ['MBBS', ' MS - ENT'],\n",
       " ['MBBS', ' DVD'],\n",
       " ['BDS', ' Fellow of Academy of General Education (FAGE)'],\n",
       " ['BHMS'],\n",
       " ['BHMS'],\n",
       " ['MBBS',\n",
       "  ' DDVL',\n",
       "  ' Fellowship in Cosmetology and Dermatosurgery',\n",
       "  ' Fellowship in Aesthetic Medicine'],\n",
       " ['MBBS', ' MD - Dermatology'],\n",
       " ['BDS'],\n",
       " ['MBBS', ' MS - General Surgery', ' MS - Paediatrics Surgery'],\n",
       " ['MBBS', ' MD - Dermatology ', ' Venereology & Leprosy'],\n",
       " ['LCEH'],\n",
       " ['MBBS', ' MD - Dermatology', ' DVL - Dermatology & Venereology'],\n",
       " ['BHMS', ' MD - Homeopathy'],\n",
       " ['BHMS', ' MD - Homeopathy'],\n",
       " ['MBBS', ' MS - ENT'],\n",
       " ['MBBS', ' Post Graduate Course in Diabetology', ' FCPS - General Surgery'],\n",
       " ['BAMS'],\n",
       " ['BHMS'],\n",
       " ['DMS', ' MD - Homeopathy'],\n",
       " ['BAMS'],\n",
       " ['MD - Homeopathy', ' BHMS'],\n",
       " ['MDS', ' BDS'],\n",
       " ['BDS', ' MDS - Prosthodontics'],\n",
       " ['MBBS', ' DNB - General Medicine'],\n",
       " ['MDS - Pedodontics'],\n",
       " ['BAMS'],\n",
       " ['BHMS'],\n",
       " ['BAMS', ' BSAM', ' MS - Counselling & Psychotherapy'],\n",
       " ['MBBS',\n",
       "  ' Advanced Certificate Course In Diabetes',\n",
       "  ' PG in Diabetology',\n",
       "  ' Post Graduate Diploma in Diabetology (PGDD)(University of Leicester',\n",
       "  ' UK)'],\n",
       " ['B.Sc',\n",
       "  ' MBBS',\n",
       "  ' MD - General Medicine',\n",
       "  ' Master of Clinical Embryology',\n",
       "  ' Diploma of Clinical Hypnotherapy'],\n",
       " ['BAMS', ' MD - Ayurveda Medicine'],\n",
       " ['BAMS'],\n",
       " ['BAMS', ' MD - Ayurveda Medicine'],\n",
       " ['MBBS', ' MS - ENT'],\n",
       " ['BHMS'],\n",
       " ['BDS', ' MDS - Orthodontics and Dentofacial Orthopaedics'],\n",
       " ['MBBS', ' MD - General Medicine'],\n",
       " ['BDS', ' MDS - Pedodontics'],\n",
       " ['BHMS'],\n",
       " ['BDS'],\n",
       " ['MBBS', ' MD - Medicine', ' DM - Cardiology'],\n",
       " ['MBBS', ' Diploma in Otorhinolaryngology (DLO)', ' DNB - ENT'],\n",
       " ['MBBS', ' Diploma in Otorhinolaryngology (DLO)'],\n",
       " ['MBBS', ' MD - Dermatology ', ' Venereology & Leprosy'],\n",
       " ['BAMS'],\n",
       " ['BDS', ' B.Sc - Zoology (Hons.)'],\n",
       " ['BHMS'],\n",
       " ['DDVL'],\n",
       " ['MS - ENT', ' MBBS'],\n",
       " ['MBBS', ' Fellowship in Diabetology', ' Diploma in Emergency Medicine'],\n",
       " ['MBBS', ' MD - Internal Medicine'],\n",
       " ['MS - ENT', ' MBBS'],\n",
       " ['BAMS'],\n",
       " ['BAMS'],\n",
       " ['BAMS'],\n",
       " ['MS - Otorhinolaryngology', ' MBBS'],\n",
       " ['BDS'],\n",
       " ['BAMS'],\n",
       " ['BDS', ' MDS - Prosthodontics'],\n",
       " ['MBBS', ' DDVL'],\n",
       " ['MBBS', ' MD - Dermatology ', ' Venereology & Leprosy'],\n",
       " ['MBBS', ' PGD ND'],\n",
       " ['MBBS'],\n",
       " ['MBBS', ' MD - General Medicine'],\n",
       " ['BHMS'],\n",
       " ['BAMS', ' MD - Ayurveda Medicine'],\n",
       " ['MBBS', ' MS - ENT', ' Diploma in Otorhinolaryngology (DLO)'],\n",
       " ['BHMS'],\n",
       " ['MBBS', ' DDV'],\n",
       " ['BDS'],\n",
       " ['MBBS', ' DDVL', ' MD - Dermatology'],\n",
       " ['MBBS', ' DDVL'],\n",
       " ['DHMS (Diploma in Homeopathic Medicine and Surgery)', ' MD - Homeopathy'],\n",
       " ['MBBS', ' MD - Skin & VD'],\n",
       " ['MBBS', ' MD - Dermatology'],\n",
       " ['BHMS', ' MD - Homeopathy'],\n",
       " ['BAMS'],\n",
       " ['BHMS'],\n",
       " ['BHMS'],\n",
       " ['BHMS',\n",
       "  ' Certificate Course in Advanced Homoeopathy (C.C.A.H)',\n",
       "  ' Post Graduate Diploma in Emergency Medical Services'],\n",
       " ['BHMS'],\n",
       " ['BHMS', ' PG - Homeo'],\n",
       " ['MBBS', ' DDV', ' FCPS - Dermatology', ' Venereology & Leprosy'],\n",
       " ['BDS', ' MDS'],\n",
       " ['MBBS'],\n",
       " ['BDS', ' MDS - Oral & Maxillofacial Surgery'],\n",
       " ['B.Sc',\n",
       "  ' BHMS',\n",
       "  ' Certificate in Food and Nutrition',\n",
       "  ' Certificate Course in Advanced Homoeopathy (C.C.A.H)'],\n",
       " ['MBBS', ' MD - Dermatology'],\n",
       " ['MBBS', ' MD - General Medicine', ' DNB - Nephrology'],\n",
       " ['MBBS',\n",
       "  ' MD - Dermatology',\n",
       "  ' MNAMS - DERMATOLOGY',\n",
       "  ' Diploma in Dermatology'],\n",
       " ['MBBS', ' MD - Dermatology'],\n",
       " ['MBBS', ' MD - Family Medicine'],\n",
       " ['MBBS'],\n",
       " ['BAMS',\n",
       "  ' Post Graduate Diploma in Emergency Services (PGDEMS)',\n",
       "  ' MS - Psychology'],\n",
       " ['DDVL', ' MBBS'],\n",
       " ['BHMS', ' CGO'],\n",
       " ['MBBS', ' Post Graduate Diploma in Diabetology (PGDD)'],\n",
       " ['BDS'],\n",
       " ['MBBS'],\n",
       " ['BDS', ' MDS - Paedodontics And Preventive Dentistry'],\n",
       " ['BDS'],\n",
       " ['MBBS', ' DNB - General Medicine'],\n",
       " ['MBBS', ' MD - General Medicine', ' DDV'],\n",
       " ['MBBS', ' MS - ENT'],\n",
       " ['MBBS', ' Diploma in Dermatology', ' MD - Dermatology'],\n",
       " ['MBBS'],\n",
       " ['MBBS',\n",
       "  ' Fellowship in Emergency Medicine',\n",
       "  ' Post Graduate Diploma in Diabetology (PGDD)(Madras Medical College)',\n",
       "  ' PG Diploma in Endocrinology'],\n",
       " ['BDS',\n",
       "  ' Professional Implantology Training Course (PITC)',\n",
       "  ' Advanced Surgical Training In Implants',\n",
       "  ' Certification in Full Mouth Rehabilitation'],\n",
       " ['MBBS', ' Diploma in Otorhinolaryngology (DLO)'],\n",
       " ['MS - ENT', ' DNB - ENT'],\n",
       " ['BDS', ' MDS'],\n",
       " ['MBBS', ' MS - General Surgery', ' MCh - Neuro Surgery'],\n",
       " ['BDS', ' MDS - Paedodontics And Preventive Dentistry'],\n",
       " ['MBBS'],\n",
       " ['MBBS', ' MS - ENT'],\n",
       " ['MD - General Medicine', ' MBBS'],\n",
       " ['BHMS'],\n",
       " ['BDS'],\n",
       " ['BAMS'],\n",
       " ['MS - Otorhinolaryngology',\n",
       "  ' DNB - Otorhinolaryngology',\n",
       "  ' FCPS - Mid. & Gynae',\n",
       "  ' MBBS'],\n",
       " ['BHMS'],\n",
       " ['MD - Homeopathy', ' BHMS'],\n",
       " ['BHMS'],\n",
       " ['MBBS',\n",
       "  ' Post Graduate Diploma in Diabetology (PGDD)',\n",
       "  ' MD - General Medicine'],\n",
       " ['DNB - Family Medicine', ' MBBS', ' DHM'],\n",
       " ['BAMS'],\n",
       " ['BDS', ' MDS - Oral & Maxillofacial Surgery'],\n",
       " ['MBBS', ' Diploma in Child Health (DCH)'],\n",
       " ['BDS', ' MDS - Prosthodontics'],\n",
       " ['MBBS'],\n",
       " ['BAMS'],\n",
       " ['MBBS', ' Diploma in Otorhinolaryngology (DLO)'],\n",
       " ['BDS'],\n",
       " ['BHMS'],\n",
       " ['MBBS', ' MS - ENT'],\n",
       " ['MD - Dermatology ', ' Venereology & Leprosy', ' MBBS'],\n",
       " ['BDS', ' MDS - Conservative Dentistry & Endodontics'],\n",
       " ['MBBS', ' DNB - General Medicine'],\n",
       " ['MDS - Operative Dentistry', ' BDS'],\n",
       " ['MD - Dermatology', ' MBBS'],\n",
       " ['BDS', ' Post Graduate Diploma In Aesthetic & Restorative Dentistry'],\n",
       " ['MBBS', ' DDV', ' MD - Skin & VD'],\n",
       " ['MD - Ayurveda Medicine'],\n",
       " ['MD - Homeopathy', ' BHMS'],\n",
       " ['MBBS', ' DNB - ENT', ' DNB - Otorhinolaryngology'],\n",
       " ['BDS', ' MDS - Prosthodontist And Crown Bridge'],\n",
       " ['MBBS', ' MS - ENT', ' MCh - Oncology'],\n",
       " ['MD - General Medicine', ' FRCP', ' FIAMS', ' MBBS'],\n",
       " ['BDS'],\n",
       " ['MBBS', ' MD - Dermatology ', ' Venereology & Leprosy'],\n",
       " ['BDS', ' MDS - Prosthodontist And Crown Bridge'],\n",
       " ['BDS'],\n",
       " ['MBBS', ' MS - ENT'],\n",
       " ['MBBS', ' MD - Medicine'],\n",
       " ['BDS'],\n",
       " ['BAMS'],\n",
       " ['MBBS', ' DNB - Family Medicine'],\n",
       " ['MDS - Periodontology and Oral Implantology', ' BDS'],\n",
       " ['BDS', ' Diploma in Hospital Administration'],\n",
       " ['MBBS', ' MD - Skin & VD'],\n",
       " ['MBBS', ' MS - ENT'],\n",
       " ['MBBS'],\n",
       " ['BHMS', ' MD - Homeopathy'],\n",
       " ['MBBS', ' DM - Neurology'],\n",
       " ['MBBS', ' MS - ENT'],\n",
       " ['DHMS (Diploma in Homeopathic Medicine and Surgery)', ' MD - Homeopathy'],\n",
       " ['MBBS'],\n",
       " ['MBBS', ' MD - Dermatology ', ' Venereology & Leprosy'],\n",
       " ['MBBS', ' Diploma in Dermatology'],\n",
       " ['DHMS (Diploma in Homeopathic Medicine and Surgery)', ' MD - Homeopathy'],\n",
       " ['BHMS'],\n",
       " ['MBBS', ' MD - Dermatology ', ' Venereology & Leprosy'],\n",
       " ['MBBS', ' MS - ENT'],\n",
       " ['MBBS', ' MD - General Medicine'],\n",
       " ['MS - ENT', ' DNB - ENT', ' MBBS'],\n",
       " ['MBBS', ' MD - Dermatology ', ' Venereology & Leprosy'],\n",
       " ['MBBS',\n",
       "  ' MS - Otorhinolaryngology',\n",
       "  ' MS - ENT',\n",
       "  ' Fellowship in Rhinology and Endoscopic Skull Base Surgery',\n",
       "  ' Fellowship in Head & Neck Surgery'],\n",
       " ['MBBS', ' DDV', ' MD - Skin', 'VD & Leprosy'],\n",
       " ['BDS', ' MDS - Prosthodontics'],\n",
       " ['Post Graduate Certificate in Endodontics (PGCE)', ' BDS'],\n",
       " ['MBBS', ' D.D', ' MD - Dermatology'],\n",
       " ['BAMS'],\n",
       " ['MBBS', ' MD - Dermatology'],\n",
       " ['BDS'],\n",
       " ['MBBS', ' MD - Dermatology', ' PhD - Dermatology & Venereology'],\n",
       " ['BAMS'],\n",
       " ['BSAM'],\n",
       " ['MBBS', ' MD - Dermatology', ' Fellowship in Dermatological Laser Surgery'],\n",
       " ...]"
      ]
     },
     "execution_count": 252,
     "metadata": {},
     "output_type": "execute_result"
    }
   ],
   "source": [
    "Q"
   ]
  },
  {
   "cell_type": "code",
   "execution_count": 253,
   "metadata": {},
   "outputs": [],
   "source": [
    "No_of_Qualifications = []\n",
    "\n",
    "for i in range(len(Q)):\n",
    "    No_of_Qualifications.append(len(Q[i]))"
   ]
  },
  {
   "cell_type": "code",
   "execution_count": 254,
   "metadata": {},
   "outputs": [
    {
     "data": {
      "text/plain": [
       "[1, 2, 2, 1, 2]"
      ]
     },
     "execution_count": 254,
     "metadata": {},
     "output_type": "execute_result"
    }
   ],
   "source": [
    "No_of_Qualifications[0:5]"
   ]
  },
  {
   "cell_type": "code",
   "execution_count": 255,
   "metadata": {},
   "outputs": [],
   "source": [
    "df1['Q'] = No_of_Qualifications"
   ]
  },
  {
   "cell_type": "code",
   "execution_count": 256,
   "metadata": {},
   "outputs": [
    {
     "data": {
      "text/plain": [
       "Qualification    0\n",
       "Experience       0\n",
       "Place            6\n",
       "Profile          0\n",
       "E                0\n",
       "Q                0\n",
       "dtype: int64"
      ]
     },
     "execution_count": 256,
     "metadata": {},
     "output_type": "execute_result"
    }
   ],
   "source": [
    "df1.isnull().sum()"
   ]
  },
  {
   "cell_type": "markdown",
   "metadata": {},
   "source": [
    "since, there are only 6 values lets fill that using forward fill"
   ]
  },
  {
   "cell_type": "code",
   "execution_count": 257,
   "metadata": {},
   "outputs": [],
   "source": [
    "df1 = df1.fillna(method='ffill')"
   ]
  },
  {
   "cell_type": "code",
   "execution_count": 258,
   "metadata": {},
   "outputs": [
    {
     "data": {
      "text/plain": [
       "Qualification    0\n",
       "Experience       0\n",
       "Place            0\n",
       "Profile          0\n",
       "E                0\n",
       "Q                0\n",
       "dtype: int64"
      ]
     },
     "execution_count": 258,
     "metadata": {},
     "output_type": "execute_result"
    }
   ],
   "source": [
    "df1.isnull().sum()"
   ]
  },
  {
   "cell_type": "markdown",
   "metadata": {},
   "source": [
    "The nan are filled by values from the variable."
   ]
  },
  {
   "cell_type": "code",
   "execution_count": 259,
   "metadata": {},
   "outputs": [],
   "source": [
    "P =[]\n",
    "for i in df1['Place']:\n",
    "    P.append(i.split(','))"
   ]
  },
  {
   "cell_type": "code",
   "execution_count": 260,
   "metadata": {},
   "outputs": [],
   "source": [
    "pl = []\n",
    "for i in range(len(P)):\n",
    "    pl.append(P[i][1])"
   ]
  },
  {
   "cell_type": "code",
   "execution_count": 261,
   "metadata": {},
   "outputs": [
    {
     "data": {
      "text/plain": [
       "1987"
      ]
     },
     "execution_count": 261,
     "metadata": {},
     "output_type": "execute_result"
    }
   ],
   "source": [
    "len(pl)"
   ]
  },
  {
   "cell_type": "code",
   "execution_count": 262,
   "metadata": {},
   "outputs": [],
   "source": [
    "df1['P'] = pl"
   ]
  },
  {
   "cell_type": "code",
   "execution_count": 263,
   "metadata": {},
   "outputs": [
    {
     "data": {
      "text/html": [
       "<div>\n",
       "<style scoped>\n",
       "    .dataframe tbody tr th:only-of-type {\n",
       "        vertical-align: middle;\n",
       "    }\n",
       "\n",
       "    .dataframe tbody tr th {\n",
       "        vertical-align: top;\n",
       "    }\n",
       "\n",
       "    .dataframe thead th {\n",
       "        text-align: right;\n",
       "    }\n",
       "</style>\n",
       "<table border=\"1\" class=\"dataframe\">\n",
       "  <thead>\n",
       "    <tr style=\"text-align: right;\">\n",
       "      <th></th>\n",
       "      <th>Qualification</th>\n",
       "      <th>Experience</th>\n",
       "      <th>Place</th>\n",
       "      <th>Profile</th>\n",
       "      <th>E</th>\n",
       "      <th>Q</th>\n",
       "      <th>P</th>\n",
       "    </tr>\n",
       "  </thead>\n",
       "  <tbody>\n",
       "    <tr>\n",
       "      <th>0</th>\n",
       "      <td>MBBS</td>\n",
       "      <td>35 years experience</td>\n",
       "      <td>Ghatkopar East, Mumbai</td>\n",
       "      <td>General Medicine</td>\n",
       "      <td>35</td>\n",
       "      <td>1</td>\n",
       "      <td>Mumbai</td>\n",
       "    </tr>\n",
       "    <tr>\n",
       "      <th>1</th>\n",
       "      <td>MBBS, Diploma in Otorhinolaryngology (DLO)</td>\n",
       "      <td>31 years experience</td>\n",
       "      <td>West Marredpally, Hyderabad</td>\n",
       "      <td>ENT Specialist</td>\n",
       "      <td>31</td>\n",
       "      <td>2</td>\n",
       "      <td>Hyderabad</td>\n",
       "    </tr>\n",
       "    <tr>\n",
       "      <th>2</th>\n",
       "      <td>MBBS, DDVL</td>\n",
       "      <td>40 years experience</td>\n",
       "      <td>KK Nagar, Chennai</td>\n",
       "      <td>Dermatologists</td>\n",
       "      <td>40</td>\n",
       "      <td>2</td>\n",
       "      <td>Chennai</td>\n",
       "    </tr>\n",
       "    <tr>\n",
       "      <th>3</th>\n",
       "      <td>BAMS</td>\n",
       "      <td>0 years experience</td>\n",
       "      <td>New Ashok Nagar, Delhi</td>\n",
       "      <td>Ayurveda</td>\n",
       "      <td>0</td>\n",
       "      <td>1</td>\n",
       "      <td>Delhi</td>\n",
       "    </tr>\n",
       "    <tr>\n",
       "      <th>4</th>\n",
       "      <td>BDS, MDS - Conservative Dentistry &amp; Endodontics</td>\n",
       "      <td>16 years experience</td>\n",
       "      <td>Kanakpura Road, Bangalore</td>\n",
       "      <td>Dentist</td>\n",
       "      <td>16</td>\n",
       "      <td>2</td>\n",
       "      <td>Bangalore</td>\n",
       "    </tr>\n",
       "  </tbody>\n",
       "</table>\n",
       "</div>"
      ],
      "text/plain": [
       "                                     Qualification           Experience  \\\n",
       "0                                             MBBS  35 years experience   \n",
       "1       MBBS, Diploma in Otorhinolaryngology (DLO)  31 years experience   \n",
       "2                                       MBBS, DDVL  40 years experience   \n",
       "3                                             BAMS   0 years experience   \n",
       "4  BDS, MDS - Conservative Dentistry & Endodontics  16 years experience   \n",
       "\n",
       "                         Place           Profile   E  Q           P  \n",
       "0       Ghatkopar East, Mumbai  General Medicine  35  1      Mumbai  \n",
       "1  West Marredpally, Hyderabad    ENT Specialist  31  2   Hyderabad  \n",
       "2            KK Nagar, Chennai    Dermatologists  40  2     Chennai  \n",
       "3       New Ashok Nagar, Delhi          Ayurveda   0  1       Delhi  \n",
       "4    Kanakpura Road, Bangalore           Dentist  16  2   Bangalore  "
      ]
     },
     "execution_count": 263,
     "metadata": {},
     "output_type": "execute_result"
    }
   ],
   "source": [
    "df1.head()"
   ]
  },
  {
   "cell_type": "code",
   "execution_count": 264,
   "metadata": {},
   "outputs": [],
   "source": [
    "Pr = pd.get_dummies(df1['Profile'])"
   ]
  },
  {
   "cell_type": "code",
   "execution_count": 265,
   "metadata": {},
   "outputs": [
    {
     "data": {
      "text/html": [
       "<div>\n",
       "<style scoped>\n",
       "    .dataframe tbody tr th:only-of-type {\n",
       "        vertical-align: middle;\n",
       "    }\n",
       "\n",
       "    .dataframe tbody tr th {\n",
       "        vertical-align: top;\n",
       "    }\n",
       "\n",
       "    .dataframe thead th {\n",
       "        text-align: right;\n",
       "    }\n",
       "</style>\n",
       "<table border=\"1\" class=\"dataframe\">\n",
       "  <thead>\n",
       "    <tr style=\"text-align: right;\">\n",
       "      <th></th>\n",
       "      <th>Ayurveda</th>\n",
       "      <th>Dentist</th>\n",
       "      <th>Dermatologists</th>\n",
       "      <th>ENT Specialist</th>\n",
       "      <th>General Medicine</th>\n",
       "      <th>Homeopath</th>\n",
       "    </tr>\n",
       "  </thead>\n",
       "  <tbody>\n",
       "    <tr>\n",
       "      <th>0</th>\n",
       "      <td>0</td>\n",
       "      <td>0</td>\n",
       "      <td>0</td>\n",
       "      <td>0</td>\n",
       "      <td>1</td>\n",
       "      <td>0</td>\n",
       "    </tr>\n",
       "    <tr>\n",
       "      <th>1</th>\n",
       "      <td>0</td>\n",
       "      <td>0</td>\n",
       "      <td>0</td>\n",
       "      <td>1</td>\n",
       "      <td>0</td>\n",
       "      <td>0</td>\n",
       "    </tr>\n",
       "    <tr>\n",
       "      <th>2</th>\n",
       "      <td>0</td>\n",
       "      <td>0</td>\n",
       "      <td>1</td>\n",
       "      <td>0</td>\n",
       "      <td>0</td>\n",
       "      <td>0</td>\n",
       "    </tr>\n",
       "    <tr>\n",
       "      <th>3</th>\n",
       "      <td>1</td>\n",
       "      <td>0</td>\n",
       "      <td>0</td>\n",
       "      <td>0</td>\n",
       "      <td>0</td>\n",
       "      <td>0</td>\n",
       "    </tr>\n",
       "    <tr>\n",
       "      <th>4</th>\n",
       "      <td>0</td>\n",
       "      <td>1</td>\n",
       "      <td>0</td>\n",
       "      <td>0</td>\n",
       "      <td>0</td>\n",
       "      <td>0</td>\n",
       "    </tr>\n",
       "    <tr>\n",
       "      <th>...</th>\n",
       "      <td>...</td>\n",
       "      <td>...</td>\n",
       "      <td>...</td>\n",
       "      <td>...</td>\n",
       "      <td>...</td>\n",
       "      <td>...</td>\n",
       "    </tr>\n",
       "    <tr>\n",
       "      <th>1982</th>\n",
       "      <td>1</td>\n",
       "      <td>0</td>\n",
       "      <td>0</td>\n",
       "      <td>0</td>\n",
       "      <td>0</td>\n",
       "      <td>0</td>\n",
       "    </tr>\n",
       "    <tr>\n",
       "      <th>1983</th>\n",
       "      <td>0</td>\n",
       "      <td>0</td>\n",
       "      <td>1</td>\n",
       "      <td>0</td>\n",
       "      <td>0</td>\n",
       "      <td>0</td>\n",
       "    </tr>\n",
       "    <tr>\n",
       "      <th>1984</th>\n",
       "      <td>0</td>\n",
       "      <td>0</td>\n",
       "      <td>0</td>\n",
       "      <td>0</td>\n",
       "      <td>1</td>\n",
       "      <td>0</td>\n",
       "    </tr>\n",
       "    <tr>\n",
       "      <th>1985</th>\n",
       "      <td>0</td>\n",
       "      <td>1</td>\n",
       "      <td>0</td>\n",
       "      <td>0</td>\n",
       "      <td>0</td>\n",
       "      <td>0</td>\n",
       "    </tr>\n",
       "    <tr>\n",
       "      <th>1986</th>\n",
       "      <td>0</td>\n",
       "      <td>0</td>\n",
       "      <td>1</td>\n",
       "      <td>0</td>\n",
       "      <td>0</td>\n",
       "      <td>0</td>\n",
       "    </tr>\n",
       "  </tbody>\n",
       "</table>\n",
       "<p>1987 rows × 6 columns</p>\n",
       "</div>"
      ],
      "text/plain": [
       "      Ayurveda  Dentist  Dermatologists  ENT Specialist  General Medicine  \\\n",
       "0            0        0               0               0                 1   \n",
       "1            0        0               0               1                 0   \n",
       "2            0        0               1               0                 0   \n",
       "3            1        0               0               0                 0   \n",
       "4            0        1               0               0                 0   \n",
       "...        ...      ...             ...             ...               ...   \n",
       "1982         1        0               0               0                 0   \n",
       "1983         0        0               1               0                 0   \n",
       "1984         0        0               0               0                 1   \n",
       "1985         0        1               0               0                 0   \n",
       "1986         0        0               1               0                 0   \n",
       "\n",
       "      Homeopath  \n",
       "0             0  \n",
       "1             0  \n",
       "2             0  \n",
       "3             0  \n",
       "4             0  \n",
       "...         ...  \n",
       "1982          0  \n",
       "1983          0  \n",
       "1984          0  \n",
       "1985          0  \n",
       "1986          0  \n",
       "\n",
       "[1987 rows x 6 columns]"
      ]
     },
     "execution_count": 265,
     "metadata": {},
     "output_type": "execute_result"
    }
   ],
   "source": [
    "Pr"
   ]
  },
  {
   "cell_type": "code",
   "execution_count": 266,
   "metadata": {},
   "outputs": [],
   "source": [
    "df1.drop(columns=['Qualification','Experience','Place','Profile'],inplace = True)"
   ]
  },
  {
   "cell_type": "code",
   "execution_count": 268,
   "metadata": {},
   "outputs": [],
   "source": [
    "df2 = df1.drop(columns=['P'])"
   ]
  },
  {
   "cell_type": "code",
   "execution_count": 269,
   "metadata": {},
   "outputs": [],
   "source": [
    "df2 = pd.concat([df2,Pr],axis=1)"
   ]
  },
  {
   "cell_type": "code",
   "execution_count": 270,
   "metadata": {},
   "outputs": [],
   "source": [
    "df3 = pd.get_dummies(df1['P'])"
   ]
  },
  {
   "cell_type": "code",
   "execution_count": 271,
   "metadata": {},
   "outputs": [],
   "source": [
    "df2 = pd.concat([df2,df3],axis=1)"
   ]
  },
  {
   "cell_type": "code",
   "execution_count": 272,
   "metadata": {},
   "outputs": [
    {
     "data": {
      "text/html": [
       "<div>\n",
       "<style scoped>\n",
       "    .dataframe tbody tr th:only-of-type {\n",
       "        vertical-align: middle;\n",
       "    }\n",
       "\n",
       "    .dataframe tbody tr th {\n",
       "        vertical-align: top;\n",
       "    }\n",
       "\n",
       "    .dataframe thead th {\n",
       "        text-align: right;\n",
       "    }\n",
       "</style>\n",
       "<table border=\"1\" class=\"dataframe\">\n",
       "  <thead>\n",
       "    <tr style=\"text-align: right;\">\n",
       "      <th></th>\n",
       "      <th>E</th>\n",
       "      <th>Q</th>\n",
       "      <th>Ayurveda</th>\n",
       "      <th>Dentist</th>\n",
       "      <th>Dermatologists</th>\n",
       "      <th>ENT Specialist</th>\n",
       "      <th>General Medicine</th>\n",
       "      <th>Homeopath</th>\n",
       "      <th>Bangalore</th>\n",
       "      <th>Chennai</th>\n",
       "      <th>Coimbatore</th>\n",
       "      <th>Delhi</th>\n",
       "      <th>Ernakulam</th>\n",
       "      <th>Hyderabad</th>\n",
       "      <th>Mumbai</th>\n",
       "      <th>Thiruvananthapuram</th>\n",
       "    </tr>\n",
       "  </thead>\n",
       "  <tbody>\n",
       "    <tr>\n",
       "      <th>0</th>\n",
       "      <td>35</td>\n",
       "      <td>1</td>\n",
       "      <td>0</td>\n",
       "      <td>0</td>\n",
       "      <td>0</td>\n",
       "      <td>0</td>\n",
       "      <td>1</td>\n",
       "      <td>0</td>\n",
       "      <td>0</td>\n",
       "      <td>0</td>\n",
       "      <td>0</td>\n",
       "      <td>0</td>\n",
       "      <td>0</td>\n",
       "      <td>0</td>\n",
       "      <td>1</td>\n",
       "      <td>0</td>\n",
       "    </tr>\n",
       "    <tr>\n",
       "      <th>1</th>\n",
       "      <td>31</td>\n",
       "      <td>2</td>\n",
       "      <td>0</td>\n",
       "      <td>0</td>\n",
       "      <td>0</td>\n",
       "      <td>1</td>\n",
       "      <td>0</td>\n",
       "      <td>0</td>\n",
       "      <td>0</td>\n",
       "      <td>0</td>\n",
       "      <td>0</td>\n",
       "      <td>0</td>\n",
       "      <td>0</td>\n",
       "      <td>1</td>\n",
       "      <td>0</td>\n",
       "      <td>0</td>\n",
       "    </tr>\n",
       "    <tr>\n",
       "      <th>2</th>\n",
       "      <td>40</td>\n",
       "      <td>2</td>\n",
       "      <td>0</td>\n",
       "      <td>0</td>\n",
       "      <td>1</td>\n",
       "      <td>0</td>\n",
       "      <td>0</td>\n",
       "      <td>0</td>\n",
       "      <td>0</td>\n",
       "      <td>1</td>\n",
       "      <td>0</td>\n",
       "      <td>0</td>\n",
       "      <td>0</td>\n",
       "      <td>0</td>\n",
       "      <td>0</td>\n",
       "      <td>0</td>\n",
       "    </tr>\n",
       "    <tr>\n",
       "      <th>3</th>\n",
       "      <td>0</td>\n",
       "      <td>1</td>\n",
       "      <td>1</td>\n",
       "      <td>0</td>\n",
       "      <td>0</td>\n",
       "      <td>0</td>\n",
       "      <td>0</td>\n",
       "      <td>0</td>\n",
       "      <td>0</td>\n",
       "      <td>0</td>\n",
       "      <td>0</td>\n",
       "      <td>1</td>\n",
       "      <td>0</td>\n",
       "      <td>0</td>\n",
       "      <td>0</td>\n",
       "      <td>0</td>\n",
       "    </tr>\n",
       "    <tr>\n",
       "      <th>4</th>\n",
       "      <td>16</td>\n",
       "      <td>2</td>\n",
       "      <td>0</td>\n",
       "      <td>1</td>\n",
       "      <td>0</td>\n",
       "      <td>0</td>\n",
       "      <td>0</td>\n",
       "      <td>0</td>\n",
       "      <td>1</td>\n",
       "      <td>0</td>\n",
       "      <td>0</td>\n",
       "      <td>0</td>\n",
       "      <td>0</td>\n",
       "      <td>0</td>\n",
       "      <td>0</td>\n",
       "      <td>0</td>\n",
       "    </tr>\n",
       "  </tbody>\n",
       "</table>\n",
       "</div>"
      ],
      "text/plain": [
       "    E  Q  Ayurveda  Dentist  Dermatologists  ENT Specialist  General Medicine  \\\n",
       "0  35  1         0        0               0               0                 1   \n",
       "1  31  2         0        0               0               1                 0   \n",
       "2  40  2         0        0               1               0                 0   \n",
       "3   0  1         1        0               0               0                 0   \n",
       "4  16  2         0        1               0               0                 0   \n",
       "\n",
       "   Homeopath   Bangalore   Chennai   Coimbatore   Delhi   Ernakulam  \\\n",
       "0          0           0         0            0       0           0   \n",
       "1          0           0         0            0       0           0   \n",
       "2          0           0         1            0       0           0   \n",
       "3          0           0         0            0       1           0   \n",
       "4          0           1         0            0       0           0   \n",
       "\n",
       "    Hyderabad   Mumbai   Thiruvananthapuram  \n",
       "0           0        1                    0  \n",
       "1           1        0                    0  \n",
       "2           0        0                    0  \n",
       "3           0        0                    0  \n",
       "4           0        0                    0  "
      ]
     },
     "execution_count": 272,
     "metadata": {},
     "output_type": "execute_result"
    }
   ],
   "source": [
    "df2.head()"
   ]
  },
  {
   "cell_type": "code",
   "execution_count": 273,
   "metadata": {},
   "outputs": [],
   "source": [
    "df2['Q'] = np.log(df2.Q)"
   ]
  },
  {
   "cell_type": "code",
   "execution_count": 276,
   "metadata": {},
   "outputs": [],
   "source": [
    "intE = []\n",
    "\n",
    "for i in df2.E:\n",
    "    intE.append(int(i))"
   ]
  },
  {
   "cell_type": "code",
   "execution_count": 278,
   "metadata": {},
   "outputs": [],
   "source": [
    "df2['E'] = intE"
   ]
  },
  {
   "cell_type": "code",
   "execution_count": 279,
   "metadata": {},
   "outputs": [
    {
     "data": {
      "text/html": [
       "<div>\n",
       "<style scoped>\n",
       "    .dataframe tbody tr th:only-of-type {\n",
       "        vertical-align: middle;\n",
       "    }\n",
       "\n",
       "    .dataframe tbody tr th {\n",
       "        vertical-align: top;\n",
       "    }\n",
       "\n",
       "    .dataframe thead th {\n",
       "        text-align: right;\n",
       "    }\n",
       "</style>\n",
       "<table border=\"1\" class=\"dataframe\">\n",
       "  <thead>\n",
       "    <tr style=\"text-align: right;\">\n",
       "      <th></th>\n",
       "      <th>E</th>\n",
       "      <th>Q</th>\n",
       "      <th>Ayurveda</th>\n",
       "      <th>Dentist</th>\n",
       "      <th>Dermatologists</th>\n",
       "      <th>ENT Specialist</th>\n",
       "      <th>General Medicine</th>\n",
       "      <th>Homeopath</th>\n",
       "      <th>Bangalore</th>\n",
       "      <th>Chennai</th>\n",
       "      <th>Coimbatore</th>\n",
       "      <th>Delhi</th>\n",
       "      <th>Ernakulam</th>\n",
       "      <th>Hyderabad</th>\n",
       "      <th>Mumbai</th>\n",
       "      <th>Thiruvananthapuram</th>\n",
       "    </tr>\n",
       "  </thead>\n",
       "  <tbody>\n",
       "    <tr>\n",
       "      <th>0</th>\n",
       "      <td>35</td>\n",
       "      <td>0.000000</td>\n",
       "      <td>0</td>\n",
       "      <td>0</td>\n",
       "      <td>0</td>\n",
       "      <td>0</td>\n",
       "      <td>1</td>\n",
       "      <td>0</td>\n",
       "      <td>0</td>\n",
       "      <td>0</td>\n",
       "      <td>0</td>\n",
       "      <td>0</td>\n",
       "      <td>0</td>\n",
       "      <td>0</td>\n",
       "      <td>1</td>\n",
       "      <td>0</td>\n",
       "    </tr>\n",
       "    <tr>\n",
       "      <th>1</th>\n",
       "      <td>31</td>\n",
       "      <td>0.693147</td>\n",
       "      <td>0</td>\n",
       "      <td>0</td>\n",
       "      <td>0</td>\n",
       "      <td>1</td>\n",
       "      <td>0</td>\n",
       "      <td>0</td>\n",
       "      <td>0</td>\n",
       "      <td>0</td>\n",
       "      <td>0</td>\n",
       "      <td>0</td>\n",
       "      <td>0</td>\n",
       "      <td>1</td>\n",
       "      <td>0</td>\n",
       "      <td>0</td>\n",
       "    </tr>\n",
       "    <tr>\n",
       "      <th>2</th>\n",
       "      <td>40</td>\n",
       "      <td>0.693147</td>\n",
       "      <td>0</td>\n",
       "      <td>0</td>\n",
       "      <td>1</td>\n",
       "      <td>0</td>\n",
       "      <td>0</td>\n",
       "      <td>0</td>\n",
       "      <td>0</td>\n",
       "      <td>1</td>\n",
       "      <td>0</td>\n",
       "      <td>0</td>\n",
       "      <td>0</td>\n",
       "      <td>0</td>\n",
       "      <td>0</td>\n",
       "      <td>0</td>\n",
       "    </tr>\n",
       "    <tr>\n",
       "      <th>3</th>\n",
       "      <td>0</td>\n",
       "      <td>0.000000</td>\n",
       "      <td>1</td>\n",
       "      <td>0</td>\n",
       "      <td>0</td>\n",
       "      <td>0</td>\n",
       "      <td>0</td>\n",
       "      <td>0</td>\n",
       "      <td>0</td>\n",
       "      <td>0</td>\n",
       "      <td>0</td>\n",
       "      <td>1</td>\n",
       "      <td>0</td>\n",
       "      <td>0</td>\n",
       "      <td>0</td>\n",
       "      <td>0</td>\n",
       "    </tr>\n",
       "    <tr>\n",
       "      <th>4</th>\n",
       "      <td>16</td>\n",
       "      <td>0.693147</td>\n",
       "      <td>0</td>\n",
       "      <td>1</td>\n",
       "      <td>0</td>\n",
       "      <td>0</td>\n",
       "      <td>0</td>\n",
       "      <td>0</td>\n",
       "      <td>1</td>\n",
       "      <td>0</td>\n",
       "      <td>0</td>\n",
       "      <td>0</td>\n",
       "      <td>0</td>\n",
       "      <td>0</td>\n",
       "      <td>0</td>\n",
       "      <td>0</td>\n",
       "    </tr>\n",
       "  </tbody>\n",
       "</table>\n",
       "</div>"
      ],
      "text/plain": [
       "    E         Q  Ayurveda  Dentist  Dermatologists  ENT Specialist  \\\n",
       "0  35  0.000000         0        0               0               0   \n",
       "1  31  0.693147         0        0               0               1   \n",
       "2  40  0.693147         0        0               1               0   \n",
       "3   0  0.000000         1        0               0               0   \n",
       "4  16  0.693147         0        1               0               0   \n",
       "\n",
       "   General Medicine  Homeopath   Bangalore   Chennai   Coimbatore   Delhi  \\\n",
       "0                 1          0           0         0            0       0   \n",
       "1                 0          0           0         0            0       0   \n",
       "2                 0          0           0         1            0       0   \n",
       "3                 0          0           0         0            0       1   \n",
       "4                 0          0           1         0            0       0   \n",
       "\n",
       "    Ernakulam   Hyderabad   Mumbai   Thiruvananthapuram  \n",
       "0           0           0        1                    0  \n",
       "1           0           1        0                    0  \n",
       "2           0           0        0                    0  \n",
       "3           0           0        0                    0  \n",
       "4           0           0        0                    0  "
      ]
     },
     "execution_count": 279,
     "metadata": {},
     "output_type": "execute_result"
    }
   ],
   "source": [
    "df2.head()"
   ]
  },
  {
   "cell_type": "code",
   "execution_count": 280,
   "metadata": {},
   "outputs": [],
   "source": [
    "df2['E'] = np.sqrt(df2['E'])"
   ]
  },
  {
   "cell_type": "code",
   "execution_count": 281,
   "metadata": {},
   "outputs": [
    {
     "data": {
      "text/html": [
       "<div>\n",
       "<style scoped>\n",
       "    .dataframe tbody tr th:only-of-type {\n",
       "        vertical-align: middle;\n",
       "    }\n",
       "\n",
       "    .dataframe tbody tr th {\n",
       "        vertical-align: top;\n",
       "    }\n",
       "\n",
       "    .dataframe thead th {\n",
       "        text-align: right;\n",
       "    }\n",
       "</style>\n",
       "<table border=\"1\" class=\"dataframe\">\n",
       "  <thead>\n",
       "    <tr style=\"text-align: right;\">\n",
       "      <th></th>\n",
       "      <th>E</th>\n",
       "      <th>Q</th>\n",
       "      <th>Ayurveda</th>\n",
       "      <th>Dentist</th>\n",
       "      <th>Dermatologists</th>\n",
       "      <th>ENT Specialist</th>\n",
       "      <th>General Medicine</th>\n",
       "      <th>Homeopath</th>\n",
       "      <th>Bangalore</th>\n",
       "      <th>Chennai</th>\n",
       "      <th>Coimbatore</th>\n",
       "      <th>Delhi</th>\n",
       "      <th>Ernakulam</th>\n",
       "      <th>Hyderabad</th>\n",
       "      <th>Mumbai</th>\n",
       "      <th>Thiruvananthapuram</th>\n",
       "    </tr>\n",
       "  </thead>\n",
       "  <tbody>\n",
       "    <tr>\n",
       "      <th>0</th>\n",
       "      <td>5.916080</td>\n",
       "      <td>0.000000</td>\n",
       "      <td>0</td>\n",
       "      <td>0</td>\n",
       "      <td>0</td>\n",
       "      <td>0</td>\n",
       "      <td>1</td>\n",
       "      <td>0</td>\n",
       "      <td>0</td>\n",
       "      <td>0</td>\n",
       "      <td>0</td>\n",
       "      <td>0</td>\n",
       "      <td>0</td>\n",
       "      <td>0</td>\n",
       "      <td>1</td>\n",
       "      <td>0</td>\n",
       "    </tr>\n",
       "    <tr>\n",
       "      <th>1</th>\n",
       "      <td>5.567764</td>\n",
       "      <td>0.693147</td>\n",
       "      <td>0</td>\n",
       "      <td>0</td>\n",
       "      <td>0</td>\n",
       "      <td>1</td>\n",
       "      <td>0</td>\n",
       "      <td>0</td>\n",
       "      <td>0</td>\n",
       "      <td>0</td>\n",
       "      <td>0</td>\n",
       "      <td>0</td>\n",
       "      <td>0</td>\n",
       "      <td>1</td>\n",
       "      <td>0</td>\n",
       "      <td>0</td>\n",
       "    </tr>\n",
       "    <tr>\n",
       "      <th>2</th>\n",
       "      <td>6.324555</td>\n",
       "      <td>0.693147</td>\n",
       "      <td>0</td>\n",
       "      <td>0</td>\n",
       "      <td>1</td>\n",
       "      <td>0</td>\n",
       "      <td>0</td>\n",
       "      <td>0</td>\n",
       "      <td>0</td>\n",
       "      <td>1</td>\n",
       "      <td>0</td>\n",
       "      <td>0</td>\n",
       "      <td>0</td>\n",
       "      <td>0</td>\n",
       "      <td>0</td>\n",
       "      <td>0</td>\n",
       "    </tr>\n",
       "    <tr>\n",
       "      <th>3</th>\n",
       "      <td>0.000000</td>\n",
       "      <td>0.000000</td>\n",
       "      <td>1</td>\n",
       "      <td>0</td>\n",
       "      <td>0</td>\n",
       "      <td>0</td>\n",
       "      <td>0</td>\n",
       "      <td>0</td>\n",
       "      <td>0</td>\n",
       "      <td>0</td>\n",
       "      <td>0</td>\n",
       "      <td>1</td>\n",
       "      <td>0</td>\n",
       "      <td>0</td>\n",
       "      <td>0</td>\n",
       "      <td>0</td>\n",
       "    </tr>\n",
       "    <tr>\n",
       "      <th>4</th>\n",
       "      <td>4.000000</td>\n",
       "      <td>0.693147</td>\n",
       "      <td>0</td>\n",
       "      <td>1</td>\n",
       "      <td>0</td>\n",
       "      <td>0</td>\n",
       "      <td>0</td>\n",
       "      <td>0</td>\n",
       "      <td>1</td>\n",
       "      <td>0</td>\n",
       "      <td>0</td>\n",
       "      <td>0</td>\n",
       "      <td>0</td>\n",
       "      <td>0</td>\n",
       "      <td>0</td>\n",
       "      <td>0</td>\n",
       "    </tr>\n",
       "  </tbody>\n",
       "</table>\n",
       "</div>"
      ],
      "text/plain": [
       "          E         Q  Ayurveda  Dentist  Dermatologists  ENT Specialist  \\\n",
       "0  5.916080  0.000000         0        0               0               0   \n",
       "1  5.567764  0.693147         0        0               0               1   \n",
       "2  6.324555  0.693147         0        0               1               0   \n",
       "3  0.000000  0.000000         1        0               0               0   \n",
       "4  4.000000  0.693147         0        1               0               0   \n",
       "\n",
       "   General Medicine  Homeopath   Bangalore   Chennai   Coimbatore   Delhi  \\\n",
       "0                 1          0           0         0            0       0   \n",
       "1                 0          0           0         0            0       0   \n",
       "2                 0          0           0         1            0       0   \n",
       "3                 0          0           0         0            0       1   \n",
       "4                 0          0           1         0            0       0   \n",
       "\n",
       "    Ernakulam   Hyderabad   Mumbai   Thiruvananthapuram  \n",
       "0           0           0        1                    0  \n",
       "1           0           1        0                    0  \n",
       "2           0           0        0                    0  \n",
       "3           0           0        0                    0  \n",
       "4           0           0        0                    0  "
      ]
     },
     "execution_count": 281,
     "metadata": {},
     "output_type": "execute_result"
    }
   ],
   "source": [
    "df2.head()"
   ]
  },
  {
   "cell_type": "markdown",
   "metadata": {},
   "source": [
    "The extra test data is also ready"
   ]
  },
  {
   "cell_type": "code",
   "execution_count": 282,
   "metadata": {},
   "outputs": [],
   "source": [
    "xtrain,xtest,ytrain,ytest = train_test_split(scaledX,Y,train_size=1,random_state=44)"
   ]
  },
  {
   "cell_type": "code",
   "execution_count": 284,
   "metadata": {},
   "outputs": [
    {
     "data": {
      "text/plain": [
       "Index(['E', 'Q1', 'Ayurveda', 'Dentist', 'Dermatologists', 'ENT Specialist',\n",
       "       'General Medicine', 'Homeopath', ' Bangalore', ' Chennai',\n",
       "       ' Coimbatore', ' Delhi', ' Ernakulam', ' Hyderabad', ' Mumbai',\n",
       "       ' Sector 5', ' Thiruvananthapuram'],\n",
       "      dtype='object')"
      ]
     },
     "execution_count": 284,
     "metadata": {},
     "output_type": "execute_result"
    }
   ],
   "source": [
    "X.columns"
   ]
  },
  {
   "cell_type": "code",
   "execution_count": 285,
   "metadata": {},
   "outputs": [
    {
     "data": {
      "text/plain": [
       "Index(['E', 'Q', 'Ayurveda', 'Dentist', 'Dermatologists', 'ENT Specialist',\n",
       "       'General Medicine', 'Homeopath', ' Bangalore', ' Chennai',\n",
       "       ' Coimbatore', ' Delhi', ' Ernakulam', ' Hyderabad', ' Mumbai',\n",
       "       ' Thiruvananthapuram'],\n",
       "      dtype='object')"
      ]
     },
     "execution_count": 285,
     "metadata": {},
     "output_type": "execute_result"
    }
   ],
   "source": [
    "df2.columns"
   ]
  },
  {
   "cell_type": "markdown",
   "metadata": {},
   "source": [
    "A column is missing from test data... that is sector 5 place is not available. so lets add a dummy column of 0."
   ]
  },
  {
   "cell_type": "code",
   "execution_count": 293,
   "metadata": {},
   "outputs": [],
   "source": [
    "sector = []\n",
    "for i in range(len(df2['E'])):\n",
    "    sector.append(0)\n",
    "    \n",
    "df2['Sector 5'] = sector\n",
    "    "
   ]
  },
  {
   "cell_type": "code",
   "execution_count": 294,
   "metadata": {},
   "outputs": [],
   "source": [
    "test_data = df2.drop(columns =['Sector 5'])"
   ]
  },
  {
   "cell_type": "code",
   "execution_count": 295,
   "metadata": {},
   "outputs": [],
   "source": [
    "test_data = pd.concat([test_data,df2['Sector 5']],axis=1)"
   ]
  },
  {
   "cell_type": "code",
   "execution_count": 296,
   "metadata": {},
   "outputs": [],
   "source": [
    "lr = LinearRegression()\n",
    "lr.fit(xtrain,ytrain)\n",
    "\n",
    "predlr = lr.predict(test_data)"
   ]
  },
  {
   "cell_type": "code",
   "execution_count": 300,
   "metadata": {},
   "outputs": [],
   "source": [
    "scaled_test = scaler.fit_transform(test_data)"
   ]
  },
  {
   "cell_type": "code",
   "execution_count": 301,
   "metadata": {},
   "outputs": [],
   "source": [
    "lr = LinearRegression()\n",
    "lr.fit(xtrain,ytrain)\n",
    "\n",
    "predlr = lr.predict(scaled_test)"
   ]
  },
  {
   "cell_type": "code",
   "execution_count": 306,
   "metadata": {},
   "outputs": [
    {
     "data": {
      "text/plain": [
       "1987"
      ]
     },
     "execution_count": 306,
     "metadata": {},
     "output_type": "execute_result"
    }
   ],
   "source": [
    "len(predlr)"
   ]
  },
  {
   "cell_type": "markdown",
   "metadata": {},
   "source": [
    "The model predicted all values, but they are not accurate as there was less or no correlation between independent and dependent variables"
   ]
  },
  {
   "cell_type": "code",
   "execution_count": 307,
   "metadata": {},
   "outputs": [
    {
     "data": {
      "text/plain": [
       "array([100.])"
      ]
     },
     "execution_count": 307,
     "metadata": {},
     "output_type": "execute_result"
    }
   ],
   "source": [
    "np.unique(predlr)"
   ]
  },
  {
   "cell_type": "markdown",
   "metadata": {},
   "source": [
    "As we can see, the model predicts the price as only 100"
   ]
  },
  {
   "cell_type": "markdown",
   "metadata": {},
   "source": [
    "This is an in accurate model"
   ]
  },
  {
   "cell_type": "markdown",
   "metadata": {},
   "source": [
    "Lets see, if the previous ridge model we made can predict the values"
   ]
  },
  {
   "cell_type": "code",
   "execution_count": 308,
   "metadata": {},
   "outputs": [],
   "source": [
    "final_pred = rfr.predict(scaled_test)"
   ]
  },
  {
   "cell_type": "code",
   "execution_count": 309,
   "metadata": {},
   "outputs": [
    {
     "data": {
      "text/plain": [
       "array([ 67.64220779,  74.5       ,  78.34166667, ..., 705.65      ,\n",
       "       718.41666667, 725.30833333])"
      ]
     },
     "execution_count": 309,
     "metadata": {},
     "output_type": "execute_result"
    }
   ],
   "source": [
    "np.unique(final_pred)"
   ]
  },
  {
   "cell_type": "markdown",
   "metadata": {},
   "source": [
    "The random forest regressor has predicted some values."
   ]
  },
  {
   "cell_type": "code",
   "execution_count": 310,
   "metadata": {},
   "outputs": [],
   "source": [
    "final_pred_ridge = ridge.predict(scaled_test)"
   ]
  },
  {
   "cell_type": "code",
   "execution_count": 311,
   "metadata": {},
   "outputs": [
    {
     "data": {
      "text/plain": [
       "array([ 67.82437828,  78.98890868,  80.40466345, ..., 470.00684227,\n",
       "       473.97814746, 492.93476638])"
      ]
     },
     "execution_count": 311,
     "metadata": {},
     "output_type": "execute_result"
    }
   ],
   "source": [
    "np.unique(final_pred_ridge)"
   ]
  },
  {
   "cell_type": "code",
   "execution_count": 312,
   "metadata": {},
   "outputs": [],
   "source": [
    "final_pred_lasso = lasso.predict(scaled_test)"
   ]
  },
  {
   "cell_type": "code",
   "execution_count": 313,
   "metadata": {},
   "outputs": [
    {
     "data": {
      "text/plain": [
       "array([ 76.73627167,  85.55838235,  86.67709893, ..., 464.57336478,\n",
       "       469.70974117, 487.6640877 ])"
      ]
     },
     "execution_count": 313,
     "metadata": {},
     "output_type": "execute_result"
    }
   ],
   "source": [
    "np.unique(final_pred_lasso)"
   ]
  },
  {
   "cell_type": "markdown",
   "metadata": {},
   "source": [
    "the highest accuracy we got while training the model is 16.7% for lasso regression. Hence, we finalize the predictions of test data based on lasso regression."
   ]
  },
  {
   "cell_type": "code",
   "execution_count": 317,
   "metadata": {},
   "outputs": [],
   "source": [
    "predictions = final_pred_lasso"
   ]
  },
  {
   "cell_type": "code",
   "execution_count": 318,
   "metadata": {},
   "outputs": [
    {
     "data": {
      "text/plain": [
       "1987"
      ]
     },
     "execution_count": 318,
     "metadata": {},
     "output_type": "execute_result"
    }
   ],
   "source": [
    "len(predictions)"
   ]
  },
  {
   "cell_type": "code",
   "execution_count": 319,
   "metadata": {},
   "outputs": [
    {
     "data": {
      "text/plain": [
       "array([273.18990218, 352.14177505, 329.27727476, 272.80595178,\n",
       "       277.49566727])"
      ]
     },
     "execution_count": 319,
     "metadata": {},
     "output_type": "execute_result"
    }
   ],
   "source": [
    "predictions[0:5]"
   ]
  },
  {
   "cell_type": "code",
   "execution_count": 320,
   "metadata": {},
   "outputs": [],
   "source": [
    "import pickle\n",
    "filename = 'Doctorfee'\n",
    "pickle.dump(lasso,open(filename,'wb'))"
   ]
  },
  {
   "cell_type": "markdown",
   "metadata": {},
   "source": [
    "# Conclusion\n",
    "\n",
    "We have encoded the string data type variables and modelled the data.\n",
    "\n",
    "Since, there was very less or no correlation between Fees and other variables, our model has less accuracy.\n",
    "\n",
    "The Fees for the test_data is saved in the variable 'predictions'"
   ]
  },
  {
   "cell_type": "code",
   "execution_count": null,
   "metadata": {},
   "outputs": [],
   "source": []
  }
 ],
 "metadata": {
  "kernelspec": {
   "display_name": "Python 3",
   "language": "python",
   "name": "python3"
  },
  "language_info": {
   "codemirror_mode": {
    "name": "ipython",
    "version": 3
   },
   "file_extension": ".py",
   "mimetype": "text/x-python",
   "name": "python",
   "nbconvert_exporter": "python",
   "pygments_lexer": "ipython3",
   "version": "3.8.5"
  }
 },
 "nbformat": 4,
 "nbformat_minor": 4
}
