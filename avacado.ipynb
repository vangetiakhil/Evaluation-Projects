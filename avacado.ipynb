{
 "cells": [
  {
   "cell_type": "code",
   "execution_count": 2,
   "metadata": {},
   "outputs": [],
   "source": [
    "import pandas as pd\n",
    "import numpy as np\n",
    "import matplotlib.pyplot as plt\n",
    "%matplotlib inline\n",
    "import seaborn as sns"
   ]
  },
  {
   "cell_type": "code",
   "execution_count": 19,
   "metadata": {},
   "outputs": [],
   "source": [
    "df = pd.read_csv('https://raw.githubusercontent.com/dsrscientist/Data-Science-ML-Capstone-Projects/master/avocado.csv')"
   ]
  },
  {
   "cell_type": "code",
   "execution_count": 14,
   "metadata": {},
   "outputs": [
    {
     "data": {
      "text/html": [
       "<div>\n",
       "<style scoped>\n",
       "    .dataframe tbody tr th:only-of-type {\n",
       "        vertical-align: middle;\n",
       "    }\n",
       "\n",
       "    .dataframe tbody tr th {\n",
       "        vertical-align: top;\n",
       "    }\n",
       "\n",
       "    .dataframe thead th {\n",
       "        text-align: right;\n",
       "    }\n",
       "</style>\n",
       "<table border=\"1\" class=\"dataframe\">\n",
       "  <thead>\n",
       "    <tr style=\"text-align: right;\">\n",
       "      <th></th>\n",
       "      <th>Unnamed: 0</th>\n",
       "      <th>Date</th>\n",
       "      <th>AveragePrice</th>\n",
       "      <th>Total Volume</th>\n",
       "      <th>4046</th>\n",
       "      <th>4225</th>\n",
       "      <th>4770</th>\n",
       "      <th>Total Bags</th>\n",
       "      <th>Small Bags</th>\n",
       "      <th>Large Bags</th>\n",
       "      <th>XLarge Bags</th>\n",
       "      <th>type</th>\n",
       "      <th>year</th>\n",
       "      <th>region</th>\n",
       "    </tr>\n",
       "  </thead>\n",
       "  <tbody>\n",
       "    <tr>\n",
       "      <th>0</th>\n",
       "      <td>0.0</td>\n",
       "      <td>27-12-2015</td>\n",
       "      <td>1.33</td>\n",
       "      <td>64236.62</td>\n",
       "      <td>1036.74</td>\n",
       "      <td>54454.85</td>\n",
       "      <td>48.16</td>\n",
       "      <td>8696.87</td>\n",
       "      <td>8603.62</td>\n",
       "      <td>93.25</td>\n",
       "      <td>0.0</td>\n",
       "      <td>conventional</td>\n",
       "      <td>2015.0</td>\n",
       "      <td>Albany</td>\n",
       "    </tr>\n",
       "    <tr>\n",
       "      <th>1</th>\n",
       "      <td>1.0</td>\n",
       "      <td>20-12-2015</td>\n",
       "      <td>1.35</td>\n",
       "      <td>54876.98</td>\n",
       "      <td>674.28</td>\n",
       "      <td>44638.81</td>\n",
       "      <td>58.33</td>\n",
       "      <td>9505.56</td>\n",
       "      <td>9408.07</td>\n",
       "      <td>97.49</td>\n",
       "      <td>0.0</td>\n",
       "      <td>conventional</td>\n",
       "      <td>2015.0</td>\n",
       "      <td>Albany</td>\n",
       "    </tr>\n",
       "    <tr>\n",
       "      <th>2</th>\n",
       "      <td>2.0</td>\n",
       "      <td>13-12-2015</td>\n",
       "      <td>0.93</td>\n",
       "      <td>118220.22</td>\n",
       "      <td>794.70</td>\n",
       "      <td>109149.67</td>\n",
       "      <td>130.50</td>\n",
       "      <td>8145.35</td>\n",
       "      <td>8042.21</td>\n",
       "      <td>103.14</td>\n",
       "      <td>0.0</td>\n",
       "      <td>conventional</td>\n",
       "      <td>2015.0</td>\n",
       "      <td>Albany</td>\n",
       "    </tr>\n",
       "    <tr>\n",
       "      <th>3</th>\n",
       "      <td>3.0</td>\n",
       "      <td>06-12-2015</td>\n",
       "      <td>1.08</td>\n",
       "      <td>78992.15</td>\n",
       "      <td>1132.00</td>\n",
       "      <td>71976.41</td>\n",
       "      <td>72.58</td>\n",
       "      <td>5811.16</td>\n",
       "      <td>5677.40</td>\n",
       "      <td>133.76</td>\n",
       "      <td>0.0</td>\n",
       "      <td>conventional</td>\n",
       "      <td>2015.0</td>\n",
       "      <td>Albany</td>\n",
       "    </tr>\n",
       "    <tr>\n",
       "      <th>4</th>\n",
       "      <td>4.0</td>\n",
       "      <td>29-11-2015</td>\n",
       "      <td>1.28</td>\n",
       "      <td>51039.60</td>\n",
       "      <td>941.48</td>\n",
       "      <td>43838.39</td>\n",
       "      <td>75.78</td>\n",
       "      <td>6183.95</td>\n",
       "      <td>5986.26</td>\n",
       "      <td>197.69</td>\n",
       "      <td>0.0</td>\n",
       "      <td>conventional</td>\n",
       "      <td>2015.0</td>\n",
       "      <td>Albany</td>\n",
       "    </tr>\n",
       "  </tbody>\n",
       "</table>\n",
       "</div>"
      ],
      "text/plain": [
       "   Unnamed: 0        Date  AveragePrice  Total Volume     4046       4225  \\\n",
       "0         0.0  27-12-2015          1.33      64236.62  1036.74   54454.85   \n",
       "1         1.0  20-12-2015          1.35      54876.98   674.28   44638.81   \n",
       "2         2.0  13-12-2015          0.93     118220.22   794.70  109149.67   \n",
       "3         3.0  06-12-2015          1.08      78992.15  1132.00   71976.41   \n",
       "4         4.0  29-11-2015          1.28      51039.60   941.48   43838.39   \n",
       "\n",
       "     4770  Total Bags  Small Bags  Large Bags  XLarge Bags          type  \\\n",
       "0   48.16     8696.87     8603.62       93.25          0.0  conventional   \n",
       "1   58.33     9505.56     9408.07       97.49          0.0  conventional   \n",
       "2  130.50     8145.35     8042.21      103.14          0.0  conventional   \n",
       "3   72.58     5811.16     5677.40      133.76          0.0  conventional   \n",
       "4   75.78     6183.95     5986.26      197.69          0.0  conventional   \n",
       "\n",
       "     year  region  \n",
       "0  2015.0  Albany  \n",
       "1  2015.0  Albany  \n",
       "2  2015.0  Albany  \n",
       "3  2015.0  Albany  \n",
       "4  2015.0  Albany  "
      ]
     },
     "execution_count": 14,
     "metadata": {},
     "output_type": "execute_result"
    }
   ],
   "source": [
    "df.head()"
   ]
  },
  {
   "cell_type": "code",
   "execution_count": 22,
   "metadata": {},
   "outputs": [],
   "source": [
    "df.drop(columns = df.columns[0],axis=1,inplace = True)"
   ]
  },
  {
   "cell_type": "code",
   "execution_count": 23,
   "metadata": {},
   "outputs": [
    {
     "data": {
      "text/html": [
       "<div>\n",
       "<style scoped>\n",
       "    .dataframe tbody tr th:only-of-type {\n",
       "        vertical-align: middle;\n",
       "    }\n",
       "\n",
       "    .dataframe tbody tr th {\n",
       "        vertical-align: top;\n",
       "    }\n",
       "\n",
       "    .dataframe thead th {\n",
       "        text-align: right;\n",
       "    }\n",
       "</style>\n",
       "<table border=\"1\" class=\"dataframe\">\n",
       "  <thead>\n",
       "    <tr style=\"text-align: right;\">\n",
       "      <th></th>\n",
       "      <th>Date</th>\n",
       "      <th>AveragePrice</th>\n",
       "      <th>Total Volume</th>\n",
       "      <th>4046</th>\n",
       "      <th>4225</th>\n",
       "      <th>4770</th>\n",
       "      <th>Total Bags</th>\n",
       "      <th>Small Bags</th>\n",
       "      <th>Large Bags</th>\n",
       "      <th>XLarge Bags</th>\n",
       "      <th>type</th>\n",
       "      <th>year</th>\n",
       "      <th>region</th>\n",
       "    </tr>\n",
       "  </thead>\n",
       "  <tbody>\n",
       "    <tr>\n",
       "      <th>7225</th>\n",
       "      <td>NaN</td>\n",
       "      <td>NaN</td>\n",
       "      <td>NaN</td>\n",
       "      <td>NaN</td>\n",
       "      <td>NaN</td>\n",
       "      <td>NaN</td>\n",
       "      <td>NaN</td>\n",
       "      <td>NaN</td>\n",
       "      <td>NaN</td>\n",
       "      <td>NaN</td>\n",
       "      <td>NaN</td>\n",
       "      <td>NaN</td>\n",
       "      <td>NaN</td>\n",
       "    </tr>\n",
       "    <tr>\n",
       "      <th>400</th>\n",
       "      <td>24-05-2015</td>\n",
       "      <td>1.15</td>\n",
       "      <td>3574050.61</td>\n",
       "      <td>758183.5</td>\n",
       "      <td>1764210.85</td>\n",
       "      <td>263068.72</td>\n",
       "      <td>788587.54</td>\n",
       "      <td>641756.72</td>\n",
       "      <td>134308.54</td>\n",
       "      <td>12522.28</td>\n",
       "      <td>conventional</td>\n",
       "      <td>2015.0</td>\n",
       "      <td>GreatLakes</td>\n",
       "    </tr>\n",
       "    <tr>\n",
       "      <th>2072</th>\n",
       "      <td>NaN</td>\n",
       "      <td>NaN</td>\n",
       "      <td>NaN</td>\n",
       "      <td>NaN</td>\n",
       "      <td>NaN</td>\n",
       "      <td>NaN</td>\n",
       "      <td>NaN</td>\n",
       "      <td>NaN</td>\n",
       "      <td>NaN</td>\n",
       "      <td>NaN</td>\n",
       "      <td>NaN</td>\n",
       "      <td>NaN</td>\n",
       "      <td>NaN</td>\n",
       "    </tr>\n",
       "    <tr>\n",
       "      <th>15182</th>\n",
       "      <td>NaN</td>\n",
       "      <td>NaN</td>\n",
       "      <td>NaN</td>\n",
       "      <td>NaN</td>\n",
       "      <td>NaN</td>\n",
       "      <td>NaN</td>\n",
       "      <td>NaN</td>\n",
       "      <td>NaN</td>\n",
       "      <td>NaN</td>\n",
       "      <td>NaN</td>\n",
       "      <td>NaN</td>\n",
       "      <td>NaN</td>\n",
       "      <td>NaN</td>\n",
       "    </tr>\n",
       "    <tr>\n",
       "      <th>16142</th>\n",
       "      <td>NaN</td>\n",
       "      <td>NaN</td>\n",
       "      <td>NaN</td>\n",
       "      <td>NaN</td>\n",
       "      <td>NaN</td>\n",
       "      <td>NaN</td>\n",
       "      <td>NaN</td>\n",
       "      <td>NaN</td>\n",
       "      <td>NaN</td>\n",
       "      <td>NaN</td>\n",
       "      <td>NaN</td>\n",
       "      <td>NaN</td>\n",
       "      <td>NaN</td>\n",
       "    </tr>\n",
       "  </tbody>\n",
       "</table>\n",
       "</div>"
      ],
      "text/plain": [
       "             Date  AveragePrice  Total Volume      4046        4225  \\\n",
       "7225          NaN           NaN           NaN       NaN         NaN   \n",
       "400    24-05-2015          1.15    3574050.61  758183.5  1764210.85   \n",
       "2072          NaN           NaN           NaN       NaN         NaN   \n",
       "15182         NaN           NaN           NaN       NaN         NaN   \n",
       "16142         NaN           NaN           NaN       NaN         NaN   \n",
       "\n",
       "            4770  Total Bags  Small Bags  Large Bags  XLarge Bags  \\\n",
       "7225         NaN         NaN         NaN         NaN          NaN   \n",
       "400    263068.72   788587.54   641756.72   134308.54     12522.28   \n",
       "2072         NaN         NaN         NaN         NaN          NaN   \n",
       "15182        NaN         NaN         NaN         NaN          NaN   \n",
       "16142        NaN         NaN         NaN         NaN          NaN   \n",
       "\n",
       "               type    year      region  \n",
       "7225            NaN     NaN         NaN  \n",
       "400    conventional  2015.0  GreatLakes  \n",
       "2072            NaN     NaN         NaN  \n",
       "15182           NaN     NaN         NaN  \n",
       "16142           NaN     NaN         NaN  "
      ]
     },
     "execution_count": 23,
     "metadata": {},
     "output_type": "execute_result"
    }
   ],
   "source": [
    "df.sample(5)"
   ]
  },
  {
   "cell_type": "code",
   "execution_count": 25,
   "metadata": {},
   "outputs": [
    {
     "data": {
      "text/plain": [
       "Date            14951\n",
       "AveragePrice    14951\n",
       "Total Volume    14951\n",
       "4046            14951\n",
       "4225            14951\n",
       "4770            14951\n",
       "Total Bags      14951\n",
       "Small Bags      14951\n",
       "Large Bags      14951\n",
       "XLarge Bags     14951\n",
       "type            14951\n",
       "year            14951\n",
       "region          14951\n",
       "dtype: int64"
      ]
     },
     "execution_count": 25,
     "metadata": {},
     "output_type": "execute_result"
    }
   ],
   "source": [
    "df.isnull().sum()"
   ]
  },
  {
   "cell_type": "code",
   "execution_count": 28,
   "metadata": {},
   "outputs": [],
   "source": [
    "df = df.dropna()"
   ]
  },
  {
   "cell_type": "code",
   "execution_count": 29,
   "metadata": {},
   "outputs": [
    {
     "data": {
      "text/plain": [
       "(1517, 13)"
      ]
     },
     "execution_count": 29,
     "metadata": {},
     "output_type": "execute_result"
    }
   ],
   "source": [
    "df.shape"
   ]
  },
  {
   "cell_type": "code",
   "execution_count": 30,
   "metadata": {},
   "outputs": [
    {
     "data": {
      "text/html": [
       "<div>\n",
       "<style scoped>\n",
       "    .dataframe tbody tr th:only-of-type {\n",
       "        vertical-align: middle;\n",
       "    }\n",
       "\n",
       "    .dataframe tbody tr th {\n",
       "        vertical-align: top;\n",
       "    }\n",
       "\n",
       "    .dataframe thead th {\n",
       "        text-align: right;\n",
       "    }\n",
       "</style>\n",
       "<table border=\"1\" class=\"dataframe\">\n",
       "  <thead>\n",
       "    <tr style=\"text-align: right;\">\n",
       "      <th></th>\n",
       "      <th>Date</th>\n",
       "      <th>AveragePrice</th>\n",
       "      <th>Total Volume</th>\n",
       "      <th>4046</th>\n",
       "      <th>4225</th>\n",
       "      <th>4770</th>\n",
       "      <th>Total Bags</th>\n",
       "      <th>Small Bags</th>\n",
       "      <th>Large Bags</th>\n",
       "      <th>XLarge Bags</th>\n",
       "      <th>type</th>\n",
       "      <th>year</th>\n",
       "      <th>region</th>\n",
       "    </tr>\n",
       "  </thead>\n",
       "  <tbody>\n",
       "    <tr>\n",
       "      <th>1380</th>\n",
       "      <td>10-07-2016</td>\n",
       "      <td>1.32</td>\n",
       "      <td>549815.44</td>\n",
       "      <td>17289.06</td>\n",
       "      <td>359933.80</td>\n",
       "      <td>14982.90</td>\n",
       "      <td>157609.68</td>\n",
       "      <td>153175.43</td>\n",
       "      <td>49.25</td>\n",
       "      <td>4385.00</td>\n",
       "      <td>conventional</td>\n",
       "      <td>2016.0</td>\n",
       "      <td>Boston</td>\n",
       "    </tr>\n",
       "    <tr>\n",
       "      <th>799</th>\n",
       "      <td>29-03-2015</td>\n",
       "      <td>0.57</td>\n",
       "      <td>1231267.27</td>\n",
       "      <td>998057.91</td>\n",
       "      <td>157108.31</td>\n",
       "      <td>8638.85</td>\n",
       "      <td>67462.20</td>\n",
       "      <td>43759.93</td>\n",
       "      <td>23702.27</td>\n",
       "      <td>0.00</td>\n",
       "      <td>conventional</td>\n",
       "      <td>2015.0</td>\n",
       "      <td>PhoenixTucson</td>\n",
       "    </tr>\n",
       "    <tr>\n",
       "      <th>705</th>\n",
       "      <td>01-11-2015</td>\n",
       "      <td>1.07</td>\n",
       "      <td>350260.55</td>\n",
       "      <td>3271.40</td>\n",
       "      <td>281498.53</td>\n",
       "      <td>209.48</td>\n",
       "      <td>65281.14</td>\n",
       "      <td>65081.14</td>\n",
       "      <td>200.00</td>\n",
       "      <td>0.00</td>\n",
       "      <td>conventional</td>\n",
       "      <td>2015.0</td>\n",
       "      <td>NorthernNewEngland</td>\n",
       "    </tr>\n",
       "    <tr>\n",
       "      <th>116</th>\n",
       "      <td>05-07-2015</td>\n",
       "      <td>1.16</td>\n",
       "      <td>896298.77</td>\n",
       "      <td>66504.67</td>\n",
       "      <td>567640.70</td>\n",
       "      <td>56044.51</td>\n",
       "      <td>206108.89</td>\n",
       "      <td>200097.99</td>\n",
       "      <td>5890.57</td>\n",
       "      <td>120.33</td>\n",
       "      <td>conventional</td>\n",
       "      <td>2015.0</td>\n",
       "      <td>BaltimoreWashington</td>\n",
       "    </tr>\n",
       "    <tr>\n",
       "      <th>920</th>\n",
       "      <td>19-04-2015</td>\n",
       "      <td>1.08</td>\n",
       "      <td>144665.27</td>\n",
       "      <td>68391.59</td>\n",
       "      <td>44913.65</td>\n",
       "      <td>146.75</td>\n",
       "      <td>31213.28</td>\n",
       "      <td>30623.78</td>\n",
       "      <td>589.50</td>\n",
       "      <td>0.00</td>\n",
       "      <td>conventional</td>\n",
       "      <td>2015.0</td>\n",
       "      <td>Roanoke</td>\n",
       "    </tr>\n",
       "  </tbody>\n",
       "</table>\n",
       "</div>"
      ],
      "text/plain": [
       "            Date  AveragePrice  Total Volume       4046       4225      4770  \\\n",
       "1380  10-07-2016          1.32     549815.44   17289.06  359933.80  14982.90   \n",
       "799   29-03-2015          0.57    1231267.27  998057.91  157108.31   8638.85   \n",
       "705   01-11-2015          1.07     350260.55    3271.40  281498.53    209.48   \n",
       "116   05-07-2015          1.16     896298.77   66504.67  567640.70  56044.51   \n",
       "920   19-04-2015          1.08     144665.27   68391.59   44913.65    146.75   \n",
       "\n",
       "      Total Bags  Small Bags  Large Bags  XLarge Bags          type    year  \\\n",
       "1380   157609.68   153175.43       49.25      4385.00  conventional  2016.0   \n",
       "799     67462.20    43759.93    23702.27         0.00  conventional  2015.0   \n",
       "705     65281.14    65081.14      200.00         0.00  conventional  2015.0   \n",
       "116    206108.89   200097.99     5890.57       120.33  conventional  2015.0   \n",
       "920     31213.28    30623.78      589.50         0.00  conventional  2015.0   \n",
       "\n",
       "                   region  \n",
       "1380               Boston  \n",
       "799         PhoenixTucson  \n",
       "705    NorthernNewEngland  \n",
       "116   BaltimoreWashington  \n",
       "920               Roanoke  "
      ]
     },
     "execution_count": 30,
     "metadata": {},
     "output_type": "execute_result"
    }
   ],
   "source": [
    "df.sample(5)"
   ]
  },
  {
   "cell_type": "markdown",
   "metadata": {},
   "source": [
    "The data is not recorded properly. There were 14951 rows with no values in them.\n",
    "\n",
    "Therefore, proceeding with the remaining variables."
   ]
  },
  {
   "cell_type": "code",
   "execution_count": 31,
   "metadata": {},
   "outputs": [
    {
     "data": {
      "text/plain": [
       "Date             object\n",
       "AveragePrice    float64\n",
       "Total Volume    float64\n",
       "4046            float64\n",
       "4225            float64\n",
       "4770            float64\n",
       "Total Bags      float64\n",
       "Small Bags      float64\n",
       "Large Bags      float64\n",
       "XLarge Bags     float64\n",
       "type             object\n",
       "year            float64\n",
       "region           object\n",
       "dtype: object"
      ]
     },
     "execution_count": 31,
     "metadata": {},
     "output_type": "execute_result"
    }
   ],
   "source": [
    "df.dtypes"
   ]
  },
  {
   "cell_type": "code",
   "execution_count": 35,
   "metadata": {},
   "outputs": [
    {
     "name": "stderr",
     "output_type": "stream",
     "text": [
      "<ipython-input-35-b9c6864122be>:1: SettingWithCopyWarning: \n",
      "A value is trying to be set on a copy of a slice from a DataFrame.\n",
      "Try using .loc[row_indexer,col_indexer] = value instead\n",
      "\n",
      "See the caveats in the documentation: https://pandas.pydata.org/pandas-docs/stable/user_guide/indexing.html#returning-a-view-versus-a-copy\n",
      "  df['Date'] = pd.to_datetime(df['Date'])\n"
     ]
    }
   ],
   "source": [
    "df['Date'] = pd.to_datetime(df['Date'])"
   ]
  },
  {
   "cell_type": "code",
   "execution_count": 39,
   "metadata": {},
   "outputs": [
    {
     "data": {
      "text/plain": [
       "50"
      ]
     },
     "execution_count": 39,
     "metadata": {},
     "output_type": "execute_result"
    }
   ],
   "source": [
    "df.Date[2].week"
   ]
  },
  {
   "cell_type": "code",
   "execution_count": 47,
   "metadata": {},
   "outputs": [
    {
     "name": "stderr",
     "output_type": "stream",
     "text": [
      "<ipython-input-47-4439db3791b9>:2: SettingWithCopyWarning: \n",
      "A value is trying to be set on a copy of a slice from a DataFrame.\n",
      "Try using .loc[row_indexer,col_indexer] = value instead\n",
      "\n",
      "See the caveats in the documentation: https://pandas.pydata.org/pandas-docs/stable/user_guide/indexing.html#returning-a-view-versus-a-copy\n",
      "  df['week'] = [item.week for item in df['Date']]\n"
     ]
    }
   ],
   "source": [
    "del(df['week'])\n",
    "df['week'] = [item.week for item in df['Date']]"
   ]
  },
  {
   "cell_type": "code",
   "execution_count": 48,
   "metadata": {
    "scrolled": true
   },
   "outputs": [
    {
     "data": {
      "text/plain": [
       "24    72\n",
       "19    62\n",
       "1     60\n",
       "50    49\n",
       "46    48\n",
       "33    47\n",
       "37    45\n",
       "10    40\n",
       "16    39\n",
       "49    38\n",
       "12    38\n",
       "11    37\n",
       "41    36\n",
       "8     35\n",
       "20    34\n",
       "22    34\n",
       "7     34\n",
       "31    33\n",
       "32    33\n",
       "13    32\n",
       "15    32\n",
       "17    32\n",
       "28    32\n",
       "21    32\n",
       "6     31\n",
       "26    29\n",
       "47    28\n",
       "4     28\n",
       "25    28\n",
       "51    28\n",
       "2     27\n",
       "3     26\n",
       "39    24\n",
       "42    24\n",
       "43    24\n",
       "34    24\n",
       "29    23\n",
       "30    23\n",
       "38    23\n",
       "48    22\n",
       "52    21\n",
       "14    21\n",
       "35    20\n",
       "44    19\n",
       "45    14\n",
       "9     11\n",
       "40     9\n",
       "23     5\n",
       "18     4\n",
       "36     4\n",
       "27     3\n",
       "Name: week, dtype: int64"
      ]
     },
     "execution_count": 48,
     "metadata": {},
     "output_type": "execute_result"
    }
   ],
   "source": [
    "df['week'].value_counts()"
   ]
  },
  {
   "cell_type": "code",
   "execution_count": 50,
   "metadata": {},
   "outputs": [
    {
     "data": {
      "text/plain": [
       "<AxesSubplot:xlabel='week', ylabel='AveragePrice'>"
      ]
     },
     "execution_count": 50,
     "metadata": {},
     "output_type": "execute_result"
    },
    {
     "data": {
      "image/png": "[encoded data removed]",
      "text/plain": [
       "<Figure size 1440x720 with 1 Axes>"
      ]
     },
     "metadata": {
      "needs_background": "light"
     },
     "output_type": "display_data"
    }
   ],
   "source": [
    "plt.figure(figsize=(20,10))\n",
    "sns.barplot(x = df['week'],y = df['AveragePrice'],hue = df['year'])"
   ]
  },
  {
   "cell_type": "code",
   "execution_count": 51,
   "metadata": {},
   "outputs": [
    {
     "data": {
      "text/plain": [
       "<AxesSubplot:xlabel='week', ylabel='AveragePrice'>"
      ]
     },
     "execution_count": 51,
     "metadata": {},
     "output_type": "execute_result"
    },
    {
     "data": {
      "image/png": "[encoded data removed]",
      "text/plain": [
       "<Figure size 1440x720 with 1 Axes>"
      ]
     },
     "metadata": {
      "needs_background": "light"
     },
     "output_type": "display_data"
    }
   ],
   "source": [
    "plt.figure(figsize=(20,10))\n",
    "sns.lineplot(x = df['week'],y = df['AveragePrice'],hue = df['year'])"
   ]
  },
  {
   "cell_type": "markdown",
   "metadata": {},
   "source": [
    "Looking at the above graphs, we cant find any normal trends or seasonal trends in the purchase of avacados\n",
    "\n",
    "Therefore, we can drop the week and year columns"
   ]
  },
  {
   "cell_type": "code",
   "execution_count": 53,
   "metadata": {},
   "outputs": [],
   "source": [
    "df.drop(columns = ['year','week'],inplace=True)"
   ]
  },
  {
   "cell_type": "code",
   "execution_count": 54,
   "metadata": {},
   "outputs": [
    {
     "data": {
      "text/html": [
       "<div>\n",
       "<style scoped>\n",
       "    .dataframe tbody tr th:only-of-type {\n",
       "        vertical-align: middle;\n",
       "    }\n",
       "\n",
       "    .dataframe tbody tr th {\n",
       "        vertical-align: top;\n",
       "    }\n",
       "\n",
       "    .dataframe thead th {\n",
       "        text-align: right;\n",
       "    }\n",
       "</style>\n",
       "<table border=\"1\" class=\"dataframe\">\n",
       "  <thead>\n",
       "    <tr style=\"text-align: right;\">\n",
       "      <th></th>\n",
       "      <th>AveragePrice</th>\n",
       "      <th>Total Volume</th>\n",
       "      <th>4046</th>\n",
       "      <th>4225</th>\n",
       "      <th>4770</th>\n",
       "      <th>Total Bags</th>\n",
       "      <th>Small Bags</th>\n",
       "      <th>Large Bags</th>\n",
       "      <th>XLarge Bags</th>\n",
       "    </tr>\n",
       "  </thead>\n",
       "  <tbody>\n",
       "    <tr>\n",
       "      <th>count</th>\n",
       "      <td>1517.000000</td>\n",
       "      <td>1.517000e+03</td>\n",
       "      <td>1.517000e+03</td>\n",
       "      <td>1.517000e+03</td>\n",
       "      <td>1.517000e+03</td>\n",
       "      <td>1.517000e+03</td>\n",
       "      <td>1.517000e+03</td>\n",
       "      <td>1.517000e+03</td>\n",
       "      <td>1517.000000</td>\n",
       "    </tr>\n",
       "    <tr>\n",
       "      <th>mean</th>\n",
       "      <td>1.074990</td>\n",
       "      <td>1.601879e+06</td>\n",
       "      <td>6.464387e+05</td>\n",
       "      <td>6.114375e+05</td>\n",
       "      <td>5.040550e+04</td>\n",
       "      <td>2.935974e+05</td>\n",
       "      <td>2.487736e+05</td>\n",
       "      <td>4.264205e+04</td>\n",
       "      <td>2181.771074</td>\n",
       "    </tr>\n",
       "    <tr>\n",
       "      <th>std</th>\n",
       "      <td>0.188891</td>\n",
       "      <td>4.433143e+06</td>\n",
       "      <td>1.947614e+06</td>\n",
       "      <td>1.672906e+06</td>\n",
       "      <td>1.377812e+05</td>\n",
       "      <td>7.579765e+05</td>\n",
       "      <td>6.474765e+05</td>\n",
       "      <td>1.182157e+05</td>\n",
       "      <td>7455.712144</td>\n",
       "    </tr>\n",
       "    <tr>\n",
       "      <th>min</th>\n",
       "      <td>0.490000</td>\n",
       "      <td>3.875074e+04</td>\n",
       "      <td>4.677200e+02</td>\n",
       "      <td>1.783770e+03</td>\n",
       "      <td>0.000000e+00</td>\n",
       "      <td>3.311770e+03</td>\n",
       "      <td>3.311770e+03</td>\n",
       "      <td>0.000000e+00</td>\n",
       "      <td>0.000000</td>\n",
       "    </tr>\n",
       "    <tr>\n",
       "      <th>25%</th>\n",
       "      <td>0.980000</td>\n",
       "      <td>1.474700e+05</td>\n",
       "      <td>2.040034e+04</td>\n",
       "      <td>4.147606e+04</td>\n",
       "      <td>9.112500e+02</td>\n",
       "      <td>3.620689e+04</td>\n",
       "      <td>2.972722e+04</td>\n",
       "      <td>5.407400e+02</td>\n",
       "      <td>0.000000</td>\n",
       "    </tr>\n",
       "    <tr>\n",
       "      <th>50%</th>\n",
       "      <td>1.080000</td>\n",
       "      <td>4.027919e+05</td>\n",
       "      <td>8.175117e+04</td>\n",
       "      <td>1.186649e+05</td>\n",
       "      <td>7.688170e+03</td>\n",
       "      <td>7.397906e+04</td>\n",
       "      <td>6.237569e+04</td>\n",
       "      <td>5.044350e+03</td>\n",
       "      <td>0.000000</td>\n",
       "    </tr>\n",
       "    <tr>\n",
       "      <th>75%</th>\n",
       "      <td>1.190000</td>\n",
       "      <td>9.819751e+05</td>\n",
       "      <td>3.775785e+05</td>\n",
       "      <td>4.851503e+05</td>\n",
       "      <td>2.916730e+04</td>\n",
       "      <td>1.576097e+05</td>\n",
       "      <td>1.461994e+05</td>\n",
       "      <td>2.926767e+04</td>\n",
       "      <td>401.480000</td>\n",
       "    </tr>\n",
       "    <tr>\n",
       "      <th>max</th>\n",
       "      <td>1.680000</td>\n",
       "      <td>4.465546e+07</td>\n",
       "      <td>1.893304e+07</td>\n",
       "      <td>1.895648e+07</td>\n",
       "      <td>1.381516e+06</td>\n",
       "      <td>6.736304e+06</td>\n",
       "      <td>5.893642e+06</td>\n",
       "      <td>1.121076e+06</td>\n",
       "      <td>108072.790000</td>\n",
       "    </tr>\n",
       "  </tbody>\n",
       "</table>\n",
       "</div>"
      ],
      "text/plain": [
       "       AveragePrice  Total Volume          4046          4225          4770  \\\n",
       "count   1517.000000  1.517000e+03  1.517000e+03  1.517000e+03  1.517000e+03   \n",
       "mean       1.074990  1.601879e+06  6.464387e+05  6.114375e+05  5.040550e+04   \n",
       "std        0.188891  4.433143e+06  1.947614e+06  1.672906e+06  1.377812e+05   \n",
       "min        0.490000  3.875074e+04  4.677200e+02  1.783770e+03  0.000000e+00   \n",
       "25%        0.980000  1.474700e+05  2.040034e+04  4.147606e+04  9.112500e+02   \n",
       "50%        1.080000  4.027919e+05  8.175117e+04  1.186649e+05  7.688170e+03   \n",
       "75%        1.190000  9.819751e+05  3.775785e+05  4.851503e+05  2.916730e+04   \n",
       "max        1.680000  4.465546e+07  1.893304e+07  1.895648e+07  1.381516e+06   \n",
       "\n",
       "         Total Bags    Small Bags    Large Bags    XLarge Bags  \n",
       "count  1.517000e+03  1.517000e+03  1.517000e+03    1517.000000  \n",
       "mean   2.935974e+05  2.487736e+05  4.264205e+04    2181.771074  \n",
       "std    7.579765e+05  6.474765e+05  1.182157e+05    7455.712144  \n",
       "min    3.311770e+03  3.311770e+03  0.000000e+00       0.000000  \n",
       "25%    3.620689e+04  2.972722e+04  5.407400e+02       0.000000  \n",
       "50%    7.397906e+04  6.237569e+04  5.044350e+03       0.000000  \n",
       "75%    1.576097e+05  1.461994e+05  2.926767e+04     401.480000  \n",
       "max    6.736304e+06  5.893642e+06  1.121076e+06  108072.790000  "
      ]
     },
     "execution_count": 54,
     "metadata": {},
     "output_type": "execute_result"
    }
   ],
   "source": [
    "df.describe()"
   ]
  },
  {
   "cell_type": "code",
   "execution_count": 55,
   "metadata": {},
   "outputs": [
    {
     "name": "stdout",
     "output_type": "stream",
     "text": [
      "<class 'pandas.core.frame.DataFrame'>\n",
      "Int64Index: 1517 entries, 0 to 1516\n",
      "Data columns (total 12 columns):\n",
      " #   Column        Non-Null Count  Dtype         \n",
      "---  ------        --------------  -----         \n",
      " 0   Date          1517 non-null   datetime64[ns]\n",
      " 1   AveragePrice  1517 non-null   float64       \n",
      " 2   Total Volume  1517 non-null   float64       \n",
      " 3   4046          1517 non-null   float64       \n",
      " 4   4225          1517 non-null   float64       \n",
      " 5   4770          1517 non-null   float64       \n",
      " 6   Total Bags    1517 non-null   float64       \n",
      " 7   Small Bags    1517 non-null   float64       \n",
      " 8   Large Bags    1517 non-null   float64       \n",
      " 9   XLarge Bags   1517 non-null   float64       \n",
      " 10  type          1517 non-null   object        \n",
      " 11  region        1517 non-null   object        \n",
      "dtypes: datetime64[ns](1), float64(9), object(2)\n",
      "memory usage: 194.1+ KB\n"
     ]
    }
   ],
   "source": [
    "df.info()"
   ]
  },
  {
   "cell_type": "code",
   "execution_count": 56,
   "metadata": {},
   "outputs": [],
   "source": [
    "df.drop(columns = ['Date'],inplace=True)"
   ]
  },
  {
   "cell_type": "code",
   "execution_count": 57,
   "metadata": {},
   "outputs": [
    {
     "name": "stdout",
     "output_type": "stream",
     "text": [
      "AveragePrice [1.33 1.35 0.93 1.08 1.28 1.26 0.99 0.98 1.02 1.07 1.12 1.31 1.11 1.34\n",
      " 1.45 1.05 1.37 1.27 1.32 1.23 1.19 1.43 1.2  1.22 1.13 1.16 1.06 1.17\n",
      " 1.24 0.96 1.   1.09 0.95 0.97 1.15 1.01 1.14 1.1  1.04 1.18 1.29 1.25\n",
      " 1.03 1.39 1.4  1.36 1.3  0.88 1.21 0.9  0.94 0.75 0.77 0.81 0.8  0.72\n",
      " 0.79 0.67 0.82 0.68 0.76 0.91 1.38 0.92 0.78 0.74 0.62 0.83 0.87 0.73\n",
      " 0.7  0.89 0.85 1.44 1.42 1.41 0.49 0.53 0.66 0.56 0.6  0.71 0.65 0.58\n",
      " 0.54 0.52 0.51 0.57 0.63 0.64 0.61 0.84 0.86 0.69 1.52 1.53 1.49 1.48\n",
      " 1.56 1.62 1.63 1.46 1.51 1.61 1.47 1.66 1.57 1.6  1.5  1.68 1.54 1.64\n",
      " 1.58]\n",
      "Total Volume [ 64236.62  54876.98 118220.22 ... 178410.82 189131.52 182978.3 ]\n",
      "4046 [ 1036.74   674.28   794.7  ... 46364.75 54110.79 43116.41]\n",
      "4225 [ 54454.85  44638.81 109149.67 ...  52893.38  53593.58  54193.42]\n",
      "4770 [   48.16    58.33   130.5  ... 16736.92 17495.42 16563.91]\n",
      "Total Bags [ 8696.87  9505.56  8145.35 ... 62415.77 63931.73 69104.56]\n",
      "Small Bags [ 8603.62  9408.07  8042.21 ... 53332.61 55653.47 57456.21]\n",
      "Large Bags [   93.25    97.49   103.14 ...  8258.16  8278.26 11648.35]\n",
      "XLarge Bags [0.0000000e+00 3.3330000e+01 1.0417000e+02 1.3530000e+01 2.7100000e+00\n",
      " 2.4410000e+01 2.4600000e+01 8.2200000e+00 2.7800000e+00 6.1280000e+01\n",
      " 1.3940000e+01 5.2970000e+01 3.0670000e+01 8.3270000e+01 4.1550000e+01\n",
      " 2.4750000e+01 1.3440000e+02 4.6540000e+01 7.1030000e+01 5.4500000e+00\n",
      " 2.9910000e+01 2.1720000e+01 1.3472000e+02 5.5400000e+00 1.7655000e+02\n",
      " 2.6918000e+02 2.1900000e+01 5.4100000e+00 1.3470000e+01 2.4480000e+02\n",
      " 1.2033000e+02 1.6403000e+02 2.3001000e+02 5.4662000e+02 2.6058000e+02\n",
      " 2.6804000e+02 1.1128000e+02 1.5880000e+01 4.4440000e+01 1.0278000e+02\n",
      " 8.7361000e+02 6.4000000e+00 1.6300000e+00 2.6471000e+02 3.7750000e+01\n",
      " 8.1900000e+00 4.2470000e+01 4.8800000e+00 4.8500000e+00 6.4200000e+00\n",
      " 3.1700000e+00 1.4583000e+02 4.5130700e+03 2.8857600e+03 3.4913600e+03\n",
      " 3.3723800e+03 2.6835900e+03 2.2347500e+03 2.6762800e+03 2.8228000e+03\n",
      " 3.5747300e+03 3.3621500e+03 2.6560200e+03 3.5101300e+03 2.8185600e+03\n",
      " 3.5017800e+03 3.2152900e+03 3.2134000e+03 2.9418300e+03 2.8235300e+03\n",
      " 2.6739700e+03 1.8631800e+03 1.5290800e+03 1.8641900e+03 2.6545600e+03\n",
      " 1.4863400e+03 9.8610000e+01 3.4071000e+02 3.7290000e+02 5.0153000e+02\n",
      " 9.0704000e+02 2.8494600e+03 1.3633900e+03 2.3724000e+02 1.0545600e+03\n",
      " 2.1200900e+03 8.7480000e+01 5.7694000e+02 3.6200000e+00 9.0400000e+00\n",
      " 3.0800000e+01 3.6100000e+00 7.9011000e+02 1.0394000e+02 1.4300000e+01\n",
      " 8.2975000e+02 1.0680000e+01 3.9050000e+01 2.6590000e+01 4.1647100e+03\n",
      " 4.2573600e+03 1.2160900e+03 2.5006500e+03 1.1496700e+03 1.6981600e+03\n",
      " 8.1030000e+02 3.8343900e+03 3.1295400e+03 1.7021800e+03 4.7354000e+02\n",
      " 2.1799000e+03 2.0996000e+03 1.9313300e+03 4.5357900e+03 3.3970000e+03\n",
      " 1.6416800e+03 2.9097300e+03 8.9955000e+02 4.4040900e+03 1.8403300e+03\n",
      " 1.9367600e+03 1.0231100e+03 2.1613200e+03 5.7264000e+02 1.1347400e+03\n",
      " 5.2166000e+02 2.2296000e+03 1.4217100e+03 3.9376000e+03 1.3402700e+03\n",
      " 1.2803200e+03 3.1502700e+03 7.2947000e+02 1.2064700e+03 1.2915500e+03\n",
      " 3.1893400e+03 1.8434000e+02 7.5930000e+01 3.7540000e+02 4.4704700e+03\n",
      " 6.7976000e+02 1.1345800e+03 4.2401900e+03 8.6961000e+02 5.9763000e+02\n",
      " 5.6346000e+02 1.7670000e+01 7.7800000e+02 3.8963000e+02 5.2600000e+00\n",
      " 8.8100000e+00 8.2215000e+02 1.9350000e+01 1.1930000e+01 7.0800000e+00\n",
      " 1.4360000e+01 1.2270000e+01 6.8400000e+00 4.2770000e+01 1.6210000e+01\n",
      " 1.2830000e+01 2.4600000e+00 1.0041700e+03 9.2917000e+02 1.4210000e+01\n",
      " 2.5260000e+01 3.0180000e+01 4.0390000e+01 9.4200000e+00 1.6160000e+01\n",
      " 2.6960000e+01 4.0500000e+00 1.2368920e+04 8.3779800e+03 6.3426600e+03\n",
      " 2.2744870e+04 9.7338600e+03 7.0073400e+03 6.3503700e+03 2.2353330e+04\n",
      " 2.0249060e+04 1.1902480e+04 6.3548100e+03 3.9332200e+03 1.2357090e+04\n",
      " 1.1521220e+04 2.1946090e+04 1.7386670e+04 1.1018560e+04 1.5355400e+04\n",
      " 7.2860300e+03 1.9675580e+04 1.1038050e+04 7.4608900e+03 4.9926400e+03\n",
      " 1.0040610e+04 4.0980800e+03 6.3168000e+03 2.3009500e+03 9.4474300e+03\n",
      " 3.9975000e+03 1.3275870e+04 4.4642200e+03 3.3181100e+03 1.1815490e+04\n",
      " 1.9308500e+03 5.4382000e+03 4.8380100e+03 8.9392500e+03 2.8469900e+03\n",
      " 1.3925600e+03 1.2981300e+03 1.2998300e+03 6.0645900e+03 2.3341400e+03\n",
      " 3.9486100e+03 5.4000000e+00 1.5353600e+03 3.5930000e+01 3.5820000e+01\n",
      " 1.7847000e+02 2.8440000e+01 4.2420000e+01 5.2720000e+01 3.1777000e+02\n",
      " 2.6040000e+01 7.3530000e+01 2.4040000e+01 4.1243000e+02 1.5360000e+01\n",
      " 5.7900000e+01 3.3476700e+03 2.4721000e+02 5.6320000e+01 1.3683000e+02\n",
      " 3.5809230e+04 1.1966130e+04 1.2522280e+04 2.9374730e+04 5.0198600e+03\n",
      " 1.3835910e+04 1.7202070e+04 2.3926610e+04 4.4655200e+03 3.7544200e+03\n",
      " 4.4532700e+03 4.5576800e+04 8.9585800e+03 1.2664890e+04 4.7632780e+04\n",
      " 9.4413600e+03 7.9228000e+03 9.5128800e+03 3.7500000e+01 6.3890000e+01\n",
      " 1.8889000e+02 1.2536000e+03 1.8793000e+02 9.6310000e+01 9.2576000e+02\n",
      " 2.7082500e+03 8.1868000e+02 2.3228000e+03 2.4367500e+03 9.1307000e+02\n",
      " 9.0398000e+02 1.9882000e+03 2.7608000e+03 3.8160000e+01 1.4998000e+02\n",
      " 7.8050000e+01 5.2400000e+00 1.3010000e+01 1.0220000e+01 2.7970000e+01\n",
      " 1.5000000e+02 2.6660200e+03 3.1632300e+03 2.9505300e+03 7.3463000e+02\n",
      " 5.9188000e+02 3.2835000e+02 1.0069200e+03 5.6400000e+02 8.1859000e+02\n",
      " 4.0148000e+02 1.8777900e+03 1.3193700e+03 8.8729000e+02 4.9482000e+02\n",
      " 6.9220000e+02 7.5376000e+02 9.4398000e+02 1.9119600e+03 1.2359400e+03\n",
      " 7.3332000e+02 1.5150500e+03 4.0808000e+02 2.0049100e+03 7.1105000e+02\n",
      " 6.9548000e+02 5.2540000e+02 9.4825000e+02 2.7506000e+02 4.3736000e+02\n",
      " 2.1902000e+02 1.2496100e+03 4.1814000e+02 9.2212000e+02 3.6143000e+02\n",
      " 3.7653000e+02 1.0758500e+03 6.5890000e+01 4.9583000e+02 3.3750000e+02\n",
      " 3.3749200e+03 3.7377100e+03 8.3154000e+02 2.0180200e+03 1.2459200e+03\n",
      " 1.6014500e+03 6.3136000e+02 3.1880000e+03 2.4953100e+03 1.2271500e+03\n",
      " 4.6943000e+02 1.5707200e+03 1.3371700e+03 1.6197200e+03 4.4038100e+03\n",
      " 2.7491800e+03 1.7571800e+03 3.4074400e+03 1.7935000e+02 8.0337000e+02\n",
      " 7.7584000e+02 2.7890000e+02 8.0910000e+01 4.5917000e+02 7.5600000e+00\n",
      " 3.5054000e+02 8.9880000e+01 1.1147600e+03 1.2978000e+02 4.9900000e+00\n",
      " 4.4400000e+00 7.0700000e+00 1.5150000e+01 2.0800000e+00 7.1600000e+00\n",
      " 7.1300000e+00 8.8860000e+01 1.0630000e+01 1.9900000e+00 3.5000000e+00\n",
      " 6.1672000e+02 9.3800000e+01 4.1570000e+01 5.5280000e+01 1.1760000e+02\n",
      " 7.6010000e+01 1.0360000e+01 1.0350000e+01 6.0833000e+02 4.9028000e+02\n",
      " 6.8056000e+02 1.6400000e+00 8.0100000e+00 2.2361000e+02 3.4722000e+02\n",
      " 3.6528000e+02 1.5000000e+00 1.5100000e+00 3.1944000e+02 2.9444000e+02\n",
      " 1.5667000e+02 2.2333000e+02 3.8000000e+00 1.1815900e+03 9.4389000e+02\n",
      " 8.2682000e+02 9.7296000e+02 1.1254900e+03 8.6656000e+02 1.1024300e+03\n",
      " 1.3327200e+03 1.1965700e+03 1.1214400e+03 1.0065000e+03 1.0342200e+03\n",
      " 2.4910000e+02 1.4022000e+02 1.8614000e+02 8.8383000e+02 3.7131000e+02\n",
      " 7.5973000e+02 7.6483000e+03 1.6059500e+03 2.5899000e+02 8.3323000e+02\n",
      " 1.4173000e+02 1.6732400e+03 1.6753000e+02 2.2720000e+01 1.6719000e+02\n",
      " 4.1280000e+01 3.5090000e+01 3.4870000e+01 4.3100000e+01 4.1100000e+00\n",
      " 8.2300000e+00 2.0600000e+00 8.2700000e+00 9.6400000e+01 8.3300000e+00\n",
      " 2.2980000e+01 1.8766800e+03 6.4710000e+01 8.3500000e+00 5.2500000e+00\n",
      " 7.8800000e+00 2.6400000e+00 2.4340000e+01 2.7070000e+01 2.7000000e+00\n",
      " 3.0000000e+00 8.1800000e+00 4.1000000e+00 2.1150000e+01 9.5900000e+01\n",
      " 4.4583000e+02 1.5440000e+01 6.1600000e+00 1.1692000e+02 5.8370000e+01\n",
      " 4.2970000e+01 4.9060000e+01 2.7500000e+01 1.1886000e+02 7.0570000e+01\n",
      " 5.2180000e+01 3.2548000e+02 1.5526000e+02 4.3390000e+01 1.6519000e+02\n",
      " 7.5050000e+01 2.1659000e+02 8.0063000e+02 2.6294000e+02 9.1940000e+01\n",
      " 8.0200000e+00 5.3500000e+00 8.4028580e+04 1.0807279e+05 1.2031700e+03\n",
      " 3.3681000e+02 3.1670000e+01 7.0500000e+00 5.2450000e+01 3.1684000e+02\n",
      " 3.4124000e+02 3.3382000e+02 1.4001000e+02 1.3843000e+02 1.9009000e+02\n",
      " 7.5760000e+01 1.4420000e+01 4.3220000e+01 3.5920000e+01 2.9110000e+01\n",
      " 5.8470000e+01 7.3020000e+01 1.4240000e+01 1.2630000e+01 2.0410000e+01\n",
      " 1.3570300e+03 3.2940000e+01 5.2330000e+01 1.7560000e+01 4.2530000e+01\n",
      " 1.4030000e+01 2.8040000e+01 3.1620000e+01 1.7580000e+01 3.5220000e+01\n",
      " 1.0129400e+03 3.9317000e+02 1.0590000e+01 2.1160000e+01 1.5289700e+03\n",
      " 2.9800000e+00 1.3972000e+02 2.1400000e+00 2.1100000e+00 2.8200000e+00\n",
      " 2.8400000e+00 1.7080000e+01 2.8500000e+00 2.8070000e+01 2.7500000e+00\n",
      " 2.9722000e+02 5.3100000e+00 4.8182840e+04 2.0262540e+04 4.4658040e+04\n",
      " 1.9725510e+04 2.0582310e+04 3.6325520e+04 1.0092510e+04 2.5031210e+04\n",
      " 3.1924400e+04 2.9286950e+04 7.5245100e+03 1.8878910e+04 7.4612000e+03\n",
      " 5.2375150e+04 1.4064720e+04 1.6090510e+04 5.3733650e+04 1.3350500e+04\n",
      " 1.1904060e+04 1.3924230e+04 4.6899120e+04 8.6313100e+03 7.9353500e+03\n",
      " 1.5789150e+04 1.8672810e+04 5.1441300e+03 1.3319610e+04 5.7088000e+02\n",
      " 2.2249900e+03 7.1876000e+02 1.3021500e+03 1.1495520e+04 2.2395900e+03\n",
      " 6.4300000e+02 1.5815000e+03 2.0500000e+02 3.8303100e+03 1.0710200e+03\n",
      " 5.3710000e+01 2.7032000e+02 6.2200000e+01 5.2150000e+01 5.0470000e+01\n",
      " 6.3970000e+01 1.8520000e+01 8.4200000e+00 4.6370000e+01 1.4547800e+03\n",
      " 6.7170000e+01 1.0723000e+02 2.1687000e+03 8.4950000e+01 2.6530000e+01\n",
      " 3.6240000e+01 2.2198000e+02 2.1282000e+02 2.4269000e+02 3.4337000e+02\n",
      " 1.0714900e+03 2.9400000e+00 4.0280000e+01 5.6940000e+01 8.8140000e+02\n",
      " 1.8333000e+02 5.8326000e+02 7.6650000e+02 1.3610000e+01 2.9350000e+03\n",
      " 3.0561100e+03 2.7411100e+03 2.1450000e+03 5.9444000e+02 5.1528000e+02\n",
      " 6.0278000e+02 4.9167000e+02 1.1555600e+03 1.9250000e+01 4.8200000e+00\n",
      " 5.4680000e+01 1.2880000e+01 1.1270000e+01 4.0300000e+01 1.0326000e+02\n",
      " 9.3610000e+01 1.4520000e+01 1.1290000e+01 2.4170000e+01 3.3800000e+01\n",
      " 4.8100000e+00 6.3900000e+00 7.9800000e+00 7.9600000e+00 1.8200000e+01\n",
      " 6.4500000e+01 3.4700000e+01 1.8150000e+01 6.5800000e+00 5.8583000e+02\n",
      " 8.9430000e+01 8.0800000e+00 2.7260000e+01 1.1150000e+01 3.6490000e+01\n",
      " 1.7400000e+01 2.0530000e+01 6.3100000e+00 9.4700000e+00 6.9460000e+01\n",
      " 3.3283000e+02 1.8960000e+01 7.9200000e+00 6.5130000e+01 3.6670000e+01\n",
      " 3.0694000e+02 1.7361000e+02 4.2361000e+02 1.7500000e+02 3.9361000e+02\n",
      " 1.2350000e+03 9.4417000e+02 1.0600000e+03 1.5500000e+02 1.4997200e+03\n",
      " 3.3777800e+03 3.9750000e+03 4.3850000e+03 4.7450000e+03 2.3600000e+03\n",
      " 1.8400000e+03 2.3300000e+03 1.5816700e+03 1.9061100e+03 1.2850000e+03\n",
      " 1.4444000e+02 1.0736100e+03 2.5000000e+01 1.2917000e+02 1.9440000e+01\n",
      " 1.6250000e+03 1.4800000e+03 1.1450000e+03 1.8200000e+03 6.9500000e+02\n",
      " 4.3900000e+03 2.4300000e+03 4.2525000e+03 4.9000000e+03 2.7000000e+03\n",
      " 2.6850000e+03 2.1400000e+03 2.5300000e+03 5.5500000e+02 1.3100000e+03\n",
      " 1.0972000e+02 3.8754600e+04 3.2911640e+04 2.5004380e+04 2.9605750e+04\n",
      " 2.9919690e+04 2.8709030e+04 2.7954840e+04 2.9342750e+04 2.3290740e+04\n",
      " 3.2670580e+04 3.6591190e+04 2.6579430e+04 2.8538340e+04 3.7712620e+04\n",
      " 4.1117010e+04 2.8399830e+04 2.5873300e+04 2.9990190e+04 3.7788550e+04\n",
      " 3.1034450e+04 3.5738220e+04 3.4328610e+04 2.5714930e+04 2.6718840e+04\n",
      " 3.3541910e+04 4.0842240e+04 2.8909540e+04 3.0289930e+04 2.7501390e+04\n",
      " 2.8247080e+04 3.2186130e+04 3.0374150e+04 1.9350790e+04 2.5136120e+04\n",
      " 1.7124030e+04 2.0523370e+04 2.1076610e+04 1.9681740e+04 1.7277530e+04\n",
      " 2.1064410e+04 1.8996980e+04 1.9126710e+04 2.2853110e+04 1.7870860e+04\n",
      " 1.5277680e+04 1.5578370e+04 1.7495300e+04 1.4505170e+04 1.5340520e+04\n",
      " 1.8330900e+04 1.6499430e+04 1.0604730e+04 6.9440000e+01 2.4028000e+02\n",
      " 8.2500000e+02]\n",
      "type ['conventional']\n",
      "region ['Albany' 'Atlanta' 'BaltimoreWashington' 'Boise' 'Boston'\n",
      " 'BuffaloRochester' 'California' 'Charlotte' 'Chicago' 'Columbus'\n",
      " 'DallasFtWorth' 'Denver' 'Detroit' 'GrandRapids' 'GreatLakes'\n",
      " 'HarrisburgScranton' 'HartfordSpringfield' 'Houston' 'Indianapolis'\n",
      " 'Jacksonville' 'LasVegas' 'LosAngeles' 'Louisville' 'MiamiFtLauderdale'\n",
      " 'Midsouth' 'Nashville' 'NewYork' 'Northeast' 'NorthernNewEngland'\n",
      " 'Orlando' 'Philadelphia' 'PhoenixTucson' 'Pittsburgh' 'Plains' 'Portland'\n",
      " 'RaleighGreensboro' 'RichmondNorfolk' 'Roanoke' 'SanDiego' 'SanFrancisco'\n",
      " 'Seattle' 'SouthCarolina' 'SouthCentral' 'Southeast' 'Spokane' 'StLouis'\n",
      " 'Syracuse' 'Tampa' 'TotalUS' 'West' 'WestTexNewMexico']\n"
     ]
    }
   ],
   "source": [
    "for i in df.columns:\n",
    "    print(i,df[i].unique())"
   ]
  },
  {
   "cell_type": "markdown",
   "metadata": {},
   "source": [
    "only conventional type of avacados data is available.\n",
    "\n",
    "We can drop the type column"
   ]
  },
  {
   "cell_type": "code",
   "execution_count": 60,
   "metadata": {},
   "outputs": [
    {
     "data": {
      "text/html": [
       "<div>\n",
       "<style scoped>\n",
       "    .dataframe tbody tr th:only-of-type {\n",
       "        vertical-align: middle;\n",
       "    }\n",
       "\n",
       "    .dataframe tbody tr th {\n",
       "        vertical-align: top;\n",
       "    }\n",
       "\n",
       "    .dataframe thead th {\n",
       "        text-align: right;\n",
       "    }\n",
       "</style>\n",
       "<table border=\"1\" class=\"dataframe\">\n",
       "  <thead>\n",
       "    <tr style=\"text-align: right;\">\n",
       "      <th></th>\n",
       "      <th>AveragePrice</th>\n",
       "      <th>Total Volume</th>\n",
       "      <th>4046</th>\n",
       "      <th>4225</th>\n",
       "      <th>4770</th>\n",
       "      <th>Total Bags</th>\n",
       "      <th>Small Bags</th>\n",
       "      <th>Large Bags</th>\n",
       "      <th>XLarge Bags</th>\n",
       "      <th>region</th>\n",
       "    </tr>\n",
       "  </thead>\n",
       "  <tbody>\n",
       "    <tr>\n",
       "      <th>0</th>\n",
       "      <td>1.33</td>\n",
       "      <td>64236.62</td>\n",
       "      <td>1036.74</td>\n",
       "      <td>54454.85</td>\n",
       "      <td>48.16</td>\n",
       "      <td>8696.87</td>\n",
       "      <td>8603.62</td>\n",
       "      <td>93.25</td>\n",
       "      <td>0.0</td>\n",
       "      <td>Albany</td>\n",
       "    </tr>\n",
       "    <tr>\n",
       "      <th>1</th>\n",
       "      <td>1.35</td>\n",
       "      <td>54876.98</td>\n",
       "      <td>674.28</td>\n",
       "      <td>44638.81</td>\n",
       "      <td>58.33</td>\n",
       "      <td>9505.56</td>\n",
       "      <td>9408.07</td>\n",
       "      <td>97.49</td>\n",
       "      <td>0.0</td>\n",
       "      <td>Albany</td>\n",
       "    </tr>\n",
       "    <tr>\n",
       "      <th>2</th>\n",
       "      <td>0.93</td>\n",
       "      <td>118220.22</td>\n",
       "      <td>794.70</td>\n",
       "      <td>109149.67</td>\n",
       "      <td>130.50</td>\n",
       "      <td>8145.35</td>\n",
       "      <td>8042.21</td>\n",
       "      <td>103.14</td>\n",
       "      <td>0.0</td>\n",
       "      <td>Albany</td>\n",
       "    </tr>\n",
       "    <tr>\n",
       "      <th>3</th>\n",
       "      <td>1.08</td>\n",
       "      <td>78992.15</td>\n",
       "      <td>1132.00</td>\n",
       "      <td>71976.41</td>\n",
       "      <td>72.58</td>\n",
       "      <td>5811.16</td>\n",
       "      <td>5677.40</td>\n",
       "      <td>133.76</td>\n",
       "      <td>0.0</td>\n",
       "      <td>Albany</td>\n",
       "    </tr>\n",
       "    <tr>\n",
       "      <th>4</th>\n",
       "      <td>1.28</td>\n",
       "      <td>51039.60</td>\n",
       "      <td>941.48</td>\n",
       "      <td>43838.39</td>\n",
       "      <td>75.78</td>\n",
       "      <td>6183.95</td>\n",
       "      <td>5986.26</td>\n",
       "      <td>197.69</td>\n",
       "      <td>0.0</td>\n",
       "      <td>Albany</td>\n",
       "    </tr>\n",
       "  </tbody>\n",
       "</table>\n",
       "</div>"
      ],
      "text/plain": [
       "   AveragePrice  Total Volume     4046       4225    4770  Total Bags  \\\n",
       "0          1.33      64236.62  1036.74   54454.85   48.16     8696.87   \n",
       "1          1.35      54876.98   674.28   44638.81   58.33     9505.56   \n",
       "2          0.93     118220.22   794.70  109149.67  130.50     8145.35   \n",
       "3          1.08      78992.15  1132.00   71976.41   72.58     5811.16   \n",
       "4          1.28      51039.60   941.48   43838.39   75.78     6183.95   \n",
       "\n",
       "   Small Bags  Large Bags  XLarge Bags  region  \n",
       "0     8603.62       93.25          0.0  Albany  \n",
       "1     9408.07       97.49          0.0  Albany  \n",
       "2     8042.21      103.14          0.0  Albany  \n",
       "3     5677.40      133.76          0.0  Albany  \n",
       "4     5986.26      197.69          0.0  Albany  "
      ]
     },
     "execution_count": 60,
     "metadata": {},
     "output_type": "execute_result"
    }
   ],
   "source": [
    "df.head()"
   ]
  },
  {
   "cell_type": "code",
   "execution_count": 61,
   "metadata": {},
   "outputs": [
    {
     "name": "stdout",
     "output_type": "stream",
     "text": [
      "<class 'pandas.core.frame.DataFrame'>\n",
      "Int64Index: 1517 entries, 0 to 1516\n",
      "Data columns (total 10 columns):\n",
      " #   Column        Non-Null Count  Dtype  \n",
      "---  ------        --------------  -----  \n",
      " 0   AveragePrice  1517 non-null   float64\n",
      " 1   Total Volume  1517 non-null   float64\n",
      " 2   4046          1517 non-null   float64\n",
      " 3   4225          1517 non-null   float64\n",
      " 4   4770          1517 non-null   float64\n",
      " 5   Total Bags    1517 non-null   float64\n",
      " 6   Small Bags    1517 non-null   float64\n",
      " 7   Large Bags    1517 non-null   float64\n",
      " 8   XLarge Bags   1517 non-null   float64\n",
      " 9   region        1517 non-null   object \n",
      "dtypes: float64(9), object(1)\n",
      "memory usage: 170.4+ KB\n"
     ]
    }
   ],
   "source": [
    "df.info()"
   ]
  },
  {
   "cell_type": "markdown",
   "metadata": {},
   "source": [
    "Region is a nominal data, hence, lets encode the variable."
   ]
  },
  {
   "cell_type": "code",
   "execution_count": 64,
   "metadata": {},
   "outputs": [],
   "source": [
    "df1 = pd.get_dummies(df['region'])"
   ]
  },
  {
   "cell_type": "code",
   "execution_count": 67,
   "metadata": {},
   "outputs": [],
   "source": [
    "df = pd.concat([df,df1],axis=1)"
   ]
  },
  {
   "cell_type": "code",
   "execution_count": 68,
   "metadata": {},
   "outputs": [
    {
     "data": {
      "text/plain": [
       "(1517, 61)"
      ]
     },
     "execution_count": 68,
     "metadata": {},
     "output_type": "execute_result"
    }
   ],
   "source": [
    "df.shape"
   ]
  },
  {
   "cell_type": "code",
   "execution_count": 69,
   "metadata": {},
   "outputs": [],
   "source": [
    "df.drop(columns = ['region'],inplace=True)"
   ]
  },
  {
   "cell_type": "code",
   "execution_count": 70,
   "metadata": {},
   "outputs": [
    {
     "data": {
      "text/html": [
       "<div>\n",
       "<style scoped>\n",
       "    .dataframe tbody tr th:only-of-type {\n",
       "        vertical-align: middle;\n",
       "    }\n",
       "\n",
       "    .dataframe tbody tr th {\n",
       "        vertical-align: top;\n",
       "    }\n",
       "\n",
       "    .dataframe thead th {\n",
       "        text-align: right;\n",
       "    }\n",
       "</style>\n",
       "<table border=\"1\" class=\"dataframe\">\n",
       "  <thead>\n",
       "    <tr style=\"text-align: right;\">\n",
       "      <th></th>\n",
       "      <th>AveragePrice</th>\n",
       "      <th>Total Volume</th>\n",
       "      <th>4046</th>\n",
       "      <th>4225</th>\n",
       "      <th>4770</th>\n",
       "      <th>Total Bags</th>\n",
       "      <th>Small Bags</th>\n",
       "      <th>Large Bags</th>\n",
       "      <th>XLarge Bags</th>\n",
       "      <th>Albany</th>\n",
       "      <th>...</th>\n",
       "      <th>SouthCarolina</th>\n",
       "      <th>SouthCentral</th>\n",
       "      <th>Southeast</th>\n",
       "      <th>Spokane</th>\n",
       "      <th>StLouis</th>\n",
       "      <th>Syracuse</th>\n",
       "      <th>Tampa</th>\n",
       "      <th>TotalUS</th>\n",
       "      <th>West</th>\n",
       "      <th>WestTexNewMexico</th>\n",
       "    </tr>\n",
       "  </thead>\n",
       "  <tbody>\n",
       "    <tr>\n",
       "      <th>0</th>\n",
       "      <td>1.33</td>\n",
       "      <td>64236.62</td>\n",
       "      <td>1036.74</td>\n",
       "      <td>54454.85</td>\n",
       "      <td>48.16</td>\n",
       "      <td>8696.87</td>\n",
       "      <td>8603.62</td>\n",
       "      <td>93.25</td>\n",
       "      <td>0.0</td>\n",
       "      <td>1</td>\n",
       "      <td>...</td>\n",
       "      <td>0</td>\n",
       "      <td>0</td>\n",
       "      <td>0</td>\n",
       "      <td>0</td>\n",
       "      <td>0</td>\n",
       "      <td>0</td>\n",
       "      <td>0</td>\n",
       "      <td>0</td>\n",
       "      <td>0</td>\n",
       "      <td>0</td>\n",
       "    </tr>\n",
       "    <tr>\n",
       "      <th>1</th>\n",
       "      <td>1.35</td>\n",
       "      <td>54876.98</td>\n",
       "      <td>674.28</td>\n",
       "      <td>44638.81</td>\n",
       "      <td>58.33</td>\n",
       "      <td>9505.56</td>\n",
       "      <td>9408.07</td>\n",
       "      <td>97.49</td>\n",
       "      <td>0.0</td>\n",
       "      <td>1</td>\n",
       "      <td>...</td>\n",
       "      <td>0</td>\n",
       "      <td>0</td>\n",
       "      <td>0</td>\n",
       "      <td>0</td>\n",
       "      <td>0</td>\n",
       "      <td>0</td>\n",
       "      <td>0</td>\n",
       "      <td>0</td>\n",
       "      <td>0</td>\n",
       "      <td>0</td>\n",
       "    </tr>\n",
       "    <tr>\n",
       "      <th>2</th>\n",
       "      <td>0.93</td>\n",
       "      <td>118220.22</td>\n",
       "      <td>794.70</td>\n",
       "      <td>109149.67</td>\n",
       "      <td>130.50</td>\n",
       "      <td>8145.35</td>\n",
       "      <td>8042.21</td>\n",
       "      <td>103.14</td>\n",
       "      <td>0.0</td>\n",
       "      <td>1</td>\n",
       "      <td>...</td>\n",
       "      <td>0</td>\n",
       "      <td>0</td>\n",
       "      <td>0</td>\n",
       "      <td>0</td>\n",
       "      <td>0</td>\n",
       "      <td>0</td>\n",
       "      <td>0</td>\n",
       "      <td>0</td>\n",
       "      <td>0</td>\n",
       "      <td>0</td>\n",
       "    </tr>\n",
       "    <tr>\n",
       "      <th>3</th>\n",
       "      <td>1.08</td>\n",
       "      <td>78992.15</td>\n",
       "      <td>1132.00</td>\n",
       "      <td>71976.41</td>\n",
       "      <td>72.58</td>\n",
       "      <td>5811.16</td>\n",
       "      <td>5677.40</td>\n",
       "      <td>133.76</td>\n",
       "      <td>0.0</td>\n",
       "      <td>1</td>\n",
       "      <td>...</td>\n",
       "      <td>0</td>\n",
       "      <td>0</td>\n",
       "      <td>0</td>\n",
       "      <td>0</td>\n",
       "      <td>0</td>\n",
       "      <td>0</td>\n",
       "      <td>0</td>\n",
       "      <td>0</td>\n",
       "      <td>0</td>\n",
       "      <td>0</td>\n",
       "    </tr>\n",
       "    <tr>\n",
       "      <th>4</th>\n",
       "      <td>1.28</td>\n",
       "      <td>51039.60</td>\n",
       "      <td>941.48</td>\n",
       "      <td>43838.39</td>\n",
       "      <td>75.78</td>\n",
       "      <td>6183.95</td>\n",
       "      <td>5986.26</td>\n",
       "      <td>197.69</td>\n",
       "      <td>0.0</td>\n",
       "      <td>1</td>\n",
       "      <td>...</td>\n",
       "      <td>0</td>\n",
       "      <td>0</td>\n",
       "      <td>0</td>\n",
       "      <td>0</td>\n",
       "      <td>0</td>\n",
       "      <td>0</td>\n",
       "      <td>0</td>\n",
       "      <td>0</td>\n",
       "      <td>0</td>\n",
       "      <td>0</td>\n",
       "    </tr>\n",
       "  </tbody>\n",
       "</table>\n",
       "<p>5 rows × 60 columns</p>\n",
       "</div>"
      ],
      "text/plain": [
       "   AveragePrice  Total Volume     4046       4225    4770  Total Bags  \\\n",
       "0          1.33      64236.62  1036.74   54454.85   48.16     8696.87   \n",
       "1          1.35      54876.98   674.28   44638.81   58.33     9505.56   \n",
       "2          0.93     118220.22   794.70  109149.67  130.50     8145.35   \n",
       "3          1.08      78992.15  1132.00   71976.41   72.58     5811.16   \n",
       "4          1.28      51039.60   941.48   43838.39   75.78     6183.95   \n",
       "\n",
       "   Small Bags  Large Bags  XLarge Bags  Albany  ...  SouthCarolina  \\\n",
       "0     8603.62       93.25          0.0       1  ...              0   \n",
       "1     9408.07       97.49          0.0       1  ...              0   \n",
       "2     8042.21      103.14          0.0       1  ...              0   \n",
       "3     5677.40      133.76          0.0       1  ...              0   \n",
       "4     5986.26      197.69          0.0       1  ...              0   \n",
       "\n",
       "   SouthCentral  Southeast  Spokane  StLouis  Syracuse  Tampa  TotalUS  West  \\\n",
       "0             0          0        0        0         0      0        0     0   \n",
       "1             0          0        0        0         0      0        0     0   \n",
       "2             0          0        0        0         0      0        0     0   \n",
       "3             0          0        0        0         0      0        0     0   \n",
       "4             0          0        0        0         0      0        0     0   \n",
       "\n",
       "   WestTexNewMexico  \n",
       "0                 0  \n",
       "1                 0  \n",
       "2                 0  \n",
       "3                 0  \n",
       "4                 0  \n",
       "\n",
       "[5 rows x 60 columns]"
      ]
     },
     "execution_count": 70,
     "metadata": {},
     "output_type": "execute_result"
    }
   ],
   "source": [
    "df.head()"
   ]
  },
  {
   "cell_type": "markdown",
   "metadata": {},
   "source": [
    "The variables has huge difference corresponding with others, and this might lead to bias in model prediction.There fore we need to address this concern by scaling the variables."
   ]
  },
  {
   "cell_type": "code",
   "execution_count": 72,
   "metadata": {},
   "outputs": [
    {
     "name": "stderr",
     "output_type": "stream",
     "text": [
      "C:\\Users\\AKHIL\\anaconda3\\lib\\site-packages\\seaborn\\distributions.py:2551: FutureWarning: `distplot` is a deprecated function and will be removed in a future version. Please adapt your code to use either `displot` (a figure-level function with similar flexibility) or `histplot` (an axes-level function for histograms).\n",
      "  warnings.warn(msg, FutureWarning)\n",
      "C:\\Users\\AKHIL\\anaconda3\\lib\\site-packages\\seaborn\\distributions.py:2551: FutureWarning: `distplot` is a deprecated function and will be removed in a future version. Please adapt your code to use either `displot` (a figure-level function with similar flexibility) or `histplot` (an axes-level function for histograms).\n",
      "  warnings.warn(msg, FutureWarning)\n",
      "C:\\Users\\AKHIL\\anaconda3\\lib\\site-packages\\seaborn\\distributions.py:2551: FutureWarning: `distplot` is a deprecated function and will be removed in a future version. Please adapt your code to use either `displot` (a figure-level function with similar flexibility) or `histplot` (an axes-level function for histograms).\n",
      "  warnings.warn(msg, FutureWarning)\n",
      "C:\\Users\\AKHIL\\anaconda3\\lib\\site-packages\\seaborn\\distributions.py:2551: FutureWarning: `distplot` is a deprecated function and will be removed in a future version. Please adapt your code to use either `displot` (a figure-level function with similar flexibility) or `histplot` (an axes-level function for histograms).\n",
      "  warnings.warn(msg, FutureWarning)\n",
      "C:\\Users\\AKHIL\\anaconda3\\lib\\site-packages\\seaborn\\distributions.py:2551: FutureWarning: `distplot` is a deprecated function and will be removed in a future version. Please adapt your code to use either `displot` (a figure-level function with similar flexibility) or `histplot` (an axes-level function for histograms).\n",
      "  warnings.warn(msg, FutureWarning)\n",
      "C:\\Users\\AKHIL\\anaconda3\\lib\\site-packages\\seaborn\\distributions.py:2551: FutureWarning: `distplot` is a deprecated function and will be removed in a future version. Please adapt your code to use either `displot` (a figure-level function with similar flexibility) or `histplot` (an axes-level function for histograms).\n",
      "  warnings.warn(msg, FutureWarning)\n",
      "C:\\Users\\AKHIL\\anaconda3\\lib\\site-packages\\seaborn\\distributions.py:2551: FutureWarning: `distplot` is a deprecated function and will be removed in a future version. Please adapt your code to use either `displot` (a figure-level function with similar flexibility) or `histplot` (an axes-level function for histograms).\n",
      "  warnings.warn(msg, FutureWarning)\n",
      "C:\\Users\\AKHIL\\anaconda3\\lib\\site-packages\\seaborn\\distributions.py:2551: FutureWarning: `distplot` is a deprecated function and will be removed in a future version. Please adapt your code to use either `displot` (a figure-level function with similar flexibility) or `histplot` (an axes-level function for histograms).\n",
      "  warnings.warn(msg, FutureWarning)\n",
      "C:\\Users\\AKHIL\\anaconda3\\lib\\site-packages\\seaborn\\distributions.py:2551: FutureWarning: `distplot` is a deprecated function and will be removed in a future version. Please adapt your code to use either `displot` (a figure-level function with similar flexibility) or `histplot` (an axes-level function for histograms).\n",
      "  warnings.warn(msg, FutureWarning)\n"
     ]
    },
    {
     "data": {
      "image/png": "[encoded data removed]",
      "text/plain": [
       "<Figure size 432x288 with 1 Axes>"
      ]
     },
     "metadata": {
      "needs_background": "light"
     },
     "output_type": "display_data"
    },
    {
     "data": {
      "image/png": "[encoded data removed]",
      "text/plain": [
       "<Figure size 432x288 with 1 Axes>"
      ]
     },
     "metadata": {
      "needs_background": "light"
     },
     "output_type": "display_data"
    },
    {
     "data": {
      "image/png": "[encoded data removed]",
      "text/plain": [
       "<Figure size 432x288 with 1 Axes>"
      ]
     },
     "metadata": {
      "needs_background": "light"
     },
     "output_type": "display_data"
    },
    {
     "data": {
      "image/png": "[encoded data removed]",
      "text/plain": [
       "<Figure size 432x288 with 1 Axes>"
      ]
     },
     "metadata": {
      "needs_background": "light"
     },
     "output_type": "display_data"
    },
    {
     "data": {
      "image/png": "[encoded data removed]",
      "text/plain": [
       "<Figure size 432x288 with 1 Axes>"
      ]
     },
     "metadata": {
      "needs_background": "light"
     },
     "output_type": "display_data"
    },
    {
     "data": {
      "image/png": "[encoded data removed]",
      "text/plain": [
       "<Figure size 432x288 with 1 Axes>"
      ]
     },
     "metadata": {
      "needs_background": "light"
     },
     "output_type": "display_data"
    },
    {
     "data": {
      "image/png": "[encoded data removed]",
      "text/plain": [
       "<Figure size 432x288 with 1 Axes>"
      ]
     },
     "metadata": {
      "needs_background": "light"
     },
     "output_type": "display_data"
    },
    {
     "data": {
      "image/png": "[encoded data removed]",
      "text/plain": [
       "<Figure size 432x288 with 1 Axes>"
      ]
     },
     "metadata": {
      "needs_background": "light"
     },
     "output_type": "display_data"
    },
    {
     "data": {
      "image/png": "[encoded data removed]",
      "text/plain": [
       "<Figure size 432x288 with 1 Axes>"
      ]
     },
     "metadata": {
      "needs_background": "light"
     },
     "output_type": "display_data"
    }
   ],
   "source": [
    "for i in df.columns:\n",
    "    if i == 'Albany':\n",
    "        break\n",
    "    else:\n",
    "        plt.subplots()\n",
    "        sns.distplot(df[i])"
   ]
  },
  {
   "cell_type": "markdown",
   "metadata": {},
   "source": [
    "The dependent variable, avg price looks normally distributed.\n",
    "\n",
    "The independent variables look a little right skew. Outliers may be the cause for that."
   ]
  },
  {
   "cell_type": "code",
   "execution_count": 73,
   "metadata": {},
   "outputs": [
    {
     "name": "stderr",
     "output_type": "stream",
     "text": [
      "C:\\Users\\AKHIL\\anaconda3\\lib\\site-packages\\seaborn\\_decorators.py:36: FutureWarning: Pass the following variable as a keyword arg: x. From version 0.12, the only valid positional argument will be `data`, and passing other arguments without an explicit keyword will result in an error or misinterpretation.\n",
      "  warnings.warn(\n",
      "C:\\Users\\AKHIL\\anaconda3\\lib\\site-packages\\seaborn\\_decorators.py:36: FutureWarning: Pass the following variable as a keyword arg: x. From version 0.12, the only valid positional argument will be `data`, and passing other arguments without an explicit keyword will result in an error or misinterpretation.\n",
      "  warnings.warn(\n",
      "C:\\Users\\AKHIL\\anaconda3\\lib\\site-packages\\seaborn\\_decorators.py:36: FutureWarning: Pass the following variable as a keyword arg: x. From version 0.12, the only valid positional argument will be `data`, and passing other arguments without an explicit keyword will result in an error or misinterpretation.\n",
      "  warnings.warn(\n",
      "C:\\Users\\AKHIL\\anaconda3\\lib\\site-packages\\seaborn\\_decorators.py:36: FutureWarning: Pass the following variable as a keyword arg: x. From version 0.12, the only valid positional argument will be `data`, and passing other arguments without an explicit keyword will result in an error or misinterpretation.\n",
      "  warnings.warn(\n",
      "C:\\Users\\AKHIL\\anaconda3\\lib\\site-packages\\seaborn\\_decorators.py:36: FutureWarning: Pass the following variable as a keyword arg: x. From version 0.12, the only valid positional argument will be `data`, and passing other arguments without an explicit keyword will result in an error or misinterpretation.\n",
      "  warnings.warn(\n",
      "C:\\Users\\AKHIL\\anaconda3\\lib\\site-packages\\seaborn\\_decorators.py:36: FutureWarning: Pass the following variable as a keyword arg: x. From version 0.12, the only valid positional argument will be `data`, and passing other arguments without an explicit keyword will result in an error or misinterpretation.\n",
      "  warnings.warn(\n",
      "C:\\Users\\AKHIL\\anaconda3\\lib\\site-packages\\seaborn\\_decorators.py:36: FutureWarning: Pass the following variable as a keyword arg: x. From version 0.12, the only valid positional argument will be `data`, and passing other arguments without an explicit keyword will result in an error or misinterpretation.\n",
      "  warnings.warn(\n",
      "C:\\Users\\AKHIL\\anaconda3\\lib\\site-packages\\seaborn\\_decorators.py:36: FutureWarning: Pass the following variable as a keyword arg: x. From version 0.12, the only valid positional argument will be `data`, and passing other arguments without an explicit keyword will result in an error or misinterpretation.\n",
      "  warnings.warn(\n",
      "C:\\Users\\AKHIL\\anaconda3\\lib\\site-packages\\seaborn\\_decorators.py:36: FutureWarning: Pass the following variable as a keyword arg: x. From version 0.12, the only valid positional argument will be `data`, and passing other arguments without an explicit keyword will result in an error or misinterpretation.\n",
      "  warnings.warn(\n"
     ]
    },
    {
     "data": {
      "image/png": "[encoded data removed]",
      "text/plain": [
       "<Figure size 432x288 with 1 Axes>"
      ]
     },
     "metadata": {
      "needs_background": "light"
     },
     "output_type": "display_data"
    },
    {
     "data": {
      "image/png": "[encoded data removed]",
      "text/plain": [
       "<Figure size 432x288 with 1 Axes>"
      ]
     },
     "metadata": {
      "needs_background": "light"
     },
     "output_type": "display_data"
    },
    {
     "data": {
      "image/png": "[encoded data removed]",
      "text/plain": [
       "<Figure size 432x288 with 1 Axes>"
      ]
     },
     "metadata": {
      "needs_background": "light"
     },
     "output_type": "display_data"
    },
    {
     "data": {
      "image/png": "[encoded data removed]",
      "text/plain": [
       "<Figure size 432x288 with 1 Axes>"
      ]
     },
     "metadata": {
      "needs_background": "light"
     },
     "output_type": "display_data"
    },
    {
     "data": {
      "image/png": "[encoded data removed]",
      "text/plain": [
       "<Figure size 432x288 with 1 Axes>"
      ]
     },
     "metadata": {
      "needs_background": "light"
     },
     "output_type": "display_data"
    },
    {
     "data": {
      "image/png": "[encoded data removed]",
      "text/plain": [
       "<Figure size 432x288 with 1 Axes>"
      ]
     },
     "metadata": {
      "needs_background": "light"
     },
     "output_type": "display_data"
    },
    {
     "data": {
      "image/png": "[encoded data removed]",
      "text/plain": [
       "<Figure size 432x288 with 1 Axes>"
      ]
     },
     "metadata": {
      "needs_background": "light"
     },
     "output_type": "display_data"
    },
    {
     "data": {
      "image/png": "[encoded data removed]",
      "text/plain": [
       "<Figure size 432x288 with 1 Axes>"
      ]
     },
     "metadata": {
      "needs_background": "light"
     },
     "output_type": "display_data"
    },
    {
     "data": {
      "image/png": "[encoded data removed]",
      "text/plain": [
       "<Figure size 432x288 with 1 Axes>"
      ]
     },
     "metadata": {
      "needs_background": "light"
     },
     "output_type": "display_data"
    }
   ],
   "source": [
    "for i in df.columns:\n",
    "    if i == 'Albany':\n",
    "        break\n",
    "    else:\n",
    "        plt.subplots()\n",
    "        sns.boxplot(df[i])"
   ]
  },
  {
   "cell_type": "markdown",
   "metadata": {},
   "source": [
    "There are many outliers in the data. Before going to remove the data, lets check the skewness after log transformation"
   ]
  },
  {
   "cell_type": "code",
   "execution_count": 74,
   "metadata": {},
   "outputs": [
    {
     "data": {
      "text/plain": [
       "Index(['AveragePrice', 'Total Volume', '4046', '4225', '4770', 'Total Bags',\n",
       "       'Small Bags', 'Large Bags', 'XLarge Bags', 'Albany', 'Atlanta',\n",
       "       'BaltimoreWashington', 'Boise', 'Boston', 'BuffaloRochester',\n",
       "       'California', 'Charlotte', 'Chicago', 'Columbus', 'DallasFtWorth',\n",
       "       'Denver', 'Detroit', 'GrandRapids', 'GreatLakes', 'HarrisburgScranton',\n",
       "       'HartfordSpringfield', 'Houston', 'Indianapolis', 'Jacksonville',\n",
       "       'LasVegas', 'LosAngeles', 'Louisville', 'MiamiFtLauderdale', 'Midsouth',\n",
       "       'Nashville', 'NewYork', 'Northeast', 'NorthernNewEngland', 'Orlando',\n",
       "       'Philadelphia', 'PhoenixTucson', 'Pittsburgh', 'Plains', 'Portland',\n",
       "       'RaleighGreensboro', 'RichmondNorfolk', 'Roanoke', 'SanDiego',\n",
       "       'SanFrancisco', 'Seattle', 'SouthCarolina', 'SouthCentral', 'Southeast',\n",
       "       'Spokane', 'StLouis', 'Syracuse', 'Tampa', 'TotalUS', 'West',\n",
       "       'WestTexNewMexico'],\n",
       "      dtype='object')"
      ]
     },
     "execution_count": 74,
     "metadata": {},
     "output_type": "execute_result"
    }
   ],
   "source": [
    "df.columns"
   ]
  },
  {
   "cell_type": "code",
   "execution_count": 81,
   "metadata": {},
   "outputs": [],
   "source": [
    "copy = df.loc[:,'AveragePrice':'XLarge Bags']"
   ]
  },
  {
   "cell_type": "code",
   "execution_count": 82,
   "metadata": {},
   "outputs": [
    {
     "data": {
      "text/plain": [
       "AveragePrice   -0.109444\n",
       "Total Volume    6.200138\n",
       "4046            6.051830\n",
       "4225            6.394926\n",
       "4770            5.405164\n",
       "Total Bags      5.366378\n",
       "Small Bags      5.355185\n",
       "Large Bags      5.144495\n",
       "XLarge Bags     5.775077\n",
       "dtype: float64"
      ]
     },
     "execution_count": 82,
     "metadata": {},
     "output_type": "execute_result"
    }
   ],
   "source": [
    "copy.skew()"
   ]
  },
  {
   "cell_type": "code",
   "execution_count": 83,
   "metadata": {},
   "outputs": [
    {
     "name": "stdout",
     "output_type": "stream",
     "text": [
      "AveragePrice -0.8290441689007514\n",
      "Total Volume 0.6674608508123422\n",
      "4046 -0.16052332940310188\n",
      "4225 0.18435882332616058\n",
      "4770 nan\n",
      "Total Bags 0.6954447204424892\n",
      "Small Bags 0.7137858551009284\n",
      "Large Bags nan\n",
      "XLarge Bags nan\n"
     ]
    },
    {
     "name": "stderr",
     "output_type": "stream",
     "text": [
      "C:\\Users\\AKHIL\\anaconda3\\lib\\site-packages\\pandas\\core\\series.py:726: RuntimeWarning: divide by zero encountered in log\n",
      "  result = getattr(ufunc, method)(*inputs, **kwargs)\n"
     ]
    }
   ],
   "source": [
    "for i in copy.columns:\n",
    "    print(i, np.log(copy[i]).skew())"
   ]
  },
  {
   "cell_type": "markdown",
   "metadata": {},
   "source": [
    "few variables skewness is nan, lets check with sqrt transformation"
   ]
  },
  {
   "cell_type": "code",
   "execution_count": 84,
   "metadata": {},
   "outputs": [
    {
     "name": "stdout",
     "output_type": "stream",
     "text": [
      "AveragePrice -0.460427865959457\n",
      "Total Volume 3.1293597970163654\n",
      "4046 2.883385005525863\n",
      "4225 2.891611018536774\n",
      "4770 2.531302541514441\n",
      "Total Bags 2.9516765081986884\n",
      "Small Bags 2.9561669262154218\n",
      "Large Bags 2.5171646745695155\n",
      "XLarge Bags 2.916660584519801\n"
     ]
    }
   ],
   "source": [
    "for i in copy.columns:\n",
    "    print(i, np.sqrt(copy[i]).skew())"
   ]
  },
  {
   "cell_type": "markdown",
   "metadata": {},
   "source": [
    "The skewness is reduced but not still acceptable."
   ]
  },
  {
   "cell_type": "code",
   "execution_count": 85,
   "metadata": {},
   "outputs": [
    {
     "name": "stdout",
     "output_type": "stream",
     "text": [
      "AveragePrice -0.5810192246452505\n",
      "Total Volume 2.1240064184264873\n",
      "4046 1.767021149242718\n",
      "4225 1.7759445530437743\n",
      "4770 1.5269434039083332\n",
      "Total Bags 2.1490875271091823\n",
      "Small Bags 2.143412802085124\n",
      "Large Bags 1.4317035242600684\n",
      "XLarge Bags 2.000670452880216\n"
     ]
    }
   ],
   "source": [
    "for i in copy.columns:\n",
    "    print(i, np.cbrt(copy[i]).skew())"
   ]
  },
  {
   "cell_type": "markdown",
   "metadata": {},
   "source": [
    "even with cube root, its not still acceptable"
   ]
  },
  {
   "cell_type": "code",
   "execution_count": 88,
   "metadata": {},
   "outputs": [
    {
     "name": "stdout",
     "output_type": "stream",
     "text": [
      "AveragePrice 1.2064094081356018\n",
      "Total Volume -0.1976127573392493\n",
      "4046 0.02917180195280584\n",
      "4225 -0.041947958213514144\n"
     ]
    },
    {
     "ename": "ValueError",
     "evalue": "Data must be positive.",
     "output_type": "error",
     "traceback": [
      "\u001b[1;31m---------------------------------------------------------------------------\u001b[0m",
      "\u001b[1;31mValueError\u001b[0m                                Traceback (most recent call last)",
      "\u001b[1;32m<ipython-input-88-d6c05a63eb0a>\u001b[0m in \u001b[0;36m<module>\u001b[1;34m\u001b[0m\n\u001b[0;32m      3\u001b[0m \u001b[1;32mfrom\u001b[0m \u001b[0mscipy\u001b[0m\u001b[1;33m.\u001b[0m\u001b[0mstats\u001b[0m \u001b[1;32mimport\u001b[0m \u001b[0mboxcox\u001b[0m\u001b[1;33m\u001b[0m\u001b[1;33m\u001b[0m\u001b[0m\n\u001b[0;32m      4\u001b[0m \u001b[1;32mfor\u001b[0m \u001b[0mi\u001b[0m \u001b[1;32min\u001b[0m \u001b[0mcopy\u001b[0m\u001b[1;33m.\u001b[0m\u001b[0mcolumns\u001b[0m\u001b[1;33m:\u001b[0m\u001b[1;33m\u001b[0m\u001b[1;33m\u001b[0m\u001b[0m\n\u001b[1;32m----> 5\u001b[1;33m     \u001b[0mcopy1\u001b[0m\u001b[1;33m[\u001b[0m\u001b[0mi\u001b[0m\u001b[1;33m]\u001b[0m \u001b[1;33m,\u001b[0m \u001b[0mvar\u001b[0m \u001b[1;33m=\u001b[0m \u001b[0mboxcox\u001b[0m\u001b[1;33m(\u001b[0m\u001b[0mcopy\u001b[0m\u001b[1;33m[\u001b[0m\u001b[0mi\u001b[0m\u001b[1;33m]\u001b[0m\u001b[1;33m)\u001b[0m\u001b[1;33m\u001b[0m\u001b[1;33m\u001b[0m\u001b[0m\n\u001b[0m\u001b[0;32m      6\u001b[0m     \u001b[0mprint\u001b[0m\u001b[1;33m(\u001b[0m\u001b[0mi\u001b[0m\u001b[1;33m,\u001b[0m\u001b[0mvar\u001b[0m\u001b[1;33m)\u001b[0m\u001b[1;33m\u001b[0m\u001b[1;33m\u001b[0m\u001b[0m\n",
      "\u001b[1;32m~\\anaconda3\\lib\\site-packages\\scipy\\stats\\morestats.py\u001b[0m in \u001b[0;36mboxcox\u001b[1;34m(x, lmbda, alpha)\u001b[0m\n\u001b[0;32m   1041\u001b[0m \u001b[1;33m\u001b[0m\u001b[0m\n\u001b[0;32m   1042\u001b[0m     \u001b[1;32mif\u001b[0m \u001b[0many\u001b[0m\u001b[1;33m(\u001b[0m\u001b[0mx\u001b[0m \u001b[1;33m<=\u001b[0m \u001b[1;36m0\u001b[0m\u001b[1;33m)\u001b[0m\u001b[1;33m:\u001b[0m\u001b[1;33m\u001b[0m\u001b[1;33m\u001b[0m\u001b[0m\n\u001b[1;32m-> 1043\u001b[1;33m         \u001b[1;32mraise\u001b[0m \u001b[0mValueError\u001b[0m\u001b[1;33m(\u001b[0m\u001b[1;34m\"Data must be positive.\"\u001b[0m\u001b[1;33m)\u001b[0m\u001b[1;33m\u001b[0m\u001b[1;33m\u001b[0m\u001b[0m\n\u001b[0m\u001b[0;32m   1044\u001b[0m \u001b[1;33m\u001b[0m\u001b[0m\n\u001b[0;32m   1045\u001b[0m     \u001b[1;32mif\u001b[0m \u001b[0mlmbda\u001b[0m \u001b[1;32mis\u001b[0m \u001b[1;32mnot\u001b[0m \u001b[1;32mNone\u001b[0m\u001b[1;33m:\u001b[0m  \u001b[1;31m# single transformation\u001b[0m\u001b[1;33m\u001b[0m\u001b[1;33m\u001b[0m\u001b[0m\n",
      "\u001b[1;31mValueError\u001b[0m: Data must be positive."
     ]
    }
   ],
   "source": [
    "copy1 = pd.DataFrame({})\n",
    "\n",
    "from scipy.stats import boxcox\n",
    "for i in copy.columns:\n",
    "    copy1[i] , var = boxcox(copy[i])\n",
    "    print(i,var)"
   ]
  },
  {
   "cell_type": "markdown",
   "metadata": {},
   "source": [
    "Looks like there are negative values in the variable 4770."
   ]
  },
  {
   "cell_type": "code",
   "execution_count": 90,
   "metadata": {},
   "outputs": [
    {
     "name": "stderr",
     "output_type": "stream",
     "text": [
      "C:\\Users\\AKHIL\\anaconda3\\lib\\site-packages\\seaborn\\distributions.py:2551: FutureWarning: `distplot` is a deprecated function and will be removed in a future version. Please adapt your code to use either `displot` (a figure-level function with similar flexibility) or `histplot` (an axes-level function for histograms).\n",
      "  warnings.warn(msg, FutureWarning)\n"
     ]
    },
    {
     "data": {
      "text/plain": [
       "<AxesSubplot:xlabel='4770', ylabel='Density'>"
      ]
     },
     "execution_count": 90,
     "metadata": {},
     "output_type": "execute_result"
    },
    {
     "data": {
      "image/png": "[encoded data removed]",
      "text/plain": [
       "<Figure size 432x288 with 1 Axes>"
      ]
     },
     "metadata": {
      "needs_background": "light"
     },
     "output_type": "display_data"
    }
   ],
   "source": [
    "sns.distplot(df['4770'])"
   ]
  },
  {
   "cell_type": "code",
   "execution_count": 91,
   "metadata": {},
   "outputs": [
    {
     "data": {
      "text/html": [
       "<div>\n",
       "<style scoped>\n",
       "    .dataframe tbody tr th:only-of-type {\n",
       "        vertical-align: middle;\n",
       "    }\n",
       "\n",
       "    .dataframe tbody tr th {\n",
       "        vertical-align: top;\n",
       "    }\n",
       "\n",
       "    .dataframe thead th {\n",
       "        text-align: right;\n",
       "    }\n",
       "</style>\n",
       "<table border=\"1\" class=\"dataframe\">\n",
       "  <thead>\n",
       "    <tr style=\"text-align: right;\">\n",
       "      <th></th>\n",
       "      <th>AveragePrice</th>\n",
       "      <th>Total Volume</th>\n",
       "      <th>4046</th>\n",
       "      <th>4225</th>\n",
       "      <th>4770</th>\n",
       "      <th>Total Bags</th>\n",
       "      <th>Small Bags</th>\n",
       "      <th>Large Bags</th>\n",
       "      <th>XLarge Bags</th>\n",
       "    </tr>\n",
       "  </thead>\n",
       "  <tbody>\n",
       "    <tr>\n",
       "      <th>count</th>\n",
       "      <td>1517.000000</td>\n",
       "      <td>1.517000e+03</td>\n",
       "      <td>1.517000e+03</td>\n",
       "      <td>1.517000e+03</td>\n",
       "      <td>1.517000e+03</td>\n",
       "      <td>1.517000e+03</td>\n",
       "      <td>1.517000e+03</td>\n",
       "      <td>1.517000e+03</td>\n",
       "      <td>1517.000000</td>\n",
       "    </tr>\n",
       "    <tr>\n",
       "      <th>mean</th>\n",
       "      <td>1.074990</td>\n",
       "      <td>1.601879e+06</td>\n",
       "      <td>6.464387e+05</td>\n",
       "      <td>6.114375e+05</td>\n",
       "      <td>5.040550e+04</td>\n",
       "      <td>2.935974e+05</td>\n",
       "      <td>2.487736e+05</td>\n",
       "      <td>4.264205e+04</td>\n",
       "      <td>2181.771074</td>\n",
       "    </tr>\n",
       "    <tr>\n",
       "      <th>std</th>\n",
       "      <td>0.188891</td>\n",
       "      <td>4.433143e+06</td>\n",
       "      <td>1.947614e+06</td>\n",
       "      <td>1.672906e+06</td>\n",
       "      <td>1.377812e+05</td>\n",
       "      <td>7.579765e+05</td>\n",
       "      <td>6.474765e+05</td>\n",
       "      <td>1.182157e+05</td>\n",
       "      <td>7455.712144</td>\n",
       "    </tr>\n",
       "    <tr>\n",
       "      <th>min</th>\n",
       "      <td>0.490000</td>\n",
       "      <td>3.875074e+04</td>\n",
       "      <td>4.677200e+02</td>\n",
       "      <td>1.783770e+03</td>\n",
       "      <td>0.000000e+00</td>\n",
       "      <td>3.311770e+03</td>\n",
       "      <td>3.311770e+03</td>\n",
       "      <td>0.000000e+00</td>\n",
       "      <td>0.000000</td>\n",
       "    </tr>\n",
       "    <tr>\n",
       "      <th>25%</th>\n",
       "      <td>0.980000</td>\n",
       "      <td>1.474700e+05</td>\n",
       "      <td>2.040034e+04</td>\n",
       "      <td>4.147606e+04</td>\n",
       "      <td>9.112500e+02</td>\n",
       "      <td>3.620689e+04</td>\n",
       "      <td>2.972722e+04</td>\n",
       "      <td>5.407400e+02</td>\n",
       "      <td>0.000000</td>\n",
       "    </tr>\n",
       "    <tr>\n",
       "      <th>50%</th>\n",
       "      <td>1.080000</td>\n",
       "      <td>4.027919e+05</td>\n",
       "      <td>8.175117e+04</td>\n",
       "      <td>1.186649e+05</td>\n",
       "      <td>7.688170e+03</td>\n",
       "      <td>7.397906e+04</td>\n",
       "      <td>6.237569e+04</td>\n",
       "      <td>5.044350e+03</td>\n",
       "      <td>0.000000</td>\n",
       "    </tr>\n",
       "    <tr>\n",
       "      <th>75%</th>\n",
       "      <td>1.190000</td>\n",
       "      <td>9.819751e+05</td>\n",
       "      <td>3.775785e+05</td>\n",
       "      <td>4.851503e+05</td>\n",
       "      <td>2.916730e+04</td>\n",
       "      <td>1.576097e+05</td>\n",
       "      <td>1.461994e+05</td>\n",
       "      <td>2.926767e+04</td>\n",
       "      <td>401.480000</td>\n",
       "    </tr>\n",
       "    <tr>\n",
       "      <th>max</th>\n",
       "      <td>1.680000</td>\n",
       "      <td>4.465546e+07</td>\n",
       "      <td>1.893304e+07</td>\n",
       "      <td>1.895648e+07</td>\n",
       "      <td>1.381516e+06</td>\n",
       "      <td>6.736304e+06</td>\n",
       "      <td>5.893642e+06</td>\n",
       "      <td>1.121076e+06</td>\n",
       "      <td>108072.790000</td>\n",
       "    </tr>\n",
       "  </tbody>\n",
       "</table>\n",
       "</div>"
      ],
      "text/plain": [
       "       AveragePrice  Total Volume          4046          4225          4770  \\\n",
       "count   1517.000000  1.517000e+03  1.517000e+03  1.517000e+03  1.517000e+03   \n",
       "mean       1.074990  1.601879e+06  6.464387e+05  6.114375e+05  5.040550e+04   \n",
       "std        0.188891  4.433143e+06  1.947614e+06  1.672906e+06  1.377812e+05   \n",
       "min        0.490000  3.875074e+04  4.677200e+02  1.783770e+03  0.000000e+00   \n",
       "25%        0.980000  1.474700e+05  2.040034e+04  4.147606e+04  9.112500e+02   \n",
       "50%        1.080000  4.027919e+05  8.175117e+04  1.186649e+05  7.688170e+03   \n",
       "75%        1.190000  9.819751e+05  3.775785e+05  4.851503e+05  2.916730e+04   \n",
       "max        1.680000  4.465546e+07  1.893304e+07  1.895648e+07  1.381516e+06   \n",
       "\n",
       "         Total Bags    Small Bags    Large Bags    XLarge Bags  \n",
       "count  1.517000e+03  1.517000e+03  1.517000e+03    1517.000000  \n",
       "mean   2.935974e+05  2.487736e+05  4.264205e+04    2181.771074  \n",
       "std    7.579765e+05  6.474765e+05  1.182157e+05    7455.712144  \n",
       "min    3.311770e+03  3.311770e+03  0.000000e+00       0.000000  \n",
       "25%    3.620689e+04  2.972722e+04  5.407400e+02       0.000000  \n",
       "50%    7.397906e+04  6.237569e+04  5.044350e+03       0.000000  \n",
       "75%    1.576097e+05  1.461994e+05  2.926767e+04     401.480000  \n",
       "max    6.736304e+06  5.893642e+06  1.121076e+06  108072.790000  "
      ]
     },
     "execution_count": 91,
     "metadata": {},
     "output_type": "execute_result"
    }
   ],
   "source": [
    "copy.describe()"
   ]
  },
  {
   "cell_type": "markdown",
   "metadata": {},
   "source": [
    "There are no negative values, but there are values with '0'.\n",
    "\n",
    "Therefore, log, boxcox transformation isnt working for this."
   ]
  },
  {
   "cell_type": "markdown",
   "metadata": {},
   "source": [
    " "
   ]
  },
  {
   "cell_type": "markdown",
   "metadata": {},
   "source": [
    "lets check with power transformation"
   ]
  },
  {
   "cell_type": "code",
   "execution_count": 93,
   "metadata": {},
   "outputs": [],
   "source": [
    "from sklearn.preprocessing import power_transform"
   ]
  },
  {
   "cell_type": "code",
   "execution_count": 107,
   "metadata": {},
   "outputs": [
    {
     "name": "stderr",
     "output_type": "stream",
     "text": [
      "C:\\Users\\AKHIL\\anaconda3\\lib\\site-packages\\sklearn\\preprocessing\\_data.py:3237: RuntimeWarning: divide by zero encountered in log\n",
      "  loglike = -n_samples / 2 * np.log(x_trans.var())\n"
     ]
    }
   ],
   "source": [
    "copy1 = power_transform(copy,method = 'yeo-johnson')"
   ]
  },
  {
   "cell_type": "code",
   "execution_count": 108,
   "metadata": {},
   "outputs": [],
   "source": [
    "copy1 = pd.DataFrame(copy1,columns = copy.columns)"
   ]
  },
  {
   "cell_type": "code",
   "execution_count": 109,
   "metadata": {},
   "outputs": [
    {
     "data": {
      "text/plain": [
       "AveragePrice    0.021101\n",
       "Total Volume    0.000000\n",
       "4046           -0.012059\n",
       "4225            0.008450\n",
       "4770           -0.032945\n",
       "Total Bags      0.005205\n",
       "Small Bags      0.027632\n",
       "Large Bags     -0.074795\n",
       "XLarge Bags     0.417289\n",
       "dtype: float64"
      ]
     },
     "execution_count": 109,
     "metadata": {},
     "output_type": "execute_result"
    }
   ],
   "source": [
    "copy1.skew()"
   ]
  },
  {
   "cell_type": "markdown",
   "metadata": {},
   "source": [
    "Box-Cox requires input data to be strictly positive, while Yeo-Johnson\n",
    "supports both positive or negative data.\n",
    "\n",
    "By default, zero-mean, unit-variance normalization is applied to the\n",
    "transformed data."
   ]
  },
  {
   "cell_type": "code",
   "execution_count": 110,
   "metadata": {},
   "outputs": [
    {
     "name": "stderr",
     "output_type": "stream",
     "text": [
      "C:\\Users\\AKHIL\\anaconda3\\lib\\site-packages\\seaborn\\distributions.py:2551: FutureWarning: `distplot` is a deprecated function and will be removed in a future version. Please adapt your code to use either `displot` (a figure-level function with similar flexibility) or `histplot` (an axes-level function for histograms).\n",
      "  warnings.warn(msg, FutureWarning)\n",
      "C:\\Users\\AKHIL\\anaconda3\\lib\\site-packages\\seaborn\\distributions.py:305: UserWarning: Dataset has 0 variance; skipping density estimate.\n",
      "  warnings.warn(msg, UserWarning)\n"
     ]
    },
    {
     "data": {
      "text/plain": [
       "<AxesSubplot:xlabel='Total Volume', ylabel='Density'>"
      ]
     },
     "execution_count": 110,
     "metadata": {},
     "output_type": "execute_result"
    },
    {
     "data": {
      "image/png": "[encoded data removed]",
      "text/plain": [
       "<Figure size 432x288 with 1 Axes>"
      ]
     },
     "metadata": {
      "needs_background": "light"
     },
     "output_type": "display_data"
    }
   ],
   "source": [
    "sns.distplot(copy1['Total Volume'])"
   ]
  },
  {
   "cell_type": "markdown",
   "metadata": {},
   "source": [
    "we can see that the total volume has been transformed in a way that skew is totally zero, and all the values are at 0."
   ]
  },
  {
   "cell_type": "markdown",
   "metadata": {},
   "source": [
    "Therefore, lets use boxcox for total volume and yeo-jhonson method for other columns"
   ]
  },
  {
   "cell_type": "code",
   "execution_count": 111,
   "metadata": {},
   "outputs": [
    {
     "data": {
      "text/html": [
       "<div>\n",
       "<style scoped>\n",
       "    .dataframe tbody tr th:only-of-type {\n",
       "        vertical-align: middle;\n",
       "    }\n",
       "\n",
       "    .dataframe tbody tr th {\n",
       "        vertical-align: top;\n",
       "    }\n",
       "\n",
       "    .dataframe thead th {\n",
       "        text-align: right;\n",
       "    }\n",
       "</style>\n",
       "<table border=\"1\" class=\"dataframe\">\n",
       "  <thead>\n",
       "    <tr style=\"text-align: right;\">\n",
       "      <th></th>\n",
       "      <th>AveragePrice</th>\n",
       "      <th>Total Volume</th>\n",
       "      <th>4046</th>\n",
       "      <th>4225</th>\n",
       "      <th>4770</th>\n",
       "      <th>Total Bags</th>\n",
       "      <th>Small Bags</th>\n",
       "      <th>Large Bags</th>\n",
       "      <th>XLarge Bags</th>\n",
       "      <th>Albany</th>\n",
       "      <th>...</th>\n",
       "      <th>SouthCarolina</th>\n",
       "      <th>SouthCentral</th>\n",
       "      <th>Southeast</th>\n",
       "      <th>Spokane</th>\n",
       "      <th>StLouis</th>\n",
       "      <th>Syracuse</th>\n",
       "      <th>Tampa</th>\n",
       "      <th>TotalUS</th>\n",
       "      <th>West</th>\n",
       "      <th>WestTexNewMexico</th>\n",
       "    </tr>\n",
       "  </thead>\n",
       "  <tbody>\n",
       "    <tr>\n",
       "      <th>0</th>\n",
       "      <td>1.33</td>\n",
       "      <td>64236.62</td>\n",
       "      <td>1036.74</td>\n",
       "      <td>54454.85</td>\n",
       "      <td>48.16</td>\n",
       "      <td>8696.87</td>\n",
       "      <td>8603.62</td>\n",
       "      <td>93.25</td>\n",
       "      <td>0.0</td>\n",
       "      <td>1</td>\n",
       "      <td>...</td>\n",
       "      <td>0</td>\n",
       "      <td>0</td>\n",
       "      <td>0</td>\n",
       "      <td>0</td>\n",
       "      <td>0</td>\n",
       "      <td>0</td>\n",
       "      <td>0</td>\n",
       "      <td>0</td>\n",
       "      <td>0</td>\n",
       "      <td>0</td>\n",
       "    </tr>\n",
       "    <tr>\n",
       "      <th>1</th>\n",
       "      <td>1.35</td>\n",
       "      <td>54876.98</td>\n",
       "      <td>674.28</td>\n",
       "      <td>44638.81</td>\n",
       "      <td>58.33</td>\n",
       "      <td>9505.56</td>\n",
       "      <td>9408.07</td>\n",
       "      <td>97.49</td>\n",
       "      <td>0.0</td>\n",
       "      <td>1</td>\n",
       "      <td>...</td>\n",
       "      <td>0</td>\n",
       "      <td>0</td>\n",
       "      <td>0</td>\n",
       "      <td>0</td>\n",
       "      <td>0</td>\n",
       "      <td>0</td>\n",
       "      <td>0</td>\n",
       "      <td>0</td>\n",
       "      <td>0</td>\n",
       "      <td>0</td>\n",
       "    </tr>\n",
       "    <tr>\n",
       "      <th>2</th>\n",
       "      <td>0.93</td>\n",
       "      <td>118220.22</td>\n",
       "      <td>794.70</td>\n",
       "      <td>109149.67</td>\n",
       "      <td>130.50</td>\n",
       "      <td>8145.35</td>\n",
       "      <td>8042.21</td>\n",
       "      <td>103.14</td>\n",
       "      <td>0.0</td>\n",
       "      <td>1</td>\n",
       "      <td>...</td>\n",
       "      <td>0</td>\n",
       "      <td>0</td>\n",
       "      <td>0</td>\n",
       "      <td>0</td>\n",
       "      <td>0</td>\n",
       "      <td>0</td>\n",
       "      <td>0</td>\n",
       "      <td>0</td>\n",
       "      <td>0</td>\n",
       "      <td>0</td>\n",
       "    </tr>\n",
       "    <tr>\n",
       "      <th>3</th>\n",
       "      <td>1.08</td>\n",
       "      <td>78992.15</td>\n",
       "      <td>1132.00</td>\n",
       "      <td>71976.41</td>\n",
       "      <td>72.58</td>\n",
       "      <td>5811.16</td>\n",
       "      <td>5677.40</td>\n",
       "      <td>133.76</td>\n",
       "      <td>0.0</td>\n",
       "      <td>1</td>\n",
       "      <td>...</td>\n",
       "      <td>0</td>\n",
       "      <td>0</td>\n",
       "      <td>0</td>\n",
       "      <td>0</td>\n",
       "      <td>0</td>\n",
       "      <td>0</td>\n",
       "      <td>0</td>\n",
       "      <td>0</td>\n",
       "      <td>0</td>\n",
       "      <td>0</td>\n",
       "    </tr>\n",
       "    <tr>\n",
       "      <th>4</th>\n",
       "      <td>1.28</td>\n",
       "      <td>51039.60</td>\n",
       "      <td>941.48</td>\n",
       "      <td>43838.39</td>\n",
       "      <td>75.78</td>\n",
       "      <td>6183.95</td>\n",
       "      <td>5986.26</td>\n",
       "      <td>197.69</td>\n",
       "      <td>0.0</td>\n",
       "      <td>1</td>\n",
       "      <td>...</td>\n",
       "      <td>0</td>\n",
       "      <td>0</td>\n",
       "      <td>0</td>\n",
       "      <td>0</td>\n",
       "      <td>0</td>\n",
       "      <td>0</td>\n",
       "      <td>0</td>\n",
       "      <td>0</td>\n",
       "      <td>0</td>\n",
       "      <td>0</td>\n",
       "    </tr>\n",
       "  </tbody>\n",
       "</table>\n",
       "<p>5 rows × 60 columns</p>\n",
       "</div>"
      ],
      "text/plain": [
       "   AveragePrice  Total Volume     4046       4225    4770  Total Bags  \\\n",
       "0          1.33      64236.62  1036.74   54454.85   48.16     8696.87   \n",
       "1          1.35      54876.98   674.28   44638.81   58.33     9505.56   \n",
       "2          0.93     118220.22   794.70  109149.67  130.50     8145.35   \n",
       "3          1.08      78992.15  1132.00   71976.41   72.58     5811.16   \n",
       "4          1.28      51039.60   941.48   43838.39   75.78     6183.95   \n",
       "\n",
       "   Small Bags  Large Bags  XLarge Bags  Albany  ...  SouthCarolina  \\\n",
       "0     8603.62       93.25          0.0       1  ...              0   \n",
       "1     9408.07       97.49          0.0       1  ...              0   \n",
       "2     8042.21      103.14          0.0       1  ...              0   \n",
       "3     5677.40      133.76          0.0       1  ...              0   \n",
       "4     5986.26      197.69          0.0       1  ...              0   \n",
       "\n",
       "   SouthCentral  Southeast  Spokane  StLouis  Syracuse  Tampa  TotalUS  West  \\\n",
       "0             0          0        0        0         0      0        0     0   \n",
       "1             0          0        0        0         0      0        0     0   \n",
       "2             0          0        0        0         0      0        0     0   \n",
       "3             0          0        0        0         0      0        0     0   \n",
       "4             0          0        0        0         0      0        0     0   \n",
       "\n",
       "   WestTexNewMexico  \n",
       "0                 0  \n",
       "1                 0  \n",
       "2                 0  \n",
       "3                 0  \n",
       "4                 0  \n",
       "\n",
       "[5 rows x 60 columns]"
      ]
     },
     "execution_count": 111,
     "metadata": {},
     "output_type": "execute_result"
    }
   ],
   "source": [
    "df.head()"
   ]
  },
  {
   "cell_type": "code",
   "execution_count": 112,
   "metadata": {},
   "outputs": [
    {
     "data": {
      "text/plain": [
       "(1517, 60)"
      ]
     },
     "execution_count": 112,
     "metadata": {},
     "output_type": "execute_result"
    }
   ],
   "source": [
    "df.shape"
   ]
  },
  {
   "cell_type": "code",
   "execution_count": 113,
   "metadata": {},
   "outputs": [],
   "source": [
    "Y = df['AveragePrice']\n",
    "X = df.drop(columns= ['AveragePrice'])"
   ]
  },
  {
   "cell_type": "code",
   "execution_count": 115,
   "metadata": {},
   "outputs": [],
   "source": [
    "from scipy.stats import boxcox\n",
    "X['Total Volume'], var = boxcox(X['Total Volume'])"
   ]
  },
  {
   "cell_type": "code",
   "execution_count": 116,
   "metadata": {},
   "outputs": [
    {
     "data": {
      "text/html": [
       "<div>\n",
       "<style scoped>\n",
       "    .dataframe tbody tr th:only-of-type {\n",
       "        vertical-align: middle;\n",
       "    }\n",
       "\n",
       "    .dataframe tbody tr th {\n",
       "        vertical-align: top;\n",
       "    }\n",
       "\n",
       "    .dataframe thead th {\n",
       "        text-align: right;\n",
       "    }\n",
       "</style>\n",
       "<table border=\"1\" class=\"dataframe\">\n",
       "  <thead>\n",
       "    <tr style=\"text-align: right;\">\n",
       "      <th></th>\n",
       "      <th>Total Volume</th>\n",
       "      <th>4046</th>\n",
       "      <th>4225</th>\n",
       "      <th>4770</th>\n",
       "      <th>Total Bags</th>\n",
       "      <th>Small Bags</th>\n",
       "      <th>Large Bags</th>\n",
       "      <th>XLarge Bags</th>\n",
       "      <th>Albany</th>\n",
       "      <th>Atlanta</th>\n",
       "      <th>...</th>\n",
       "      <th>SouthCarolina</th>\n",
       "      <th>SouthCentral</th>\n",
       "      <th>Southeast</th>\n",
       "      <th>Spokane</th>\n",
       "      <th>StLouis</th>\n",
       "      <th>Syracuse</th>\n",
       "      <th>Tampa</th>\n",
       "      <th>TotalUS</th>\n",
       "      <th>West</th>\n",
       "      <th>WestTexNewMexico</th>\n",
       "    </tr>\n",
       "  </thead>\n",
       "  <tbody>\n",
       "    <tr>\n",
       "      <th>0</th>\n",
       "      <td>4.492719</td>\n",
       "      <td>1036.74</td>\n",
       "      <td>54454.85</td>\n",
       "      <td>48.16</td>\n",
       "      <td>8696.87</td>\n",
       "      <td>8603.62</td>\n",
       "      <td>93.25</td>\n",
       "      <td>0.0</td>\n",
       "      <td>1</td>\n",
       "      <td>0</td>\n",
       "      <td>...</td>\n",
       "      <td>0</td>\n",
       "      <td>0</td>\n",
       "      <td>0</td>\n",
       "      <td>0</td>\n",
       "      <td>0</td>\n",
       "      <td>0</td>\n",
       "      <td>0</td>\n",
       "      <td>0</td>\n",
       "      <td>0</td>\n",
       "      <td>0</td>\n",
       "    </tr>\n",
       "    <tr>\n",
       "      <th>1</th>\n",
       "      <td>4.474775</td>\n",
       "      <td>674.28</td>\n",
       "      <td>44638.81</td>\n",
       "      <td>58.33</td>\n",
       "      <td>9505.56</td>\n",
       "      <td>9408.07</td>\n",
       "      <td>97.49</td>\n",
       "      <td>0.0</td>\n",
       "      <td>1</td>\n",
       "      <td>0</td>\n",
       "      <td>...</td>\n",
       "      <td>0</td>\n",
       "      <td>0</td>\n",
       "      <td>0</td>\n",
       "      <td>0</td>\n",
       "      <td>0</td>\n",
       "      <td>0</td>\n",
       "      <td>0</td>\n",
       "      <td>0</td>\n",
       "      <td>0</td>\n",
       "      <td>0</td>\n",
       "    </tr>\n",
       "    <tr>\n",
       "      <th>2</th>\n",
       "      <td>4.557184</td>\n",
       "      <td>794.70</td>\n",
       "      <td>109149.67</td>\n",
       "      <td>130.50</td>\n",
       "      <td>8145.35</td>\n",
       "      <td>8042.21</td>\n",
       "      <td>103.14</td>\n",
       "      <td>0.0</td>\n",
       "      <td>1</td>\n",
       "      <td>0</td>\n",
       "      <td>...</td>\n",
       "      <td>0</td>\n",
       "      <td>0</td>\n",
       "      <td>0</td>\n",
       "      <td>0</td>\n",
       "      <td>0</td>\n",
       "      <td>0</td>\n",
       "      <td>0</td>\n",
       "      <td>0</td>\n",
       "      <td>0</td>\n",
       "      <td>0</td>\n",
       "    </tr>\n",
       "    <tr>\n",
       "      <th>3</th>\n",
       "      <td>4.515448</td>\n",
       "      <td>1132.00</td>\n",
       "      <td>71976.41</td>\n",
       "      <td>72.58</td>\n",
       "      <td>5811.16</td>\n",
       "      <td>5677.40</td>\n",
       "      <td>133.76</td>\n",
       "      <td>0.0</td>\n",
       "      <td>1</td>\n",
       "      <td>0</td>\n",
       "      <td>...</td>\n",
       "      <td>0</td>\n",
       "      <td>0</td>\n",
       "      <td>0</td>\n",
       "      <td>0</td>\n",
       "      <td>0</td>\n",
       "      <td>0</td>\n",
       "      <td>0</td>\n",
       "      <td>0</td>\n",
       "      <td>0</td>\n",
       "      <td>0</td>\n",
       "    </tr>\n",
       "    <tr>\n",
       "      <th>4</th>\n",
       "      <td>4.466325</td>\n",
       "      <td>941.48</td>\n",
       "      <td>43838.39</td>\n",
       "      <td>75.78</td>\n",
       "      <td>6183.95</td>\n",
       "      <td>5986.26</td>\n",
       "      <td>197.69</td>\n",
       "      <td>0.0</td>\n",
       "      <td>1</td>\n",
       "      <td>0</td>\n",
       "      <td>...</td>\n",
       "      <td>0</td>\n",
       "      <td>0</td>\n",
       "      <td>0</td>\n",
       "      <td>0</td>\n",
       "      <td>0</td>\n",
       "      <td>0</td>\n",
       "      <td>0</td>\n",
       "      <td>0</td>\n",
       "      <td>0</td>\n",
       "      <td>0</td>\n",
       "    </tr>\n",
       "  </tbody>\n",
       "</table>\n",
       "<p>5 rows × 59 columns</p>\n",
       "</div>"
      ],
      "text/plain": [
       "   Total Volume     4046       4225    4770  Total Bags  Small Bags  \\\n",
       "0      4.492719  1036.74   54454.85   48.16     8696.87     8603.62   \n",
       "1      4.474775   674.28   44638.81   58.33     9505.56     9408.07   \n",
       "2      4.557184   794.70  109149.67  130.50     8145.35     8042.21   \n",
       "3      4.515448  1132.00   71976.41   72.58     5811.16     5677.40   \n",
       "4      4.466325   941.48   43838.39   75.78     6183.95     5986.26   \n",
       "\n",
       "   Large Bags  XLarge Bags  Albany  Atlanta  ...  SouthCarolina  SouthCentral  \\\n",
       "0       93.25          0.0       1        0  ...              0             0   \n",
       "1       97.49          0.0       1        0  ...              0             0   \n",
       "2      103.14          0.0       1        0  ...              0             0   \n",
       "3      133.76          0.0       1        0  ...              0             0   \n",
       "4      197.69          0.0       1        0  ...              0             0   \n",
       "\n",
       "   Southeast  Spokane  StLouis  Syracuse  Tampa  TotalUS  West  \\\n",
       "0          0        0        0         0      0        0     0   \n",
       "1          0        0        0         0      0        0     0   \n",
       "2          0        0        0         0      0        0     0   \n",
       "3          0        0        0         0      0        0     0   \n",
       "4          0        0        0         0      0        0     0   \n",
       "\n",
       "   WestTexNewMexico  \n",
       "0                 0  \n",
       "1                 0  \n",
       "2                 0  \n",
       "3                 0  \n",
       "4                 0  \n",
       "\n",
       "[5 rows x 59 columns]"
      ]
     },
     "execution_count": 116,
     "metadata": {},
     "output_type": "execute_result"
    }
   ],
   "source": [
    "X.head()"
   ]
  },
  {
   "cell_type": "code",
   "execution_count": 121,
   "metadata": {},
   "outputs": [],
   "source": [
    "copy1 = power_transform(X.drop(columns = ['Total Volume']),method = 'yeo-johnson')"
   ]
  },
  {
   "cell_type": "code",
   "execution_count": 122,
   "metadata": {},
   "outputs": [],
   "source": [
    "copy1 = pd.DataFrame(copy1,columns = X.loc[:,'4046':'WestTexNewMexico'].columns)"
   ]
  },
  {
   "cell_type": "code",
   "execution_count": 123,
   "metadata": {},
   "outputs": [
    {
     "data": {
      "text/html": [
       "<div>\n",
       "<style scoped>\n",
       "    .dataframe tbody tr th:only-of-type {\n",
       "        vertical-align: middle;\n",
       "    }\n",
       "\n",
       "    .dataframe tbody tr th {\n",
       "        vertical-align: top;\n",
       "    }\n",
       "\n",
       "    .dataframe thead th {\n",
       "        text-align: right;\n",
       "    }\n",
       "</style>\n",
       "<table border=\"1\" class=\"dataframe\">\n",
       "  <thead>\n",
       "    <tr style=\"text-align: right;\">\n",
       "      <th></th>\n",
       "      <th>4046</th>\n",
       "      <th>4225</th>\n",
       "      <th>4770</th>\n",
       "      <th>Total Bags</th>\n",
       "      <th>Small Bags</th>\n",
       "      <th>Large Bags</th>\n",
       "      <th>XLarge Bags</th>\n",
       "      <th>Albany</th>\n",
       "      <th>Atlanta</th>\n",
       "      <th>BaltimoreWashington</th>\n",
       "      <th>...</th>\n",
       "      <th>SouthCarolina</th>\n",
       "      <th>SouthCentral</th>\n",
       "      <th>Southeast</th>\n",
       "      <th>Spokane</th>\n",
       "      <th>StLouis</th>\n",
       "      <th>Syracuse</th>\n",
       "      <th>Tampa</th>\n",
       "      <th>TotalUS</th>\n",
       "      <th>West</th>\n",
       "      <th>WestTexNewMexico</th>\n",
       "    </tr>\n",
       "  </thead>\n",
       "  <tbody>\n",
       "    <tr>\n",
       "      <th>0</th>\n",
       "      <td>-1.757736</td>\n",
       "      <td>-0.545363</td>\n",
       "      <td>-1.675878</td>\n",
       "      <td>-2.030217</td>\n",
       "      <td>-1.847586</td>\n",
       "      <td>-1.072172</td>\n",
       "      <td>-0.885019</td>\n",
       "      <td>4.652074</td>\n",
       "      <td>-0.192121</td>\n",
       "      <td>-0.211579</td>\n",
       "      <td>...</td>\n",
       "      <td>-0.126787</td>\n",
       "      <td>-0.162441</td>\n",
       "      <td>-0.077254</td>\n",
       "      <td>-0.182699</td>\n",
       "      <td>-0.103245</td>\n",
       "      <td>-0.112621</td>\n",
       "      <td>-0.151415</td>\n",
       "      <td>-0.129445</td>\n",
       "      <td>-0.15591</td>\n",
       "      <td>-0.134614</td>\n",
       "    </tr>\n",
       "    <tr>\n",
       "      <th>1</th>\n",
       "      <td>-1.919557</td>\n",
       "      <td>-0.667814</td>\n",
       "      <td>-1.619934</td>\n",
       "      <td>-1.931468</td>\n",
       "      <td>-1.748426</td>\n",
       "      <td>-1.062461</td>\n",
       "      <td>-0.885019</td>\n",
       "      <td>4.652074</td>\n",
       "      <td>-0.192121</td>\n",
       "      <td>-0.211579</td>\n",
       "      <td>...</td>\n",
       "      <td>-0.126787</td>\n",
       "      <td>-0.162441</td>\n",
       "      <td>-0.077254</td>\n",
       "      <td>-0.182699</td>\n",
       "      <td>-0.103245</td>\n",
       "      <td>-0.112621</td>\n",
       "      <td>-0.151415</td>\n",
       "      <td>-0.129445</td>\n",
       "      <td>-0.15591</td>\n",
       "      <td>-0.134614</td>\n",
       "    </tr>\n",
       "    <tr>\n",
       "      <th>2</th>\n",
       "      <td>-1.857996</td>\n",
       "      <td>-0.124940</td>\n",
       "      <td>-1.375858</td>\n",
       "      <td>-2.103934</td>\n",
       "      <td>-1.923541</td>\n",
       "      <td>-1.050081</td>\n",
       "      <td>-0.885019</td>\n",
       "      <td>4.652074</td>\n",
       "      <td>-0.192121</td>\n",
       "      <td>-0.211579</td>\n",
       "      <td>...</td>\n",
       "      <td>-0.126787</td>\n",
       "      <td>-0.162441</td>\n",
       "      <td>-0.077254</td>\n",
       "      <td>-0.182699</td>\n",
       "      <td>-0.103245</td>\n",
       "      <td>-0.112621</td>\n",
       "      <td>-0.151415</td>\n",
       "      <td>-0.129445</td>\n",
       "      <td>-0.15591</td>\n",
       "      <td>-0.134614</td>\n",
       "    </tr>\n",
       "    <tr>\n",
       "      <th>3</th>\n",
       "      <td>-1.724410</td>\n",
       "      <td>-0.375219</td>\n",
       "      <td>-1.555093</td>\n",
       "      <td>-2.497084</td>\n",
       "      <td>-2.330946</td>\n",
       "      <td>-0.991861</td>\n",
       "      <td>-0.885019</td>\n",
       "      <td>4.652074</td>\n",
       "      <td>-0.192121</td>\n",
       "      <td>-0.211579</td>\n",
       "      <td>...</td>\n",
       "      <td>-0.126787</td>\n",
       "      <td>-0.162441</td>\n",
       "      <td>-0.077254</td>\n",
       "      <td>-0.182699</td>\n",
       "      <td>-0.103245</td>\n",
       "      <td>-0.112621</td>\n",
       "      <td>-0.151415</td>\n",
       "      <td>-0.129445</td>\n",
       "      <td>-0.15591</td>\n",
       "      <td>-0.134614</td>\n",
       "    </tr>\n",
       "    <tr>\n",
       "      <th>4</th>\n",
       "      <td>-1.794175</td>\n",
       "      <td>-0.679011</td>\n",
       "      <td>-1.542167</td>\n",
       "      <td>-2.422996</td>\n",
       "      <td>-2.267260</td>\n",
       "      <td>-0.900922</td>\n",
       "      <td>-0.885019</td>\n",
       "      <td>4.652074</td>\n",
       "      <td>-0.192121</td>\n",
       "      <td>-0.211579</td>\n",
       "      <td>...</td>\n",
       "      <td>-0.126787</td>\n",
       "      <td>-0.162441</td>\n",
       "      <td>-0.077254</td>\n",
       "      <td>-0.182699</td>\n",
       "      <td>-0.103245</td>\n",
       "      <td>-0.112621</td>\n",
       "      <td>-0.151415</td>\n",
       "      <td>-0.129445</td>\n",
       "      <td>-0.15591</td>\n",
       "      <td>-0.134614</td>\n",
       "    </tr>\n",
       "  </tbody>\n",
       "</table>\n",
       "<p>5 rows × 58 columns</p>\n",
       "</div>"
      ],
      "text/plain": [
       "       4046      4225      4770  Total Bags  Small Bags  Large Bags  \\\n",
       "0 -1.757736 -0.545363 -1.675878   -2.030217   -1.847586   -1.072172   \n",
       "1 -1.919557 -0.667814 -1.619934   -1.931468   -1.748426   -1.062461   \n",
       "2 -1.857996 -0.124940 -1.375858   -2.103934   -1.923541   -1.050081   \n",
       "3 -1.724410 -0.375219 -1.555093   -2.497084   -2.330946   -0.991861   \n",
       "4 -1.794175 -0.679011 -1.542167   -2.422996   -2.267260   -0.900922   \n",
       "\n",
       "   XLarge Bags    Albany   Atlanta  BaltimoreWashington  ...  SouthCarolina  \\\n",
       "0    -0.885019  4.652074 -0.192121            -0.211579  ...      -0.126787   \n",
       "1    -0.885019  4.652074 -0.192121            -0.211579  ...      -0.126787   \n",
       "2    -0.885019  4.652074 -0.192121            -0.211579  ...      -0.126787   \n",
       "3    -0.885019  4.652074 -0.192121            -0.211579  ...      -0.126787   \n",
       "4    -0.885019  4.652074 -0.192121            -0.211579  ...      -0.126787   \n",
       "\n",
       "   SouthCentral  Southeast   Spokane   StLouis  Syracuse     Tampa   TotalUS  \\\n",
       "0     -0.162441  -0.077254 -0.182699 -0.103245 -0.112621 -0.151415 -0.129445   \n",
       "1     -0.162441  -0.077254 -0.182699 -0.103245 -0.112621 -0.151415 -0.129445   \n",
       "2     -0.162441  -0.077254 -0.182699 -0.103245 -0.112621 -0.151415 -0.129445   \n",
       "3     -0.162441  -0.077254 -0.182699 -0.103245 -0.112621 -0.151415 -0.129445   \n",
       "4     -0.162441  -0.077254 -0.182699 -0.103245 -0.112621 -0.151415 -0.129445   \n",
       "\n",
       "      West  WestTexNewMexico  \n",
       "0 -0.15591         -0.134614  \n",
       "1 -0.15591         -0.134614  \n",
       "2 -0.15591         -0.134614  \n",
       "3 -0.15591         -0.134614  \n",
       "4 -0.15591         -0.134614  \n",
       "\n",
       "[5 rows x 58 columns]"
      ]
     },
     "execution_count": 123,
     "metadata": {},
     "output_type": "execute_result"
    }
   ],
   "source": [
    "copy1.head()"
   ]
  },
  {
   "cell_type": "code",
   "execution_count": 124,
   "metadata": {},
   "outputs": [],
   "source": [
    "X1 = pd.concat([X['Total Volume'],copy1],axis=1)\n",
    "    "
   ]
  },
  {
   "cell_type": "code",
   "execution_count": 125,
   "metadata": {},
   "outputs": [
    {
     "data": {
      "text/plain": [
       "(1517, 59)"
      ]
     },
     "execution_count": 125,
     "metadata": {},
     "output_type": "execute_result"
    }
   ],
   "source": [
    "X1.shape"
   ]
  },
  {
   "cell_type": "code",
   "execution_count": 126,
   "metadata": {},
   "outputs": [
    {
     "data": {
      "text/plain": [
       "(1517,)"
      ]
     },
     "execution_count": 126,
     "metadata": {},
     "output_type": "execute_result"
    }
   ],
   "source": [
    "Y.shape"
   ]
  },
  {
   "cell_type": "markdown",
   "metadata": {},
   "source": [
    "Our data has been divided into target and explainatory variables and ready for modelling."
   ]
  },
  {
   "cell_type": "code",
   "execution_count": 129,
   "metadata": {},
   "outputs": [],
   "source": [
    "from sklearn.model_selection import train_test_split\n",
    "\n",
    "xtrain,xtest,ytrain,ytest =  train_test_split(X1,Y,test_size = 0.3,random_state = 33)"
   ]
  },
  {
   "cell_type": "code",
   "execution_count": 130,
   "metadata": {},
   "outputs": [],
   "source": [
    "from sklearn.linear_model import LinearRegression\n",
    "\n",
    "lr =  LinearRegression()\n",
    "lr.fit(xtrain,ytrain)\n",
    "predlr = lr.predict(xtest)"
   ]
  },
  {
   "cell_type": "code",
   "execution_count": 131,
   "metadata": {},
   "outputs": [],
   "source": [
    "from sklearn.metrics import r2_score, mean_absolute_error"
   ]
  },
  {
   "cell_type": "code",
   "execution_count": 132,
   "metadata": {},
   "outputs": [
    {
     "name": "stdout",
     "output_type": "stream",
     "text": [
      "0.7476444464893912\n",
      "0.06748379498817564\n"
     ]
    }
   ],
   "source": [
    "print(r2_score(ytest,predlr))\n",
    "print(mean_absolute_error(ytest,predlr))"
   ]
  },
  {
   "cell_type": "markdown",
   "metadata": {},
   "source": [
    "The r2_score is pretty good and error is very low.\n",
    "\n",
    "Lets try increasing the accuracy."
   ]
  },
  {
   "cell_type": "code",
   "execution_count": 138,
   "metadata": {},
   "outputs": [
    {
     "name": "stdout",
     "output_type": "stream",
     "text": [
      "0.7981214735711055\n",
      "0.06164254385964911\n"
     ]
    }
   ],
   "source": [
    "from sklearn.ensemble import RandomForestRegressor\n",
    "\n",
    "rfr =  RandomForestRegressor()\n",
    "rfr.fit(xtrain,ytrain)\n",
    "predrf = rfr.predict(xtest)\n",
    "\n",
    "print(r2_score(ytest,predrf))\n",
    "print(mean_absolute_error(ytest,predrf))"
   ]
  },
  {
   "cell_type": "markdown",
   "metadata": {},
   "source": [
    "The r2 score is increased and error is decreased."
   ]
  },
  {
   "cell_type": "markdown",
   "metadata": {},
   "source": [
    "Lets validate the score using cross val score"
   ]
  },
  {
   "cell_type": "code",
   "execution_count": 140,
   "metadata": {},
   "outputs": [
    {
     "data": {
      "text/plain": [
       "0.7322390653767936"
      ]
     },
     "execution_count": 140,
     "metadata": {},
     "output_type": "execute_result"
    }
   ],
   "source": [
    "from sklearn.model_selection import cross_val_score\n",
    "\n",
    "cvs = cross_val_score(lr,xtrain,ytrain,scoring = 'r2',cv=5)\n",
    "cvs.mean()"
   ]
  },
  {
   "cell_type": "code",
   "execution_count": 141,
   "metadata": {},
   "outputs": [
    {
     "data": {
      "text/plain": [
       "0.7656200487003089"
      ]
     },
     "execution_count": 141,
     "metadata": {},
     "output_type": "execute_result"
    }
   ],
   "source": [
    "cvs1 = cross_val_score(rfr,xtrain,ytrain,scoring = 'r2',cv=5)\n",
    "cvs1.mean()"
   ]
  },
  {
   "cell_type": "markdown",
   "metadata": {},
   "source": [
    "The difference for random forest regressor is more than linear regression"
   ]
  },
  {
   "cell_type": "code",
   "execution_count": 144,
   "metadata": {},
   "outputs": [
    {
     "name": "stdout",
     "output_type": "stream",
     "text": [
      "0.7395297748955811\n",
      "0.07189306103025038\n"
     ]
    }
   ],
   "source": [
    "from sklearn.linear_model import Ridge\n",
    "\n",
    "ridge = Ridge(alpha=1).fit(xtrain,ytrain)\n",
    "predr = ridge.predict(xtest)\n",
    "\n",
    "print(r2_score(ytest,predr))\n",
    "print(mean_absolute_error(ytest,predr))"
   ]
  },
  {
   "cell_type": "code",
   "execution_count": 145,
   "metadata": {},
   "outputs": [
    {
     "name": "stdout",
     "output_type": "stream",
     "text": [
      "-0.012335020533465135\n",
      "0.15088064470790546\n"
     ]
    }
   ],
   "source": [
    "from sklearn.linear_model import Lasso\n",
    "\n",
    "lasso = Lasso(alpha=1).fit(xtrain,ytrain)\n",
    "predl = lasso.predict(xtest)\n",
    "\n",
    "print(r2_score(ytest,predl))\n",
    "print(mean_absolute_error(ytest,predl))"
   ]
  },
  {
   "cell_type": "markdown",
   "metadata": {},
   "source": [
    "Now when alpha = 1 the lasso doesnt work as intended. lets try tuning the parameters and alpha"
   ]
  },
  {
   "cell_type": "markdown",
   "metadata": {},
   "source": [
    "For ridge,"
   ]
  },
  {
   "cell_type": "code",
   "execution_count": 146,
   "metadata": {},
   "outputs": [
    {
     "name": "stdout",
     "output_type": "stream",
     "text": [
      "Best score:  0.7322798949788473\n",
      "Best params:  {'alpha': 0.001}\n"
     ]
    }
   ],
   "source": [
    "from sklearn.model_selection import GridSearchCV\n",
    "\n",
    "alpha = [0.001, 0.01, 0.1, 1, 10, 100, 1000]\n",
    "param_grid = dict(alpha=alpha)\n",
    "grid = GridSearchCV(estimator=ridge, param_grid=param_grid, scoring='r2')\n",
    "grid_result = grid.fit(xtrain, ytrain)\n",
    "print('Best score: ', grid_result.best_score_)\n",
    "print('Best params: ', grid_result.best_params_)"
   ]
  },
  {
   "cell_type": "markdown",
   "metadata": {},
   "source": [
    "For lasso, lets see the best params"
   ]
  },
  {
   "cell_type": "code",
   "execution_count": 147,
   "metadata": {},
   "outputs": [
    {
     "name": "stdout",
     "output_type": "stream",
     "text": [
      "Best score:  0.6557058645198353\n",
      "Best params:  {'alpha': 0.001}\n"
     ]
    }
   ],
   "source": [
    "alpha = [0.001, 0.01, 0.1, 1, 10, 100, 1000]\n",
    "param_grid = dict(alpha=alpha)\n",
    "grid = GridSearchCV(estimator=lasso, param_grid=param_grid, scoring='r2')\n",
    "grid_result = grid.fit(xtrain, ytrain)\n",
    "print('Best score: ', grid_result.best_score_)\n",
    "print('Best params: ', grid_result.best_params_)"
   ]
  },
  {
   "cell_type": "markdown",
   "metadata": {},
   "source": [
    "As, we can see, after regularization and finding best params, the r2 score is not increased as we intended."
   ]
  },
  {
   "cell_type": "markdown",
   "metadata": {},
   "source": [
    "Lets try tuning the linear regression model which has less difference in scores after cross validating"
   ]
  },
  {
   "cell_type": "code",
   "execution_count": 154,
   "metadata": {},
   "outputs": [
    {
     "name": "stdout",
     "output_type": "stream",
     "text": [
      "0.7476499947283224\n"
     ]
    },
    {
     "data": {
      "text/plain": [
       "{'fit_intercept': True, 'normalize': True}"
      ]
     },
     "execution_count": 154,
     "metadata": {},
     "output_type": "execute_result"
    }
   ],
   "source": [
    "parameters = {'fit_intercept':[True,False], 'normalize':[True,False]}\n",
    "\n",
    "grid = GridSearchCV(estimator=lr, param_grid = parameters, scoring='r2')\n",
    "grid_result = grid.fit(xtrain, ytrain)\n",
    "\n",
    "print(grid.score(xtest,ytest))\n",
    "grid.best_params_"
   ]
  },
  {
   "cell_type": "markdown",
   "metadata": {},
   "source": [
    "Since, we already used power transformation to address the skewness and make the data look normally distributed. we opt False in normalize"
   ]
  },
  {
   "cell_type": "code",
   "execution_count": 155,
   "metadata": {},
   "outputs": [
    {
     "name": "stdout",
     "output_type": "stream",
     "text": [
      "0.7476444464893912\n",
      "0.06748379498817564\n"
     ]
    }
   ],
   "source": [
    "from sklearn.linear_model import LinearRegression\n",
    "\n",
    "lr =  LinearRegression(fit_intercept = True, normalize= False)\n",
    "lr.fit(xtrain,ytrain)\n",
    "predlr = lr.predict(xtest)\n",
    "\n",
    "print(r2_score(ytest,predlr))\n",
    "print(mean_absolute_error(ytest,predlr))"
   ]
  },
  {
   "cell_type": "markdown",
   "metadata": {},
   "source": [
    "The accuracy of our model is 74%"
   ]
  },
  {
   "cell_type": "markdown",
   "metadata": {},
   "source": [
    "## Conclusion\n",
    "\n",
    "The dataset contains data of only conevntional type of avacodos from 2015 and 2016 only.\n",
    "\n",
    "We have cleaned the data, removed skewness by transformation without ignoring outliers.\n",
    "\n",
    "We have used linear regression model to predict the average price of avacodo.\n",
    "\n",
    "We have tried regularization, but the increase in scores is not satisfactory. Hence, we selected the linear regression model without regularization.\n",
    "\n",
    "The final accuracy we have acheived is 74%"
   ]
  },
  {
   "cell_type": "code",
   "execution_count": 156,
   "metadata": {},
   "outputs": [],
   "source": [
    "import pickle\n",
    "filename = 'avacado.pkl'\n",
    "\n",
    "pickle.dump(lr,open(filename,'wb'))"
   ]
  },
  {
   "cell_type": "code",
   "execution_count": null,
   "metadata": {},
   "outputs": [],
   "source": []
  }
 ],
 "metadata": {
  "kernelspec": {
   "display_name": "Python 3",
   "language": "python",
   "name": "python3"
  },
  "language_info": {
   "codemirror_mode": {
    "name": "ipython",
    "version": 3
   },
   "file_extension": ".py",
   "mimetype": "text/x-python",
   "name": "python",
   "nbconvert_exporter": "python",
   "pygments_lexer": "ipython3",
   "version": "3.8.5"
  }
 },
 "nbformat": 4,
 "nbformat_minor": 4
}
